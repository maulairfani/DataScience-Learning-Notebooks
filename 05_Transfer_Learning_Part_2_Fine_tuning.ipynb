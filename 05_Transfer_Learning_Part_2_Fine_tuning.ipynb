{
  "metadata": {
    "kernelspec": {
      "language": "python",
      "display_name": "Python 3",
      "name": "python3"
    },
    "language_info": {
      "name": "python",
      "version": "3.7.12",
      "mimetype": "text/x-python",
      "codemirror_mode": {
        "name": "ipython",
        "version": 3
      },
      "pygments_lexer": "ipython3",
      "nbconvert_exporter": "python",
      "file_extension": ".py"
    },
    "colab": {
      "provenance": []
    },
    "accelerator": "GPU",
    "gpuClass": "standard"
  },
  "nbformat_minor": 0,
  "nbformat": 4,
  "cells": [
    {
      "cell_type": "markdown",
      "source": [
        "# Transfer Learning with Tensorflow part 2 : Fine tuning"
      ],
      "metadata": {
        "id": "q7jhazM_zjoQ"
      }
    },
    {
      "cell_type": "code",
      "source": [
        "# Check if we're using a GPU\n",
        "!nvidia-smi"
      ],
      "metadata": {
        "id": "BlUcB2dqz5_6",
        "outputId": "2549d4cd-2181-45fd-f49e-0121491e51d0",
        "execution": {
          "iopub.status.busy": "2023-01-28T14:40:19.132151Z",
          "iopub.execute_input": "2023-01-28T14:40:19.132755Z",
          "iopub.status.idle": "2023-01-28T14:40:20.673624Z",
          "shell.execute_reply.started": "2023-01-28T14:40:19.132627Z",
          "shell.execute_reply": "2023-01-28T14:40:20.672183Z"
        },
        "trusted": true,
        "colab": {
          "base_uri": "https://localhost:8080/"
        }
      },
      "execution_count": 1,
      "outputs": [
        {
          "output_type": "stream",
          "name": "stdout",
          "text": [
            "Sat Jan 28 15:46:38 2023       \n",
            "+-----------------------------------------------------------------------------+\n",
            "| NVIDIA-SMI 510.47.03    Driver Version: 510.47.03    CUDA Version: 11.6     |\n",
            "|-------------------------------+----------------------+----------------------+\n",
            "| GPU  Name        Persistence-M| Bus-Id        Disp.A | Volatile Uncorr. ECC |\n",
            "| Fan  Temp  Perf  Pwr:Usage/Cap|         Memory-Usage | GPU-Util  Compute M. |\n",
            "|                               |                      |               MIG M. |\n",
            "|===============================+======================+======================|\n",
            "|   0  Tesla T4            Off  | 00000000:00:04.0 Off |                    0 |\n",
            "| N/A   70C    P0    30W /  70W |      0MiB / 15360MiB |      0%      Default |\n",
            "|                               |                      |                  N/A |\n",
            "+-------------------------------+----------------------+----------------------+\n",
            "                                                                               \n",
            "+-----------------------------------------------------------------------------+\n",
            "| Processes:                                                                  |\n",
            "|  GPU   GI   CI        PID   Type   Process name                  GPU Memory |\n",
            "|        ID   ID                                                   Usage      |\n",
            "|=============================================================================|\n",
            "|  No running processes found                                                 |\n",
            "+-----------------------------------------------------------------------------+\n"
          ]
        }
      ]
    },
    {
      "cell_type": "code",
      "source": [
        "!wget https://raw.githubusercontent.com/maulairfani/DataScience-Learning-Notebooks/main/helper_functions.py"
      ],
      "metadata": {
        "id": "yAvoUe1Mz9Y3",
        "outputId": "f5df5f7a-f0d0-4da8-eb4c-f91d5835a6e6",
        "execution": {
          "iopub.status.busy": "2023-01-28T14:40:20.679441Z",
          "iopub.execute_input": "2023-01-28T14:40:20.680273Z",
          "iopub.status.idle": "2023-01-28T14:40:22.213942Z",
          "shell.execute_reply.started": "2023-01-28T14:40:20.680233Z",
          "shell.execute_reply": "2023-01-28T14:40:22.212670Z"
        },
        "trusted": true,
        "colab": {
          "base_uri": "https://localhost:8080/"
        }
      },
      "execution_count": 2,
      "outputs": [
        {
          "output_type": "stream",
          "name": "stdout",
          "text": [
            "--2023-01-28 15:46:38--  https://raw.githubusercontent.com/maulairfani/DataScience-Learning-Notebooks/main/helper_functions.py\n",
            "Resolving raw.githubusercontent.com (raw.githubusercontent.com)... 185.199.108.133, 185.199.109.133, 185.199.110.133, ...\n",
            "Connecting to raw.githubusercontent.com (raw.githubusercontent.com)|185.199.108.133|:443... connected.\n",
            "HTTP request sent, awaiting response... 200 OK\n",
            "Length: 10246 (10K) [text/plain]\n",
            "Saving to: ‘helper_functions.py’\n",
            "\n",
            "helper_functions.py 100%[===================>]  10.01K  --.-KB/s    in 0s      \n",
            "\n",
            "2023-01-28 15:46:39 (117 MB/s) - ‘helper_functions.py’ saved [10246/10246]\n",
            "\n"
          ]
        }
      ]
    },
    {
      "cell_type": "code",
      "source": [
        "# Import helper functions\n",
        "from helper_functions import create_tensorboard_callback, plot_loss_curves, unzip_data, walk_through_dir"
      ],
      "metadata": {
        "id": "Mt0aHEob04Ui",
        "execution": {
          "iopub.status.busy": "2023-01-28T14:40:22.216947Z",
          "iopub.execute_input": "2023-01-28T14:40:22.221951Z",
          "iopub.status.idle": "2023-01-28T14:40:27.792822Z",
          "shell.execute_reply.started": "2023-01-28T14:40:22.221909Z",
          "shell.execute_reply": "2023-01-28T14:40:27.791813Z"
        },
        "trusted": true
      },
      "execution_count": 3,
      "outputs": []
    },
    {
      "cell_type": "markdown",
      "source": [
        "## Let's get some data\n",
        "\n",
        "link : https://www.tensorflow.org/api_docs/python/tf/keras/applications"
      ],
      "metadata": {
        "id": "cTJTBR2e15f9"
      }
    },
    {
      "cell_type": "code",
      "source": [
        "# Get 10% of training data of 10 classes of Food101\n",
        "!wget https://storage.googleapis.com/ztm_tf_course/food_vision/10_food_classes_10_percent.zip\n",
        "\n",
        "unzip_data(\"10_food_classes_10_percent.zip\")"
      ],
      "metadata": {
        "id": "c6ccRDds2Xrq",
        "outputId": "3c639361-fbd0-4f82-c127-9a4435fcdb94",
        "execution": {
          "iopub.status.busy": "2023-01-28T14:40:27.795874Z",
          "iopub.execute_input": "2023-01-28T14:40:27.796543Z",
          "iopub.status.idle": "2023-01-28T14:40:30.906473Z",
          "shell.execute_reply.started": "2023-01-28T14:40:27.796505Z",
          "shell.execute_reply": "2023-01-28T14:40:30.905298Z"
        },
        "trusted": true,
        "colab": {
          "base_uri": "https://localhost:8080/"
        }
      },
      "execution_count": 4,
      "outputs": [
        {
          "output_type": "stream",
          "name": "stdout",
          "text": [
            "--2023-01-28 15:46:42--  https://storage.googleapis.com/ztm_tf_course/food_vision/10_food_classes_10_percent.zip\n",
            "Resolving storage.googleapis.com (storage.googleapis.com)... 74.125.68.128, 74.125.24.128, 142.250.4.128, ...\n",
            "Connecting to storage.googleapis.com (storage.googleapis.com)|74.125.68.128|:443... connected.\n",
            "HTTP request sent, awaiting response... 200 OK\n",
            "Length: 168546183 (161M) [application/zip]\n",
            "Saving to: ‘10_food_classes_10_percent.zip’\n",
            "\n",
            "10_food_classes_10_ 100%[===================>] 160.74M  23.4MB/s    in 8.2s    \n",
            "\n",
            "2023-01-28 15:46:51 (19.6 MB/s) - ‘10_food_classes_10_percent.zip’ saved [168546183/168546183]\n",
            "\n"
          ]
        }
      ]
    },
    {
      "cell_type": "code",
      "source": [
        "# Check out how many images and subdirectories are in our dataset\n",
        "walk_through_dir(\"10_food_classes_10_percent\")"
      ],
      "metadata": {
        "id": "FIK8vYzp4O-L",
        "outputId": "72ba3b40-6c94-4411-eab7-53b9dee9ef19",
        "execution": {
          "iopub.status.busy": "2023-01-28T14:40:30.908663Z",
          "iopub.execute_input": "2023-01-28T14:40:30.909059Z",
          "iopub.status.idle": "2023-01-28T14:40:30.923222Z",
          "shell.execute_reply.started": "2023-01-28T14:40:30.909020Z",
          "shell.execute_reply": "2023-01-28T14:40:30.921739Z"
        },
        "trusted": true,
        "colab": {
          "base_uri": "https://localhost:8080/"
        }
      },
      "execution_count": 5,
      "outputs": [
        {
          "output_type": "stream",
          "name": "stdout",
          "text": [
            "There are 2 directories and 0 images in '10_food_classes_10_percent'.\n",
            "There are 10 directories and 0 images in '10_food_classes_10_percent/train'.\n",
            "There are 0 directories and 75 images in '10_food_classes_10_percent/train/ice_cream'.\n",
            "There are 0 directories and 75 images in '10_food_classes_10_percent/train/fried_rice'.\n",
            "There are 0 directories and 75 images in '10_food_classes_10_percent/train/steak'.\n",
            "There are 0 directories and 75 images in '10_food_classes_10_percent/train/ramen'.\n",
            "There are 0 directories and 75 images in '10_food_classes_10_percent/train/pizza'.\n",
            "There are 0 directories and 75 images in '10_food_classes_10_percent/train/hamburger'.\n",
            "There are 0 directories and 75 images in '10_food_classes_10_percent/train/grilled_salmon'.\n",
            "There are 0 directories and 75 images in '10_food_classes_10_percent/train/chicken_wings'.\n",
            "There are 0 directories and 75 images in '10_food_classes_10_percent/train/chicken_curry'.\n",
            "There are 0 directories and 75 images in '10_food_classes_10_percent/train/sushi'.\n",
            "There are 10 directories and 0 images in '10_food_classes_10_percent/test'.\n",
            "There are 0 directories and 250 images in '10_food_classes_10_percent/test/ice_cream'.\n",
            "There are 0 directories and 250 images in '10_food_classes_10_percent/test/fried_rice'.\n",
            "There are 0 directories and 250 images in '10_food_classes_10_percent/test/steak'.\n",
            "There are 0 directories and 250 images in '10_food_classes_10_percent/test/ramen'.\n",
            "There are 0 directories and 250 images in '10_food_classes_10_percent/test/pizza'.\n",
            "There are 0 directories and 250 images in '10_food_classes_10_percent/test/hamburger'.\n",
            "There are 0 directories and 250 images in '10_food_classes_10_percent/test/grilled_salmon'.\n",
            "There are 0 directories and 250 images in '10_food_classes_10_percent/test/chicken_wings'.\n",
            "There are 0 directories and 250 images in '10_food_classes_10_percent/test/chicken_curry'.\n",
            "There are 0 directories and 250 images in '10_food_classes_10_percent/test/sushi'.\n"
          ]
        }
      ]
    },
    {
      "cell_type": "code",
      "source": [
        "# Create training and test directory paths\n",
        "train_dir = \"10_food_classes_10_percent/train/\"\n",
        "test_dir = \"10_food_classes_10_percent/test/\""
      ],
      "metadata": {
        "id": "wCibFaQX4Yxo",
        "execution": {
          "iopub.status.busy": "2023-01-28T14:40:30.925116Z",
          "iopub.execute_input": "2023-01-28T14:40:30.925490Z",
          "iopub.status.idle": "2023-01-28T14:40:30.930273Z",
          "shell.execute_reply.started": "2023-01-28T14:40:30.925453Z",
          "shell.execute_reply": "2023-01-28T14:40:30.929014Z"
        },
        "trusted": true
      },
      "execution_count": 6,
      "outputs": []
    },
    {
      "cell_type": "code",
      "source": [
        "import tensorflow as tf\n",
        "IMG_SIZE = (224, 224)\n",
        "BATCH_SIZE = 32\n",
        "train_data_10_percent = tf.keras.preprocessing.image_dataset_from_directory(directory=train_dir,\n",
        "                                                                            image_size=IMG_SIZE,\n",
        "                                                                            label_mode=\"categorical\",\n",
        "                                                                            batch_size=BATCH_SIZE)\n",
        "test_data_10_percent = tf.keras.preprocessing.image_dataset_from_directory(directory=test_dir,\n",
        "                                                                           image_size=IMG_SIZE,\n",
        "                                                                           label_mode=\"categorical\",\n",
        "                                                                           batch_size=BATCH_SIZE)"
      ],
      "metadata": {
        "id": "CkRuYd3T4kwo",
        "outputId": "8bb19f4a-b04e-424e-faaa-e38710b33ceb",
        "execution": {
          "iopub.status.busy": "2023-01-28T14:40:30.931900Z",
          "iopub.execute_input": "2023-01-28T14:40:30.932894Z",
          "iopub.status.idle": "2023-01-28T14:40:36.250717Z",
          "shell.execute_reply.started": "2023-01-28T14:40:30.932853Z",
          "shell.execute_reply": "2023-01-28T14:40:36.249612Z"
        },
        "trusted": true,
        "colab": {
          "base_uri": "https://localhost:8080/"
        }
      },
      "execution_count": 7,
      "outputs": [
        {
          "output_type": "stream",
          "name": "stdout",
          "text": [
            "Found 750 files belonging to 10 classes.\n",
            "Found 2500 files belonging to 10 classes.\n"
          ]
        }
      ]
    },
    {
      "cell_type": "code",
      "source": [
        "train_data_10_percent"
      ],
      "metadata": {
        "id": "QDmnIH0753Ig",
        "outputId": "f95ccaba-823f-46d3-c265-d3c7a7d40ed7",
        "execution": {
          "iopub.status.busy": "2023-01-28T14:40:36.252394Z",
          "iopub.execute_input": "2023-01-28T14:40:36.253430Z",
          "iopub.status.idle": "2023-01-28T14:40:36.265019Z",
          "shell.execute_reply.started": "2023-01-28T14:40:36.253389Z",
          "shell.execute_reply": "2023-01-28T14:40:36.263870Z"
        },
        "trusted": true,
        "colab": {
          "base_uri": "https://localhost:8080/"
        }
      },
      "execution_count": 8,
      "outputs": [
        {
          "output_type": "execute_result",
          "data": {
            "text/plain": [
              "<BatchDataset element_spec=(TensorSpec(shape=(None, 224, 224, 3), dtype=tf.float32, name=None), TensorSpec(shape=(None, 10), dtype=tf.float32, name=None))>"
            ]
          },
          "metadata": {},
          "execution_count": 8
        }
      ]
    },
    {
      "cell_type": "code",
      "source": [
        "# Check out the class names of our dataset\n",
        "train_data_10_percent.class_names"
      ],
      "metadata": {
        "id": "h3xyBTf26AM3",
        "outputId": "516a9cd1-5c1a-4604-d0e5-e427b78e274d",
        "execution": {
          "iopub.status.busy": "2023-01-28T14:40:36.266298Z",
          "iopub.execute_input": "2023-01-28T14:40:36.266598Z",
          "iopub.status.idle": "2023-01-28T14:40:36.302246Z",
          "shell.execute_reply.started": "2023-01-28T14:40:36.266543Z",
          "shell.execute_reply": "2023-01-28T14:40:36.301211Z"
        },
        "trusted": true,
        "colab": {
          "base_uri": "https://localhost:8080/"
        }
      },
      "execution_count": 9,
      "outputs": [
        {
          "output_type": "execute_result",
          "data": {
            "text/plain": [
              "['chicken_curry',\n",
              " 'chicken_wings',\n",
              " 'fried_rice',\n",
              " 'grilled_salmon',\n",
              " 'hamburger',\n",
              " 'ice_cream',\n",
              " 'pizza',\n",
              " 'ramen',\n",
              " 'steak',\n",
              " 'sushi']"
            ]
          },
          "metadata": {},
          "execution_count": 9
        }
      ]
    },
    {
      "cell_type": "code",
      "source": [
        "for images, labels in train_data_10_percent.take(1):\n",
        "    print(images, labels)"
      ],
      "metadata": {
        "id": "7RbKK3CR6lxm",
        "outputId": "ddd6d1fc-bb1f-4ecb-bf69-6f0be5e8b926",
        "execution": {
          "iopub.status.busy": "2023-01-28T14:40:36.308041Z",
          "iopub.execute_input": "2023-01-28T14:40:36.308772Z",
          "iopub.status.idle": "2023-01-28T14:40:36.971431Z",
          "shell.execute_reply.started": "2023-01-28T14:40:36.308734Z",
          "shell.execute_reply": "2023-01-28T14:40:36.970365Z"
        },
        "trusted": true,
        "colab": {
          "base_uri": "https://localhost:8080/"
        }
      },
      "execution_count": 10,
      "outputs": [
        {
          "output_type": "stream",
          "name": "stdout",
          "text": [
            "tf.Tensor(\n",
            "[[[[1.34181442e+02 1.38641266e+02 1.17267860e+02]\n",
            "   [1.30512756e+02 1.31802292e+02 8.65341187e+01]\n",
            "   [1.38933990e+02 1.36460785e+02 6.00714264e+01]\n",
            "   ...\n",
            "   [2.47169678e+02 2.53000000e+02 2.42660645e+02]\n",
            "   [2.47647308e+02 2.52549103e+02 2.40352692e+02]\n",
            "   [2.45183014e+02 2.52816986e+02 2.42000000e+02]]\n",
            "\n",
            "  [[1.31487244e+02 1.42495529e+02 1.15821426e+02]\n",
            "   [1.29403702e+02 1.32397324e+02 7.81721954e+01]\n",
            "   [1.42778702e+02 1.33738205e+02 5.05446396e+01]\n",
            "   ...\n",
            "   [2.46254517e+02 2.52006058e+02 2.41903046e+02]\n",
            "   [2.47647308e+02 2.52039215e+02 2.41372452e+02]\n",
            "   [2.45183014e+02 2.52816986e+02 2.42000000e+02]]\n",
            "\n",
            "  [[1.26205353e+02 1.44505417e+02 1.27575890e+02]\n",
            "   [1.30611603e+02 1.37663589e+02 8.97630768e+01]\n",
            "   [1.49102997e+02 1.38175385e+02 5.76042709e+01]\n",
            "   ...\n",
            "   [2.46084839e+02 2.51169678e+02 2.43915161e+02]\n",
            "   [2.46549103e+02 2.52098206e+02 2.43450897e+02]\n",
            "   [2.45183014e+02 2.51816986e+02 2.44000000e+02]]\n",
            "\n",
            "  ...\n",
            "\n",
            "  [[1.96867249e+02 1.71867249e+02 7.90815048e+01]\n",
            "   [1.96019882e+02 1.71019882e+02 7.82341537e+01]\n",
            "   [2.01760162e+02 1.76760162e+02 8.37783356e+01]\n",
            "   ...\n",
            "   [5.24723740e+01 5.18741684e+01 2.36685085e+00]\n",
            "   [6.54943695e+01 6.12622528e+01 1.21611261e+01]\n",
            "   [7.91699142e+01 7.27413864e+01 2.51699123e+01]]\n",
            "\n",
            "  [[2.05784760e+02 1.80784760e+02 8.77847519e+01]\n",
            "   [2.03574020e+02 1.79123123e+02 8.44758072e+01]\n",
            "   [2.02874039e+02 1.78874039e+02 8.28740311e+01]\n",
            "   ...\n",
            "   [6.70846558e+01 6.89331589e+01 1.87574215e+01]\n",
            "   [7.02543030e+01 7.03719864e+01 1.74309654e+01]\n",
            "   [7.44586868e+01 7.37584381e+01 1.95833359e+01]]\n",
            "\n",
            "  [[1.97211884e+02 1.72211884e+02 7.92118683e+01]\n",
            "   [2.03365692e+02 1.78914795e+02 8.42674713e+01]\n",
            "   [2.06921204e+02 1.82921204e+02 8.69212036e+01]\n",
            "   ...\n",
            "   [5.12346535e+01 5.52346535e+01 5.89447308e+00]\n",
            "   [6.04394264e+01 6.39885292e+01 1.08715267e+01]\n",
            "   [6.95581970e+01 7.33751831e+01 1.47412109e+01]]]\n",
            "\n",
            "\n",
            " [[[8.32142868e+01 8.19591827e+01 9.85459213e+01]\n",
            "   [6.20306168e+01 6.39081612e+01 7.90714264e+01]\n",
            "   [4.79336739e+01 4.60102043e+01 5.97295914e+01]\n",
            "   ...\n",
            "   [1.39004990e+02 8.74947281e+01 4.11987419e+01]\n",
            "   [1.45790924e+02 9.00562286e+01 3.40306435e+01]\n",
            "   [1.55296005e+02 9.71684723e+01 3.15102196e+01]]\n",
            "\n",
            "  [[1.00158165e+02 1.04964287e+02 1.24826530e+02]\n",
            "   [9.26530609e+01 9.93673401e+01 1.17372444e+02]\n",
            "   [6.61071472e+01 7.12346954e+01 8.69489822e+01]\n",
            "   ...\n",
            "   [1.31765472e+02 8.10817490e+01 3.84235420e+01]\n",
            "   [1.46290848e+02 9.29438782e+01 4.25764809e+01]\n",
            "   [1.42974380e+02 8.88570404e+01 2.80202293e+01]]\n",
            "\n",
            "  [[8.82806091e+01 1.01137756e+02 1.24066330e+02]\n",
            "   [1.04530617e+02 1.20173470e+02 1.41530624e+02]\n",
            "   [9.96530609e+01 1.12224487e+02 1.31178574e+02]\n",
            "   ...\n",
            "   [1.21627792e+02 7.01328430e+01 3.03012142e+01]\n",
            "   [1.20346909e+02 6.81479340e+01 2.16887283e+01]\n",
            "   [1.32663544e+02 7.99543610e+01 2.75920410e+01]]\n",
            "\n",
            "  ...\n",
            "\n",
            "  [[9.54183197e+01 5.34183159e+01 1.14183178e+01]\n",
            "   [9.82550430e+01 5.62550430e+01 1.42550411e+01]\n",
            "   [9.36122742e+01 5.28060913e+01 1.03316288e+01]\n",
            "   ...\n",
            "   [1.18025414e+02 6.57141113e+01 1.45968828e+01]\n",
            "   [1.20306168e+02 6.47346954e+01 1.77500038e+01]\n",
            "   [1.15816284e+02 5.94590759e+01 1.46733408e+01]]\n",
            "\n",
            "  [[9.93570480e+01 5.73570518e+01 1.73570518e+01]\n",
            "   [9.02755203e+01 4.82755241e+01 6.27552080e+00]\n",
            "   [9.35765610e+01 5.15765610e+01 9.57655811e+00]\n",
            "   ...\n",
            "   [1.21642853e+02 6.62856445e+01 1.46428528e+01]\n",
            "   [1.15949142e+02 5.79491425e+01 9.94914436e+00]\n",
            "   [1.23560890e+02 6.53465652e+01 1.74180069e+01]]\n",
            "\n",
            "  [[8.92553024e+01 4.72553024e+01 7.25530052e+00]\n",
            "   [9.08368073e+01 4.88368073e+01 8.83680916e+00]\n",
            "   [9.26326752e+01 5.06326714e+01 8.92349529e+00]\n",
            "   ...\n",
            "   [1.19352333e+02 6.27808609e+01 9.56659698e+00]\n",
            "   [1.24566154e+02 6.45661545e+01 1.45661526e+01]\n",
            "   [1.17383041e+02 5.73830414e+01 7.38304138e+00]]]\n",
            "\n",
            "\n",
            " [[[7.44454727e+01 5.54454727e+01 2.32187500e+01]\n",
            "   [7.20966187e+01 5.34241066e+01 1.94416447e+01]\n",
            "   [8.41734695e+01 6.61734695e+01 2.80223198e+01]\n",
            "   ...\n",
            "   [1.14333401e+01 6.43334055e+00 2.43334055e+00]\n",
            "   [1.03064327e+01 5.30643272e+00 1.30643284e+00]\n",
            "   [1.00580359e+01 5.05803585e+00 1.05803585e+00]]\n",
            "\n",
            "  [[7.52471313e+01 5.52471313e+01 2.08453445e+01]\n",
            "   [7.42598877e+01 5.42598877e+01 1.91438122e+01]\n",
            "   [8.27920990e+01 6.30519791e+01 2.52474499e+01]\n",
            "   ...\n",
            "   [8.78573608e+00 4.78573608e+00 1.78573608e+00]\n",
            "   [1.09378176e+01 6.93781805e+00 3.93781805e+00]\n",
            "   [1.04106789e+01 6.41067886e+00 3.43140793e+00]]\n",
            "\n",
            "  [[7.16881332e+01 5.01613541e+01 1.23488522e+01]\n",
            "   [7.64177322e+01 5.48909454e+01 1.63641586e+01]\n",
            "   [8.72863541e+01 6.64869232e+01 2.54585457e+01]\n",
            "   ...\n",
            "   [5.73216438e+00 4.02234316e+00 4.22517776e-01]\n",
            "   [6.87498665e+00 5.16516542e+00 1.40177250e+00]\n",
            "   [4.35264349e+00 2.64282227e+00 0.00000000e+00]]\n",
            "\n",
            "  ...\n",
            "\n",
            "  [[1.01370224e+02 7.43702240e+01 3.37022614e+00]\n",
            "   [1.02351700e+02 7.53516998e+01 4.42312765e+00]\n",
            "   [1.01344063e+02 7.49869156e+01 3.77263165e+00]\n",
            "   ...\n",
            "   [7.63366699e-01 2.71266460e+00 0.00000000e+00]\n",
            "   [9.45463836e-01 2.94546390e+00 0.00000000e+00]\n",
            "   [2.36633301e-01 1.96397567e+00 0.00000000e+00]]\n",
            "\n",
            "  [[1.05074379e+02 7.80743790e+01 7.07437801e+00]\n",
            "   [1.06285500e+02 7.92854996e+01 8.28964806e+00]\n",
            "   [1.02013412e+02 7.56562729e+01 4.44198704e+00]\n",
            "   ...\n",
            "   [0.00000000e+00 1.78573608e+00 0.00000000e+00]\n",
            "   [1.00000000e+00 3.00000000e+00 0.00000000e+00]\n",
            "   [1.00000000e+00 3.00000000e+00 0.00000000e+00]]\n",
            "\n",
            "  [[1.02407181e+02 7.64071808e+01 2.40718317e+00]\n",
            "   [1.10101105e+02 8.41011047e+01 1.01011028e+01]\n",
            "   [9.49147873e+01 6.93433609e+01 1.51140571e-01]\n",
            "   ...\n",
            "   [9.24437463e-01 2.92443752e+00 0.00000000e+00]\n",
            "   [3.27466428e-01 2.32746649e+00 0.00000000e+00]\n",
            "   [0.00000000e+00 1.22669840e+00 0.00000000e+00]]]\n",
            "\n",
            "\n",
            " ...\n",
            "\n",
            "\n",
            " [[[2.45571426e+02 2.55000000e+02 2.48142853e+02]\n",
            "   [2.47234695e+02 2.55000000e+02 2.47545914e+02]\n",
            "   [2.52127548e+02 2.54556122e+02 2.52566330e+02]\n",
            "   ...\n",
            "   [2.44841888e+02 1.95841888e+02 1.17270409e+02]\n",
            "   [2.47714294e+02 1.99760223e+02 1.17760223e+02]\n",
            "   [2.49387772e+02 2.02030624e+02 1.20030624e+02]]\n",
            "\n",
            "  [[2.37260208e+02 2.54239807e+02 2.54857147e+02]\n",
            "   [2.44571442e+02 2.54857147e+02 2.54724487e+02]\n",
            "   [2.47459183e+02 2.54857147e+02 2.51489792e+02]\n",
            "   ...\n",
            "   [2.33046021e+02 1.83403229e+02 1.05046021e+02]\n",
            "   [2.42867340e+02 1.97933701e+02 1.14933685e+02]\n",
            "   [2.44928635e+02 2.03377686e+02 1.19117447e+02]]\n",
            "\n",
            "  [[2.44005112e+02 2.51076538e+02 2.50362244e+02]\n",
            "   [2.44698990e+02 2.52270416e+02 2.41127548e+02]\n",
            "   [2.51744904e+02 2.54908157e+02 2.32392853e+02]\n",
            "   ...\n",
            "   [2.40693863e+02 1.93785736e+02 1.13739799e+02]\n",
            "   [2.37142822e+02 1.95469376e+02 1.11841812e+02]\n",
            "   [2.41076813e+02 2.03076813e+02 1.18505386e+02]]\n",
            "\n",
            "  ...\n",
            "\n",
            "  [[2.02658035e+02 2.16658035e+02 2.17658035e+02]\n",
            "   [2.03362396e+02 2.17362396e+02 2.18362396e+02]\n",
            "   [2.16607269e+02 2.30515442e+02 2.31469528e+02]\n",
            "   ...\n",
            "   [2.03103104e+02 1.39531631e+02 9.14091873e+01]\n",
            "   [2.38678406e+02 1.83004990e+02 1.36163193e+02]\n",
            "   [2.46454605e+02 2.00454788e+02 1.58317062e+02]]\n",
            "\n",
            "  [[2.06086853e+02 2.21086853e+02 2.24086853e+02]\n",
            "   [2.12076492e+02 2.28076492e+02 2.28076492e+02]\n",
            "   [2.08581696e+02 2.22581696e+02 2.23581696e+02]\n",
            "   ...\n",
            "   [2.24853043e+02 1.60312241e+02 1.11883713e+02]\n",
            "   [2.43989975e+02 1.90367599e+02 1.44719696e+02]\n",
            "   [2.49244431e+02 2.07122162e+02 1.67412918e+02]]\n",
            "\n",
            "  [[2.18974380e+02 2.33974380e+02 2.36974380e+02]\n",
            "   [2.11596970e+02 2.26596970e+02 2.29596970e+02]\n",
            "   [2.14647827e+02 2.28647827e+02 2.29647827e+02]\n",
            "   ...\n",
            "   [2.36919632e+02 1.70919632e+02 1.22338043e+02]\n",
            "   [2.52311096e+02 1.99790787e+02 1.55933670e+02]\n",
            "   [2.20274780e+02 1.79473892e+02 1.42647446e+02]]]\n",
            "\n",
            "\n",
            " [[[2.02056122e+02 7.10561218e+01 1.70561237e+01]\n",
            "   [2.02780609e+02 7.17806091e+01 1.77806110e+01]\n",
            "   [1.95260208e+02 6.42602005e+01 1.02602034e+01]\n",
            "   ...\n",
            "   [5.11531105e+01 2.28061352e+01 1.20867548e+01]\n",
            "   [5.67091560e+01 2.39030170e+01 1.33060875e+01]\n",
            "   [4.93875923e+01 1.20304489e+01 4.86725760e+00]]\n",
            "\n",
            "  [[1.97785721e+02 6.87857208e+01 1.37857151e+01]\n",
            "   [2.02653061e+02 7.36530609e+01 1.86530628e+01]\n",
            "   [2.02158157e+02 7.29438782e+01 1.85867386e+01]\n",
            "   ...\n",
            "   [3.75001297e+01 1.10408821e+01 2.12759399e+00]\n",
            "   [4.60765533e+01 1.79183884e+01 6.99491978e+00]\n",
            "   [5.13776131e+01 2.11378155e+01 1.12092438e+01]]\n",
            "\n",
            "  [[1.93862244e+02 6.68622437e+01 1.18622446e+01]\n",
            "   [1.96903061e+02 6.99030609e+01 1.49030609e+01]\n",
            "   [1.98443878e+02 7.14438705e+01 1.88724480e+01]\n",
            "   ...\n",
            "   [2.72397575e+01 7.66832924e+00 4.74485427e-01]\n",
            "   [2.83418484e+01 6.61222744e+00 8.26525509e-01]\n",
            "   [2.81989574e+01 4.41324329e+00 0.00000000e+00]]\n",
            "\n",
            "  ...\n",
            "\n",
            "  [[1.51132675e+02 6.84235229e+01 2.23419037e+01]\n",
            "   [1.50244873e+02 6.36122055e+01 1.82704086e+01]\n",
            "   [1.54336716e+02 6.44030762e+01 2.07398453e+01]\n",
            "   ...\n",
            "   [3.17857361e+01 6.78573608e+00 2.57147217e+00]\n",
            "   [3.17296009e+01 6.72960186e+00 2.51533794e+00]\n",
            "   [3.02142639e+01 5.21426392e+00 1.00000000e+00]]\n",
            "\n",
            "  [[1.56066147e+02 8.19488373e+01 3.80151634e+01]\n",
            "   [1.40913177e+02 6.23417931e+01 1.94744568e+01]\n",
            "   [1.48602005e+02 6.69183502e+01 2.44285717e+01]\n",
            "   ...\n",
            "   [2.75867176e+01 6.72960186e+00 1.65816021e+00]\n",
            "   [2.67142334e+01 6.00000000e+00 8.62220585e-01]\n",
            "   [2.44540138e+01 3.73978138e+00 0.00000000e+00]]\n",
            "\n",
            "  [[1.17576050e+02 5.16475830e+01 7.43847656e+00]\n",
            "   [1.29683670e+02 5.99184570e+01 1.55153637e+01]\n",
            "   [1.39775421e+02 6.49081345e+01 2.21989212e+01]\n",
            "   ...\n",
            "   [2.31580582e+01 6.71935272e+00 0.00000000e+00]\n",
            "   [2.06683388e+01 6.38269520e+00 0.00000000e+00]\n",
            "   [2.07703991e+01 8.84193134e+00 4.84753668e-01]]]\n",
            "\n",
            "\n",
            " [[[1.21989794e+01 1.71989784e+01 4.74540825e+01]\n",
            "   [1.93061237e+01 2.52346954e+01 5.14744911e+01]\n",
            "   [2.29285698e+01 2.74234695e+01 4.89336739e+01]\n",
            "   ...\n",
            "   [5.61427917e+01 4.73570557e+01 4.77142639e+01]\n",
            "   [4.45458755e+01 3.85458755e+01 3.85458755e+01]\n",
            "   [3.84591599e+01 3.24591599e+01 3.24591599e+01]]\n",
            "\n",
            "  [[1.11173468e+01 1.51173468e+01 4.21683693e+01]\n",
            "   [1.01326523e+01 1.41326523e+01 3.91428604e+01]\n",
            "   [1.43979588e+01 1.69132633e+01 3.58112221e+01]\n",
            "   ...\n",
            "   [5.53824844e+01 4.65967484e+01 4.69539566e+01]\n",
            "   [3.77244377e+01 3.17244396e+01 3.17244396e+01]\n",
            "   [3.28111916e+01 2.68111916e+01 2.68111916e+01]]\n",
            "\n",
            "  [[2.54183712e+01 3.06326561e+01 6.07040825e+01]\n",
            "   [2.67857170e+01 3.27295952e+01 6.02142906e+01]\n",
            "   [2.93622475e+01 3.54081650e+01 6.00969391e+01]\n",
            "   ...\n",
            "   [6.04079552e+01 5.19794273e+01 4.99794273e+01]\n",
            "   [4.08009834e+01 3.48009834e+01 3.48316002e+01]\n",
            "   [3.55051117e+01 3.15051098e+01 3.25051117e+01]]\n",
            "\n",
            "  ...\n",
            "\n",
            "  [[2.35250183e+02 2.05035919e+02 1.20321503e+02]\n",
            "   [2.28285690e+02 1.99341812e+02 1.19571365e+02]\n",
            "   [2.38576920e+02 2.09576920e+02 1.31148346e+02]\n",
            "   ...\n",
            "   [1.63408035e+02 1.40193771e+02 7.16734161e+01]\n",
            "   [1.64474274e+02 1.43101868e+02 7.57753448e+01]\n",
            "   [1.65504761e+02 1.45504761e+02 7.45047531e+01]]\n",
            "\n",
            "  [[2.22836746e+02 1.92765305e+02 1.07005142e+02]\n",
            "   [2.43362213e+02 2.16362213e+02 1.29086655e+02]\n",
            "   [2.30331589e+02 2.03403030e+02 1.15464157e+02]\n",
            "   ...\n",
            "   [1.55285645e+02 1.32229507e+02 6.53979111e+01]\n",
            "   [1.56499908e+02 1.35566254e+02 6.85662460e+01]\n",
            "   [1.52882507e+02 1.32882507e+02 6.31681557e+01]]\n",
            "\n",
            "  [[2.25270309e+02 1.93683563e+02 1.16413246e+02]\n",
            "   [2.36250061e+02 2.10178619e+02 1.14943863e+02]\n",
            "   [2.37591934e+02 2.12872574e+02 1.10454048e+02]\n",
            "   ...\n",
            "   [1.49581924e+02 1.27939133e+02 6.47248688e+01]\n",
            "   [1.49449203e+02 1.28449203e+02 6.33063278e+01]\n",
            "   [1.45071533e+02 1.25071533e+02 5.53571777e+01]]]], shape=(32, 224, 224, 3), dtype=float32) tf.Tensor(\n",
            "[[0. 1. 0. 0. 0. 0. 0. 0. 0. 0.]\n",
            " [0. 0. 0. 0. 0. 0. 0. 1. 0. 0.]\n",
            " [0. 0. 0. 1. 0. 0. 0. 0. 0. 0.]\n",
            " [0. 0. 1. 0. 0. 0. 0. 0. 0. 0.]\n",
            " [0. 0. 0. 0. 0. 0. 1. 0. 0. 0.]\n",
            " [0. 0. 0. 1. 0. 0. 0. 0. 0. 0.]\n",
            " [0. 0. 0. 0. 0. 0. 0. 1. 0. 0.]\n",
            " [0. 0. 0. 0. 0. 0. 0. 0. 0. 1.]\n",
            " [0. 0. 0. 0. 0. 0. 0. 0. 0. 1.]\n",
            " [1. 0. 0. 0. 0. 0. 0. 0. 0. 0.]\n",
            " [0. 0. 1. 0. 0. 0. 0. 0. 0. 0.]\n",
            " [0. 0. 0. 0. 0. 0. 0. 0. 0. 1.]\n",
            " [0. 0. 0. 0. 0. 1. 0. 0. 0. 0.]\n",
            " [0. 0. 0. 0. 1. 0. 0. 0. 0. 0.]\n",
            " [0. 0. 0. 0. 0. 0. 0. 0. 0. 1.]\n",
            " [0. 0. 0. 0. 0. 0. 0. 1. 0. 0.]\n",
            " [1. 0. 0. 0. 0. 0. 0. 0. 0. 0.]\n",
            " [1. 0. 0. 0. 0. 0. 0. 0. 0. 0.]\n",
            " [0. 0. 0. 0. 0. 0. 1. 0. 0. 0.]\n",
            " [0. 0. 0. 0. 0. 0. 1. 0. 0. 0.]\n",
            " [0. 0. 0. 0. 0. 0. 0. 1. 0. 0.]\n",
            " [0. 0. 1. 0. 0. 0. 0. 0. 0. 0.]\n",
            " [0. 0. 0. 0. 0. 0. 0. 0. 0. 1.]\n",
            " [0. 0. 0. 0. 0. 0. 1. 0. 0. 0.]\n",
            " [0. 0. 0. 0. 0. 0. 1. 0. 0. 0.]\n",
            " [0. 0. 0. 0. 0. 0. 0. 0. 1. 0.]\n",
            " [0. 0. 0. 1. 0. 0. 0. 0. 0. 0.]\n",
            " [0. 1. 0. 0. 0. 0. 0. 0. 0. 0.]\n",
            " [0. 0. 0. 0. 1. 0. 0. 0. 0. 0.]\n",
            " [0. 0. 0. 0. 1. 0. 0. 0. 0. 0.]\n",
            " [0. 0. 0. 0. 0. 0. 0. 1. 0. 0.]\n",
            " [0. 0. 0. 0. 1. 0. 0. 0. 0. 0.]], shape=(32, 10), dtype=float32)\n"
          ]
        }
      ]
    },
    {
      "cell_type": "markdown",
      "source": [
        "## Model 0: Building a transfer learning feature extraction model using the Keras Functional API\n",
        "\n",
        "it gives us more flexibel with our models"
      ],
      "metadata": {
        "id": "R8rME2WY6swt"
      }
    },
    {
      "cell_type": "code",
      "source": [
        "# 1. Create the base model with tf.keras.applications\n",
        "base_model = tf.keras.applications.EfficientNetB0(include_top=False)\n",
        "\n",
        "# 2. Freeze the basee model\n",
        "base_model.trainable = False\n",
        "\n",
        "# 3. Create inputs into our model\n",
        "inputs = tf.keras.layers.Input(shape=(224, 224, 3), name=\"input_layer\")\n",
        "\n",
        "# 4. If using ResNet50V2 you will need to normalize inputs\n",
        "# x = tf.keras.layers.experimental.preprocessing.Rescaling(1./255)(inputs)\n",
        "\n",
        "# 5. Pass the inputs to the base model\n",
        "x = base_model(inputs)\n",
        "print(f\"Shape after passing inputs through base_model: {x.shape}\")\n",
        "\n",
        "# 6. Average pool the outputs of the base model (aggregate all the modt important information, reduce number of computations)\n",
        "x = tf.keras.layers.GlobalAveragePooling2D(name=\"global_average_pooling_layer\")(x)\n",
        "print(f\"Shape after GlobalAveragePooling2D {x.shape}\")\n",
        "\n",
        "# 7. Create the output activation layer\n",
        "outputs = tf.keras.layers.Dense(10, activation=\"softmax\", name=\"output_layer\")(x)\n",
        "\n",
        "# 8. Combine th einputs with the outputs into a model\n",
        "model_0 = tf.keras.Model(inputs, outputs)\n",
        "\n",
        "# 9. Compile the model\n",
        "model_0.compile(loss=\"categorical_crossentropy\",\n",
        "                optimizer=tf.keras.optimizers.Adam(),\n",
        "                metrics=[\"accuracy\"])\n",
        "\n",
        "# 10. Fit the model\n",
        "history_model_0 = model_0.fit(train_data_10_percent,\n",
        "                              epochs=5,\n",
        "                              steps_per_epoch=len(train_data_10_percent),\n",
        "                              validation_data=test_data_10_percent,\n",
        "                              validation_steps=int(len(test_data_10_percent)*.25),\n",
        "                              callbacks=[create_tensorboard_callback(dir_name=\"transfer_learning\",\n",
        "                                                                     experiment_name=\"10_percent_feature_extraction\")])"
      ],
      "metadata": {
        "id": "l0ZI922I9Ain",
        "outputId": "b4b3bff3-f781-47e8-aba1-81f775251476",
        "execution": {
          "iopub.status.busy": "2023-01-28T14:40:36.973117Z",
          "iopub.execute_input": "2023-01-28T14:40:36.974831Z",
          "iopub.status.idle": "2023-01-28T14:41:22.457733Z",
          "shell.execute_reply.started": "2023-01-28T14:40:36.974789Z",
          "shell.execute_reply": "2023-01-28T14:41:22.456694Z"
        },
        "trusted": true,
        "colab": {
          "base_uri": "https://localhost:8080/"
        }
      },
      "execution_count": 11,
      "outputs": [
        {
          "output_type": "stream",
          "name": "stdout",
          "text": [
            "Downloading data from https://storage.googleapis.com/keras-applications/efficientnetb0_notop.h5\n",
            "16705208/16705208 [==============================] - 2s 0us/step\n",
            "Shape after passing inputs through base_model: (None, 7, 7, 1280)\n",
            "Shape after GlobalAveragePooling2D (None, 1280)\n",
            "Saving TensorBoard log files to: transfer_learning/10_percent_feature_extraction/20230128-154703\n",
            "Epoch 1/5\n",
            "24/24 [==============================] - 18s 256ms/step - loss: 1.8720 - accuracy: 0.4373 - val_loss: 1.2709 - val_accuracy: 0.7681\n",
            "Epoch 2/5\n",
            "24/24 [==============================] - 5s 185ms/step - loss: 1.0872 - accuracy: 0.7733 - val_loss: 0.8496 - val_accuracy: 0.8355\n",
            "Epoch 3/5\n",
            "24/24 [==============================] - 5s 183ms/step - loss: 0.7797 - accuracy: 0.8267 - val_loss: 0.6807 - val_accuracy: 0.8586\n",
            "Epoch 4/5\n",
            "24/24 [==============================] - 5s 183ms/step - loss: 0.6355 - accuracy: 0.8560 - val_loss: 0.6112 - val_accuracy: 0.8618\n",
            "Epoch 5/5\n",
            "24/24 [==============================] - 5s 182ms/step - loss: 0.5406 - accuracy: 0.8827 - val_loss: 0.5414 - val_accuracy: 0.8816\n"
          ]
        }
      ]
    },
    {
      "cell_type": "code",
      "source": [
        "# Check the layers in our base model\n",
        "for layer_number, layer in enumerate(base_model.layers):\n",
        "    print(layer_number, layer.name)"
      ],
      "metadata": {
        "id": "xZWs1Z2H-X--",
        "outputId": "9f1c97cc-9875-4f3c-9049-633947afa1f2",
        "execution": {
          "iopub.status.busy": "2023-01-28T14:41:22.459262Z",
          "iopub.execute_input": "2023-01-28T14:41:22.461619Z",
          "iopub.status.idle": "2023-01-28T14:41:22.472597Z",
          "shell.execute_reply.started": "2023-01-28T14:41:22.461576Z",
          "shell.execute_reply": "2023-01-28T14:41:22.471376Z"
        },
        "trusted": true,
        "colab": {
          "base_uri": "https://localhost:8080/"
        }
      },
      "execution_count": 12,
      "outputs": [
        {
          "output_type": "stream",
          "name": "stdout",
          "text": [
            "0 input_1\n",
            "1 rescaling\n",
            "2 normalization\n",
            "3 tf.math.truediv\n",
            "4 stem_conv_pad\n",
            "5 stem_conv\n",
            "6 stem_bn\n",
            "7 stem_activation\n",
            "8 block1a_dwconv\n",
            "9 block1a_bn\n",
            "10 block1a_activation\n",
            "11 block1a_se_squeeze\n",
            "12 block1a_se_reshape\n",
            "13 block1a_se_reduce\n",
            "14 block1a_se_expand\n",
            "15 block1a_se_excite\n",
            "16 block1a_project_conv\n",
            "17 block1a_project_bn\n",
            "18 block2a_expand_conv\n",
            "19 block2a_expand_bn\n",
            "20 block2a_expand_activation\n",
            "21 block2a_dwconv_pad\n",
            "22 block2a_dwconv\n",
            "23 block2a_bn\n",
            "24 block2a_activation\n",
            "25 block2a_se_squeeze\n",
            "26 block2a_se_reshape\n",
            "27 block2a_se_reduce\n",
            "28 block2a_se_expand\n",
            "29 block2a_se_excite\n",
            "30 block2a_project_conv\n",
            "31 block2a_project_bn\n",
            "32 block2b_expand_conv\n",
            "33 block2b_expand_bn\n",
            "34 block2b_expand_activation\n",
            "35 block2b_dwconv\n",
            "36 block2b_bn\n",
            "37 block2b_activation\n",
            "38 block2b_se_squeeze\n",
            "39 block2b_se_reshape\n",
            "40 block2b_se_reduce\n",
            "41 block2b_se_expand\n",
            "42 block2b_se_excite\n",
            "43 block2b_project_conv\n",
            "44 block2b_project_bn\n",
            "45 block2b_drop\n",
            "46 block2b_add\n",
            "47 block3a_expand_conv\n",
            "48 block3a_expand_bn\n",
            "49 block3a_expand_activation\n",
            "50 block3a_dwconv_pad\n",
            "51 block3a_dwconv\n",
            "52 block3a_bn\n",
            "53 block3a_activation\n",
            "54 block3a_se_squeeze\n",
            "55 block3a_se_reshape\n",
            "56 block3a_se_reduce\n",
            "57 block3a_se_expand\n",
            "58 block3a_se_excite\n",
            "59 block3a_project_conv\n",
            "60 block3a_project_bn\n",
            "61 block3b_expand_conv\n",
            "62 block3b_expand_bn\n",
            "63 block3b_expand_activation\n",
            "64 block3b_dwconv\n",
            "65 block3b_bn\n",
            "66 block3b_activation\n",
            "67 block3b_se_squeeze\n",
            "68 block3b_se_reshape\n",
            "69 block3b_se_reduce\n",
            "70 block3b_se_expand\n",
            "71 block3b_se_excite\n",
            "72 block3b_project_conv\n",
            "73 block3b_project_bn\n",
            "74 block3b_drop\n",
            "75 block3b_add\n",
            "76 block4a_expand_conv\n",
            "77 block4a_expand_bn\n",
            "78 block4a_expand_activation\n",
            "79 block4a_dwconv_pad\n",
            "80 block4a_dwconv\n",
            "81 block4a_bn\n",
            "82 block4a_activation\n",
            "83 block4a_se_squeeze\n",
            "84 block4a_se_reshape\n",
            "85 block4a_se_reduce\n",
            "86 block4a_se_expand\n",
            "87 block4a_se_excite\n",
            "88 block4a_project_conv\n",
            "89 block4a_project_bn\n",
            "90 block4b_expand_conv\n",
            "91 block4b_expand_bn\n",
            "92 block4b_expand_activation\n",
            "93 block4b_dwconv\n",
            "94 block4b_bn\n",
            "95 block4b_activation\n",
            "96 block4b_se_squeeze\n",
            "97 block4b_se_reshape\n",
            "98 block4b_se_reduce\n",
            "99 block4b_se_expand\n",
            "100 block4b_se_excite\n",
            "101 block4b_project_conv\n",
            "102 block4b_project_bn\n",
            "103 block4b_drop\n",
            "104 block4b_add\n",
            "105 block4c_expand_conv\n",
            "106 block4c_expand_bn\n",
            "107 block4c_expand_activation\n",
            "108 block4c_dwconv\n",
            "109 block4c_bn\n",
            "110 block4c_activation\n",
            "111 block4c_se_squeeze\n",
            "112 block4c_se_reshape\n",
            "113 block4c_se_reduce\n",
            "114 block4c_se_expand\n",
            "115 block4c_se_excite\n",
            "116 block4c_project_conv\n",
            "117 block4c_project_bn\n",
            "118 block4c_drop\n",
            "119 block4c_add\n",
            "120 block5a_expand_conv\n",
            "121 block5a_expand_bn\n",
            "122 block5a_expand_activation\n",
            "123 block5a_dwconv\n",
            "124 block5a_bn\n",
            "125 block5a_activation\n",
            "126 block5a_se_squeeze\n",
            "127 block5a_se_reshape\n",
            "128 block5a_se_reduce\n",
            "129 block5a_se_expand\n",
            "130 block5a_se_excite\n",
            "131 block5a_project_conv\n",
            "132 block5a_project_bn\n",
            "133 block5b_expand_conv\n",
            "134 block5b_expand_bn\n",
            "135 block5b_expand_activation\n",
            "136 block5b_dwconv\n",
            "137 block5b_bn\n",
            "138 block5b_activation\n",
            "139 block5b_se_squeeze\n",
            "140 block5b_se_reshape\n",
            "141 block5b_se_reduce\n",
            "142 block5b_se_expand\n",
            "143 block5b_se_excite\n",
            "144 block5b_project_conv\n",
            "145 block5b_project_bn\n",
            "146 block5b_drop\n",
            "147 block5b_add\n",
            "148 block5c_expand_conv\n",
            "149 block5c_expand_bn\n",
            "150 block5c_expand_activation\n",
            "151 block5c_dwconv\n",
            "152 block5c_bn\n",
            "153 block5c_activation\n",
            "154 block5c_se_squeeze\n",
            "155 block5c_se_reshape\n",
            "156 block5c_se_reduce\n",
            "157 block5c_se_expand\n",
            "158 block5c_se_excite\n",
            "159 block5c_project_conv\n",
            "160 block5c_project_bn\n",
            "161 block5c_drop\n",
            "162 block5c_add\n",
            "163 block6a_expand_conv\n",
            "164 block6a_expand_bn\n",
            "165 block6a_expand_activation\n",
            "166 block6a_dwconv_pad\n",
            "167 block6a_dwconv\n",
            "168 block6a_bn\n",
            "169 block6a_activation\n",
            "170 block6a_se_squeeze\n",
            "171 block6a_se_reshape\n",
            "172 block6a_se_reduce\n",
            "173 block6a_se_expand\n",
            "174 block6a_se_excite\n",
            "175 block6a_project_conv\n",
            "176 block6a_project_bn\n",
            "177 block6b_expand_conv\n",
            "178 block6b_expand_bn\n",
            "179 block6b_expand_activation\n",
            "180 block6b_dwconv\n",
            "181 block6b_bn\n",
            "182 block6b_activation\n",
            "183 block6b_se_squeeze\n",
            "184 block6b_se_reshape\n",
            "185 block6b_se_reduce\n",
            "186 block6b_se_expand\n",
            "187 block6b_se_excite\n",
            "188 block6b_project_conv\n",
            "189 block6b_project_bn\n",
            "190 block6b_drop\n",
            "191 block6b_add\n",
            "192 block6c_expand_conv\n",
            "193 block6c_expand_bn\n",
            "194 block6c_expand_activation\n",
            "195 block6c_dwconv\n",
            "196 block6c_bn\n",
            "197 block6c_activation\n",
            "198 block6c_se_squeeze\n",
            "199 block6c_se_reshape\n",
            "200 block6c_se_reduce\n",
            "201 block6c_se_expand\n",
            "202 block6c_se_excite\n",
            "203 block6c_project_conv\n",
            "204 block6c_project_bn\n",
            "205 block6c_drop\n",
            "206 block6c_add\n",
            "207 block6d_expand_conv\n",
            "208 block6d_expand_bn\n",
            "209 block6d_expand_activation\n",
            "210 block6d_dwconv\n",
            "211 block6d_bn\n",
            "212 block6d_activation\n",
            "213 block6d_se_squeeze\n",
            "214 block6d_se_reshape\n",
            "215 block6d_se_reduce\n",
            "216 block6d_se_expand\n",
            "217 block6d_se_excite\n",
            "218 block6d_project_conv\n",
            "219 block6d_project_bn\n",
            "220 block6d_drop\n",
            "221 block6d_add\n",
            "222 block7a_expand_conv\n",
            "223 block7a_expand_bn\n",
            "224 block7a_expand_activation\n",
            "225 block7a_dwconv\n",
            "226 block7a_bn\n",
            "227 block7a_activation\n",
            "228 block7a_se_squeeze\n",
            "229 block7a_se_reshape\n",
            "230 block7a_se_reduce\n",
            "231 block7a_se_expand\n",
            "232 block7a_se_excite\n",
            "233 block7a_project_conv\n",
            "234 block7a_project_bn\n",
            "235 top_conv\n",
            "236 top_bn\n",
            "237 top_activation\n"
          ]
        }
      ]
    },
    {
      "cell_type": "code",
      "source": [
        "# How about we get a summary of the base model\n",
        "base_model.summary()"
      ],
      "metadata": {
        "id": "X3J-1ty7BFxT",
        "outputId": "6d5e525d-aa5d-4734-c310-f36169c7a6e7",
        "execution": {
          "iopub.status.busy": "2023-01-28T14:41:22.473931Z",
          "iopub.execute_input": "2023-01-28T14:41:22.474903Z",
          "iopub.status.idle": "2023-01-28T14:41:22.523955Z",
          "shell.execute_reply.started": "2023-01-28T14:41:22.474863Z",
          "shell.execute_reply": "2023-01-28T14:41:22.522980Z"
        },
        "trusted": true,
        "colab": {
          "base_uri": "https://localhost:8080/"
        }
      },
      "execution_count": 13,
      "outputs": [
        {
          "output_type": "stream",
          "name": "stdout",
          "text": [
            "Model: \"efficientnetb0\"\n",
            "__________________________________________________________________________________________________\n",
            " Layer (type)                   Output Shape         Param #     Connected to                     \n",
            "==================================================================================================\n",
            " input_1 (InputLayer)           [(None, None, None,  0           []                               \n",
            "                                 3)]                                                              \n",
            "                                                                                                  \n",
            " rescaling (Rescaling)          (None, None, None,   0           ['input_1[0][0]']                \n",
            "                                3)                                                                \n",
            "                                                                                                  \n",
            " normalization (Normalization)  (None, None, None,   7           ['rescaling[0][0]']              \n",
            "                                3)                                                                \n",
            "                                                                                                  \n",
            " tf.math.truediv (TFOpLambda)   (None, None, None,   0           ['normalization[0][0]']          \n",
            "                                3)                                                                \n",
            "                                                                                                  \n",
            " stem_conv_pad (ZeroPadding2D)  (None, None, None,   0           ['tf.math.truediv[0][0]']        \n",
            "                                3)                                                                \n",
            "                                                                                                  \n",
            " stem_conv (Conv2D)             (None, None, None,   864         ['stem_conv_pad[0][0]']          \n",
            "                                32)                                                               \n",
            "                                                                                                  \n",
            " stem_bn (BatchNormalization)   (None, None, None,   128         ['stem_conv[0][0]']              \n",
            "                                32)                                                               \n",
            "                                                                                                  \n",
            " stem_activation (Activation)   (None, None, None,   0           ['stem_bn[0][0]']                \n",
            "                                32)                                                               \n",
            "                                                                                                  \n",
            " block1a_dwconv (DepthwiseConv2  (None, None, None,   288        ['stem_activation[0][0]']        \n",
            " D)                             32)                                                               \n",
            "                                                                                                  \n",
            " block1a_bn (BatchNormalization  (None, None, None,   128        ['block1a_dwconv[0][0]']         \n",
            " )                              32)                                                               \n",
            "                                                                                                  \n",
            " block1a_activation (Activation  (None, None, None,   0          ['block1a_bn[0][0]']             \n",
            " )                              32)                                                               \n",
            "                                                                                                  \n",
            " block1a_se_squeeze (GlobalAver  (None, 32)          0           ['block1a_activation[0][0]']     \n",
            " agePooling2D)                                                                                    \n",
            "                                                                                                  \n",
            " block1a_se_reshape (Reshape)   (None, 1, 1, 32)     0           ['block1a_se_squeeze[0][0]']     \n",
            "                                                                                                  \n",
            " block1a_se_reduce (Conv2D)     (None, 1, 1, 8)      264         ['block1a_se_reshape[0][0]']     \n",
            "                                                                                                  \n",
            " block1a_se_expand (Conv2D)     (None, 1, 1, 32)     288         ['block1a_se_reduce[0][0]']      \n",
            "                                                                                                  \n",
            " block1a_se_excite (Multiply)   (None, None, None,   0           ['block1a_activation[0][0]',     \n",
            "                                32)                               'block1a_se_expand[0][0]']      \n",
            "                                                                                                  \n",
            " block1a_project_conv (Conv2D)  (None, None, None,   512         ['block1a_se_excite[0][0]']      \n",
            "                                16)                                                               \n",
            "                                                                                                  \n",
            " block1a_project_bn (BatchNorma  (None, None, None,   64         ['block1a_project_conv[0][0]']   \n",
            " lization)                      16)                                                               \n",
            "                                                                                                  \n",
            " block2a_expand_conv (Conv2D)   (None, None, None,   1536        ['block1a_project_bn[0][0]']     \n",
            "                                96)                                                               \n",
            "                                                                                                  \n",
            " block2a_expand_bn (BatchNormal  (None, None, None,   384        ['block2a_expand_conv[0][0]']    \n",
            " ization)                       96)                                                               \n",
            "                                                                                                  \n",
            " block2a_expand_activation (Act  (None, None, None,   0          ['block2a_expand_bn[0][0]']      \n",
            " ivation)                       96)                                                               \n",
            "                                                                                                  \n",
            " block2a_dwconv_pad (ZeroPaddin  (None, None, None,   0          ['block2a_expand_activation[0][0]\n",
            " g2D)                           96)                              ']                               \n",
            "                                                                                                  \n",
            " block2a_dwconv (DepthwiseConv2  (None, None, None,   864        ['block2a_dwconv_pad[0][0]']     \n",
            " D)                             96)                                                               \n",
            "                                                                                                  \n",
            " block2a_bn (BatchNormalization  (None, None, None,   384        ['block2a_dwconv[0][0]']         \n",
            " )                              96)                                                               \n",
            "                                                                                                  \n",
            " block2a_activation (Activation  (None, None, None,   0          ['block2a_bn[0][0]']             \n",
            " )                              96)                                                               \n",
            "                                                                                                  \n",
            " block2a_se_squeeze (GlobalAver  (None, 96)          0           ['block2a_activation[0][0]']     \n",
            " agePooling2D)                                                                                    \n",
            "                                                                                                  \n",
            " block2a_se_reshape (Reshape)   (None, 1, 1, 96)     0           ['block2a_se_squeeze[0][0]']     \n",
            "                                                                                                  \n",
            " block2a_se_reduce (Conv2D)     (None, 1, 1, 4)      388         ['block2a_se_reshape[0][0]']     \n",
            "                                                                                                  \n",
            " block2a_se_expand (Conv2D)     (None, 1, 1, 96)     480         ['block2a_se_reduce[0][0]']      \n",
            "                                                                                                  \n",
            " block2a_se_excite (Multiply)   (None, None, None,   0           ['block2a_activation[0][0]',     \n",
            "                                96)                               'block2a_se_expand[0][0]']      \n",
            "                                                                                                  \n",
            " block2a_project_conv (Conv2D)  (None, None, None,   2304        ['block2a_se_excite[0][0]']      \n",
            "                                24)                                                               \n",
            "                                                                                                  \n",
            " block2a_project_bn (BatchNorma  (None, None, None,   96         ['block2a_project_conv[0][0]']   \n",
            " lization)                      24)                                                               \n",
            "                                                                                                  \n",
            " block2b_expand_conv (Conv2D)   (None, None, None,   3456        ['block2a_project_bn[0][0]']     \n",
            "                                144)                                                              \n",
            "                                                                                                  \n",
            " block2b_expand_bn (BatchNormal  (None, None, None,   576        ['block2b_expand_conv[0][0]']    \n",
            " ization)                       144)                                                              \n",
            "                                                                                                  \n",
            " block2b_expand_activation (Act  (None, None, None,   0          ['block2b_expand_bn[0][0]']      \n",
            " ivation)                       144)                                                              \n",
            "                                                                                                  \n",
            " block2b_dwconv (DepthwiseConv2  (None, None, None,   1296       ['block2b_expand_activation[0][0]\n",
            " D)                             144)                             ']                               \n",
            "                                                                                                  \n",
            " block2b_bn (BatchNormalization  (None, None, None,   576        ['block2b_dwconv[0][0]']         \n",
            " )                              144)                                                              \n",
            "                                                                                                  \n",
            " block2b_activation (Activation  (None, None, None,   0          ['block2b_bn[0][0]']             \n",
            " )                              144)                                                              \n",
            "                                                                                                  \n",
            " block2b_se_squeeze (GlobalAver  (None, 144)         0           ['block2b_activation[0][0]']     \n",
            " agePooling2D)                                                                                    \n",
            "                                                                                                  \n",
            " block2b_se_reshape (Reshape)   (None, 1, 1, 144)    0           ['block2b_se_squeeze[0][0]']     \n",
            "                                                                                                  \n",
            " block2b_se_reduce (Conv2D)     (None, 1, 1, 6)      870         ['block2b_se_reshape[0][0]']     \n",
            "                                                                                                  \n",
            " block2b_se_expand (Conv2D)     (None, 1, 1, 144)    1008        ['block2b_se_reduce[0][0]']      \n",
            "                                                                                                  \n",
            " block2b_se_excite (Multiply)   (None, None, None,   0           ['block2b_activation[0][0]',     \n",
            "                                144)                              'block2b_se_expand[0][0]']      \n",
            "                                                                                                  \n",
            " block2b_project_conv (Conv2D)  (None, None, None,   3456        ['block2b_se_excite[0][0]']      \n",
            "                                24)                                                               \n",
            "                                                                                                  \n",
            " block2b_project_bn (BatchNorma  (None, None, None,   96         ['block2b_project_conv[0][0]']   \n",
            " lization)                      24)                                                               \n",
            "                                                                                                  \n",
            " block2b_drop (Dropout)         (None, None, None,   0           ['block2b_project_bn[0][0]']     \n",
            "                                24)                                                               \n",
            "                                                                                                  \n",
            " block2b_add (Add)              (None, None, None,   0           ['block2b_drop[0][0]',           \n",
            "                                24)                               'block2a_project_bn[0][0]']     \n",
            "                                                                                                  \n",
            " block3a_expand_conv (Conv2D)   (None, None, None,   3456        ['block2b_add[0][0]']            \n",
            "                                144)                                                              \n",
            "                                                                                                  \n",
            " block3a_expand_bn (BatchNormal  (None, None, None,   576        ['block3a_expand_conv[0][0]']    \n",
            " ization)                       144)                                                              \n",
            "                                                                                                  \n",
            " block3a_expand_activation (Act  (None, None, None,   0          ['block3a_expand_bn[0][0]']      \n",
            " ivation)                       144)                                                              \n",
            "                                                                                                  \n",
            " block3a_dwconv_pad (ZeroPaddin  (None, None, None,   0          ['block3a_expand_activation[0][0]\n",
            " g2D)                           144)                             ']                               \n",
            "                                                                                                  \n",
            " block3a_dwconv (DepthwiseConv2  (None, None, None,   3600       ['block3a_dwconv_pad[0][0]']     \n",
            " D)                             144)                                                              \n",
            "                                                                                                  \n",
            " block3a_bn (BatchNormalization  (None, None, None,   576        ['block3a_dwconv[0][0]']         \n",
            " )                              144)                                                              \n",
            "                                                                                                  \n",
            " block3a_activation (Activation  (None, None, None,   0          ['block3a_bn[0][0]']             \n",
            " )                              144)                                                              \n",
            "                                                                                                  \n",
            " block3a_se_squeeze (GlobalAver  (None, 144)         0           ['block3a_activation[0][0]']     \n",
            " agePooling2D)                                                                                    \n",
            "                                                                                                  \n",
            " block3a_se_reshape (Reshape)   (None, 1, 1, 144)    0           ['block3a_se_squeeze[0][0]']     \n",
            "                                                                                                  \n",
            " block3a_se_reduce (Conv2D)     (None, 1, 1, 6)      870         ['block3a_se_reshape[0][0]']     \n",
            "                                                                                                  \n",
            " block3a_se_expand (Conv2D)     (None, 1, 1, 144)    1008        ['block3a_se_reduce[0][0]']      \n",
            "                                                                                                  \n",
            " block3a_se_excite (Multiply)   (None, None, None,   0           ['block3a_activation[0][0]',     \n",
            "                                144)                              'block3a_se_expand[0][0]']      \n",
            "                                                                                                  \n",
            " block3a_project_conv (Conv2D)  (None, None, None,   5760        ['block3a_se_excite[0][0]']      \n",
            "                                40)                                                               \n",
            "                                                                                                  \n",
            " block3a_project_bn (BatchNorma  (None, None, None,   160        ['block3a_project_conv[0][0]']   \n",
            " lization)                      40)                                                               \n",
            "                                                                                                  \n",
            " block3b_expand_conv (Conv2D)   (None, None, None,   9600        ['block3a_project_bn[0][0]']     \n",
            "                                240)                                                              \n",
            "                                                                                                  \n",
            " block3b_expand_bn (BatchNormal  (None, None, None,   960        ['block3b_expand_conv[0][0]']    \n",
            " ization)                       240)                                                              \n",
            "                                                                                                  \n",
            " block3b_expand_activation (Act  (None, None, None,   0          ['block3b_expand_bn[0][0]']      \n",
            " ivation)                       240)                                                              \n",
            "                                                                                                  \n",
            " block3b_dwconv (DepthwiseConv2  (None, None, None,   6000       ['block3b_expand_activation[0][0]\n",
            " D)                             240)                             ']                               \n",
            "                                                                                                  \n",
            " block3b_bn (BatchNormalization  (None, None, None,   960        ['block3b_dwconv[0][0]']         \n",
            " )                              240)                                                              \n",
            "                                                                                                  \n",
            " block3b_activation (Activation  (None, None, None,   0          ['block3b_bn[0][0]']             \n",
            " )                              240)                                                              \n",
            "                                                                                                  \n",
            " block3b_se_squeeze (GlobalAver  (None, 240)         0           ['block3b_activation[0][0]']     \n",
            " agePooling2D)                                                                                    \n",
            "                                                                                                  \n",
            " block3b_se_reshape (Reshape)   (None, 1, 1, 240)    0           ['block3b_se_squeeze[0][0]']     \n",
            "                                                                                                  \n",
            " block3b_se_reduce (Conv2D)     (None, 1, 1, 10)     2410        ['block3b_se_reshape[0][0]']     \n",
            "                                                                                                  \n",
            " block3b_se_expand (Conv2D)     (None, 1, 1, 240)    2640        ['block3b_se_reduce[0][0]']      \n",
            "                                                                                                  \n",
            " block3b_se_excite (Multiply)   (None, None, None,   0           ['block3b_activation[0][0]',     \n",
            "                                240)                              'block3b_se_expand[0][0]']      \n",
            "                                                                                                  \n",
            " block3b_project_conv (Conv2D)  (None, None, None,   9600        ['block3b_se_excite[0][0]']      \n",
            "                                40)                                                               \n",
            "                                                                                                  \n",
            " block3b_project_bn (BatchNorma  (None, None, None,   160        ['block3b_project_conv[0][0]']   \n",
            " lization)                      40)                                                               \n",
            "                                                                                                  \n",
            " block3b_drop (Dropout)         (None, None, None,   0           ['block3b_project_bn[0][0]']     \n",
            "                                40)                                                               \n",
            "                                                                                                  \n",
            " block3b_add (Add)              (None, None, None,   0           ['block3b_drop[0][0]',           \n",
            "                                40)                               'block3a_project_bn[0][0]']     \n",
            "                                                                                                  \n",
            " block4a_expand_conv (Conv2D)   (None, None, None,   9600        ['block3b_add[0][0]']            \n",
            "                                240)                                                              \n",
            "                                                                                                  \n",
            " block4a_expand_bn (BatchNormal  (None, None, None,   960        ['block4a_expand_conv[0][0]']    \n",
            " ization)                       240)                                                              \n",
            "                                                                                                  \n",
            " block4a_expand_activation (Act  (None, None, None,   0          ['block4a_expand_bn[0][0]']      \n",
            " ivation)                       240)                                                              \n",
            "                                                                                                  \n",
            " block4a_dwconv_pad (ZeroPaddin  (None, None, None,   0          ['block4a_expand_activation[0][0]\n",
            " g2D)                           240)                             ']                               \n",
            "                                                                                                  \n",
            " block4a_dwconv (DepthwiseConv2  (None, None, None,   2160       ['block4a_dwconv_pad[0][0]']     \n",
            " D)                             240)                                                              \n",
            "                                                                                                  \n",
            " block4a_bn (BatchNormalization  (None, None, None,   960        ['block4a_dwconv[0][0]']         \n",
            " )                              240)                                                              \n",
            "                                                                                                  \n",
            " block4a_activation (Activation  (None, None, None,   0          ['block4a_bn[0][0]']             \n",
            " )                              240)                                                              \n",
            "                                                                                                  \n",
            " block4a_se_squeeze (GlobalAver  (None, 240)         0           ['block4a_activation[0][0]']     \n",
            " agePooling2D)                                                                                    \n",
            "                                                                                                  \n",
            " block4a_se_reshape (Reshape)   (None, 1, 1, 240)    0           ['block4a_se_squeeze[0][0]']     \n",
            "                                                                                                  \n",
            " block4a_se_reduce (Conv2D)     (None, 1, 1, 10)     2410        ['block4a_se_reshape[0][0]']     \n",
            "                                                                                                  \n",
            " block4a_se_expand (Conv2D)     (None, 1, 1, 240)    2640        ['block4a_se_reduce[0][0]']      \n",
            "                                                                                                  \n",
            " block4a_se_excite (Multiply)   (None, None, None,   0           ['block4a_activation[0][0]',     \n",
            "                                240)                              'block4a_se_expand[0][0]']      \n",
            "                                                                                                  \n",
            " block4a_project_conv (Conv2D)  (None, None, None,   19200       ['block4a_se_excite[0][0]']      \n",
            "                                80)                                                               \n",
            "                                                                                                  \n",
            " block4a_project_bn (BatchNorma  (None, None, None,   320        ['block4a_project_conv[0][0]']   \n",
            " lization)                      80)                                                               \n",
            "                                                                                                  \n",
            " block4b_expand_conv (Conv2D)   (None, None, None,   38400       ['block4a_project_bn[0][0]']     \n",
            "                                480)                                                              \n",
            "                                                                                                  \n",
            " block4b_expand_bn (BatchNormal  (None, None, None,   1920       ['block4b_expand_conv[0][0]']    \n",
            " ization)                       480)                                                              \n",
            "                                                                                                  \n",
            " block4b_expand_activation (Act  (None, None, None,   0          ['block4b_expand_bn[0][0]']      \n",
            " ivation)                       480)                                                              \n",
            "                                                                                                  \n",
            " block4b_dwconv (DepthwiseConv2  (None, None, None,   4320       ['block4b_expand_activation[0][0]\n",
            " D)                             480)                             ']                               \n",
            "                                                                                                  \n",
            " block4b_bn (BatchNormalization  (None, None, None,   1920       ['block4b_dwconv[0][0]']         \n",
            " )                              480)                                                              \n",
            "                                                                                                  \n",
            " block4b_activation (Activation  (None, None, None,   0          ['block4b_bn[0][0]']             \n",
            " )                              480)                                                              \n",
            "                                                                                                  \n",
            " block4b_se_squeeze (GlobalAver  (None, 480)         0           ['block4b_activation[0][0]']     \n",
            " agePooling2D)                                                                                    \n",
            "                                                                                                  \n",
            " block4b_se_reshape (Reshape)   (None, 1, 1, 480)    0           ['block4b_se_squeeze[0][0]']     \n",
            "                                                                                                  \n",
            " block4b_se_reduce (Conv2D)     (None, 1, 1, 20)     9620        ['block4b_se_reshape[0][0]']     \n",
            "                                                                                                  \n",
            " block4b_se_expand (Conv2D)     (None, 1, 1, 480)    10080       ['block4b_se_reduce[0][0]']      \n",
            "                                                                                                  \n",
            " block4b_se_excite (Multiply)   (None, None, None,   0           ['block4b_activation[0][0]',     \n",
            "                                480)                              'block4b_se_expand[0][0]']      \n",
            "                                                                                                  \n",
            " block4b_project_conv (Conv2D)  (None, None, None,   38400       ['block4b_se_excite[0][0]']      \n",
            "                                80)                                                               \n",
            "                                                                                                  \n",
            " block4b_project_bn (BatchNorma  (None, None, None,   320        ['block4b_project_conv[0][0]']   \n",
            " lization)                      80)                                                               \n",
            "                                                                                                  \n",
            " block4b_drop (Dropout)         (None, None, None,   0           ['block4b_project_bn[0][0]']     \n",
            "                                80)                                                               \n",
            "                                                                                                  \n",
            " block4b_add (Add)              (None, None, None,   0           ['block4b_drop[0][0]',           \n",
            "                                80)                               'block4a_project_bn[0][0]']     \n",
            "                                                                                                  \n",
            " block4c_expand_conv (Conv2D)   (None, None, None,   38400       ['block4b_add[0][0]']            \n",
            "                                480)                                                              \n",
            "                                                                                                  \n",
            " block4c_expand_bn (BatchNormal  (None, None, None,   1920       ['block4c_expand_conv[0][0]']    \n",
            " ization)                       480)                                                              \n",
            "                                                                                                  \n",
            " block4c_expand_activation (Act  (None, None, None,   0          ['block4c_expand_bn[0][0]']      \n",
            " ivation)                       480)                                                              \n",
            "                                                                                                  \n",
            " block4c_dwconv (DepthwiseConv2  (None, None, None,   4320       ['block4c_expand_activation[0][0]\n",
            " D)                             480)                             ']                               \n",
            "                                                                                                  \n",
            " block4c_bn (BatchNormalization  (None, None, None,   1920       ['block4c_dwconv[0][0]']         \n",
            " )                              480)                                                              \n",
            "                                                                                                  \n",
            " block4c_activation (Activation  (None, None, None,   0          ['block4c_bn[0][0]']             \n",
            " )                              480)                                                              \n",
            "                                                                                                  \n",
            " block4c_se_squeeze (GlobalAver  (None, 480)         0           ['block4c_activation[0][0]']     \n",
            " agePooling2D)                                                                                    \n",
            "                                                                                                  \n",
            " block4c_se_reshape (Reshape)   (None, 1, 1, 480)    0           ['block4c_se_squeeze[0][0]']     \n",
            "                                                                                                  \n",
            " block4c_se_reduce (Conv2D)     (None, 1, 1, 20)     9620        ['block4c_se_reshape[0][0]']     \n",
            "                                                                                                  \n",
            " block4c_se_expand (Conv2D)     (None, 1, 1, 480)    10080       ['block4c_se_reduce[0][0]']      \n",
            "                                                                                                  \n",
            " block4c_se_excite (Multiply)   (None, None, None,   0           ['block4c_activation[0][0]',     \n",
            "                                480)                              'block4c_se_expand[0][0]']      \n",
            "                                                                                                  \n",
            " block4c_project_conv (Conv2D)  (None, None, None,   38400       ['block4c_se_excite[0][0]']      \n",
            "                                80)                                                               \n",
            "                                                                                                  \n",
            " block4c_project_bn (BatchNorma  (None, None, None,   320        ['block4c_project_conv[0][0]']   \n",
            " lization)                      80)                                                               \n",
            "                                                                                                  \n",
            " block4c_drop (Dropout)         (None, None, None,   0           ['block4c_project_bn[0][0]']     \n",
            "                                80)                                                               \n",
            "                                                                                                  \n",
            " block4c_add (Add)              (None, None, None,   0           ['block4c_drop[0][0]',           \n",
            "                                80)                               'block4b_add[0][0]']            \n",
            "                                                                                                  \n",
            " block5a_expand_conv (Conv2D)   (None, None, None,   38400       ['block4c_add[0][0]']            \n",
            "                                480)                                                              \n",
            "                                                                                                  \n",
            " block5a_expand_bn (BatchNormal  (None, None, None,   1920       ['block5a_expand_conv[0][0]']    \n",
            " ization)                       480)                                                              \n",
            "                                                                                                  \n",
            " block5a_expand_activation (Act  (None, None, None,   0          ['block5a_expand_bn[0][0]']      \n",
            " ivation)                       480)                                                              \n",
            "                                                                                                  \n",
            " block5a_dwconv (DepthwiseConv2  (None, None, None,   12000      ['block5a_expand_activation[0][0]\n",
            " D)                             480)                             ']                               \n",
            "                                                                                                  \n",
            " block5a_bn (BatchNormalization  (None, None, None,   1920       ['block5a_dwconv[0][0]']         \n",
            " )                              480)                                                              \n",
            "                                                                                                  \n",
            " block5a_activation (Activation  (None, None, None,   0          ['block5a_bn[0][0]']             \n",
            " )                              480)                                                              \n",
            "                                                                                                  \n",
            " block5a_se_squeeze (GlobalAver  (None, 480)         0           ['block5a_activation[0][0]']     \n",
            " agePooling2D)                                                                                    \n",
            "                                                                                                  \n",
            " block5a_se_reshape (Reshape)   (None, 1, 1, 480)    0           ['block5a_se_squeeze[0][0]']     \n",
            "                                                                                                  \n",
            " block5a_se_reduce (Conv2D)     (None, 1, 1, 20)     9620        ['block5a_se_reshape[0][0]']     \n",
            "                                                                                                  \n",
            " block5a_se_expand (Conv2D)     (None, 1, 1, 480)    10080       ['block5a_se_reduce[0][0]']      \n",
            "                                                                                                  \n",
            " block5a_se_excite (Multiply)   (None, None, None,   0           ['block5a_activation[0][0]',     \n",
            "                                480)                              'block5a_se_expand[0][0]']      \n",
            "                                                                                                  \n",
            " block5a_project_conv (Conv2D)  (None, None, None,   53760       ['block5a_se_excite[0][0]']      \n",
            "                                112)                                                              \n",
            "                                                                                                  \n",
            " block5a_project_bn (BatchNorma  (None, None, None,   448        ['block5a_project_conv[0][0]']   \n",
            " lization)                      112)                                                              \n",
            "                                                                                                  \n",
            " block5b_expand_conv (Conv2D)   (None, None, None,   75264       ['block5a_project_bn[0][0]']     \n",
            "                                672)                                                              \n",
            "                                                                                                  \n",
            " block5b_expand_bn (BatchNormal  (None, None, None,   2688       ['block5b_expand_conv[0][0]']    \n",
            " ization)                       672)                                                              \n",
            "                                                                                                  \n",
            " block5b_expand_activation (Act  (None, None, None,   0          ['block5b_expand_bn[0][0]']      \n",
            " ivation)                       672)                                                              \n",
            "                                                                                                  \n",
            " block5b_dwconv (DepthwiseConv2  (None, None, None,   16800      ['block5b_expand_activation[0][0]\n",
            " D)                             672)                             ']                               \n",
            "                                                                                                  \n",
            " block5b_bn (BatchNormalization  (None, None, None,   2688       ['block5b_dwconv[0][0]']         \n",
            " )                              672)                                                              \n",
            "                                                                                                  \n",
            " block5b_activation (Activation  (None, None, None,   0          ['block5b_bn[0][0]']             \n",
            " )                              672)                                                              \n",
            "                                                                                                  \n",
            " block5b_se_squeeze (GlobalAver  (None, 672)         0           ['block5b_activation[0][0]']     \n",
            " agePooling2D)                                                                                    \n",
            "                                                                                                  \n",
            " block5b_se_reshape (Reshape)   (None, 1, 1, 672)    0           ['block5b_se_squeeze[0][0]']     \n",
            "                                                                                                  \n",
            " block5b_se_reduce (Conv2D)     (None, 1, 1, 28)     18844       ['block5b_se_reshape[0][0]']     \n",
            "                                                                                                  \n",
            " block5b_se_expand (Conv2D)     (None, 1, 1, 672)    19488       ['block5b_se_reduce[0][0]']      \n",
            "                                                                                                  \n",
            " block5b_se_excite (Multiply)   (None, None, None,   0           ['block5b_activation[0][0]',     \n",
            "                                672)                              'block5b_se_expand[0][0]']      \n",
            "                                                                                                  \n",
            " block5b_project_conv (Conv2D)  (None, None, None,   75264       ['block5b_se_excite[0][0]']      \n",
            "                                112)                                                              \n",
            "                                                                                                  \n",
            " block5b_project_bn (BatchNorma  (None, None, None,   448        ['block5b_project_conv[0][0]']   \n",
            " lization)                      112)                                                              \n",
            "                                                                                                  \n",
            " block5b_drop (Dropout)         (None, None, None,   0           ['block5b_project_bn[0][0]']     \n",
            "                                112)                                                              \n",
            "                                                                                                  \n",
            " block5b_add (Add)              (None, None, None,   0           ['block5b_drop[0][0]',           \n",
            "                                112)                              'block5a_project_bn[0][0]']     \n",
            "                                                                                                  \n",
            " block5c_expand_conv (Conv2D)   (None, None, None,   75264       ['block5b_add[0][0]']            \n",
            "                                672)                                                              \n",
            "                                                                                                  \n",
            " block5c_expand_bn (BatchNormal  (None, None, None,   2688       ['block5c_expand_conv[0][0]']    \n",
            " ization)                       672)                                                              \n",
            "                                                                                                  \n",
            " block5c_expand_activation (Act  (None, None, None,   0          ['block5c_expand_bn[0][0]']      \n",
            " ivation)                       672)                                                              \n",
            "                                                                                                  \n",
            " block5c_dwconv (DepthwiseConv2  (None, None, None,   16800      ['block5c_expand_activation[0][0]\n",
            " D)                             672)                             ']                               \n",
            "                                                                                                  \n",
            " block5c_bn (BatchNormalization  (None, None, None,   2688       ['block5c_dwconv[0][0]']         \n",
            " )                              672)                                                              \n",
            "                                                                                                  \n",
            " block5c_activation (Activation  (None, None, None,   0          ['block5c_bn[0][0]']             \n",
            " )                              672)                                                              \n",
            "                                                                                                  \n",
            " block5c_se_squeeze (GlobalAver  (None, 672)         0           ['block5c_activation[0][0]']     \n",
            " agePooling2D)                                                                                    \n",
            "                                                                                                  \n",
            " block5c_se_reshape (Reshape)   (None, 1, 1, 672)    0           ['block5c_se_squeeze[0][0]']     \n",
            "                                                                                                  \n",
            " block5c_se_reduce (Conv2D)     (None, 1, 1, 28)     18844       ['block5c_se_reshape[0][0]']     \n",
            "                                                                                                  \n",
            " block5c_se_expand (Conv2D)     (None, 1, 1, 672)    19488       ['block5c_se_reduce[0][0]']      \n",
            "                                                                                                  \n",
            " block5c_se_excite (Multiply)   (None, None, None,   0           ['block5c_activation[0][0]',     \n",
            "                                672)                              'block5c_se_expand[0][0]']      \n",
            "                                                                                                  \n",
            " block5c_project_conv (Conv2D)  (None, None, None,   75264       ['block5c_se_excite[0][0]']      \n",
            "                                112)                                                              \n",
            "                                                                                                  \n",
            " block5c_project_bn (BatchNorma  (None, None, None,   448        ['block5c_project_conv[0][0]']   \n",
            " lization)                      112)                                                              \n",
            "                                                                                                  \n",
            " block5c_drop (Dropout)         (None, None, None,   0           ['block5c_project_bn[0][0]']     \n",
            "                                112)                                                              \n",
            "                                                                                                  \n",
            " block5c_add (Add)              (None, None, None,   0           ['block5c_drop[0][0]',           \n",
            "                                112)                              'block5b_add[0][0]']            \n",
            "                                                                                                  \n",
            " block6a_expand_conv (Conv2D)   (None, None, None,   75264       ['block5c_add[0][0]']            \n",
            "                                672)                                                              \n",
            "                                                                                                  \n",
            " block6a_expand_bn (BatchNormal  (None, None, None,   2688       ['block6a_expand_conv[0][0]']    \n",
            " ization)                       672)                                                              \n",
            "                                                                                                  \n",
            " block6a_expand_activation (Act  (None, None, None,   0          ['block6a_expand_bn[0][0]']      \n",
            " ivation)                       672)                                                              \n",
            "                                                                                                  \n",
            " block6a_dwconv_pad (ZeroPaddin  (None, None, None,   0          ['block6a_expand_activation[0][0]\n",
            " g2D)                           672)                             ']                               \n",
            "                                                                                                  \n",
            " block6a_dwconv (DepthwiseConv2  (None, None, None,   16800      ['block6a_dwconv_pad[0][0]']     \n",
            " D)                             672)                                                              \n",
            "                                                                                                  \n",
            " block6a_bn (BatchNormalization  (None, None, None,   2688       ['block6a_dwconv[0][0]']         \n",
            " )                              672)                                                              \n",
            "                                                                                                  \n",
            " block6a_activation (Activation  (None, None, None,   0          ['block6a_bn[0][0]']             \n",
            " )                              672)                                                              \n",
            "                                                                                                  \n",
            " block6a_se_squeeze (GlobalAver  (None, 672)         0           ['block6a_activation[0][0]']     \n",
            " agePooling2D)                                                                                    \n",
            "                                                                                                  \n",
            " block6a_se_reshape (Reshape)   (None, 1, 1, 672)    0           ['block6a_se_squeeze[0][0]']     \n",
            "                                                                                                  \n",
            " block6a_se_reduce (Conv2D)     (None, 1, 1, 28)     18844       ['block6a_se_reshape[0][0]']     \n",
            "                                                                                                  \n",
            " block6a_se_expand (Conv2D)     (None, 1, 1, 672)    19488       ['block6a_se_reduce[0][0]']      \n",
            "                                                                                                  \n",
            " block6a_se_excite (Multiply)   (None, None, None,   0           ['block6a_activation[0][0]',     \n",
            "                                672)                              'block6a_se_expand[0][0]']      \n",
            "                                                                                                  \n",
            " block6a_project_conv (Conv2D)  (None, None, None,   129024      ['block6a_se_excite[0][0]']      \n",
            "                                192)                                                              \n",
            "                                                                                                  \n",
            " block6a_project_bn (BatchNorma  (None, None, None,   768        ['block6a_project_conv[0][0]']   \n",
            " lization)                      192)                                                              \n",
            "                                                                                                  \n",
            " block6b_expand_conv (Conv2D)   (None, None, None,   221184      ['block6a_project_bn[0][0]']     \n",
            "                                1152)                                                             \n",
            "                                                                                                  \n",
            " block6b_expand_bn (BatchNormal  (None, None, None,   4608       ['block6b_expand_conv[0][0]']    \n",
            " ization)                       1152)                                                             \n",
            "                                                                                                  \n",
            " block6b_expand_activation (Act  (None, None, None,   0          ['block6b_expand_bn[0][0]']      \n",
            " ivation)                       1152)                                                             \n",
            "                                                                                                  \n",
            " block6b_dwconv (DepthwiseConv2  (None, None, None,   28800      ['block6b_expand_activation[0][0]\n",
            " D)                             1152)                            ']                               \n",
            "                                                                                                  \n",
            " block6b_bn (BatchNormalization  (None, None, None,   4608       ['block6b_dwconv[0][0]']         \n",
            " )                              1152)                                                             \n",
            "                                                                                                  \n",
            " block6b_activation (Activation  (None, None, None,   0          ['block6b_bn[0][0]']             \n",
            " )                              1152)                                                             \n",
            "                                                                                                  \n",
            " block6b_se_squeeze (GlobalAver  (None, 1152)        0           ['block6b_activation[0][0]']     \n",
            " agePooling2D)                                                                                    \n",
            "                                                                                                  \n",
            " block6b_se_reshape (Reshape)   (None, 1, 1, 1152)   0           ['block6b_se_squeeze[0][0]']     \n",
            "                                                                                                  \n",
            " block6b_se_reduce (Conv2D)     (None, 1, 1, 48)     55344       ['block6b_se_reshape[0][0]']     \n",
            "                                                                                                  \n",
            " block6b_se_expand (Conv2D)     (None, 1, 1, 1152)   56448       ['block6b_se_reduce[0][0]']      \n",
            "                                                                                                  \n",
            " block6b_se_excite (Multiply)   (None, None, None,   0           ['block6b_activation[0][0]',     \n",
            "                                1152)                             'block6b_se_expand[0][0]']      \n",
            "                                                                                                  \n",
            " block6b_project_conv (Conv2D)  (None, None, None,   221184      ['block6b_se_excite[0][0]']      \n",
            "                                192)                                                              \n",
            "                                                                                                  \n",
            " block6b_project_bn (BatchNorma  (None, None, None,   768        ['block6b_project_conv[0][0]']   \n",
            " lization)                      192)                                                              \n",
            "                                                                                                  \n",
            " block6b_drop (Dropout)         (None, None, None,   0           ['block6b_project_bn[0][0]']     \n",
            "                                192)                                                              \n",
            "                                                                                                  \n",
            " block6b_add (Add)              (None, None, None,   0           ['block6b_drop[0][0]',           \n",
            "                                192)                              'block6a_project_bn[0][0]']     \n",
            "                                                                                                  \n",
            " block6c_expand_conv (Conv2D)   (None, None, None,   221184      ['block6b_add[0][0]']            \n",
            "                                1152)                                                             \n",
            "                                                                                                  \n",
            " block6c_expand_bn (BatchNormal  (None, None, None,   4608       ['block6c_expand_conv[0][0]']    \n",
            " ization)                       1152)                                                             \n",
            "                                                                                                  \n",
            " block6c_expand_activation (Act  (None, None, None,   0          ['block6c_expand_bn[0][0]']      \n",
            " ivation)                       1152)                                                             \n",
            "                                                                                                  \n",
            " block6c_dwconv (DepthwiseConv2  (None, None, None,   28800      ['block6c_expand_activation[0][0]\n",
            " D)                             1152)                            ']                               \n",
            "                                                                                                  \n",
            " block6c_bn (BatchNormalization  (None, None, None,   4608       ['block6c_dwconv[0][0]']         \n",
            " )                              1152)                                                             \n",
            "                                                                                                  \n",
            " block6c_activation (Activation  (None, None, None,   0          ['block6c_bn[0][0]']             \n",
            " )                              1152)                                                             \n",
            "                                                                                                  \n",
            " block6c_se_squeeze (GlobalAver  (None, 1152)        0           ['block6c_activation[0][0]']     \n",
            " agePooling2D)                                                                                    \n",
            "                                                                                                  \n",
            " block6c_se_reshape (Reshape)   (None, 1, 1, 1152)   0           ['block6c_se_squeeze[0][0]']     \n",
            "                                                                                                  \n",
            " block6c_se_reduce (Conv2D)     (None, 1, 1, 48)     55344       ['block6c_se_reshape[0][0]']     \n",
            "                                                                                                  \n",
            " block6c_se_expand (Conv2D)     (None, 1, 1, 1152)   56448       ['block6c_se_reduce[0][0]']      \n",
            "                                                                                                  \n",
            " block6c_se_excite (Multiply)   (None, None, None,   0           ['block6c_activation[0][0]',     \n",
            "                                1152)                             'block6c_se_expand[0][0]']      \n",
            "                                                                                                  \n",
            " block6c_project_conv (Conv2D)  (None, None, None,   221184      ['block6c_se_excite[0][0]']      \n",
            "                                192)                                                              \n",
            "                                                                                                  \n",
            " block6c_project_bn (BatchNorma  (None, None, None,   768        ['block6c_project_conv[0][0]']   \n",
            " lization)                      192)                                                              \n",
            "                                                                                                  \n",
            " block6c_drop (Dropout)         (None, None, None,   0           ['block6c_project_bn[0][0]']     \n",
            "                                192)                                                              \n",
            "                                                                                                  \n",
            " block6c_add (Add)              (None, None, None,   0           ['block6c_drop[0][0]',           \n",
            "                                192)                              'block6b_add[0][0]']            \n",
            "                                                                                                  \n",
            " block6d_expand_conv (Conv2D)   (None, None, None,   221184      ['block6c_add[0][0]']            \n",
            "                                1152)                                                             \n",
            "                                                                                                  \n",
            " block6d_expand_bn (BatchNormal  (None, None, None,   4608       ['block6d_expand_conv[0][0]']    \n",
            " ization)                       1152)                                                             \n",
            "                                                                                                  \n",
            " block6d_expand_activation (Act  (None, None, None,   0          ['block6d_expand_bn[0][0]']      \n",
            " ivation)                       1152)                                                             \n",
            "                                                                                                  \n",
            " block6d_dwconv (DepthwiseConv2  (None, None, None,   28800      ['block6d_expand_activation[0][0]\n",
            " D)                             1152)                            ']                               \n",
            "                                                                                                  \n",
            " block6d_bn (BatchNormalization  (None, None, None,   4608       ['block6d_dwconv[0][0]']         \n",
            " )                              1152)                                                             \n",
            "                                                                                                  \n",
            " block6d_activation (Activation  (None, None, None,   0          ['block6d_bn[0][0]']             \n",
            " )                              1152)                                                             \n",
            "                                                                                                  \n",
            " block6d_se_squeeze (GlobalAver  (None, 1152)        0           ['block6d_activation[0][0]']     \n",
            " agePooling2D)                                                                                    \n",
            "                                                                                                  \n",
            " block6d_se_reshape (Reshape)   (None, 1, 1, 1152)   0           ['block6d_se_squeeze[0][0]']     \n",
            "                                                                                                  \n",
            " block6d_se_reduce (Conv2D)     (None, 1, 1, 48)     55344       ['block6d_se_reshape[0][0]']     \n",
            "                                                                                                  \n",
            " block6d_se_expand (Conv2D)     (None, 1, 1, 1152)   56448       ['block6d_se_reduce[0][0]']      \n",
            "                                                                                                  \n",
            " block6d_se_excite (Multiply)   (None, None, None,   0           ['block6d_activation[0][0]',     \n",
            "                                1152)                             'block6d_se_expand[0][0]']      \n",
            "                                                                                                  \n",
            " block6d_project_conv (Conv2D)  (None, None, None,   221184      ['block6d_se_excite[0][0]']      \n",
            "                                192)                                                              \n",
            "                                                                                                  \n",
            " block6d_project_bn (BatchNorma  (None, None, None,   768        ['block6d_project_conv[0][0]']   \n",
            " lization)                      192)                                                              \n",
            "                                                                                                  \n",
            " block6d_drop (Dropout)         (None, None, None,   0           ['block6d_project_bn[0][0]']     \n",
            "                                192)                                                              \n",
            "                                                                                                  \n",
            " block6d_add (Add)              (None, None, None,   0           ['block6d_drop[0][0]',           \n",
            "                                192)                              'block6c_add[0][0]']            \n",
            "                                                                                                  \n",
            " block7a_expand_conv (Conv2D)   (None, None, None,   221184      ['block6d_add[0][0]']            \n",
            "                                1152)                                                             \n",
            "                                                                                                  \n",
            " block7a_expand_bn (BatchNormal  (None, None, None,   4608       ['block7a_expand_conv[0][0]']    \n",
            " ization)                       1152)                                                             \n",
            "                                                                                                  \n",
            " block7a_expand_activation (Act  (None, None, None,   0          ['block7a_expand_bn[0][0]']      \n",
            " ivation)                       1152)                                                             \n",
            "                                                                                                  \n",
            " block7a_dwconv (DepthwiseConv2  (None, None, None,   10368      ['block7a_expand_activation[0][0]\n",
            " D)                             1152)                            ']                               \n",
            "                                                                                                  \n",
            " block7a_bn (BatchNormalization  (None, None, None,   4608       ['block7a_dwconv[0][0]']         \n",
            " )                              1152)                                                             \n",
            "                                                                                                  \n",
            " block7a_activation (Activation  (None, None, None,   0          ['block7a_bn[0][0]']             \n",
            " )                              1152)                                                             \n",
            "                                                                                                  \n",
            " block7a_se_squeeze (GlobalAver  (None, 1152)        0           ['block7a_activation[0][0]']     \n",
            " agePooling2D)                                                                                    \n",
            "                                                                                                  \n",
            " block7a_se_reshape (Reshape)   (None, 1, 1, 1152)   0           ['block7a_se_squeeze[0][0]']     \n",
            "                                                                                                  \n",
            " block7a_se_reduce (Conv2D)     (None, 1, 1, 48)     55344       ['block7a_se_reshape[0][0]']     \n",
            "                                                                                                  \n",
            " block7a_se_expand (Conv2D)     (None, 1, 1, 1152)   56448       ['block7a_se_reduce[0][0]']      \n",
            "                                                                                                  \n",
            " block7a_se_excite (Multiply)   (None, None, None,   0           ['block7a_activation[0][0]',     \n",
            "                                1152)                             'block7a_se_expand[0][0]']      \n",
            "                                                                                                  \n",
            " block7a_project_conv (Conv2D)  (None, None, None,   368640      ['block7a_se_excite[0][0]']      \n",
            "                                320)                                                              \n",
            "                                                                                                  \n",
            " block7a_project_bn (BatchNorma  (None, None, None,   1280       ['block7a_project_conv[0][0]']   \n",
            " lization)                      320)                                                              \n",
            "                                                                                                  \n",
            " top_conv (Conv2D)              (None, None, None,   409600      ['block7a_project_bn[0][0]']     \n",
            "                                1280)                                                             \n",
            "                                                                                                  \n",
            " top_bn (BatchNormalization)    (None, None, None,   5120        ['top_conv[0][0]']               \n",
            "                                1280)                                                             \n",
            "                                                                                                  \n",
            " top_activation (Activation)    (None, None, None,   0           ['top_bn[0][0]']                 \n",
            "                                1280)                                                             \n",
            "                                                                                                  \n",
            "==================================================================================================\n",
            "Total params: 4,049,571\n",
            "Trainable params: 0\n",
            "Non-trainable params: 4,049,571\n",
            "__________________________________________________________________________________________________\n"
          ]
        }
      ]
    },
    {
      "cell_type": "code",
      "source": [
        "# How about a summary of our whole model\n",
        "model_0.summary()"
      ],
      "metadata": {
        "id": "mWJuoIyVBexL",
        "outputId": "8e459143-663e-4391-e60a-2241e27fbaaa",
        "execution": {
          "iopub.status.busy": "2023-01-28T14:41:22.525374Z",
          "iopub.execute_input": "2023-01-28T14:41:22.526045Z",
          "iopub.status.idle": "2023-01-28T14:41:22.541868Z",
          "shell.execute_reply.started": "2023-01-28T14:41:22.525998Z",
          "shell.execute_reply": "2023-01-28T14:41:22.540834Z"
        },
        "trusted": true,
        "colab": {
          "base_uri": "https://localhost:8080/"
        }
      },
      "execution_count": 14,
      "outputs": [
        {
          "output_type": "stream",
          "name": "stdout",
          "text": [
            "Model: \"model\"\n",
            "_________________________________________________________________\n",
            " Layer (type)                Output Shape              Param #   \n",
            "=================================================================\n",
            " input_layer (InputLayer)    [(None, 224, 224, 3)]     0         \n",
            "                                                                 \n",
            " efficientnetb0 (Functional)  (None, None, None, 1280)  4049571  \n",
            "                                                                 \n",
            " global_average_pooling_laye  (None, 1280)             0         \n",
            " r (GlobalAveragePooling2D)                                      \n",
            "                                                                 \n",
            " output_layer (Dense)        (None, 10)                12810     \n",
            "                                                                 \n",
            "=================================================================\n",
            "Total params: 4,062,381\n",
            "Trainable params: 12,810\n",
            "Non-trainable params: 4,049,571\n",
            "_________________________________________________________________\n"
          ]
        }
      ]
    },
    {
      "cell_type": "code",
      "source": [
        "# Check out our model's training curves\n",
        "plot_loss_curves(history_model_0)"
      ],
      "metadata": {
        "id": "b8em_gCSBsh3",
        "outputId": "6375a0d2-f3cc-4989-af42-bf3e26d97abe",
        "execution": {
          "iopub.status.busy": "2023-01-28T14:41:22.543531Z",
          "iopub.execute_input": "2023-01-28T14:41:22.543904Z",
          "iopub.status.idle": "2023-01-28T14:41:23.018678Z",
          "shell.execute_reply.started": "2023-01-28T14:41:22.543870Z",
          "shell.execute_reply": "2023-01-28T14:41:23.017541Z"
        },
        "trusted": true,
        "colab": {
          "base_uri": "https://localhost:8080/",
          "height": 573
        }
      },
      "execution_count": 15,
      "outputs": [
        {
          "output_type": "display_data",
          "data": {
            "text/plain": [
              "<Figure size 432x288 with 1 Axes>"
            ],
            "image/png": "[encoded data removed]"
          },
          "metadata": {
            "needs_background": "light"
          }
        },
        {
          "output_type": "display_data",
          "data": {
            "text/plain": [
              "<Figure size 432x288 with 1 Axes>"
            ],
            "image/png": "[encoded data removed]"
          },
          "metadata": {
            "needs_background": "light"
          }
        }
      ]
    },
    {
      "cell_type": "markdown",
      "source": [
        "## Getting a feature vector from a trained model\n",
        "\n",
        "Let's demonstrate the Global Average Pooling 2D Layer...\n",
        "\n",
        "We have a tensor after our model goes through `base_model` of shape (None, 7, 7, 1280)\n",
        "\n",
        "But then when it passes through GlobalAveragePooling2D layer, it turns into (None, 1280)\n",
        "\n",
        "Let's use a similar shaped tensor of (1, 4, 4, 3)"
      ],
      "metadata": {
        "id": "TKiee36zCIFH"
      }
    },
    {
      "cell_type": "code",
      "source": [
        "# Define the input shape\n",
        "input_shape = (1, 4, 4, 3)\n",
        "\n",
        "# Create a random tensor\n",
        "tf.random.set_seed(42)\n",
        "input_tensor = tf.random.normal(input_shape)\n",
        "print(f\"Random input tensor:\\n {input_tensor}\\n\")\n",
        "\n",
        "# Pass the random tensor through a global average pooled 2D layer\n",
        "global_average_pooled_tensor = tf.keras.layers.GlobalAveragePooling2D()(input_tensor)\n",
        "print(f\"2D global average pooled random tensor:\\n {global_average_pooled_tensor}\\n\")\n",
        "\n",
        "# Check the shape of 2 different tensors\n",
        "print(f\"Shape of input tensor: {input_tensor.shape}\")\n",
        "print(f\"Shape of Global Average Pooled 2D tensor: {global_average_pooled_tensor.shape}\")"
      ],
      "metadata": {
        "id": "HtPTeAzPIK0T",
        "outputId": "4888d4b6-39e6-45c7-da31-8e767c465527",
        "execution": {
          "iopub.status.busy": "2023-01-28T14:41:23.020216Z",
          "iopub.execute_input": "2023-01-28T14:41:23.020513Z",
          "iopub.status.idle": "2023-01-28T14:41:23.058248Z",
          "shell.execute_reply.started": "2023-01-28T14:41:23.020486Z",
          "shell.execute_reply": "2023-01-28T14:41:23.056608Z"
        },
        "trusted": true,
        "colab": {
          "base_uri": "https://localhost:8080/"
        }
      },
      "execution_count": 16,
      "outputs": [
        {
          "output_type": "stream",
          "name": "stdout",
          "text": [
            "Random input tensor:\n",
            " [[[[ 0.3274685  -0.8426258   0.3194337 ]\n",
            "   [-1.4075519  -2.3880599  -1.0392479 ]\n",
            "   [-0.5573232   0.539707    1.6994323 ]\n",
            "   [ 0.28893656 -1.5066116  -0.2645474 ]]\n",
            "\n",
            "  [[-0.59722406 -1.9171132  -0.62044144]\n",
            "   [ 0.8504023  -0.40604794 -3.0258412 ]\n",
            "   [ 0.9058464   0.29855987 -0.22561555]\n",
            "   [-0.7616443  -1.8917141  -0.93847126]]\n",
            "\n",
            "  [[ 0.77852213 -0.47338897  0.97772694]\n",
            "   [ 0.24694404  0.20573747 -0.5256233 ]\n",
            "   [ 0.32410017  0.02545409 -0.10638497]\n",
            "   [-0.6369475   1.1603122   0.2507359 ]]\n",
            "\n",
            "  [[-0.41728503  0.4012578  -1.4145443 ]\n",
            "   [-0.5931857  -1.6617213   0.33567193]\n",
            "   [ 0.10815629  0.23479682 -0.56668764]\n",
            "   [-0.35819843  0.88698614  0.52744764]]]]\n",
            "\n",
            "2D global average pooled random tensor:\n",
            " [[-0.09368646 -0.45840448 -0.2885598 ]]\n",
            "\n",
            "Shape of input tensor: (1, 4, 4, 3)\n",
            "Shape of Global Average Pooled 2D tensor: (1, 3)\n"
          ]
        }
      ]
    },
    {
      "cell_type": "code",
      "source": [
        "# Let's replicate the GlobalAveragePool2D layer\n",
        "tf.reduce_mean(input_tensor, axis=[1, 2])"
      ],
      "metadata": {
        "id": "rp95FNiuOvjh",
        "outputId": "3b173e5f-012d-440d-a7a4-49360b264f71",
        "execution": {
          "iopub.status.busy": "2023-01-28T14:41:23.059710Z",
          "iopub.execute_input": "2023-01-28T14:41:23.060402Z",
          "iopub.status.idle": "2023-01-28T14:41:23.069942Z",
          "shell.execute_reply.started": "2023-01-28T14:41:23.060359Z",
          "shell.execute_reply": "2023-01-28T14:41:23.068767Z"
        },
        "trusted": true,
        "colab": {
          "base_uri": "https://localhost:8080/"
        }
      },
      "execution_count": 17,
      "outputs": [
        {
          "output_type": "execute_result",
          "data": {
            "text/plain": [
              "<tf.Tensor: shape=(1, 3), dtype=float32, numpy=array([[-0.09368646, -0.45840448, -0.2885598 ]], dtype=float32)>"
            ]
          },
          "metadata": {},
          "execution_count": 17
        }
      ]
    },
    {
      "cell_type": "markdown",
      "source": [
        "## Running a series of transfer learning experiments\n",
        "\n",
        "we'll go with 1% data instead of 10%\n",
        "\n",
        "1. `model_1` - use feature extraction transfer learning with 1% of training data with data augmentation\n",
        "2. `model_2` - use feature extraction with 10% of training with data augmentation\n",
        "3. `model_3` - use fine-tuning transfer learning on 10% of the training data with data augmentation\n",
        "4. `model_4` -  use fine-tuning transfer learning on 100% of the training data with data augmentation"
      ],
      "metadata": {
        "id": "cayc7ZC1O4fQ"
      }
    },
    {
      "cell_type": "markdown",
      "source": [
        "### Getting and preprocessing data for model_1"
      ],
      "metadata": {
        "id": "FLsxqJy0RyPW"
      }
    },
    {
      "cell_type": "code",
      "source": [
        "# Download and unzip data\n",
        "!wget https://storage.googleapis.com/ztm_tf_course/food_vision/10_food_classes_1_percent.zip\n",
        "# !wget https://storage.googleapis.com/ztm_tf_course/food_vision/10_food_classes_all_data.zip\n",
        "\n",
        "unzip_data(\"10_food_classes_1_percent.zip\")"
      ],
      "metadata": {
        "id": "A_R1uzKnP58V",
        "outputId": "cbee10e7-6de4-4825-cc56-6f38164f9188",
        "execution": {
          "iopub.status.busy": "2023-01-28T14:41:23.071603Z",
          "iopub.execute_input": "2023-01-28T14:41:23.072919Z",
          "iopub.status.idle": "2023-01-28T14:41:26.028760Z",
          "shell.execute_reply.started": "2023-01-28T14:41:23.072875Z",
          "shell.execute_reply": "2023-01-28T14:41:26.027604Z"
        },
        "trusted": true,
        "colab": {
          "base_uri": "https://localhost:8080/"
        }
      },
      "execution_count": 18,
      "outputs": [
        {
          "output_type": "stream",
          "name": "stdout",
          "text": [
            "--2023-01-28 15:47:52--  https://storage.googleapis.com/ztm_tf_course/food_vision/10_food_classes_1_percent.zip\n",
            "Resolving storage.googleapis.com (storage.googleapis.com)... 74.125.200.128, 74.125.68.128, 74.125.24.128, ...\n",
            "Connecting to storage.googleapis.com (storage.googleapis.com)|74.125.200.128|:443... connected.\n",
            "HTTP request sent, awaiting response... 200 OK\n",
            "Length: 133612354 (127M) [application/zip]\n",
            "Saving to: ‘10_food_classes_1_percent.zip’\n",
            "\n",
            "10_food_classes_1_p 100%[===================>] 127.42M  24.0MB/s    in 6.4s    \n",
            "\n",
            "2023-01-28 15:47:59 (19.9 MB/s) - ‘10_food_classes_1_percent.zip’ saved [133612354/133612354]\n",
            "\n"
          ]
        }
      ]
    },
    {
      "cell_type": "code",
      "source": [
        "# Create training and test dirs\n",
        "train_dir_1_percent = \"10_food_classes_1_percent/train/\"\n",
        "test_dir = \"10_food_classes_1_percent/test\"\n",
        "\n",
        "# How many images are we working with\n",
        "walk_through_dir(\"10_food_classes_1_percent\")"
      ],
      "metadata": {
        "id": "iCSKEI03RPHk",
        "outputId": "18ce4549-33ce-454d-ee74-7735bd1eb950",
        "execution": {
          "iopub.status.busy": "2023-01-28T14:41:26.030710Z",
          "iopub.execute_input": "2023-01-28T14:41:26.031128Z",
          "iopub.status.idle": "2023-01-28T14:41:26.044383Z",
          "shell.execute_reply.started": "2023-01-28T14:41:26.031087Z",
          "shell.execute_reply": "2023-01-28T14:41:26.042875Z"
        },
        "trusted": true,
        "colab": {
          "base_uri": "https://localhost:8080/"
        }
      },
      "execution_count": 19,
      "outputs": [
        {
          "output_type": "stream",
          "name": "stdout",
          "text": [
            "There are 2 directories and 0 images in '10_food_classes_1_percent'.\n",
            "There are 10 directories and 0 images in '10_food_classes_1_percent/train'.\n",
            "There are 0 directories and 7 images in '10_food_classes_1_percent/train/ice_cream'.\n",
            "There are 0 directories and 7 images in '10_food_classes_1_percent/train/fried_rice'.\n",
            "There are 0 directories and 7 images in '10_food_classes_1_percent/train/steak'.\n",
            "There are 0 directories and 7 images in '10_food_classes_1_percent/train/ramen'.\n",
            "There are 0 directories and 7 images in '10_food_classes_1_percent/train/pizza'.\n",
            "There are 0 directories and 7 images in '10_food_classes_1_percent/train/hamburger'.\n",
            "There are 0 directories and 7 images in '10_food_classes_1_percent/train/grilled_salmon'.\n",
            "There are 0 directories and 7 images in '10_food_classes_1_percent/train/chicken_wings'.\n",
            "There are 0 directories and 7 images in '10_food_classes_1_percent/train/chicken_curry'.\n",
            "There are 0 directories and 7 images in '10_food_classes_1_percent/train/sushi'.\n",
            "There are 10 directories and 0 images in '10_food_classes_1_percent/test'.\n",
            "There are 0 directories and 250 images in '10_food_classes_1_percent/test/ice_cream'.\n",
            "There are 0 directories and 250 images in '10_food_classes_1_percent/test/fried_rice'.\n",
            "There are 0 directories and 250 images in '10_food_classes_1_percent/test/steak'.\n",
            "There are 0 directories and 250 images in '10_food_classes_1_percent/test/ramen'.\n",
            "There are 0 directories and 250 images in '10_food_classes_1_percent/test/pizza'.\n",
            "There are 0 directories and 250 images in '10_food_classes_1_percent/test/hamburger'.\n",
            "There are 0 directories and 250 images in '10_food_classes_1_percent/test/grilled_salmon'.\n",
            "There are 0 directories and 250 images in '10_food_classes_1_percent/test/chicken_wings'.\n",
            "There are 0 directories and 250 images in '10_food_classes_1_percent/test/chicken_curry'.\n",
            "There are 0 directories and 250 images in '10_food_classes_1_percent/test/sushi'.\n"
          ]
        }
      ]
    },
    {
      "cell_type": "code",
      "source": [
        "# Setup data loaders\n",
        "IMG_SIZE = (224, 224)\n",
        "train_data_1_percent = tf.keras.preprocessing.image_dataset_from_directory(train_dir_1_percent,\n",
        "                                                                           label_mode=\"categorical\",\n",
        "                                                                           batch_size=32,\n",
        "                                                                           image_size=IMG_SIZE)\n",
        "\n",
        "test_data = tf.keras.preprocessing.image_dataset_from_directory(test_dir,\n",
        "                                                                label_mode=\"categorical\",\n",
        "                                                                image_size=IMG_SIZE,\n",
        "                                                                batch_size=32)"
      ],
      "metadata": {
        "id": "jjECmpuARjGz",
        "outputId": "4a37955b-435b-4e3c-a51d-8c5bba42d1fc",
        "execution": {
          "iopub.status.busy": "2023-01-28T14:41:26.045910Z",
          "iopub.execute_input": "2023-01-28T14:41:26.046464Z",
          "iopub.status.idle": "2023-01-28T14:41:26.414888Z",
          "shell.execute_reply.started": "2023-01-28T14:41:26.046426Z",
          "shell.execute_reply": "2023-01-28T14:41:26.413630Z"
        },
        "trusted": true,
        "colab": {
          "base_uri": "https://localhost:8080/"
        }
      },
      "execution_count": 20,
      "outputs": [
        {
          "output_type": "stream",
          "name": "stdout",
          "text": [
            "Found 70 files belonging to 10 classes.\n",
            "Found 2500 files belonging to 10 classes.\n"
          ]
        }
      ]
    },
    {
      "cell_type": "markdown",
      "source": [
        "## Adding data augmentation right into the model\n",
        "\n",
        "* `tf.keras.layers.experimental.preprocessing()`\n",
        "\n",
        "the benefits of using data augmentation inside the model are:\n",
        "* Preprocessing of images (augmenting them) happends on the GPU\n",
        "* Image data augmentation only happens during training, so we can still export our whole model an duse it elsewhere (bisa sekalian di save)"
      ],
      "metadata": {
        "id": "0tO0g6p6SQ8b"
      }
    },
    {
      "cell_type": "code",
      "source": [
        "import tensorflow as tf\n",
        "from tensorflow import keras\n",
        "from tensorflow.keras import layers\n",
        "from tensorflow.keras.layers.experimental import preprocessing\n",
        "\n",
        "# Create data augmentation stage with horizontal flipping, rotations, zooms, etc\n",
        "data_augmentation = keras.Sequential([\n",
        "    preprocessing.RandomFlip(\"horizontal\"),\n",
        "    preprocessing.RandomRotation(0.2),\n",
        "    preprocessing.RandomZoom(0.2),\n",
        "    preprocessing.RandomHeight(0.2),\n",
        "    preprocessing.RandomWidth(0.2),\n",
        "    # preprocessing.Rescale(1./255) \n",
        "], name=\"data_augmentation\")"
      ],
      "metadata": {
        "id": "9W-o0F5hSzNE",
        "execution": {
          "iopub.status.busy": "2023-01-28T14:41:26.416403Z",
          "iopub.execute_input": "2023-01-28T14:41:26.417068Z",
          "iopub.status.idle": "2023-01-28T14:41:26.442070Z",
          "shell.execute_reply.started": "2023-01-28T14:41:26.417006Z",
          "shell.execute_reply": "2023-01-28T14:41:26.441203Z"
        },
        "trusted": true
      },
      "execution_count": 21,
      "outputs": []
    },
    {
      "cell_type": "markdown",
      "source": [
        " ### Visualize our data augmentation layer (and see what happens to our data)"
      ],
      "metadata": {
        "id": "14JRQ3HVS0fC"
      }
    },
    {
      "cell_type": "code",
      "source": [
        "# View a random image and compare it to its augmented version\n",
        "import matplotlib.pyplot as plt\n",
        "import matplotlib.image as mpimg\n",
        "import os\n",
        "import random\n",
        "target_class = random.choice(train_data_1_percent.class_names)\n",
        "target_dir = \"10_food_classes_1_percent/train/\" + target_class\n",
        "random_image = random.choice(os.listdir(target_dir))\n",
        "random_image_path = target_dir + \"/\" + random_image\n",
        "\n",
        "# Read and plot in the random image\n",
        "img = mpimg.imread(random_image_path)\n",
        "plt.imshow(img)\n",
        "plt.title(f\"Original random image from class: {target_class}\")\n",
        "plt.axis(False);\n",
        "\n",
        "# Now let's plot our augmented random image\n",
        "augmented_img = data_augmentation(tf.expand_dims(img, axis=0), training=True)\n",
        "plt.figure()\n",
        "plt.imshow(tf.squeeze(augmented_img)/255.)\n",
        "plt.title(f\"Augmented random image from class: {target_class}\")\n",
        "plt.axis(False);"
      ],
      "metadata": {
        "id": "PtzA3Z_Y8wCM",
        "outputId": "e936de56-b3a7-4660-d877-306507851444",
        "execution": {
          "iopub.status.busy": "2023-01-28T14:41:26.443748Z",
          "iopub.execute_input": "2023-01-28T14:41:26.444145Z",
          "iopub.status.idle": "2023-01-28T14:41:27.127409Z",
          "shell.execute_reply.started": "2023-01-28T14:41:26.444109Z",
          "shell.execute_reply": "2023-01-28T14:41:27.126491Z"
        },
        "trusted": true,
        "colab": {
          "base_uri": "https://localhost:8080/",
          "height": 511
        }
      },
      "execution_count": 22,
      "outputs": [
        {
          "output_type": "display_data",
          "data": {
            "text/plain": [
              "<Figure size 432x288 with 1 Axes>"
            ],
            "image/png": "[encoded data removed]"
          },
          "metadata": {
            "needs_background": "light"
          }
        },
        {
          "output_type": "display_data",
          "data": {
            "text/plain": [
              "<Figure size 432x288 with 1 Axes>"
            ],
            "image/png": "[encoded data removed]"
          },
          "metadata": {
            "needs_background": "light"
          }
        }
      ]
    },
    {
      "cell_type": "markdown",
      "source": [
        "## Model 1: Feature extraction transfer learning on 1% of the data with data augmentation"
      ],
      "metadata": {
        "id": "J-uh9PiKBnea"
      }
    },
    {
      "cell_type": "code",
      "source": [
        "# Setup input shape and base model, freezing the base model layers\n",
        "input_shape = (224, 224, 3)\n",
        "base_model = tf.keras.applications.EfficientNetB0(include_top=False)\n",
        "base_model.trainable = False\n",
        "\n",
        "# Create input layer\n",
        "inputs = layers.Input(shape=input_shape, name=\"input_layer\")\n",
        "\n",
        "# Adding data augmentation Sequential model as a layer\n",
        "x = data_augmentation(inputs)\n",
        "\n",
        "# Give base_model the inputs (after augmentation) and don't train it\n",
        "x = base_model(x, training=False)\n",
        "\n",
        "# Pool output features of the base model\n",
        "x = layers.GlobalAveragePooling2D(name=\"global_average_pooling_layer\")(x)\n",
        "\n",
        "# Put a dense layer on as the output\n",
        "outputs = layers.Dense(10, activation=\"softmax\", name=\"output_layer\")(x)\n",
        "\n",
        "# Make a model using the inputs and outputs\n",
        "model_1 = keras.Model(inputs, outputs)\n",
        "\n",
        "# Compile the model\n",
        "model_1.compile(loss=\"categorical_crossentropy\",\n",
        "                optimizer=tf.keras.optimizers.Adam(),\n",
        "                metrics=[\"accuracy\"])\n",
        "\n",
        "# Fit the model\n",
        "history_1_percent = model_1.fit(train_data_1_percent,\n",
        "                                epochs=5,\n",
        "                                steps_per_epoch=len(train_data_1_percent),\n",
        "                                validation_data=test_data,\n",
        "                                validation_steps=int(.25 * len(test_data)),\n",
        "                                callbacks=[create_tensorboard_callback(dir_name=\"transfer_learning\",\n",
        "                                                                       experiment_name=\"1_percent_data_aug\")])"
      ],
      "metadata": {
        "id": "ncET7TtICChI",
        "outputId": "b1b21096-46b9-4e57-ab2a-bdd46c9d673b",
        "execution": {
          "iopub.status.busy": "2023-01-28T14:41:27.128917Z",
          "iopub.execute_input": "2023-01-28T14:41:27.129888Z",
          "iopub.status.idle": "2023-01-28T14:42:01.412953Z",
          "shell.execute_reply.started": "2023-01-28T14:41:27.129842Z",
          "shell.execute_reply": "2023-01-28T14:42:01.411877Z"
        },
        "trusted": true,
        "colab": {
          "base_uri": "https://localhost:8080/"
        }
      },
      "execution_count": 23,
      "outputs": [
        {
          "output_type": "stream",
          "name": "stdout",
          "text": [
            "Saving TensorBoard log files to: transfer_learning/1_percent_data_aug/20230128-154803\n",
            "Epoch 1/5\n",
            "3/3 [==============================] - 11s 2s/step - loss: 2.4402 - accuracy: 0.1143 - val_loss: 2.2168 - val_accuracy: 0.1990\n",
            "Epoch 2/5\n",
            "3/3 [==============================] - 4s 2s/step - loss: 2.1540 - accuracy: 0.3143 - val_loss: 2.0723 - val_accuracy: 0.2993\n",
            "Epoch 3/5\n",
            "3/3 [==============================] - 3s 1s/step - loss: 1.9726 - accuracy: 0.4000 - val_loss: 1.9515 - val_accuracy: 0.4095\n",
            "Epoch 4/5\n",
            "3/3 [==============================] - 3s 1s/step - loss: 1.7941 - accuracy: 0.5143 - val_loss: 1.8399 - val_accuracy: 0.4556\n",
            "Epoch 5/5\n",
            "3/3 [==============================] - 4s 2s/step - loss: 1.6393 - accuracy: 0.5857 - val_loss: 1.7584 - val_accuracy: 0.4868\n"
          ]
        }
      ]
    },
    {
      "cell_type": "code",
      "source": [
        "# Check out a model summary\n",
        "model_1.summary()"
      ],
      "metadata": {
        "id": "yRekc_EiEFUh",
        "outputId": "6d64ac06-16c7-4cc1-9afa-4c2055a07d27",
        "execution": {
          "iopub.status.busy": "2023-01-28T14:42:01.415170Z",
          "iopub.execute_input": "2023-01-28T14:42:01.415610Z",
          "iopub.status.idle": "2023-01-28T14:42:01.432959Z",
          "shell.execute_reply.started": "2023-01-28T14:42:01.415550Z",
          "shell.execute_reply": "2023-01-28T14:42:01.431830Z"
        },
        "trusted": true,
        "colab": {
          "base_uri": "https://localhost:8080/"
        }
      },
      "execution_count": 24,
      "outputs": [
        {
          "output_type": "stream",
          "name": "stdout",
          "text": [
            "Model: \"model_1\"\n",
            "_________________________________________________________________\n",
            " Layer (type)                Output Shape              Param #   \n",
            "=================================================================\n",
            " input_layer (InputLayer)    [(None, 224, 224, 3)]     0         \n",
            "                                                                 \n",
            " data_augmentation (Sequenti  (None, None, None, 3)    0         \n",
            " al)                                                             \n",
            "                                                                 \n",
            " efficientnetb0 (Functional)  (None, None, None, 1280)  4049571  \n",
            "                                                                 \n",
            " global_average_pooling_laye  (None, 1280)             0         \n",
            " r (GlobalAveragePooling2D)                                      \n",
            "                                                                 \n",
            " output_layer (Dense)        (None, 10)                12810     \n",
            "                                                                 \n",
            "=================================================================\n",
            "Total params: 4,062,381\n",
            "Trainable params: 12,810\n",
            "Non-trainable params: 4,049,571\n",
            "_________________________________________________________________\n"
          ]
        }
      ]
    },
    {
      "cell_type": "code",
      "source": [
        "# Evaluate on the fill test dataset\n",
        "results_1_percent_data_aug = model_1.evaluate(test_data)\n",
        "results_1_percent_data_aug"
      ],
      "metadata": {
        "id": "6mbNe5FdFCMa",
        "outputId": "a8da3857-06f1-4c8b-ade7-f151169a9e3a",
        "execution": {
          "iopub.status.busy": "2023-01-28T14:42:01.436691Z",
          "iopub.execute_input": "2023-01-28T14:42:01.437032Z",
          "iopub.status.idle": "2023-01-28T14:42:11.692929Z",
          "shell.execute_reply.started": "2023-01-28T14:42:01.437003Z",
          "shell.execute_reply": "2023-01-28T14:42:11.691730Z"
        },
        "trusted": true,
        "colab": {
          "base_uri": "https://localhost:8080/"
        }
      },
      "execution_count": 25,
      "outputs": [
        {
          "output_type": "stream",
          "name": "stdout",
          "text": [
            "79/79 [==============================] - 6s 75ms/step - loss: 1.7755 - accuracy: 0.4740\n"
          ]
        },
        {
          "output_type": "execute_result",
          "data": {
            "text/plain": [
              "[1.7755390405654907, 0.4740000069141388]"
            ]
          },
          "metadata": {},
          "execution_count": 25
        }
      ]
    },
    {
      "cell_type": "code",
      "source": [
        "plot_loss_curves(history_1_percent)"
      ],
      "metadata": {
        "id": "0TtYOtueFjLB",
        "outputId": "5eccb61b-579a-4f8d-8276-ca5b6deeaa46",
        "execution": {
          "iopub.status.busy": "2023-01-28T14:42:11.694481Z",
          "iopub.execute_input": "2023-01-28T14:42:11.695164Z",
          "iopub.status.idle": "2023-01-28T14:42:12.280759Z",
          "shell.execute_reply.started": "2023-01-28T14:42:11.695123Z",
          "shell.execute_reply": "2023-01-28T14:42:12.279772Z"
        },
        "trusted": true,
        "colab": {
          "base_uri": "https://localhost:8080/",
          "height": 573
        }
      },
      "execution_count": 26,
      "outputs": [
        {
          "output_type": "display_data",
          "data": {
            "text/plain": [
              "<Figure size 432x288 with 1 Axes>"
            ],
            "image/png": "[encoded data removed]"
          },
          "metadata": {
            "needs_background": "light"
          }
        },
        {
          "output_type": "display_data",
          "data": {
            "text/plain": [
              "<Figure size 432x288 with 1 Axes>"
            ],
            "image/png": "[encoded data removed]"
          },
          "metadata": {
            "needs_background": "light"
          }
        }
      ]
    },
    {
      "cell_type": "markdown",
      "source": [
        "## Model 2: Feature Extraction Transfer Learning on 10% of data with data augmenatation"
      ],
      "metadata": {
        "id": "59ZX2ZHiFxAH"
      }
    },
    {
      "cell_type": "code",
      "source": [
        "# Setup input shape and base model, freezing the base model layers\n",
        "input_shape = (224, 224, 3)\n",
        "base_model = tf.keras.applications.EfficientNetB0(include_top=False)\n",
        "base_model.trainable = False\n",
        "\n",
        "# Create input layer\n",
        "inputs = layers.Input(shape=input_shape, name=\"input_layer\")\n",
        "\n",
        "# Adding data augmentation Sequential model as a layer\n",
        "x = data_augmentation(inputs, training=False)\n",
        "\n",
        "# Give base_model the inputs (after augmentation) and don't train it\n",
        "x = base_model(x, training=False)\n",
        "\n",
        "# Pool output features of the base model\n",
        "x = layers.GlobalAveragePooling2D(name=\"global_average_pooling_layer\")(x)\n",
        "\n",
        "# Put a dense layer on as the output\n",
        "outputs = layers.Dense(10, activation=\"softmax\")(x)\n",
        "\n",
        "# Make a model using the inputs and outputs\n",
        "model_2 = keras.Model(inputs, outputs)\n",
        "\n",
        "# Compile the model\n",
        "model_2.compile(loss=\"categorical_crossentropy\",\n",
        "                optimizer=tf.keras.optimizers.Adam(),\n",
        "                metrics=[\"accuracy\"])\n",
        "\n",
        "# Fit the model\n",
        "history_model_2 = model_2.fit(train_data_10_percent,\n",
        "                              epochs=5,\n",
        "                              steps_per_epoch=len(train_data_10_percent),\n",
        "                              validation_data=test_data,\n",
        "                              validation_steps=int(0.25 * len(test_data)),\n",
        "                              callbacks=[create_tensorboard_callback(dir_name=\"transfer_learning\",\n",
        "                                                                     experiment_name=\"10_percent_data_aug\")])"
      ],
      "metadata": {
        "id": "LcWo7euWGdof",
        "outputId": "6b232c2c-904d-4463-cf8f-eba1b464d7d2",
        "execution": {
          "iopub.status.busy": "2023-01-28T14:42:12.284948Z",
          "iopub.execute_input": "2023-01-28T14:42:12.287716Z",
          "iopub.status.idle": "2023-01-28T14:42:49.410811Z",
          "shell.execute_reply.started": "2023-01-28T14:42:12.287679Z",
          "shell.execute_reply": "2023-01-28T14:42:49.409857Z"
        },
        "trusted": true,
        "colab": {
          "base_uri": "https://localhost:8080/"
        }
      },
      "execution_count": 27,
      "outputs": [
        {
          "output_type": "stream",
          "name": "stdout",
          "text": [
            "Saving TensorBoard log files to: transfer_learning/10_percent_data_aug/20230128-154841\n",
            "Epoch 1/5\n",
            "24/24 [==============================] - 11s 241ms/step - loss: 1.8376 - accuracy: 0.4400 - val_loss: 1.2711 - val_accuracy: 0.7286\n",
            "Epoch 2/5\n",
            "24/24 [==============================] - 5s 185ms/step - loss: 1.0319 - accuracy: 0.8013 - val_loss: 0.8394 - val_accuracy: 0.8207\n",
            "Epoch 3/5\n",
            "24/24 [==============================] - 4s 148ms/step - loss: 0.7373 - accuracy: 0.8440 - val_loss: 0.7113 - val_accuracy: 0.8191\n",
            "Epoch 4/5\n",
            "24/24 [==============================] - 4s 151ms/step - loss: 0.5908 - accuracy: 0.8760 - val_loss: 0.6256 - val_accuracy: 0.8470\n",
            "Epoch 5/5\n",
            "24/24 [==============================] - 5s 183ms/step - loss: 0.5004 - accuracy: 0.9000 - val_loss: 0.5630 - val_accuracy: 0.8618\n"
          ]
        }
      ]
    },
    {
      "cell_type": "code",
      "source": [
        "# Evaluate on the fill test dataset\n",
        "results_10_percent_data_aug = model_2.evaluate(test_data)\n",
        "results_10_percent_data_aug"
      ],
      "metadata": {
        "id": "o6xU_I34IczN",
        "outputId": "834e2bba-9d96-4a09-afb9-17b124dd62b5",
        "execution": {
          "iopub.status.busy": "2023-01-28T14:42:49.420423Z",
          "iopub.execute_input": "2023-01-28T14:42:49.420735Z",
          "iopub.status.idle": "2023-01-28T14:42:59.673771Z",
          "shell.execute_reply.started": "2023-01-28T14:42:49.420707Z",
          "shell.execute_reply": "2023-01-28T14:42:59.672601Z"
        },
        "trusted": true,
        "colab": {
          "base_uri": "https://localhost:8080/"
        }
      },
      "execution_count": 28,
      "outputs": [
        {
          "output_type": "stream",
          "name": "stdout",
          "text": [
            "79/79 [==============================] - 6s 71ms/step - loss: 0.5518 - accuracy: 0.8628\n"
          ]
        },
        {
          "output_type": "execute_result",
          "data": {
            "text/plain": [
              "[0.551820695400238, 0.8628000020980835]"
            ]
          },
          "metadata": {},
          "execution_count": 28
        }
      ]
    },
    {
      "cell_type": "code",
      "source": [
        "plot_loss_curves(history_model_2)"
      ],
      "metadata": {
        "id": "OnI15iFzIy8f",
        "outputId": "fc071025-ec67-4ba9-bdac-bcbffe660e20",
        "execution": {
          "iopub.status.busy": "2023-01-28T14:42:59.675381Z",
          "iopub.execute_input": "2023-01-28T14:42:59.675861Z",
          "iopub.status.idle": "2023-01-28T14:43:00.136648Z",
          "shell.execute_reply.started": "2023-01-28T14:42:59.675822Z",
          "shell.execute_reply": "2023-01-28T14:43:00.135455Z"
        },
        "trusted": true,
        "colab": {
          "base_uri": "https://localhost:8080/",
          "height": 573
        }
      },
      "execution_count": 29,
      "outputs": [
        {
          "output_type": "display_data",
          "data": {
            "text/plain": [
              "<Figure size 432x288 with 1 Axes>"
            ],
            "image/png": "[encoded data removed]"
          },
          "metadata": {
            "needs_background": "light"
          }
        },
        {
          "output_type": "display_data",
          "data": {
            "text/plain": [
              "<Figure size 432x288 with 1 Axes>"
            ],
            "image/png": "[encoded data removed]"
          },
          "metadata": {
            "needs_background": "light"
          }
        }
      ]
    },
    {
      "cell_type": "code",
      "source": [
        "model_2.summary()"
      ],
      "metadata": {
        "id": "lwDmeTnYI0Vz",
        "outputId": "ed9dc3fc-009a-4a7c-8f33-820184bcbddd",
        "execution": {
          "iopub.status.busy": "2023-01-28T14:43:00.138506Z",
          "iopub.execute_input": "2023-01-28T14:43:00.139295Z",
          "iopub.status.idle": "2023-01-28T14:43:00.155741Z",
          "shell.execute_reply.started": "2023-01-28T14:43:00.139250Z",
          "shell.execute_reply": "2023-01-28T14:43:00.154510Z"
        },
        "trusted": true,
        "colab": {
          "base_uri": "https://localhost:8080/"
        }
      },
      "execution_count": 30,
      "outputs": [
        {
          "output_type": "stream",
          "name": "stdout",
          "text": [
            "Model: \"model_2\"\n",
            "_________________________________________________________________\n",
            " Layer (type)                Output Shape              Param #   \n",
            "=================================================================\n",
            " input_layer (InputLayer)    [(None, 224, 224, 3)]     0         \n",
            "                                                                 \n",
            " data_augmentation (Sequenti  (None, None, None, 3)    0         \n",
            " al)                                                             \n",
            "                                                                 \n",
            " efficientnetb0 (Functional)  (None, None, None, 1280)  4049571  \n",
            "                                                                 \n",
            " global_average_pooling_laye  (None, 1280)             0         \n",
            " r (GlobalAveragePooling2D)                                      \n",
            "                                                                 \n",
            " dense (Dense)               (None, 10)                12810     \n",
            "                                                                 \n",
            "=================================================================\n",
            "Total params: 4,062,381\n",
            "Trainable params: 12,810\n",
            "Non-trainable params: 4,049,571\n",
            "_________________________________________________________________\n"
          ]
        }
      ]
    },
    {
      "cell_type": "markdown",
      "source": [
        "### Create Model Checkpointing callback"
      ],
      "metadata": {
        "id": "XZSZcA7VAUwT"
      }
    },
    {
      "cell_type": "code",
      "source": [
        "# Set Checkpoint path\n",
        "checkpoint_path = \"ten_percent_model_checkpoint_weights/checkpoint.ckpt\"\n",
        "\n",
        "# Create a ModelCheckpoint callback that saves the model's weights only\n",
        "checkpoint_callback = tf.keras.callbacks.ModelCheckpoint(filepath=checkpoint_path,\n",
        "                                                        weights_only=True,\n",
        "                                                        save_best_only=False,\n",
        "                                                        save_freq=\"epoch\",\n",
        "                                                        verbose=1)"
      ],
      "metadata": {
        "id": "IrzcaUaUJ4jJ",
        "execution": {
          "iopub.status.busy": "2023-01-28T14:43:00.157415Z",
          "iopub.execute_input": "2023-01-28T14:43:00.157829Z",
          "iopub.status.idle": "2023-01-28T14:43:00.167163Z",
          "shell.execute_reply.started": "2023-01-28T14:43:00.157783Z",
          "shell.execute_reply": "2023-01-28T14:43:00.166190Z"
        },
        "trusted": true
      },
      "execution_count": 31,
      "outputs": []
    },
    {
      "cell_type": "markdown",
      "source": [
        "### Fit model 2 passing in the ModelCheckpoint Callback"
      ],
      "metadata": {
        "id": "9nBrPUGwAUwU"
      }
    },
    {
      "cell_type": "code",
      "source": [
        "# Fit the model using checkpoint callback\n",
        "initial_epochs=5\n",
        "history_model_2 = model_2.fit(train_data_10_percent,\n",
        "                              epochs=initial_epochs,\n",
        "#                               steps_per_epoch=len(train_data_10_percent),\n",
        "                              validation_data=test_data,\n",
        "                              validation_steps=int(len(test_data) * 0.25),\n",
        "                              callbacks=[create_tensorboard_callback(dir_name=\"transfer_learning\",\n",
        "                                                                     experiment_name=\"10_percent_data_aug\"),\n",
        "                                        checkpoint_callback])"
      ],
      "metadata": {
        "execution": {
          "iopub.status.busy": "2023-01-28T14:43:00.170374Z",
          "iopub.execute_input": "2023-01-28T14:43:00.170936Z",
          "iopub.status.idle": "2023-01-28T14:46:39.932518Z",
          "shell.execute_reply.started": "2023-01-28T14:43:00.170909Z",
          "shell.execute_reply": "2023-01-28T14:46:39.931489Z"
        },
        "trusted": true,
        "id": "dODlIqqIAUwU",
        "outputId": "2fa203b6-aac5-4647-8908-c07ee53db712",
        "colab": {
          "base_uri": "https://localhost:8080/"
        }
      },
      "execution_count": 32,
      "outputs": [
        {
          "output_type": "stream",
          "name": "stdout",
          "text": [
            "Saving TensorBoard log files to: transfer_learning/10_percent_data_aug/20230128-154925\n",
            "Epoch 1/5\n",
            "23/24 [===========================>..] - ETA: 0s - loss: 0.4343 - accuracy: 0.9130\n",
            "Epoch 1: saving model to ten_percent_model_checkpoint_weights/checkpoint.ckpt\n"
          ]
        },
        {
          "output_type": "stream",
          "name": "stderr",
          "text": [
            "WARNING:absl:Found untraced functions such as _jit_compiled_convolution_op, _jit_compiled_convolution_op, _jit_compiled_convolution_op, _jit_compiled_convolution_op, _jit_compiled_convolution_op while saving (showing 5 of 81). These functions will not be directly callable after loading.\n"
          ]
        },
        {
          "output_type": "stream",
          "name": "stdout",
          "text": [
            "\b\b\b\b\b\b\b\b\b\b\b\b\b\b\b\b\b\b\b\b\b\b\b\b\b\b\b\b\b\b\b\b\b\b\b\b\b\b\b\b\b\b\b\b\b\b\b\b\b\b\b\b\b\b\b\b\b\b\b\b\b\b\b\b\b\b\b\b\b\b\b\b\b\b\b\b\b\b\b\b\b\b\r24/24 [==============================] - 40s 2s/step - loss: 0.4349 - accuracy: 0.9133 - val_loss: 0.5430 - val_accuracy: 0.8520\n",
            "Epoch 2/5\n",
            "23/24 [===========================>..] - ETA: 0s - loss: 0.3784 - accuracy: 0.9321\n",
            "Epoch 2: saving model to ten_percent_model_checkpoint_weights/checkpoint.ckpt\n"
          ]
        },
        {
          "output_type": "stream",
          "name": "stderr",
          "text": [
            "WARNING:absl:Found untraced functions such as _jit_compiled_convolution_op, _jit_compiled_convolution_op, _jit_compiled_convolution_op, _jit_compiled_convolution_op, _jit_compiled_convolution_op while saving (showing 5 of 81). These functions will not be directly callable after loading.\n"
          ]
        },
        {
          "output_type": "stream",
          "name": "stdout",
          "text": [
            "\b\b\b\b\b\b\b\b\b\b\b\b\b\b\b\b\b\b\b\b\b\b\b\b\b\b\b\b\b\b\b\b\b\b\b\b\b\b\b\b\b\b\b\b\b\b\b\b\b\b\b\b\b\b\b\b\b\b\b\b\b\b\b\b\b\b\b\b\b\b\b\b\b\b\b\b\b\b\b\b\b\b\r24/24 [==============================] - 39s 2s/step - loss: 0.3857 - accuracy: 0.9280 - val_loss: 0.5022 - val_accuracy: 0.8602\n",
            "Epoch 3/5\n",
            "23/24 [===========================>..] - ETA: 0s - loss: 0.3410 - accuracy: 0.9375\n",
            "Epoch 3: saving model to ten_percent_model_checkpoint_weights/checkpoint.ckpt\n"
          ]
        },
        {
          "output_type": "stream",
          "name": "stderr",
          "text": [
            "WARNING:absl:Found untraced functions such as _jit_compiled_convolution_op, _jit_compiled_convolution_op, _jit_compiled_convolution_op, _jit_compiled_convolution_op, _jit_compiled_convolution_op while saving (showing 5 of 81). These functions will not be directly callable after loading.\n"
          ]
        },
        {
          "output_type": "stream",
          "name": "stdout",
          "text": [
            "\b\b\b\b\b\b\b\b\b\b\b\b\b\b\b\b\b\b\b\b\b\b\b\b\b\b\b\b\b\b\b\b\b\b\b\b\b\b\b\b\b\b\b\b\b\b\b\b\b\b\b\b\b\b\b\b\b\b\b\b\b\b\b\b\b\b\b\b\b\b\b\b\b\b\b\b\b\b\b\b\b\b\r24/24 [==============================] - 41s 2s/step - loss: 0.3428 - accuracy: 0.9373 - val_loss: 0.4894 - val_accuracy: 0.8684\n",
            "Epoch 4/5\n",
            "23/24 [===========================>..] - ETA: 0s - loss: 0.3041 - accuracy: 0.9524\n",
            "Epoch 4: saving model to ten_percent_model_checkpoint_weights/checkpoint.ckpt\n"
          ]
        },
        {
          "output_type": "stream",
          "name": "stderr",
          "text": [
            "WARNING:absl:Found untraced functions such as _jit_compiled_convolution_op, _jit_compiled_convolution_op, _jit_compiled_convolution_op, _jit_compiled_convolution_op, _jit_compiled_convolution_op while saving (showing 5 of 81). These functions will not be directly callable after loading.\n"
          ]
        },
        {
          "output_type": "stream",
          "name": "stdout",
          "text": [
            "\b\b\b\b\b\b\b\b\b\b\b\b\b\b\b\b\b\b\b\b\b\b\b\b\b\b\b\b\b\b\b\b\b\b\b\b\b\b\b\b\b\b\b\b\b\b\b\b\b\b\b\b\b\b\b\b\b\b\b\b\b\b\b\b\b\b\b\b\b\b\b\b\b\b\b\b\b\b\b\b\b\b\r24/24 [==============================] - 40s 2s/step - loss: 0.3079 - accuracy: 0.9493 - val_loss: 0.4778 - val_accuracy: 0.8586\n",
            "Epoch 5/5\n",
            "23/24 [===========================>..] - ETA: 0s - loss: 0.2798 - accuracy: 0.9579\n",
            "Epoch 5: saving model to ten_percent_model_checkpoint_weights/checkpoint.ckpt\n"
          ]
        },
        {
          "output_type": "stream",
          "name": "stderr",
          "text": [
            "WARNING:absl:Found untraced functions such as _jit_compiled_convolution_op, _jit_compiled_convolution_op, _jit_compiled_convolution_op, _jit_compiled_convolution_op, _jit_compiled_convolution_op while saving (showing 5 of 81). These functions will not be directly callable after loading.\n"
          ]
        },
        {
          "output_type": "stream",
          "name": "stdout",
          "text": [
            "\b\b\b\b\b\b\b\b\b\b\b\b\b\b\b\b\b\b\b\b\b\b\b\b\b\b\b\b\b\b\b\b\b\b\b\b\b\b\b\b\b\b\b\b\b\b\b\b\b\b\b\b\b\b\b\b\b\b\b\b\b\b\b\b\b\b\b\b\b\b\b\b\b\b\b\b\b\b\b\b\b\b\r24/24 [==============================] - 41s 2s/step - loss: 0.2788 - accuracy: 0.9587 - val_loss: 0.4756 - val_accuracy: 0.8586\n"
          ]
        }
      ]
    },
    {
      "cell_type": "code",
      "source": [
        "# What were model_0 results?\n",
        "model_0.evaluate(test_data)"
      ],
      "metadata": {
        "execution": {
          "iopub.status.busy": "2023-01-28T14:46:39.947960Z",
          "iopub.execute_input": "2023-01-28T14:46:39.948312Z",
          "iopub.status.idle": "2023-01-28T14:46:47.218795Z",
          "shell.execute_reply.started": "2023-01-28T14:46:39.948281Z",
          "shell.execute_reply": "2023-01-28T14:46:47.217639Z"
        },
        "trusted": true,
        "id": "Jc8TAFfLAUwU",
        "outputId": "bc4ac288-6dd9-43c8-df04-6cd1e07e0323",
        "colab": {
          "base_uri": "https://localhost:8080/"
        }
      },
      "execution_count": 33,
      "outputs": [
        {
          "output_type": "stream",
          "name": "stdout",
          "text": [
            "79/79 [==============================] - 6s 71ms/step - loss: 0.5477 - accuracy: 0.8668\n"
          ]
        },
        {
          "output_type": "execute_result",
          "data": {
            "text/plain": [
              "[0.5477158427238464, 0.8668000102043152]"
            ]
          },
          "metadata": {},
          "execution_count": 33
        }
      ]
    },
    {
      "cell_type": "code",
      "source": [
        "# Check model_2 results on all test_data\n",
        "results_10_percent_data_aug = model_2.evaluate(test_data)\n",
        "results_10_percent_data_aug"
      ],
      "metadata": {
        "execution": {
          "iopub.status.busy": "2023-01-28T14:46:47.223142Z",
          "iopub.execute_input": "2023-01-28T14:46:47.224086Z",
          "iopub.status.idle": "2023-01-28T14:46:53.286095Z",
          "shell.execute_reply.started": "2023-01-28T14:46:47.224045Z",
          "shell.execute_reply": "2023-01-28T14:46:53.285125Z"
        },
        "trusted": true,
        "id": "yktGF1sOAUwV",
        "outputId": "7b221eda-1b7f-4491-9aa0-ed509cc5129d",
        "colab": {
          "base_uri": "https://localhost:8080/"
        }
      },
      "execution_count": 34,
      "outputs": [
        {
          "output_type": "stream",
          "name": "stdout",
          "text": [
            "79/79 [==============================] - 6s 71ms/step - loss: 0.4426 - accuracy: 0.8760\n"
          ]
        },
        {
          "output_type": "execute_result",
          "data": {
            "text/plain": [
              "[0.4426363706588745, 0.8759999871253967]"
            ]
          },
          "metadata": {},
          "execution_count": 34
        }
      ]
    },
    {
      "cell_type": "code",
      "source": [
        "# Plot model loss curves\n",
        "plot_loss_curves(history_model_2)"
      ],
      "metadata": {
        "execution": {
          "iopub.status.busy": "2023-01-28T14:46:53.289278Z",
          "iopub.execute_input": "2023-01-28T14:46:53.290145Z",
          "iopub.status.idle": "2023-01-28T14:46:53.733534Z",
          "shell.execute_reply.started": "2023-01-28T14:46:53.290103Z",
          "shell.execute_reply": "2023-01-28T14:46:53.732577Z"
        },
        "trusted": true,
        "id": "7ElcChVuAUwV",
        "outputId": "e9dd4e39-62cd-45d1-fb09-d55b1568bac7",
        "colab": {
          "base_uri": "https://localhost:8080/",
          "height": 573
        }
      },
      "execution_count": 35,
      "outputs": [
        {
          "output_type": "display_data",
          "data": {
            "text/plain": [
              "<Figure size 432x288 with 1 Axes>"
            ],
            "image/png": "[encoded data removed]"
          },
          "metadata": {
            "needs_background": "light"
          }
        },
        {
          "output_type": "display_data",
          "data": {
            "text/plain": [
              "<Figure size 432x288 with 1 Axes>"
            ],
            "image/png": "[encoded data removed]"
          },
          "metadata": {
            "needs_background": "light"
          }
        }
      ]
    },
    {
      "cell_type": "markdown",
      "source": [
        "### Loading in checkpointed weights"
      ],
      "metadata": {
        "id": "9we7InEGAUwV"
      }
    },
    {
      "cell_type": "code",
      "source": [
        "# Load in saved model weights and evaluate model\n",
        "model_2.load_weights(checkpoint_path)"
      ],
      "metadata": {
        "execution": {
          "iopub.status.busy": "2023-01-28T14:46:53.735007Z",
          "iopub.execute_input": "2023-01-28T14:46:53.735738Z",
          "iopub.status.idle": "2023-01-28T14:46:54.543690Z",
          "shell.execute_reply.started": "2023-01-28T14:46:53.735695Z",
          "shell.execute_reply": "2023-01-28T14:46:54.542491Z"
        },
        "trusted": true,
        "id": "BF8dZeIzAUwV",
        "outputId": "b0c84602-f4e0-40b1-9700-efad719ac55d",
        "colab": {
          "base_uri": "https://localhost:8080/"
        }
      },
      "execution_count": 36,
      "outputs": [
        {
          "output_type": "execute_result",
          "data": {
            "text/plain": [
              "<tensorflow.python.training.tracking.util.CheckpointLoadStatus at 0x7fca1bce2430>"
            ]
          },
          "metadata": {},
          "execution_count": 36
        }
      ]
    },
    {
      "cell_type": "code",
      "source": [
        "# Evaluate model_2 with loaded weights\n",
        "loaded_weights_model_results = model_2.evaluate(test_data)"
      ],
      "metadata": {
        "execution": {
          "iopub.status.busy": "2023-01-28T14:46:54.545406Z",
          "iopub.execute_input": "2023-01-28T14:46:54.545717Z",
          "iopub.status.idle": "2023-01-28T14:47:04.799306Z",
          "shell.execute_reply.started": "2023-01-28T14:46:54.545689Z",
          "shell.execute_reply": "2023-01-28T14:47:04.798052Z"
        },
        "trusted": true,
        "id": "qkel2ZMLAUwV",
        "outputId": "65838dd6-3f2e-447c-8060-4cfb306b1bc1",
        "colab": {
          "base_uri": "https://localhost:8080/"
        }
      },
      "execution_count": 37,
      "outputs": [
        {
          "output_type": "stream",
          "name": "stdout",
          "text": [
            "79/79 [==============================] - 6s 70ms/step - loss: 0.4426 - accuracy: 0.8760\n"
          ]
        }
      ]
    },
    {
      "cell_type": "code",
      "source": [
        "# If the results from our previously evaluated model_2 match the loaded weights, everything has worked!\n",
        "results_10_percent_data_aug == loaded_weights_model_results"
      ],
      "metadata": {
        "execution": {
          "iopub.status.busy": "2023-01-28T14:47:04.801047Z",
          "iopub.execute_input": "2023-01-28T14:47:04.801449Z",
          "iopub.status.idle": "2023-01-28T14:47:04.809635Z",
          "shell.execute_reply.started": "2023-01-28T14:47:04.801405Z",
          "shell.execute_reply": "2023-01-28T14:47:04.807577Z"
        },
        "trusted": true,
        "id": "0LSIC52AAUwW",
        "outputId": "8a07b418-ec48-475b-8a01-3b9a022820bb",
        "colab": {
          "base_uri": "https://localhost:8080/"
        }
      },
      "execution_count": 38,
      "outputs": [
        {
          "output_type": "execute_result",
          "data": {
            "text/plain": [
              "False"
            ]
          },
          "metadata": {},
          "execution_count": 38
        }
      ]
    },
    {
      "cell_type": "code",
      "source": [
        "# Check to see if loaded model results are very close to our previous non_loaded model_2\n",
        "import numpy as np\n",
        "np.isclose(np.array(results_10_percent_data_aug), np.array(loaded_weights_model_results))"
      ],
      "metadata": {
        "execution": {
          "iopub.status.busy": "2023-01-28T14:47:04.811457Z",
          "iopub.execute_input": "2023-01-28T14:47:04.812191Z",
          "iopub.status.idle": "2023-01-28T14:47:04.821125Z",
          "shell.execute_reply.started": "2023-01-28T14:47:04.812152Z",
          "shell.execute_reply": "2023-01-28T14:47:04.819827Z"
        },
        "trusted": true,
        "id": "Ael0eFcSAUwW",
        "outputId": "284854f4-290b-4790-9b29-e001dc84a0cb",
        "colab": {
          "base_uri": "https://localhost:8080/"
        }
      },
      "execution_count": 39,
      "outputs": [
        {
          "output_type": "execute_result",
          "data": {
            "text/plain": [
              "array([ True,  True])"
            ]
          },
          "metadata": {},
          "execution_count": 39
        }
      ]
    },
    {
      "cell_type": "code",
      "source": [
        "# Check the difference between the two results\n",
        "print(np.array(results_10_percent_data_aug) - np.array(loaded_weights_model_results))"
      ],
      "metadata": {
        "execution": {
          "iopub.status.busy": "2023-01-28T14:47:04.823197Z",
          "iopub.execute_input": "2023-01-28T14:47:04.823982Z",
          "iopub.status.idle": "2023-01-28T14:47:04.831637Z",
          "shell.execute_reply.started": "2023-01-28T14:47:04.823940Z",
          "shell.execute_reply": "2023-01-28T14:47:04.830483Z"
        },
        "trusted": true,
        "id": "Y50RlQA8AUwW",
        "outputId": "7e2ff6a9-bb17-46c4-b5f6-968f5e59b070",
        "colab": {
          "base_uri": "https://localhost:8080/"
        }
      },
      "execution_count": 40,
      "outputs": [
        {
          "output_type": "stream",
          "name": "stdout",
          "text": [
            "[2.98023224e-08 0.00000000e+00]\n"
          ]
        }
      ]
    },
    {
      "cell_type": "markdown",
      "source": [
        "## Model 3: Fine-tuning an existing model on 10% of the data\n",
        "\n",
        "✏️**Note:** Fine-tuning usually works best *after* training a feature extraction model for a few epochs with large amounts of custom data"
      ],
      "metadata": {
        "id": "eMxBSnWEAUwW"
      }
    },
    {
      "cell_type": "code",
      "source": [
        "# Layers in loaded model\n",
        "model_2.layers"
      ],
      "metadata": {
        "execution": {
          "iopub.status.busy": "2023-01-28T14:47:04.833575Z",
          "iopub.execute_input": "2023-01-28T14:47:04.834383Z",
          "iopub.status.idle": "2023-01-28T14:47:04.848175Z",
          "shell.execute_reply.started": "2023-01-28T14:47:04.834335Z",
          "shell.execute_reply": "2023-01-28T14:47:04.847058Z"
        },
        "trusted": true,
        "id": "kJiC9qcXAUwX",
        "outputId": "964992f1-6053-4d4f-d41f-aa156a56b9a4",
        "colab": {
          "base_uri": "https://localhost:8080/"
        }
      },
      "execution_count": 41,
      "outputs": [
        {
          "output_type": "execute_result",
          "data": {
            "text/plain": [
              "[<keras.engine.input_layer.InputLayer at 0x7fcb843b9190>,\n",
              " <keras.engine.sequential.Sequential at 0x7fcb8b986070>,\n",
              " <keras.engine.functional.Functional at 0x7fcb84083fa0>,\n",
              " <keras.layers.pooling.global_average_pooling2d.GlobalAveragePooling2D at 0x7fcb843b9040>,\n",
              " <keras.layers.core.dense.Dense at 0x7fcb843b9340>]"
            ]
          },
          "metadata": {},
          "execution_count": 41
        }
      ]
    },
    {
      "cell_type": "code",
      "source": [
        "# Are these layers trainable?\n",
        "for layer in model_2.layers:\n",
        "    print(layer, layer.trainable)"
      ],
      "metadata": {
        "execution": {
          "iopub.status.busy": "2023-01-28T14:47:04.849851Z",
          "iopub.execute_input": "2023-01-28T14:47:04.850458Z",
          "iopub.status.idle": "2023-01-28T14:47:04.858806Z",
          "shell.execute_reply.started": "2023-01-28T14:47:04.850415Z",
          "shell.execute_reply": "2023-01-28T14:47:04.857719Z"
        },
        "trusted": true,
        "id": "vUqAyynKAUwX",
        "outputId": "f61a2d39-11ea-4165-c8ce-7eda682cb988",
        "colab": {
          "base_uri": "https://localhost:8080/"
        }
      },
      "execution_count": 42,
      "outputs": [
        {
          "output_type": "stream",
          "name": "stdout",
          "text": [
            "<keras.engine.input_layer.InputLayer object at 0x7fcb843b9190> True\n",
            "<keras.engine.sequential.Sequential object at 0x7fcb8b986070> True\n",
            "<keras.engine.functional.Functional object at 0x7fcb84083fa0> False\n",
            "<keras.layers.pooling.global_average_pooling2d.GlobalAveragePooling2D object at 0x7fcb843b9040> True\n",
            "<keras.layers.core.dense.Dense object at 0x7fcb843b9340> True\n"
          ]
        }
      ]
    },
    {
      "cell_type": "code",
      "source": [
        "# What layers are in our base_model and are they trainables?\n",
        "for i, layer in enumerate(model_2.layers[2].layers):\n",
        "    print(i, layer.name, layer.trainable)"
      ],
      "metadata": {
        "execution": {
          "iopub.status.busy": "2023-01-28T14:47:04.860345Z",
          "iopub.execute_input": "2023-01-28T14:47:04.861481Z",
          "iopub.status.idle": "2023-01-28T14:47:04.874769Z",
          "shell.execute_reply.started": "2023-01-28T14:47:04.861441Z",
          "shell.execute_reply": "2023-01-28T14:47:04.873475Z"
        },
        "trusted": true,
        "id": "p4uQ6LPhAUwX",
        "outputId": "73f5e342-bc2e-4258-98ec-d0b49dbaa208",
        "colab": {
          "base_uri": "https://localhost:8080/"
        }
      },
      "execution_count": 43,
      "outputs": [
        {
          "output_type": "stream",
          "name": "stdout",
          "text": [
            "0 input_3 False\n",
            "1 rescaling_2 False\n",
            "2 normalization_2 False\n",
            "3 tf.math.truediv_2 False\n",
            "4 stem_conv_pad False\n",
            "5 stem_conv False\n",
            "6 stem_bn False\n",
            "7 stem_activation False\n",
            "8 block1a_dwconv False\n",
            "9 block1a_bn False\n",
            "10 block1a_activation False\n",
            "11 block1a_se_squeeze False\n",
            "12 block1a_se_reshape False\n",
            "13 block1a_se_reduce False\n",
            "14 block1a_se_expand False\n",
            "15 block1a_se_excite False\n",
            "16 block1a_project_conv False\n",
            "17 block1a_project_bn False\n",
            "18 block2a_expand_conv False\n",
            "19 block2a_expand_bn False\n",
            "20 block2a_expand_activation False\n",
            "21 block2a_dwconv_pad False\n",
            "22 block2a_dwconv False\n",
            "23 block2a_bn False\n",
            "24 block2a_activation False\n",
            "25 block2a_se_squeeze False\n",
            "26 block2a_se_reshape False\n",
            "27 block2a_se_reduce False\n",
            "28 block2a_se_expand False\n",
            "29 block2a_se_excite False\n",
            "30 block2a_project_conv False\n",
            "31 block2a_project_bn False\n",
            "32 block2b_expand_conv False\n",
            "33 block2b_expand_bn False\n",
            "34 block2b_expand_activation False\n",
            "35 block2b_dwconv False\n",
            "36 block2b_bn False\n",
            "37 block2b_activation False\n",
            "38 block2b_se_squeeze False\n",
            "39 block2b_se_reshape False\n",
            "40 block2b_se_reduce False\n",
            "41 block2b_se_expand False\n",
            "42 block2b_se_excite False\n",
            "43 block2b_project_conv False\n",
            "44 block2b_project_bn False\n",
            "45 block2b_drop False\n",
            "46 block2b_add False\n",
            "47 block3a_expand_conv False\n",
            "48 block3a_expand_bn False\n",
            "49 block3a_expand_activation False\n",
            "50 block3a_dwconv_pad False\n",
            "51 block3a_dwconv False\n",
            "52 block3a_bn False\n",
            "53 block3a_activation False\n",
            "54 block3a_se_squeeze False\n",
            "55 block3a_se_reshape False\n",
            "56 block3a_se_reduce False\n",
            "57 block3a_se_expand False\n",
            "58 block3a_se_excite False\n",
            "59 block3a_project_conv False\n",
            "60 block3a_project_bn False\n",
            "61 block3b_expand_conv False\n",
            "62 block3b_expand_bn False\n",
            "63 block3b_expand_activation False\n",
            "64 block3b_dwconv False\n",
            "65 block3b_bn False\n",
            "66 block3b_activation False\n",
            "67 block3b_se_squeeze False\n",
            "68 block3b_se_reshape False\n",
            "69 block3b_se_reduce False\n",
            "70 block3b_se_expand False\n",
            "71 block3b_se_excite False\n",
            "72 block3b_project_conv False\n",
            "73 block3b_project_bn False\n",
            "74 block3b_drop False\n",
            "75 block3b_add False\n",
            "76 block4a_expand_conv False\n",
            "77 block4a_expand_bn False\n",
            "78 block4a_expand_activation False\n",
            "79 block4a_dwconv_pad False\n",
            "80 block4a_dwconv False\n",
            "81 block4a_bn False\n",
            "82 block4a_activation False\n",
            "83 block4a_se_squeeze False\n",
            "84 block4a_se_reshape False\n",
            "85 block4a_se_reduce False\n",
            "86 block4a_se_expand False\n",
            "87 block4a_se_excite False\n",
            "88 block4a_project_conv False\n",
            "89 block4a_project_bn False\n",
            "90 block4b_expand_conv False\n",
            "91 block4b_expand_bn False\n",
            "92 block4b_expand_activation False\n",
            "93 block4b_dwconv False\n",
            "94 block4b_bn False\n",
            "95 block4b_activation False\n",
            "96 block4b_se_squeeze False\n",
            "97 block4b_se_reshape False\n",
            "98 block4b_se_reduce False\n",
            "99 block4b_se_expand False\n",
            "100 block4b_se_excite False\n",
            "101 block4b_project_conv False\n",
            "102 block4b_project_bn False\n",
            "103 block4b_drop False\n",
            "104 block4b_add False\n",
            "105 block4c_expand_conv False\n",
            "106 block4c_expand_bn False\n",
            "107 block4c_expand_activation False\n",
            "108 block4c_dwconv False\n",
            "109 block4c_bn False\n",
            "110 block4c_activation False\n",
            "111 block4c_se_squeeze False\n",
            "112 block4c_se_reshape False\n",
            "113 block4c_se_reduce False\n",
            "114 block4c_se_expand False\n",
            "115 block4c_se_excite False\n",
            "116 block4c_project_conv False\n",
            "117 block4c_project_bn False\n",
            "118 block4c_drop False\n",
            "119 block4c_add False\n",
            "120 block5a_expand_conv False\n",
            "121 block5a_expand_bn False\n",
            "122 block5a_expand_activation False\n",
            "123 block5a_dwconv False\n",
            "124 block5a_bn False\n",
            "125 block5a_activation False\n",
            "126 block5a_se_squeeze False\n",
            "127 block5a_se_reshape False\n",
            "128 block5a_se_reduce False\n",
            "129 block5a_se_expand False\n",
            "130 block5a_se_excite False\n",
            "131 block5a_project_conv False\n",
            "132 block5a_project_bn False\n",
            "133 block5b_expand_conv False\n",
            "134 block5b_expand_bn False\n",
            "135 block5b_expand_activation False\n",
            "136 block5b_dwconv False\n",
            "137 block5b_bn False\n",
            "138 block5b_activation False\n",
            "139 block5b_se_squeeze False\n",
            "140 block5b_se_reshape False\n",
            "141 block5b_se_reduce False\n",
            "142 block5b_se_expand False\n",
            "143 block5b_se_excite False\n",
            "144 block5b_project_conv False\n",
            "145 block5b_project_bn False\n",
            "146 block5b_drop False\n",
            "147 block5b_add False\n",
            "148 block5c_expand_conv False\n",
            "149 block5c_expand_bn False\n",
            "150 block5c_expand_activation False\n",
            "151 block5c_dwconv False\n",
            "152 block5c_bn False\n",
            "153 block5c_activation False\n",
            "154 block5c_se_squeeze False\n",
            "155 block5c_se_reshape False\n",
            "156 block5c_se_reduce False\n",
            "157 block5c_se_expand False\n",
            "158 block5c_se_excite False\n",
            "159 block5c_project_conv False\n",
            "160 block5c_project_bn False\n",
            "161 block5c_drop False\n",
            "162 block5c_add False\n",
            "163 block6a_expand_conv False\n",
            "164 block6a_expand_bn False\n",
            "165 block6a_expand_activation False\n",
            "166 block6a_dwconv_pad False\n",
            "167 block6a_dwconv False\n",
            "168 block6a_bn False\n",
            "169 block6a_activation False\n",
            "170 block6a_se_squeeze False\n",
            "171 block6a_se_reshape False\n",
            "172 block6a_se_reduce False\n",
            "173 block6a_se_expand False\n",
            "174 block6a_se_excite False\n",
            "175 block6a_project_conv False\n",
            "176 block6a_project_bn False\n",
            "177 block6b_expand_conv False\n",
            "178 block6b_expand_bn False\n",
            "179 block6b_expand_activation False\n",
            "180 block6b_dwconv False\n",
            "181 block6b_bn False\n",
            "182 block6b_activation False\n",
            "183 block6b_se_squeeze False\n",
            "184 block6b_se_reshape False\n",
            "185 block6b_se_reduce False\n",
            "186 block6b_se_expand False\n",
            "187 block6b_se_excite False\n",
            "188 block6b_project_conv False\n",
            "189 block6b_project_bn False\n",
            "190 block6b_drop False\n",
            "191 block6b_add False\n",
            "192 block6c_expand_conv False\n",
            "193 block6c_expand_bn False\n",
            "194 block6c_expand_activation False\n",
            "195 block6c_dwconv False\n",
            "196 block6c_bn False\n",
            "197 block6c_activation False\n",
            "198 block6c_se_squeeze False\n",
            "199 block6c_se_reshape False\n",
            "200 block6c_se_reduce False\n",
            "201 block6c_se_expand False\n",
            "202 block6c_se_excite False\n",
            "203 block6c_project_conv False\n",
            "204 block6c_project_bn False\n",
            "205 block6c_drop False\n",
            "206 block6c_add False\n",
            "207 block6d_expand_conv False\n",
            "208 block6d_expand_bn False\n",
            "209 block6d_expand_activation False\n",
            "210 block6d_dwconv False\n",
            "211 block6d_bn False\n",
            "212 block6d_activation False\n",
            "213 block6d_se_squeeze False\n",
            "214 block6d_se_reshape False\n",
            "215 block6d_se_reduce False\n",
            "216 block6d_se_expand False\n",
            "217 block6d_se_excite False\n",
            "218 block6d_project_conv False\n",
            "219 block6d_project_bn False\n",
            "220 block6d_drop False\n",
            "221 block6d_add False\n",
            "222 block7a_expand_conv False\n",
            "223 block7a_expand_bn False\n",
            "224 block7a_expand_activation False\n",
            "225 block7a_dwconv False\n",
            "226 block7a_bn False\n",
            "227 block7a_activation False\n",
            "228 block7a_se_squeeze False\n",
            "229 block7a_se_reshape False\n",
            "230 block7a_se_reduce False\n",
            "231 block7a_se_expand False\n",
            "232 block7a_se_excite False\n",
            "233 block7a_project_conv False\n",
            "234 block7a_project_bn False\n",
            "235 top_conv False\n",
            "236 top_bn False\n",
            "237 top_activation False\n"
          ]
        }
      ]
    },
    {
      "cell_type": "code",
      "source": [
        "# How many trainable variables are in our base model\n",
        "print(len(model_2.layers[2].trainable_variables))"
      ],
      "metadata": {
        "execution": {
          "iopub.status.busy": "2023-01-28T14:47:04.876367Z",
          "iopub.execute_input": "2023-01-28T14:47:04.876856Z",
          "iopub.status.idle": "2023-01-28T14:47:04.887872Z",
          "shell.execute_reply.started": "2023-01-28T14:47:04.876821Z",
          "shell.execute_reply": "2023-01-28T14:47:04.884143Z"
        },
        "trusted": true,
        "id": "BCMV9cwpAUwY",
        "outputId": "139beedb-17bb-41ab-e43b-8737f5d5b95e",
        "colab": {
          "base_uri": "https://localhost:8080/"
        }
      },
      "execution_count": 44,
      "outputs": [
        {
          "output_type": "stream",
          "name": "stdout",
          "text": [
            "0\n"
          ]
        }
      ]
    },
    {
      "cell_type": "code",
      "source": [
        "for layer in model_2.layers[2].layers[-10:]:\n",
        "    layer.trainable = True"
      ],
      "metadata": {
        "execution": {
          "iopub.status.busy": "2023-01-28T14:47:04.889523Z",
          "iopub.execute_input": "2023-01-28T14:47:04.889951Z",
          "iopub.status.idle": "2023-01-28T14:47:04.897662Z",
          "shell.execute_reply.started": "2023-01-28T14:47:04.889915Z",
          "shell.execute_reply": "2023-01-28T14:47:04.896421Z"
        },
        "trusted": true,
        "id": "GarOlexTAUwY"
      },
      "execution_count": 45,
      "outputs": []
    },
    {
      "cell_type": "code",
      "source": [
        "# To begin fine-tuning let's start by setting the last 10 layers of our base-model\n",
        "base_model.trainable = True\n",
        "\n",
        "# Freeze all layers except for the last 10\n",
        "for layer in base_model.layers[:-10]:\n",
        "    layer.trainable=False\n",
        "\n",
        "# for layer in base_model.layers[-10:]:\n",
        "#     print(layer.name, layer.trainable)\n",
        "    \n",
        "# Recompile (we have to recompile our models every time we make a change)\n",
        "model_2.compile(loss=\"categorical_crossentropy\",\n",
        "               optimizer=tf.keras.optimizers.Adam(learning_rate=0.0001),\n",
        "               metrics=[\"accuracy\"])"
      ],
      "metadata": {
        "execution": {
          "iopub.status.busy": "2023-01-28T14:47:04.900597Z",
          "iopub.execute_input": "2023-01-28T14:47:04.900979Z",
          "iopub.status.idle": "2023-01-28T14:47:04.932124Z",
          "shell.execute_reply.started": "2023-01-28T14:47:04.900941Z",
          "shell.execute_reply": "2023-01-28T14:47:04.931122Z"
        },
        "trusted": true,
        "id": "kw9mwL-UAUwY"
      },
      "execution_count": 46,
      "outputs": []
    },
    {
      "cell_type": "markdown",
      "source": [
        "✏️ **Note:** Biasanya, saat fine-tuning sebuah model, kita menggunakan nilai learning rate yang lebih kecil dari defaultnya, berapa? biasanya minimal 1/10 dari default. Tapi berbagai sumber bisa bilang beda\""
      ],
      "metadata": {
        "id": "EHRtSAP7AUwY"
      }
    },
    {
      "cell_type": "code",
      "source": [
        "# How many trainable variables are in our base model after we unfrozen the last 10 layers\n",
        "print(len(model_2.layers[2].trainable_variables))"
      ],
      "metadata": {
        "execution": {
          "iopub.status.busy": "2023-01-28T14:47:04.933395Z",
          "iopub.execute_input": "2023-01-28T14:47:04.933790Z",
          "iopub.status.idle": "2023-01-28T14:47:04.941779Z",
          "shell.execute_reply.started": "2023-01-28T14:47:04.933747Z",
          "shell.execute_reply": "2023-01-28T14:47:04.939684Z"
        },
        "trusted": true,
        "id": "Lpq-qFrrAUwZ",
        "outputId": "157411cc-9631-4f38-c621-e9f5b3ed223d",
        "colab": {
          "base_uri": "https://localhost:8080/"
        }
      },
      "execution_count": 47,
      "outputs": [
        {
          "output_type": "stream",
          "name": "stdout",
          "text": [
            "10\n"
          ]
        }
      ]
    },
    {
      "cell_type": "code",
      "source": [
        "# Fine tune for another 5 epochs\n",
        "fine_tune_epochs = initial_epochs + 5\n",
        "\n",
        "# Refit the model (same as model_2 except with more trainable layers)\n",
        "history_fine_10_percent_data_aug = model_2.fit(train_data_10_percent,\n",
        "                                              epochs=fine_tune_epochs,\n",
        "                                              validation_data=test_data,\n",
        "                                              validation_steps=int(len(test_data)*0.25),\n",
        "                                              initial_epoch=history_model_2.epoch[-1],\n",
        "                                              callbacks=[create_tensorboard_callback(dir_name=\"transfer_learning\",\n",
        "                                                                                    experiment_name=\"10_percent_fine_tune_last_10\")])"
      ],
      "metadata": {
        "execution": {
          "iopub.status.busy": "2023-01-28T14:47:04.943657Z",
          "iopub.execute_input": "2023-01-28T14:47:04.944027Z",
          "iopub.status.idle": "2023-01-28T14:47:48.559358Z",
          "shell.execute_reply.started": "2023-01-28T14:47:04.943989Z",
          "shell.execute_reply": "2023-01-28T14:47:48.558167Z"
        },
        "trusted": true,
        "id": "hm6MpVHjAUwZ",
        "outputId": "d0528815-6e21-40e2-d52e-b3b724fb7d2b",
        "colab": {
          "base_uri": "https://localhost:8080/"
        }
      },
      "execution_count": 48,
      "outputs": [
        {
          "output_type": "stream",
          "name": "stdout",
          "text": [
            "Saving TensorBoard log files to: transfer_learning/10_percent_fine_tune_last_10/20230128-155357\n",
            "Epoch 5/10\n",
            "24/24 [==============================] - 12s 246ms/step - loss: 0.2308 - accuracy: 0.9533 - val_loss: 0.4010 - val_accuracy: 0.8684\n",
            "Epoch 6/10\n",
            "24/24 [==============================] - 5s 187ms/step - loss: 0.1451 - accuracy: 0.9760 - val_loss: 0.3904 - val_accuracy: 0.8684\n",
            "Epoch 7/10\n",
            "24/24 [==============================] - 4s 151ms/step - loss: 0.1055 - accuracy: 0.9813 - val_loss: 0.3446 - val_accuracy: 0.8668\n",
            "Epoch 8/10\n",
            "24/24 [==============================] - 5s 185ms/step - loss: 0.0789 - accuracy: 0.9893 - val_loss: 0.3931 - val_accuracy: 0.8668\n",
            "Epoch 9/10\n",
            "24/24 [==============================] - 4s 151ms/step - loss: 0.0595 - accuracy: 0.9947 - val_loss: 0.4007 - val_accuracy: 0.8536\n",
            "Epoch 10/10\n",
            "24/24 [==============================] - 5s 186ms/step - loss: 0.0440 - accuracy: 0.9987 - val_loss: 0.4206 - val_accuracy: 0.8569\n"
          ]
        }
      ]
    },
    {
      "cell_type": "code",
      "source": [
        "# Evaluate the fine-tuned model\n",
        "results_fine_tune_10_percent = model_2.evaluate(test_data)"
      ],
      "metadata": {
        "execution": {
          "iopub.status.busy": "2023-01-28T14:47:48.561600Z",
          "iopub.execute_input": "2023-01-28T14:47:48.561972Z",
          "iopub.status.idle": "2023-01-28T14:47:58.817806Z",
          "shell.execute_reply.started": "2023-01-28T14:47:48.561940Z",
          "shell.execute_reply": "2023-01-28T14:47:58.816592Z"
        },
        "trusted": true,
        "id": "Wp2dzsvbAUwZ",
        "outputId": "60ed066c-2595-4826-9b5f-a777ce6b0b61",
        "colab": {
          "base_uri": "https://localhost:8080/"
        }
      },
      "execution_count": 49,
      "outputs": [
        {
          "output_type": "stream",
          "name": "stdout",
          "text": [
            "79/79 [==============================] - 6s 71ms/step - loss: 0.3735 - accuracy: 0.8764\n"
          ]
        }
      ]
    },
    {
      "cell_type": "code",
      "source": [
        "results_fine_tune_10_percent"
      ],
      "metadata": {
        "execution": {
          "iopub.status.busy": "2023-01-28T14:47:58.819588Z",
          "iopub.execute_input": "2023-01-28T14:47:58.820410Z",
          "iopub.status.idle": "2023-01-28T14:47:58.830089Z",
          "shell.execute_reply.started": "2023-01-28T14:47:58.820359Z",
          "shell.execute_reply": "2023-01-28T14:47:58.828735Z"
        },
        "trusted": true,
        "id": "XtgOZJ5MAUwa",
        "outputId": "047508c2-0f48-41c1-80af-49bff581dd4d",
        "colab": {
          "base_uri": "https://localhost:8080/"
        }
      },
      "execution_count": 50,
      "outputs": [
        {
          "output_type": "execute_result",
          "data": {
            "text/plain": [
              "[0.37346526980400085, 0.8763999938964844]"
            ]
          },
          "metadata": {},
          "execution_count": 50
        }
      ]
    },
    {
      "cell_type": "code",
      "source": [
        "plot_loss_curves(history_fine_10_percent_data_aug)"
      ],
      "metadata": {
        "execution": {
          "iopub.status.busy": "2023-01-28T14:47:58.832008Z",
          "iopub.execute_input": "2023-01-28T14:47:58.833692Z",
          "iopub.status.idle": "2023-01-28T14:47:59.299638Z",
          "shell.execute_reply.started": "2023-01-28T14:47:58.833638Z",
          "shell.execute_reply": "2023-01-28T14:47:59.298512Z"
        },
        "trusted": true,
        "id": "7GaLS2UHAUwa",
        "outputId": "a2b60102-877c-4b16-a6ba-24f9b47d473a",
        "colab": {
          "base_uri": "https://localhost:8080/",
          "height": 573
        }
      },
      "execution_count": 51,
      "outputs": [
        {
          "output_type": "display_data",
          "data": {
            "text/plain": [
              "<Figure size 432x288 with 1 Axes>"
            ],
            "image/png": "[encoded data removed]"
          },
          "metadata": {
            "needs_background": "light"
          }
        },
        {
          "output_type": "display_data",
          "data": {
            "text/plain": [
              "<Figure size 432x288 with 1 Axes>"
            ],
            "image/png": "[encoded data removed]"
          },
          "metadata": {
            "needs_background": "light"
          }
        }
      ]
    },
    {
      "cell_type": "code",
      "source": [
        "# Let's create a function \n",
        "def compare_history(original_history, new_history, initial_epochs):\n",
        "    \"\"\"\n",
        "    Compares two TensorFlow History objects\n",
        "    \"\"\"\n",
        "    # Get original history measurements\n",
        "    acc = original_history.history[\"accuracy\"]\n",
        "    loss = original_history.history[\"loss\"]\n",
        "    \n",
        "    val_acc = original_history.history[\"val_accuracy\"]\n",
        "    val_loss = original_history.history[\"val_loss\"]\n",
        "    \n",
        "    # Combine original history\n",
        "    total_acc = acc + new_history.history[\"accuracy\"]\n",
        "    total_loss = loss + new_history.history[\"loss\"]\n",
        "    \n",
        "    total_val_acc = val_acc + new_history.history[\"val_accuracy\"]\n",
        "    total_val_loss = val_loss + new_history.history[\"val_loss\"]\n",
        "    \n",
        "    # Make plots for accuracy\n",
        "    plt.figure(figsize=(8, 8))\n",
        "    plt.subplot(2, 1, 1)\n",
        "    plt.plot(total_acc, label=\"Training Accuracy\")\n",
        "    plt.plot(total_val_acc, label=\"Validation Accuracy\")\n",
        "    plt.plot([initial_epochs-1, initial_epochs-1], plt.ylim(), label=\"Start Fine Tuning\")\n",
        "    plt.legend(loc=\"lower right\")\n",
        "    plt.title(\"Training and Validation Accuracy\")\n",
        "    \n",
        "    # Make plots for accuracy\n",
        "#     plt.figure(figsize=(8, 8))\n",
        "    plt.subplot(2, 1, 2)\n",
        "    plt.plot(total_loss, label=\"Training Loss\")\n",
        "    plt.plot(total_val_loss, label=\"Validation Loss\")\n",
        "    plt.plot([initial_epochs-1, initial_epochs-1], plt.ylim(), label=\"Start Fine Tuning\")\n",
        "    plt.legend(loc=\"upper right\")\n",
        "    plt.title(\"Training and Validation Loss\")"
      ],
      "metadata": {
        "execution": {
          "iopub.status.busy": "2023-01-28T14:47:59.301296Z",
          "iopub.execute_input": "2023-01-28T14:47:59.302336Z",
          "iopub.status.idle": "2023-01-28T14:47:59.313921Z",
          "shell.execute_reply.started": "2023-01-28T14:47:59.302294Z",
          "shell.execute_reply": "2023-01-28T14:47:59.312775Z"
        },
        "trusted": true,
        "id": "g1KF96A8AUwa"
      },
      "execution_count": 52,
      "outputs": []
    },
    {
      "cell_type": "code",
      "source": [
        "compare_history(history_model_2,\n",
        "               history_fine_10_percent_data_aug,\n",
        "               initial_epochs=5)"
      ],
      "metadata": {
        "execution": {
          "iopub.status.busy": "2023-01-28T14:47:59.317299Z",
          "iopub.execute_input": "2023-01-28T14:47:59.318405Z",
          "iopub.status.idle": "2023-01-28T14:47:59.717608Z",
          "shell.execute_reply.started": "2023-01-28T14:47:59.318363Z",
          "shell.execute_reply": "2023-01-28T14:47:59.716503Z"
        },
        "trusted": true,
        "id": "cndhQcMMAUwb",
        "outputId": "d4f96f44-e856-46df-d910-558f2e7980de",
        "colab": {
          "base_uri": "https://localhost:8080/",
          "height": 499
        }
      },
      "execution_count": 53,
      "outputs": [
        {
          "output_type": "display_data",
          "data": {
            "text/plain": [
              "<Figure size 576x576 with 2 Axes>"
            ],
            "image/png": "[encoded data removed]"
          },
          "metadata": {
            "needs_background": "light"
          }
        }
      ]
    },
    {
      "cell_type": "markdown",
      "source": [
        "## Model 4: Fine-tuning and existing model on all of the data"
      ],
      "metadata": {
        "id": "8fPra5lPAUwb"
      }
    },
    {
      "cell_type": "code",
      "source": [
        "# Download and unzip 10 classes of Food101 data with all images\n",
        "!wget https://storage.googleapis.com/ztm_tf_course/food_vision/10_food_classes_all_data.zip\n",
        "unzip_data(\"10_food_classes_all_data.zip\")"
      ],
      "metadata": {
        "execution": {
          "iopub.status.busy": "2023-01-28T14:48:11.683670Z",
          "iopub.execute_input": "2023-01-28T14:48:11.684383Z",
          "iopub.status.idle": "2023-01-28T14:48:23.869483Z",
          "shell.execute_reply.started": "2023-01-28T14:48:11.684344Z",
          "shell.execute_reply": "2023-01-28T14:48:23.850259Z"
        },
        "trusted": true,
        "id": "ih_SHHVqAUwb",
        "outputId": "4fb08f69-894d-4438-9237-1ea3dca080d5",
        "colab": {
          "base_uri": "https://localhost:8080/"
        }
      },
      "execution_count": 54,
      "outputs": [
        {
          "output_type": "stream",
          "name": "stdout",
          "text": [
            "--2023-01-28 15:54:44--  https://storage.googleapis.com/ztm_tf_course/food_vision/10_food_classes_all_data.zip\n",
            "Resolving storage.googleapis.com (storage.googleapis.com)... 142.251.12.128, 172.217.194.128, 172.253.118.128, ...\n",
            "Connecting to storage.googleapis.com (storage.googleapis.com)|142.251.12.128|:443... connected.\n",
            "HTTP request sent, awaiting response... 200 OK\n",
            "Length: 519183241 (495M) [application/zip]\n",
            "Saving to: ‘10_food_classes_all_data.zip’\n",
            "\n",
            "10_food_classes_all 100%[===================>] 495.13M  24.3MB/s    in 22s     \n",
            "\n",
            "2023-01-28 15:55:07 (22.3 MB/s) - ‘10_food_classes_all_data.zip’ saved [519183241/519183241]\n",
            "\n"
          ]
        }
      ]
    },
    {
      "cell_type": "code",
      "source": [
        "# Setup training and test dir\n",
        "train_dir_all_data = \"10_food_classes_all_data/train\"\n",
        "test_dir = \"10_food_classes_all_data/test\""
      ],
      "metadata": {
        "execution": {
          "iopub.status.busy": "2023-01-28T14:48:23.872437Z",
          "iopub.execute_input": "2023-01-28T14:48:23.873035Z",
          "iopub.status.idle": "2023-01-28T14:48:23.879737Z",
          "shell.execute_reply.started": "2023-01-28T14:48:23.872980Z",
          "shell.execute_reply": "2023-01-28T14:48:23.878450Z"
        },
        "trusted": true,
        "id": "04-rnlDGAUwc"
      },
      "execution_count": 55,
      "outputs": []
    },
    {
      "cell_type": "code",
      "source": [
        "# How many images are we working with now?\n",
        "walk_through_dir(\"10_food_classes_all_data\")"
      ],
      "metadata": {
        "execution": {
          "iopub.status.busy": "2023-01-28T14:48:23.881370Z",
          "iopub.execute_input": "2023-01-28T14:48:23.882530Z",
          "iopub.status.idle": "2023-01-28T14:48:25.265994Z",
          "shell.execute_reply.started": "2023-01-28T14:48:23.882488Z",
          "shell.execute_reply": "2023-01-28T14:48:25.264833Z"
        },
        "trusted": true,
        "id": "X3gRoTanAUwc",
        "outputId": "474c7d27-cfea-46b4-b6ee-90867f20778a",
        "colab": {
          "base_uri": "https://localhost:8080/"
        }
      },
      "execution_count": 56,
      "outputs": [
        {
          "output_type": "stream",
          "name": "stdout",
          "text": [
            "There are 2 directories and 0 images in '10_food_classes_all_data'.\n",
            "There are 10 directories and 0 images in '10_food_classes_all_data/train'.\n",
            "There are 0 directories and 750 images in '10_food_classes_all_data/train/ice_cream'.\n",
            "There are 0 directories and 750 images in '10_food_classes_all_data/train/fried_rice'.\n",
            "There are 0 directories and 750 images in '10_food_classes_all_data/train/steak'.\n",
            "There are 0 directories and 750 images in '10_food_classes_all_data/train/ramen'.\n",
            "There are 0 directories and 750 images in '10_food_classes_all_data/train/pizza'.\n",
            "There are 0 directories and 750 images in '10_food_classes_all_data/train/hamburger'.\n",
            "There are 0 directories and 750 images in '10_food_classes_all_data/train/grilled_salmon'.\n",
            "There are 0 directories and 750 images in '10_food_classes_all_data/train/chicken_wings'.\n",
            "There are 0 directories and 750 images in '10_food_classes_all_data/train/chicken_curry'.\n",
            "There are 0 directories and 750 images in '10_food_classes_all_data/train/sushi'.\n",
            "There are 10 directories and 0 images in '10_food_classes_all_data/test'.\n",
            "There are 0 directories and 250 images in '10_food_classes_all_data/test/ice_cream'.\n",
            "There are 0 directories and 250 images in '10_food_classes_all_data/test/fried_rice'.\n",
            "There are 0 directories and 250 images in '10_food_classes_all_data/test/steak'.\n",
            "There are 0 directories and 250 images in '10_food_classes_all_data/test/ramen'.\n",
            "There are 0 directories and 250 images in '10_food_classes_all_data/test/pizza'.\n",
            "There are 0 directories and 250 images in '10_food_classes_all_data/test/hamburger'.\n",
            "There are 0 directories and 250 images in '10_food_classes_all_data/test/grilled_salmon'.\n",
            "There are 0 directories and 250 images in '10_food_classes_all_data/test/chicken_wings'.\n",
            "There are 0 directories and 250 images in '10_food_classes_all_data/test/chicken_curry'.\n",
            "There are 0 directories and 250 images in '10_food_classes_all_data/test/sushi'.\n"
          ]
        }
      ]
    },
    {
      "cell_type": "code",
      "source": [
        "# Setup data input\n",
        "import tensorflow as tf\n",
        "IMG_SIZE = (224, 224)\n",
        "train_data_10_classes_full = tf.keras.preprocessing.image_dataset_from_directory(train_dir_all_data,\n",
        "                                                                                label_mode=\"categorical\",\n",
        "                                                                                image_size=IMG_SIZE)\n",
        "test_data = tf.keras.preprocessing.image_dataset_from_directory(test_dir,\n",
        "                                                               label_mode=\"categorical\",\n",
        "                                                               image_size=IMG_SIZE)"
      ],
      "metadata": {
        "execution": {
          "iopub.status.busy": "2023-01-28T14:51:10.839455Z",
          "iopub.execute_input": "2023-01-28T14:51:10.839980Z",
          "iopub.status.idle": "2023-01-28T14:51:11.813014Z",
          "shell.execute_reply.started": "2023-01-28T14:51:10.839930Z",
          "shell.execute_reply": "2023-01-28T14:51:11.812043Z"
        },
        "trusted": true,
        "id": "YbOSvnYFAUwc",
        "outputId": "faefb2fd-3bac-4aa5-aeef-be068c5b2b04",
        "colab": {
          "base_uri": "https://localhost:8080/"
        }
      },
      "execution_count": 57,
      "outputs": [
        {
          "output_type": "stream",
          "name": "stdout",
          "text": [
            "Found 7500 files belonging to 10 classes.\n",
            "Found 2500 files belonging to 10 classes.\n"
          ]
        }
      ]
    },
    {
      "cell_type": "markdown",
      "source": [
        "The test dataset we've loaded in is the same as what we've been using for previous experiments (all experiments have used the same test dataset)\n",
        "\n",
        "Let's verify this.."
      ],
      "metadata": {
        "id": "2k8qTM2zAUwc"
      }
    },
    {
      "cell_type": "code",
      "source": [
        "# Evaluate model 2 (this is the fine-tuned on 10 percent of data version)\n",
        "model_2.evaluate(test_data)"
      ],
      "metadata": {
        "execution": {
          "iopub.status.busy": "2023-01-28T14:54:09.732003Z",
          "iopub.execute_input": "2023-01-28T14:54:09.732479Z",
          "iopub.status.idle": "2023-01-28T14:54:20.017710Z",
          "shell.execute_reply.started": "2023-01-28T14:54:09.732441Z",
          "shell.execute_reply": "2023-01-28T14:54:20.016641Z"
        },
        "trusted": true,
        "id": "55dO0RjXAUwc",
        "outputId": "46eadc33-94fb-4049-aa0b-d24b64f3e91c",
        "colab": {
          "base_uri": "https://localhost:8080/"
        }
      },
      "execution_count": 58,
      "outputs": [
        {
          "output_type": "stream",
          "name": "stdout",
          "text": [
            "79/79 [==============================] - 6s 71ms/step - loss: 0.3735 - accuracy: 0.8764\n"
          ]
        },
        {
          "output_type": "execute_result",
          "data": {
            "text/plain": [
              "[0.37346532940864563, 0.8763999938964844]"
            ]
          },
          "metadata": {},
          "execution_count": 58
        }
      ]
    },
    {
      "cell_type": "code",
      "source": [
        "results_fine_tune_10_percent"
      ],
      "metadata": {
        "execution": {
          "iopub.status.busy": "2023-01-28T14:54:38.235847Z",
          "iopub.execute_input": "2023-01-28T14:54:38.236412Z",
          "iopub.status.idle": "2023-01-28T14:54:38.245868Z",
          "shell.execute_reply.started": "2023-01-28T14:54:38.236368Z",
          "shell.execute_reply": "2023-01-28T14:54:38.244441Z"
        },
        "trusted": true,
        "id": "CMUZP4R3AUwd",
        "outputId": "3e5c1f77-9992-4a3b-b029-c2199d00950f",
        "colab": {
          "base_uri": "https://localhost:8080/"
        }
      },
      "execution_count": 59,
      "outputs": [
        {
          "output_type": "execute_result",
          "data": {
            "text/plain": [
              "[0.37346526980400085, 0.8763999938964844]"
            ]
          },
          "metadata": {},
          "execution_count": 59
        }
      ]
    },
    {
      "cell_type": "markdown",
      "source": [
        "To train a fine-tuning model (model_4) we need to revert model_2 back to its feature extraction weights. "
      ],
      "metadata": {
        "id": "40Bl8rg6AUwd"
      }
    },
    {
      "cell_type": "code",
      "source": [
        "# Load weights from checkpoint, that way we can fine-tune from \n",
        "# the same stage the 10 percent data model was fine-tuned from\n",
        "model_2.load_weights(checkpoint_path)"
      ],
      "metadata": {
        "execution": {
          "iopub.status.busy": "2023-01-28T14:58:34.500070Z",
          "iopub.execute_input": "2023-01-28T14:58:34.500431Z",
          "iopub.status.idle": "2023-01-28T14:58:35.360145Z",
          "shell.execute_reply.started": "2023-01-28T14:58:34.500399Z",
          "shell.execute_reply": "2023-01-28T14:58:35.359247Z"
        },
        "trusted": true,
        "id": "ecAYxJg4AUwd",
        "outputId": "654e3f75-4fd6-40d6-d40b-ce2db9d73fac",
        "colab": {
          "base_uri": "https://localhost:8080/"
        }
      },
      "execution_count": 60,
      "outputs": [
        {
          "output_type": "execute_result",
          "data": {
            "text/plain": [
              "<tensorflow.python.training.tracking.util.CheckpointLoadStatus at 0x7fca23fd6a30>"
            ]
          },
          "metadata": {},
          "execution_count": 60
        }
      ]
    },
    {
      "cell_type": "code",
      "source": [
        "# Let's evaluate model_2 now\n",
        "model_2.evaluate(test_data)"
      ],
      "metadata": {
        "execution": {
          "iopub.status.busy": "2023-01-28T14:59:18.160897Z",
          "iopub.execute_input": "2023-01-28T14:59:18.161267Z",
          "iopub.status.idle": "2023-01-28T14:59:24.152419Z",
          "shell.execute_reply.started": "2023-01-28T14:59:18.161235Z",
          "shell.execute_reply": "2023-01-28T14:59:24.151478Z"
        },
        "trusted": true,
        "id": "ldlqNC6cAUwd",
        "outputId": "c5be82bb-8c54-4f14-d2c7-e08ce5080658",
        "colab": {
          "base_uri": "https://localhost:8080/"
        }
      },
      "execution_count": 61,
      "outputs": [
        {
          "output_type": "stream",
          "name": "stdout",
          "text": [
            "79/79 [==============================] - 6s 71ms/step - loss: 0.4426 - accuracy: 0.8760\n"
          ]
        },
        {
          "output_type": "execute_result",
          "data": {
            "text/plain": [
              "[0.4426364600658417, 0.8759999871253967]"
            ]
          },
          "metadata": {},
          "execution_count": 61
        }
      ]
    },
    {
      "cell_type": "code",
      "source": [
        "# Check to see if our model_2 has beed reverted back to feature extraction results\n",
        "results_10_percent_data_aug"
      ],
      "metadata": {
        "execution": {
          "iopub.status.busy": "2023-01-28T14:59:52.070656Z",
          "iopub.execute_input": "2023-01-28T14:59:52.071051Z",
          "iopub.status.idle": "2023-01-28T14:59:52.079668Z",
          "shell.execute_reply.started": "2023-01-28T14:59:52.071016Z",
          "shell.execute_reply": "2023-01-28T14:59:52.078295Z"
        },
        "trusted": true,
        "id": "ev5blLhvAUwe",
        "outputId": "c85d72d9-c4d2-4439-a749-6632f4de1c03",
        "colab": {
          "base_uri": "https://localhost:8080/"
        }
      },
      "execution_count": 62,
      "outputs": [
        {
          "output_type": "execute_result",
          "data": {
            "text/plain": [
              "[0.4426363706588745, 0.8759999871253967]"
            ]
          },
          "metadata": {},
          "execution_count": 62
        }
      ]
    },
    {
      "cell_type": "markdown",
      "source": [
        "Alright, the previous steps might seem quite confusing, but all we've done is:\n",
        "1. Trained a feature extraction transfer learning model for 5 epochs on 10% of the data with data augmentation (model_2) and we saved the model's weights using `ModelCheckpoint` callback.\n",
        "2. Fine-tuned the same model on the same 10% of the data for a further 5 epochs with the top 10 layers of the base model unfrozen (model_3)\n",
        "3. Saved the results and training logs each time\n",
        "4. Reloaded the model from step 1 to do the same steps as step 2 except this time we're going to use all of the data (model_4)"
      ],
      "metadata": {
        "id": "8DKEfdppAUwe"
      }
    },
    {
      "cell_type": "code",
      "source": [
        "# Check which layers ar tunable in the whole model\n",
        "for layer_number, layer in enumerate(model_2.layers):\n",
        "    print(layer_number, layer.name, layer.trainable)"
      ],
      "metadata": {
        "execution": {
          "iopub.status.busy": "2023-01-28T15:04:36.106193Z",
          "iopub.execute_input": "2023-01-28T15:04:36.106603Z",
          "iopub.status.idle": "2023-01-28T15:04:36.116025Z",
          "shell.execute_reply.started": "2023-01-28T15:04:36.106546Z",
          "shell.execute_reply": "2023-01-28T15:04:36.114873Z"
        },
        "trusted": true,
        "id": "Qub1ch-4AUwe",
        "outputId": "8d790dcc-25f4-4f86-d588-3dfa44c0e084",
        "colab": {
          "base_uri": "https://localhost:8080/"
        }
      },
      "execution_count": 63,
      "outputs": [
        {
          "output_type": "stream",
          "name": "stdout",
          "text": [
            "0 input_layer True\n",
            "1 data_augmentation True\n",
            "2 efficientnetb0 True\n",
            "3 global_average_pooling_layer True\n",
            "4 dense True\n"
          ]
        }
      ]
    },
    {
      "cell_type": "code",
      "source": [
        "# Let's drill into our base_model (efficientNetB0) and see what layers are trainable\n",
        "for layer_number, layer in enumerate(model_2.layers[2].layers):\n",
        "    print(layer_number, layer.name, layer.trainable)"
      ],
      "metadata": {
        "execution": {
          "iopub.status.busy": "2023-01-28T15:06:17.253898Z",
          "iopub.execute_input": "2023-01-28T15:06:17.254266Z",
          "iopub.status.idle": "2023-01-28T15:06:17.266004Z",
          "shell.execute_reply.started": "2023-01-28T15:06:17.254235Z",
          "shell.execute_reply": "2023-01-28T15:06:17.265001Z"
        },
        "trusted": true,
        "id": "ClXOFD-2AUwf",
        "outputId": "285d5aef-92c4-441d-dcb3-94136306a549",
        "colab": {
          "base_uri": "https://localhost:8080/"
        }
      },
      "execution_count": 64,
      "outputs": [
        {
          "output_type": "stream",
          "name": "stdout",
          "text": [
            "0 input_3 False\n",
            "1 rescaling_2 False\n",
            "2 normalization_2 False\n",
            "3 tf.math.truediv_2 False\n",
            "4 stem_conv_pad False\n",
            "5 stem_conv False\n",
            "6 stem_bn False\n",
            "7 stem_activation False\n",
            "8 block1a_dwconv False\n",
            "9 block1a_bn False\n",
            "10 block1a_activation False\n",
            "11 block1a_se_squeeze False\n",
            "12 block1a_se_reshape False\n",
            "13 block1a_se_reduce False\n",
            "14 block1a_se_expand False\n",
            "15 block1a_se_excite False\n",
            "16 block1a_project_conv False\n",
            "17 block1a_project_bn False\n",
            "18 block2a_expand_conv False\n",
            "19 block2a_expand_bn False\n",
            "20 block2a_expand_activation False\n",
            "21 block2a_dwconv_pad False\n",
            "22 block2a_dwconv False\n",
            "23 block2a_bn False\n",
            "24 block2a_activation False\n",
            "25 block2a_se_squeeze False\n",
            "26 block2a_se_reshape False\n",
            "27 block2a_se_reduce False\n",
            "28 block2a_se_expand False\n",
            "29 block2a_se_excite False\n",
            "30 block2a_project_conv False\n",
            "31 block2a_project_bn False\n",
            "32 block2b_expand_conv False\n",
            "33 block2b_expand_bn False\n",
            "34 block2b_expand_activation False\n",
            "35 block2b_dwconv False\n",
            "36 block2b_bn False\n",
            "37 block2b_activation False\n",
            "38 block2b_se_squeeze False\n",
            "39 block2b_se_reshape False\n",
            "40 block2b_se_reduce False\n",
            "41 block2b_se_expand False\n",
            "42 block2b_se_excite False\n",
            "43 block2b_project_conv False\n",
            "44 block2b_project_bn False\n",
            "45 block2b_drop False\n",
            "46 block2b_add False\n",
            "47 block3a_expand_conv False\n",
            "48 block3a_expand_bn False\n",
            "49 block3a_expand_activation False\n",
            "50 block3a_dwconv_pad False\n",
            "51 block3a_dwconv False\n",
            "52 block3a_bn False\n",
            "53 block3a_activation False\n",
            "54 block3a_se_squeeze False\n",
            "55 block3a_se_reshape False\n",
            "56 block3a_se_reduce False\n",
            "57 block3a_se_expand False\n",
            "58 block3a_se_excite False\n",
            "59 block3a_project_conv False\n",
            "60 block3a_project_bn False\n",
            "61 block3b_expand_conv False\n",
            "62 block3b_expand_bn False\n",
            "63 block3b_expand_activation False\n",
            "64 block3b_dwconv False\n",
            "65 block3b_bn False\n",
            "66 block3b_activation False\n",
            "67 block3b_se_squeeze False\n",
            "68 block3b_se_reshape False\n",
            "69 block3b_se_reduce False\n",
            "70 block3b_se_expand False\n",
            "71 block3b_se_excite False\n",
            "72 block3b_project_conv False\n",
            "73 block3b_project_bn False\n",
            "74 block3b_drop False\n",
            "75 block3b_add False\n",
            "76 block4a_expand_conv False\n",
            "77 block4a_expand_bn False\n",
            "78 block4a_expand_activation False\n",
            "79 block4a_dwconv_pad False\n",
            "80 block4a_dwconv False\n",
            "81 block4a_bn False\n",
            "82 block4a_activation False\n",
            "83 block4a_se_squeeze False\n",
            "84 block4a_se_reshape False\n",
            "85 block4a_se_reduce False\n",
            "86 block4a_se_expand False\n",
            "87 block4a_se_excite False\n",
            "88 block4a_project_conv False\n",
            "89 block4a_project_bn False\n",
            "90 block4b_expand_conv False\n",
            "91 block4b_expand_bn False\n",
            "92 block4b_expand_activation False\n",
            "93 block4b_dwconv False\n",
            "94 block4b_bn False\n",
            "95 block4b_activation False\n",
            "96 block4b_se_squeeze False\n",
            "97 block4b_se_reshape False\n",
            "98 block4b_se_reduce False\n",
            "99 block4b_se_expand False\n",
            "100 block4b_se_excite False\n",
            "101 block4b_project_conv False\n",
            "102 block4b_project_bn False\n",
            "103 block4b_drop False\n",
            "104 block4b_add False\n",
            "105 block4c_expand_conv False\n",
            "106 block4c_expand_bn False\n",
            "107 block4c_expand_activation False\n",
            "108 block4c_dwconv False\n",
            "109 block4c_bn False\n",
            "110 block4c_activation False\n",
            "111 block4c_se_squeeze False\n",
            "112 block4c_se_reshape False\n",
            "113 block4c_se_reduce False\n",
            "114 block4c_se_expand False\n",
            "115 block4c_se_excite False\n",
            "116 block4c_project_conv False\n",
            "117 block4c_project_bn False\n",
            "118 block4c_drop False\n",
            "119 block4c_add False\n",
            "120 block5a_expand_conv False\n",
            "121 block5a_expand_bn False\n",
            "122 block5a_expand_activation False\n",
            "123 block5a_dwconv False\n",
            "124 block5a_bn False\n",
            "125 block5a_activation False\n",
            "126 block5a_se_squeeze False\n",
            "127 block5a_se_reshape False\n",
            "128 block5a_se_reduce False\n",
            "129 block5a_se_expand False\n",
            "130 block5a_se_excite False\n",
            "131 block5a_project_conv False\n",
            "132 block5a_project_bn False\n",
            "133 block5b_expand_conv False\n",
            "134 block5b_expand_bn False\n",
            "135 block5b_expand_activation False\n",
            "136 block5b_dwconv False\n",
            "137 block5b_bn False\n",
            "138 block5b_activation False\n",
            "139 block5b_se_squeeze False\n",
            "140 block5b_se_reshape False\n",
            "141 block5b_se_reduce False\n",
            "142 block5b_se_expand False\n",
            "143 block5b_se_excite False\n",
            "144 block5b_project_conv False\n",
            "145 block5b_project_bn False\n",
            "146 block5b_drop False\n",
            "147 block5b_add False\n",
            "148 block5c_expand_conv False\n",
            "149 block5c_expand_bn False\n",
            "150 block5c_expand_activation False\n",
            "151 block5c_dwconv False\n",
            "152 block5c_bn False\n",
            "153 block5c_activation False\n",
            "154 block5c_se_squeeze False\n",
            "155 block5c_se_reshape False\n",
            "156 block5c_se_reduce False\n",
            "157 block5c_se_expand False\n",
            "158 block5c_se_excite False\n",
            "159 block5c_project_conv False\n",
            "160 block5c_project_bn False\n",
            "161 block5c_drop False\n",
            "162 block5c_add False\n",
            "163 block6a_expand_conv False\n",
            "164 block6a_expand_bn False\n",
            "165 block6a_expand_activation False\n",
            "166 block6a_dwconv_pad False\n",
            "167 block6a_dwconv False\n",
            "168 block6a_bn False\n",
            "169 block6a_activation False\n",
            "170 block6a_se_squeeze False\n",
            "171 block6a_se_reshape False\n",
            "172 block6a_se_reduce False\n",
            "173 block6a_se_expand False\n",
            "174 block6a_se_excite False\n",
            "175 block6a_project_conv False\n",
            "176 block6a_project_bn False\n",
            "177 block6b_expand_conv False\n",
            "178 block6b_expand_bn False\n",
            "179 block6b_expand_activation False\n",
            "180 block6b_dwconv False\n",
            "181 block6b_bn False\n",
            "182 block6b_activation False\n",
            "183 block6b_se_squeeze False\n",
            "184 block6b_se_reshape False\n",
            "185 block6b_se_reduce False\n",
            "186 block6b_se_expand False\n",
            "187 block6b_se_excite False\n",
            "188 block6b_project_conv False\n",
            "189 block6b_project_bn False\n",
            "190 block6b_drop False\n",
            "191 block6b_add False\n",
            "192 block6c_expand_conv False\n",
            "193 block6c_expand_bn False\n",
            "194 block6c_expand_activation False\n",
            "195 block6c_dwconv False\n",
            "196 block6c_bn False\n",
            "197 block6c_activation False\n",
            "198 block6c_se_squeeze False\n",
            "199 block6c_se_reshape False\n",
            "200 block6c_se_reduce False\n",
            "201 block6c_se_expand False\n",
            "202 block6c_se_excite False\n",
            "203 block6c_project_conv False\n",
            "204 block6c_project_bn False\n",
            "205 block6c_drop False\n",
            "206 block6c_add False\n",
            "207 block6d_expand_conv False\n",
            "208 block6d_expand_bn False\n",
            "209 block6d_expand_activation False\n",
            "210 block6d_dwconv False\n",
            "211 block6d_bn False\n",
            "212 block6d_activation False\n",
            "213 block6d_se_squeeze False\n",
            "214 block6d_se_reshape False\n",
            "215 block6d_se_reduce False\n",
            "216 block6d_se_expand False\n",
            "217 block6d_se_excite False\n",
            "218 block6d_project_conv False\n",
            "219 block6d_project_bn False\n",
            "220 block6d_drop False\n",
            "221 block6d_add False\n",
            "222 block7a_expand_conv False\n",
            "223 block7a_expand_bn False\n",
            "224 block7a_expand_activation False\n",
            "225 block7a_dwconv False\n",
            "226 block7a_bn False\n",
            "227 block7a_activation False\n",
            "228 block7a_se_squeeze True\n",
            "229 block7a_se_reshape True\n",
            "230 block7a_se_reduce True\n",
            "231 block7a_se_expand True\n",
            "232 block7a_se_excite True\n",
            "233 block7a_project_conv True\n",
            "234 block7a_project_bn True\n",
            "235 top_conv True\n",
            "236 top_bn True\n",
            "237 top_activation True\n"
          ]
        }
      ]
    },
    {
      "cell_type": "code",
      "source": [
        "# Compile\n",
        "model_2.compile(loss=\"categorical_crossentropy\",\n",
        "               optimizer=tf.keras.optimizers.Adam(learning_rate=0.0001), # JANGAN LUPA\n",
        "               metrics=[\"accuracy\"])"
      ],
      "metadata": {
        "execution": {
          "iopub.status.busy": "2023-01-28T15:09:09.899151Z",
          "iopub.execute_input": "2023-01-28T15:09:09.899545Z",
          "iopub.status.idle": "2023-01-28T15:09:09.915452Z",
          "shell.execute_reply.started": "2023-01-28T15:09:09.899497Z",
          "shell.execute_reply": "2023-01-28T15:09:09.914276Z"
        },
        "trusted": true,
        "id": "bufPMR_uAUwf"
      },
      "execution_count": 65,
      "outputs": []
    },
    {
      "cell_type": "code",
      "source": [
        "# Continue to train and fine-tune the model to our data (100% of training data)\n",
        "fine_tune_epochs = initial_epochs + 5\n",
        "\n",
        "history_fine_10_classes_full = model_2.fit(train_data_10_classes_full,\n",
        "                                          epochs=fine_tune_epochs,\n",
        "                                          validation_data=test_data,\n",
        "                                          validation_steps=int(len(test_data) * .25),\n",
        "                                          initial_epoch = history_model_2.epoch[-1],\n",
        "                                          callbacks=[create_tensorboard_callback(dir_name=\"transfer_learning\",\n",
        "                                                                                experiment_name=\"full_10_classes_fine_tune_last_10\")])"
      ],
      "metadata": {
        "execution": {
          "iopub.status.busy": "2023-01-28T15:13:11.152989Z",
          "iopub.execute_input": "2023-01-28T15:13:11.153358Z",
          "iopub.status.idle": "2023-01-28T15:16:00.560313Z",
          "shell.execute_reply.started": "2023-01-28T15:13:11.153327Z",
          "shell.execute_reply": "2023-01-28T15:16:00.559286Z"
        },
        "trusted": true,
        "id": "0vMQOVWOAUwf",
        "outputId": "ec6bc4db-b15a-43c2-8138-dddabe287e2e",
        "colab": {
          "base_uri": "https://localhost:8080/"
        }
      },
      "execution_count": 66,
      "outputs": [
        {
          "output_type": "stream",
          "name": "stdout",
          "text": [
            "Saving TensorBoard log files to: transfer_learning/full_10_classes_fine_tune_last_10/20230128-155534\n",
            "Epoch 5/10\n",
            "235/235 [==============================] - 27s 92ms/step - loss: 0.4460 - accuracy: 0.8568 - val_loss: 0.3065 - val_accuracy: 0.8997\n",
            "Epoch 6/10\n",
            "235/235 [==============================] - 20s 83ms/step - loss: 0.3294 - accuracy: 0.8965 - val_loss: 0.2832 - val_accuracy: 0.9079\n",
            "Epoch 7/10\n",
            "235/235 [==============================] - 20s 84ms/step - loss: 0.2631 - accuracy: 0.9181 - val_loss: 0.2725 - val_accuracy: 0.9178\n",
            "Epoch 8/10\n",
            "235/235 [==============================] - 20s 83ms/step - loss: 0.2099 - accuracy: 0.9397 - val_loss: 0.2777 - val_accuracy: 0.9309\n",
            "Epoch 9/10\n",
            "235/235 [==============================] - 20s 83ms/step - loss: 0.1726 - accuracy: 0.9504 - val_loss: 0.2658 - val_accuracy: 0.9276\n",
            "Epoch 10/10\n",
            "235/235 [==============================] - 20s 84ms/step - loss: 0.1384 - accuracy: 0.9641 - val_loss: 0.2754 - val_accuracy: 0.9276\n"
          ]
        }
      ]
    },
    {
      "cell_type": "code",
      "source": [
        "# Let's evaluate on all of the test data\n",
        "results_fine_tune_full_data = model_2.evaluate(test_data)"
      ],
      "metadata": {
        "execution": {
          "iopub.status.busy": "2023-01-28T15:19:16.565087Z",
          "iopub.execute_input": "2023-01-28T15:19:16.565463Z",
          "iopub.status.idle": "2023-01-28T15:19:26.820116Z",
          "shell.execute_reply.started": "2023-01-28T15:19:16.565429Z",
          "shell.execute_reply": "2023-01-28T15:19:26.819146Z"
        },
        "trusted": true,
        "id": "zJsmKHXbAUwg",
        "outputId": "d2daa974-3f98-404d-a24b-32cb78b9a2cf",
        "colab": {
          "base_uri": "https://localhost:8080/"
        }
      },
      "execution_count": 67,
      "outputs": [
        {
          "output_type": "stream",
          "name": "stdout",
          "text": [
            "79/79 [==============================] - 6s 70ms/step - loss: 0.2511 - accuracy: 0.9252\n"
          ]
        }
      ]
    },
    {
      "cell_type": "code",
      "source": [
        "# How did fine-tuning go with more data?\n",
        "compare_history(original_history=history_model_2,\n",
        "               new_history=history_fine_10_classes_full,\n",
        "               initial_epochs=5)"
      ],
      "metadata": {
        "execution": {
          "iopub.status.busy": "2023-01-28T15:21:33.961475Z",
          "iopub.execute_input": "2023-01-28T15:21:33.962100Z",
          "iopub.status.idle": "2023-01-28T15:21:34.350951Z",
          "shell.execute_reply.started": "2023-01-28T15:21:33.962057Z",
          "shell.execute_reply": "2023-01-28T15:21:34.349895Z"
        },
        "trusted": true,
        "id": "IijHIJJaAUwg",
        "outputId": "42b738e1-fe30-4672-cf7b-9004277d3617",
        "colab": {
          "base_uri": "https://localhost:8080/",
          "height": 499
        }
      },
      "execution_count": 68,
      "outputs": [
        {
          "output_type": "display_data",
          "data": {
            "text/plain": [
              "<Figure size 576x576 with 2 Axes>"
            ],
            "image/png": "[encoded data removed]"
          },
          "metadata": {
            "needs_background": "light"
          }
        }
      ]
    },
    {
      "cell_type": "markdown",
      "source": [
        "## Viewing our experiment data on TensorBoard\n",
        "\n",
        "✏️ **Note** : Anything you upload to TensorBoard.dev is going to be public. So if you have private data, do not upload"
      ],
      "metadata": {
        "id": "vFCQ4h_oAUwg"
      }
    },
    {
      "cell_type": "code",
      "source": [
        "# View tensorboard logs of transfer learning modelling experiment (should ~ 4 models)\n",
        "# Upload TensorBoard dev records\n",
        "!tensorboard dev upload --logdir ./transfer_learning \\\n",
        "    --name \"Transfer Learning Experiments with 10 Food101 Classes\" \\\n",
        "    --description \"A series of different transfer learning experiments with varying amount of data and fine-tuning\" \\\n",
        "    --one_shot # exits the uploader once its finished"
      ],
      "metadata": {
        "execution": {
          "iopub.status.busy": "2023-01-28T15:29:21.551698Z",
          "iopub.execute_input": "2023-01-28T15:29:21.552073Z"
        },
        "trusted": true,
        "id": "dVmsu_nOAUwh",
        "outputId": "a144649a-14bc-4825-d4c5-b3032b6ae7b4",
        "colab": {
          "base_uri": "https://localhost:8080/"
        }
      },
      "execution_count": 69,
      "outputs": [
        {
          "output_type": "stream",
          "name": "stdout",
          "text": [
            "\n",
            "***** TensorBoard Uploader *****\n",
            "\n",
            "This will upload your TensorBoard logs to https://tensorboard.dev/ from\n",
            "the following directory:\n",
            "\n",
            "./transfer_learning\n",
            "\n",
            "This TensorBoard will be visible to everyone. Do not upload sensitive\n",
            "data.\n",
            "\n",
            "Your use of this service is subject to Google's Terms of Service\n",
            "<https://policies.google.com/terms> and Privacy Policy\n",
            "<https://policies.google.com/privacy>, and TensorBoard.dev's Terms of Service\n",
            "<https://tensorboard.dev/policy/terms/>.\n",
            "\n",
            "This notice will not be shown again while you are logged into the uploader.\n",
            "To log out, run `tensorboard dev auth revoke`.\n",
            "\n",
            "Continue? (yes/NO) yes\n",
            "\n",
            "Please visit this URL to authorize this application: https://accounts.google.com/o/oauth2/auth?response_type=code&client_id=373649185512-8v619h5kft38l4456nm2dj4ubeqsrvh6.apps.googleusercontent.com&redirect_uri=urn%3Aietf%3Awg%3Aoauth%3A2.0%3Aoob&scope=openid+https%3A%2F%2Fwww.googleapis.com%2Fauth%2Fuserinfo.email&state=LGfOOaxemIVohy5yoMm2cMaKh2qZbd&prompt=consent&access_type=offline\n",
            "Enter the authorization code: 4/1AWtgzh6yTMDk12i9wAnlPou-hcAlb8_LvbzYy37BYFikDdzLVkkQc-CeUQI\n",
            "\n",
            "\n",
            "New experiment created. View your TensorBoard at: https://tensorboard.dev/experiment/WMoAtPgtQuaigYN05RWq6Q/\n",
            "\n",
            "\u001b[1m[2023-01-28T15:58:31]\u001b[0m Started scanning logdir.\n",
            "\u001b[1m[2023-01-28T15:58:41]\u001b[0m Total uploaded: 192 scalars, 0 tensors, 6 binary objects (4.6 MB)\n",
            "\u001b[1m[2023-01-28T15:58:41]\u001b[0m Done scanning logdir.\n",
            "\n",
            "\n",
            "Done. View your TensorBoard at https://tensorboard.dev/experiment/WMoAtPgtQuaigYN05RWq6Q/\n"
          ]
        }
      ]
    },
    {
      "cell_type": "code",
      "source": [],
      "metadata": {
        "id": "dvODrd1aAUwh"
      },
      "execution_count": 69,
      "outputs": []
    }
  ]
}