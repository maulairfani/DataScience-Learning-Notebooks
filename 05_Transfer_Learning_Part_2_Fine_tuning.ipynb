{
 "cells": [
  {
   "cell_type": "markdown",
   "id": "5b2ae548",
   "metadata": {
    "id": "q7jhazM_zjoQ",
    "papermill": {
     "duration": 0.021671,
     "end_time": "2023-01-26T08:08:27.827278",
     "exception": false,
     "start_time": "2023-01-26T08:08:27.805607",
     "status": "completed"
    },
    "tags": []
   },
   "source": [
    "# Transfer Learning with Tensorflow part 2 : Fine tuning"
   ]
  },
  {
   "cell_type": "code",
   "execution_count": 1,
   "id": "332f077f",
   "metadata": {
    "execution": {
     "iopub.execute_input": "2023-01-26T08:08:27.872605Z",
     "iopub.status.busy": "2023-01-26T08:08:27.872001Z",
     "iopub.status.idle": "2023-01-26T08:08:29.045321Z",
     "shell.execute_reply": "2023-01-26T08:08:29.043914Z"
    },
    "id": "BlUcB2dqz5_6",
    "outputId": "a1ab7ba7-631d-4b91-e872-45b6df3e3d42",
    "papermill": {
     "duration": 1.200403,
     "end_time": "2023-01-26T08:08:29.047831",
     "exception": false,
     "start_time": "2023-01-26T08:08:27.847428",
     "status": "completed"
    },
    "tags": []
   },
   "outputs": [
    {
     "name": "stdout",
     "output_type": "stream",
     "text": [
      "Thu Jan 26 08:08:28 2023       \r\n",
      "+-----------------------------------------------------------------------------+\r\n",
      "| NVIDIA-SMI 470.82.01    Driver Version: 470.82.01    CUDA Version: 11.4     |\r\n",
      "|-------------------------------+----------------------+----------------------+\r\n",
      "| GPU  Name        Persistence-M| Bus-Id        Disp.A | Volatile Uncorr. ECC |\r\n",
      "| Fan  Temp  Perf  Pwr:Usage/Cap|         Memory-Usage | GPU-Util  Compute M. |\r\n",
      "|                               |                      |               MIG M. |\r\n",
      "|===============================+======================+======================|\r\n",
      "|   0  Tesla T4            Off  | 00000000:00:04.0 Off |                    0 |\r\n",
      "| N/A   43C    P8    11W /  70W |      0MiB / 15109MiB |      0%      Default |\r\n",
      "|                               |                      |                  N/A |\r\n",
      "+-------------------------------+----------------------+----------------------+\r\n",
      "|   1  Tesla T4            Off  | 00000000:00:05.0 Off |                    0 |\r\n",
      "| N/A   41C    P8    11W /  70W |      0MiB / 15109MiB |      0%      Default |\r\n",
      "|                               |                      |                  N/A |\r\n",
      "+-------------------------------+----------------------+----------------------+\r\n",
      "                                                                               \r\n",
      "+-----------------------------------------------------------------------------+\r\n",
      "| Processes:                                                                  |\r\n",
      "|  GPU   GI   CI        PID   Type   Process name                  GPU Memory |\r\n",
      "|        ID   ID                                                   Usage      |\r\n",
      "|=============================================================================|\r\n",
      "|  No running processes found                                                 |\r\n",
      "+-----------------------------------------------------------------------------+\r\n"
     ]
    }
   ],
   "source": [
    "# Check if we're using a GPU\n",
    "!nvidia-smi"
   ]
  },
  {
   "cell_type": "code",
   "execution_count": 2,
   "id": "63660964",
   "metadata": {
    "execution": {
     "iopub.execute_input": "2023-01-26T08:08:29.075096Z",
     "iopub.status.busy": "2023-01-26T08:08:29.074748Z",
     "iopub.status.idle": "2023-01-26T08:08:30.308242Z",
     "shell.execute_reply": "2023-01-26T08:08:30.306807Z"
    },
    "id": "yAvoUe1Mz9Y3",
    "outputId": "de33c274-6214-438e-f3a4-b7d1c48f7a54",
    "papermill": {
     "duration": 1.250038,
     "end_time": "2023-01-26T08:08:30.310895",
     "exception": false,
     "start_time": "2023-01-26T08:08:29.060857",
     "status": "completed"
    },
    "tags": []
   },
   "outputs": [
    {
     "name": "stdout",
     "output_type": "stream",
     "text": [
      "--2023-01-26 08:08:29--  https://raw.githubusercontent.com/maulairfani/DataScience-Learning-Notebooks/main/helper_functions.py\r\n",
      "Resolving raw.githubusercontent.com (raw.githubusercontent.com)... 185.199.111.133, 185.199.110.133, 185.199.108.133, ...\r\n",
      "Connecting to raw.githubusercontent.com (raw.githubusercontent.com)|185.199.111.133|:443... connected.\r\n",
      "HTTP request sent, awaiting response... 200 OK\r\n",
      "Length: 10246 (10K) [text/plain]\r\n",
      "Saving to: ‘helper_functions.py’\r\n",
      "\r\n",
      "helper_functions.py 100%[===================>]  10.01K  --.-KB/s    in 0s      \r\n",
      "\r\n",
      "2023-01-26 08:08:30 (51.3 MB/s) - ‘helper_functions.py’ saved [10246/10246]\r\n",
      "\r\n"
     ]
    }
   ],
   "source": [
    "!wget https://raw.githubusercontent.com/maulairfani/DataScience-Learning-Notebooks/main/helper_functions.py"
   ]
  },
  {
   "cell_type": "code",
   "execution_count": 3,
   "id": "0f999329",
   "metadata": {
    "execution": {
     "iopub.execute_input": "2023-01-26T08:08:30.343049Z",
     "iopub.status.busy": "2023-01-26T08:08:30.341296Z",
     "iopub.status.idle": "2023-01-26T08:08:36.214790Z",
     "shell.execute_reply": "2023-01-26T08:08:36.213730Z"
    },
    "id": "Mt0aHEob04Ui",
    "papermill": {
     "duration": 5.891724,
     "end_time": "2023-01-26T08:08:36.217364",
     "exception": false,
     "start_time": "2023-01-26T08:08:30.325640",
     "status": "completed"
    },
    "tags": []
   },
   "outputs": [],
   "source": [
    "# Import helper functions\n",
    "from helper_functions import create_tensorboard_callback, plot_loss_curves, unzip_data, walk_through_dir"
   ]
  },
  {
   "cell_type": "markdown",
   "id": "38317faa",
   "metadata": {
    "id": "cTJTBR2e15f9",
    "papermill": {
     "duration": 0.013259,
     "end_time": "2023-01-26T08:08:36.246419",
     "exception": false,
     "start_time": "2023-01-26T08:08:36.233160",
     "status": "completed"
    },
    "tags": []
   },
   "source": [
    "## Let's get some data\n",
    "\n",
    "link : https://www.tensorflow.org/api_docs/python/tf/keras/applications"
   ]
  },
  {
   "cell_type": "code",
   "execution_count": 4,
   "id": "4c70802f",
   "metadata": {
    "execution": {
     "iopub.execute_input": "2023-01-26T08:08:36.273666Z",
     "iopub.status.busy": "2023-01-26T08:08:36.273095Z",
     "iopub.status.idle": "2023-01-26T08:08:39.558534Z",
     "shell.execute_reply": "2023-01-26T08:08:39.557158Z"
    },
    "id": "c6ccRDds2Xrq",
    "outputId": "e6e5657f-1975-4dd4-f2f9-a241731048f1",
    "papermill": {
     "duration": 3.301647,
     "end_time": "2023-01-26T08:08:39.561194",
     "exception": false,
     "start_time": "2023-01-26T08:08:36.259547",
     "status": "completed"
    },
    "tags": []
   },
   "outputs": [
    {
     "name": "stdout",
     "output_type": "stream",
     "text": [
      "--2023-01-26 08:08:37--  https://storage.googleapis.com/ztm_tf_course/food_vision/10_food_classes_10_percent.zip\r\n",
      "Resolving storage.googleapis.com (storage.googleapis.com)... 173.194.217.128, 172.217.193.128, 142.251.107.128, ...\r\n",
      "Connecting to storage.googleapis.com (storage.googleapis.com)|173.194.217.128|:443... connected.\r\n",
      "HTTP request sent, awaiting response... 200 OK\r\n",
      "Length: 168546183 (161M) [application/zip]\r\n",
      "Saving to: ‘10_food_classes_10_percent.zip’\r\n",
      "\r\n",
      "10_food_classes_10_ 100%[===================>] 160.74M   234MB/s    in 0.7s    \r\n",
      "\r\n",
      "2023-01-26 08:08:37 (234 MB/s) - ‘10_food_classes_10_percent.zip’ saved [168546183/168546183]\r\n",
      "\r\n"
     ]
    }
   ],
   "source": [
    "# Get 10% of training data of 10 classes of Food101\n",
    "!wget https://storage.googleapis.com/ztm_tf_course/food_vision/10_food_classes_10_percent.zip\n",
    "\n",
    "unzip_data(\"10_food_classes_10_percent.zip\")"
   ]
  },
  {
   "cell_type": "code",
   "execution_count": 5,
   "id": "ec468d03",
   "metadata": {
    "execution": {
     "iopub.execute_input": "2023-01-26T08:08:39.590509Z",
     "iopub.status.busy": "2023-01-26T08:08:39.590105Z",
     "iopub.status.idle": "2023-01-26T08:08:39.601934Z",
     "shell.execute_reply": "2023-01-26T08:08:39.600147Z"
    },
    "id": "FIK8vYzp4O-L",
    "outputId": "865b19ad-f3f4-46a2-a351-7325d7b93c2d",
    "papermill": {
     "duration": 0.029743,
     "end_time": "2023-01-26T08:08:39.604780",
     "exception": false,
     "start_time": "2023-01-26T08:08:39.575037",
     "status": "completed"
    },
    "tags": []
   },
   "outputs": [
    {
     "name": "stdout",
     "output_type": "stream",
     "text": [
      "There are 2 directories and 0 images in '10_food_classes_10_percent'.\n",
      "There are 10 directories and 0 images in '10_food_classes_10_percent/train'.\n",
      "There are 0 directories and 75 images in '10_food_classes_10_percent/train/chicken_curry'.\n",
      "There are 0 directories and 75 images in '10_food_classes_10_percent/train/ramen'.\n",
      "There are 0 directories and 75 images in '10_food_classes_10_percent/train/chicken_wings'.\n",
      "There are 0 directories and 75 images in '10_food_classes_10_percent/train/steak'.\n",
      "There are 0 directories and 75 images in '10_food_classes_10_percent/train/pizza'.\n",
      "There are 0 directories and 75 images in '10_food_classes_10_percent/train/fried_rice'.\n",
      "There are 0 directories and 75 images in '10_food_classes_10_percent/train/sushi'.\n",
      "There are 0 directories and 75 images in '10_food_classes_10_percent/train/hamburger'.\n",
      "There are 0 directories and 75 images in '10_food_classes_10_percent/train/grilled_salmon'.\n",
      "There are 0 directories and 75 images in '10_food_classes_10_percent/train/ice_cream'.\n",
      "There are 10 directories and 0 images in '10_food_classes_10_percent/test'.\n",
      "There are 0 directories and 250 images in '10_food_classes_10_percent/test/chicken_curry'.\n",
      "There are 0 directories and 250 images in '10_food_classes_10_percent/test/ramen'.\n",
      "There are 0 directories and 250 images in '10_food_classes_10_percent/test/chicken_wings'.\n",
      "There are 0 directories and 250 images in '10_food_classes_10_percent/test/steak'.\n",
      "There are 0 directories and 250 images in '10_food_classes_10_percent/test/pizza'.\n",
      "There are 0 directories and 250 images in '10_food_classes_10_percent/test/fried_rice'.\n",
      "There are 0 directories and 250 images in '10_food_classes_10_percent/test/sushi'.\n",
      "There are 0 directories and 250 images in '10_food_classes_10_percent/test/hamburger'.\n",
      "There are 0 directories and 250 images in '10_food_classes_10_percent/test/grilled_salmon'.\n",
      "There are 0 directories and 250 images in '10_food_classes_10_percent/test/ice_cream'.\n"
     ]
    }
   ],
   "source": [
    "# Check out how many images and subdirectories are in our dataset\n",
    "walk_through_dir(\"10_food_classes_10_percent\")"
   ]
  },
  {
   "cell_type": "code",
   "execution_count": 6,
   "id": "468b41de",
   "metadata": {
    "execution": {
     "iopub.execute_input": "2023-01-26T08:08:39.633477Z",
     "iopub.status.busy": "2023-01-26T08:08:39.633208Z",
     "iopub.status.idle": "2023-01-26T08:08:39.637988Z",
     "shell.execute_reply": "2023-01-26T08:08:39.637144Z"
    },
    "id": "wCibFaQX4Yxo",
    "papermill": {
     "duration": 0.021275,
     "end_time": "2023-01-26T08:08:39.640204",
     "exception": false,
     "start_time": "2023-01-26T08:08:39.618929",
     "status": "completed"
    },
    "tags": []
   },
   "outputs": [],
   "source": [
    "# Create training and test directory paths\n",
    "train_dir = \"10_food_classes_10_percent/train/\"\n",
    "test_dir = \"10_food_classes_10_percent/test/\""
   ]
  },
  {
   "cell_type": "code",
   "execution_count": 7,
   "id": "bb4fac14",
   "metadata": {
    "execution": {
     "iopub.execute_input": "2023-01-26T08:08:39.667800Z",
     "iopub.status.busy": "2023-01-26T08:08:39.667536Z",
     "iopub.status.idle": "2023-01-26T08:08:44.951191Z",
     "shell.execute_reply": "2023-01-26T08:08:44.949757Z"
    },
    "id": "CkRuYd3T4kwo",
    "outputId": "59257552-2a91-4765-a6cf-4c1f0f401c93",
    "papermill": {
     "duration": 5.300089,
     "end_time": "2023-01-26T08:08:44.953614",
     "exception": false,
     "start_time": "2023-01-26T08:08:39.653525",
     "status": "completed"
    },
    "tags": []
   },
   "outputs": [
    {
     "name": "stdout",
     "output_type": "stream",
     "text": [
      "Found 750 files belonging to 10 classes.\n"
     ]
    },
    {
     "name": "stderr",
     "output_type": "stream",
     "text": [
      "2023-01-26 08:08:40.929712: I tensorflow/stream_executor/cuda/cuda_gpu_executor.cc:937] successful NUMA node read from SysFS had negative value (-1), but there must be at least one NUMA node, so returning NUMA node zero\n",
      "2023-01-26 08:08:40.930635: I tensorflow/stream_executor/cuda/cuda_gpu_executor.cc:937] successful NUMA node read from SysFS had negative value (-1), but there must be at least one NUMA node, so returning NUMA node zero\n",
      "2023-01-26 08:08:41.077911: I tensorflow/stream_executor/cuda/cuda_gpu_executor.cc:937] successful NUMA node read from SysFS had negative value (-1), but there must be at least one NUMA node, so returning NUMA node zero\n",
      "2023-01-26 08:08:41.078840: I tensorflow/stream_executor/cuda/cuda_gpu_executor.cc:937] successful NUMA node read from SysFS had negative value (-1), but there must be at least one NUMA node, so returning NUMA node zero\n",
      "2023-01-26 08:08:41.079661: I tensorflow/stream_executor/cuda/cuda_gpu_executor.cc:937] successful NUMA node read from SysFS had negative value (-1), but there must be at least one NUMA node, so returning NUMA node zero\n",
      "2023-01-26 08:08:41.080468: I tensorflow/stream_executor/cuda/cuda_gpu_executor.cc:937] successful NUMA node read from SysFS had negative value (-1), but there must be at least one NUMA node, so returning NUMA node zero\n",
      "2023-01-26 08:08:41.087554: I tensorflow/core/platform/cpu_feature_guard.cc:142] This TensorFlow binary is optimized with oneAPI Deep Neural Network Library (oneDNN) to use the following CPU instructions in performance-critical operations:  AVX2 AVX512F FMA\n",
      "To enable them in other operations, rebuild TensorFlow with the appropriate compiler flags.\n",
      "2023-01-26 08:08:41.351296: I tensorflow/stream_executor/cuda/cuda_gpu_executor.cc:937] successful NUMA node read from SysFS had negative value (-1), but there must be at least one NUMA node, so returning NUMA node zero\n",
      "2023-01-26 08:08:41.352152: I tensorflow/stream_executor/cuda/cuda_gpu_executor.cc:937] successful NUMA node read from SysFS had negative value (-1), but there must be at least one NUMA node, so returning NUMA node zero\n",
      "2023-01-26 08:08:41.352988: I tensorflow/stream_executor/cuda/cuda_gpu_executor.cc:937] successful NUMA node read from SysFS had negative value (-1), but there must be at least one NUMA node, so returning NUMA node zero\n",
      "2023-01-26 08:08:41.353789: I tensorflow/stream_executor/cuda/cuda_gpu_executor.cc:937] successful NUMA node read from SysFS had negative value (-1), but there must be at least one NUMA node, so returning NUMA node zero\n",
      "2023-01-26 08:08:41.354529: I tensorflow/stream_executor/cuda/cuda_gpu_executor.cc:937] successful NUMA node read from SysFS had negative value (-1), but there must be at least one NUMA node, so returning NUMA node zero\n",
      "2023-01-26 08:08:41.355292: I tensorflow/stream_executor/cuda/cuda_gpu_executor.cc:937] successful NUMA node read from SysFS had negative value (-1), but there must be at least one NUMA node, so returning NUMA node zero\n",
      "2023-01-26 08:08:44.311107: I tensorflow/stream_executor/cuda/cuda_gpu_executor.cc:937] successful NUMA node read from SysFS had negative value (-1), but there must be at least one NUMA node, so returning NUMA node zero\n",
      "2023-01-26 08:08:44.312051: I tensorflow/stream_executor/cuda/cuda_gpu_executor.cc:937] successful NUMA node read from SysFS had negative value (-1), but there must be at least one NUMA node, so returning NUMA node zero\n",
      "2023-01-26 08:08:44.312799: I tensorflow/stream_executor/cuda/cuda_gpu_executor.cc:937] successful NUMA node read from SysFS had negative value (-1), but there must be at least one NUMA node, so returning NUMA node zero\n",
      "2023-01-26 08:08:44.313519: I tensorflow/stream_executor/cuda/cuda_gpu_executor.cc:937] successful NUMA node read from SysFS had negative value (-1), but there must be at least one NUMA node, so returning NUMA node zero\n",
      "2023-01-26 08:08:44.314330: I tensorflow/stream_executor/cuda/cuda_gpu_executor.cc:937] successful NUMA node read from SysFS had negative value (-1), but there must be at least one NUMA node, so returning NUMA node zero\n",
      "2023-01-26 08:08:44.315005: I tensorflow/core/common_runtime/gpu/gpu_device.cc:1510] Created device /job:localhost/replica:0/task:0/device:GPU:0 with 13789 MB memory:  -> device: 0, name: Tesla T4, pci bus id: 0000:00:04.0, compute capability: 7.5\n",
      "2023-01-26 08:08:44.317876: I tensorflow/stream_executor/cuda/cuda_gpu_executor.cc:937] successful NUMA node read from SysFS had negative value (-1), but there must be at least one NUMA node, so returning NUMA node zero\n",
      "2023-01-26 08:08:44.318628: I tensorflow/core/common_runtime/gpu/gpu_device.cc:1510] Created device /job:localhost/replica:0/task:0/device:GPU:1 with 13789 MB memory:  -> device: 1, name: Tesla T4, pci bus id: 0000:00:05.0, compute capability: 7.5\n"
     ]
    },
    {
     "name": "stdout",
     "output_type": "stream",
     "text": [
      "Found 2500 files belonging to 10 classes.\n"
     ]
    }
   ],
   "source": [
    "import tensorflow as tf\n",
    "IMG_SIZE = (224, 224)\n",
    "BATCH_SIZE = 32\n",
    "train_data_10_percent = tf.keras.preprocessing.image_dataset_from_directory(directory=train_dir,\n",
    "                                                                            image_size=IMG_SIZE,\n",
    "                                                                            label_mode=\"categorical\",\n",
    "                                                                            batch_size=BATCH_SIZE)\n",
    "test_data_10_percent = tf.keras.preprocessing.image_dataset_from_directory(directory=test_dir,\n",
    "                                                                           image_size=IMG_SIZE,\n",
    "                                                                           label_mode=\"categorical\",\n",
    "                                                                           batch_size=BATCH_SIZE)"
   ]
  },
  {
   "cell_type": "code",
   "execution_count": 8,
   "id": "81ecf9c4",
   "metadata": {
    "execution": {
     "iopub.execute_input": "2023-01-26T08:08:44.985386Z",
     "iopub.status.busy": "2023-01-26T08:08:44.983596Z",
     "iopub.status.idle": "2023-01-26T08:08:44.993761Z",
     "shell.execute_reply": "2023-01-26T08:08:44.992612Z"
    },
    "id": "QDmnIH0753Ig",
    "outputId": "bfd152f7-aa0e-4c2e-8416-bc8dd75133ec",
    "papermill": {
     "duration": 0.028834,
     "end_time": "2023-01-26T08:08:44.996869",
     "exception": false,
     "start_time": "2023-01-26T08:08:44.968035",
     "status": "completed"
    },
    "tags": []
   },
   "outputs": [
    {
     "data": {
      "text/plain": [
       "<BatchDataset shapes: ((None, 224, 224, 3), (None, 10)), types: (tf.float32, tf.float32)>"
      ]
     },
     "execution_count": 8,
     "metadata": {},
     "output_type": "execute_result"
    }
   ],
   "source": [
    "train_data_10_percent"
   ]
  },
  {
   "cell_type": "code",
   "execution_count": 9,
   "id": "e2494e13",
   "metadata": {
    "execution": {
     "iopub.execute_input": "2023-01-26T08:08:45.043017Z",
     "iopub.status.busy": "2023-01-26T08:08:45.040886Z",
     "iopub.status.idle": "2023-01-26T08:08:45.050111Z",
     "shell.execute_reply": "2023-01-26T08:08:45.048920Z"
    },
    "id": "h3xyBTf26AM3",
    "outputId": "361a3450-5a2f-4276-e18c-4f1b1a5a79d6",
    "papermill": {
     "duration": 0.041211,
     "end_time": "2023-01-26T08:08:45.052517",
     "exception": false,
     "start_time": "2023-01-26T08:08:45.011306",
     "status": "completed"
    },
    "tags": []
   },
   "outputs": [
    {
     "data": {
      "text/plain": [
       "['chicken_curry',\n",
       " 'chicken_wings',\n",
       " 'fried_rice',\n",
       " 'grilled_salmon',\n",
       " 'hamburger',\n",
       " 'ice_cream',\n",
       " 'pizza',\n",
       " 'ramen',\n",
       " 'steak',\n",
       " 'sushi']"
      ]
     },
     "execution_count": 9,
     "metadata": {},
     "output_type": "execute_result"
    }
   ],
   "source": [
    "# Check out the class names of our dataset\n",
    "train_data_10_percent.class_names"
   ]
  },
  {
   "cell_type": "code",
   "execution_count": 10,
   "id": "63cbe0ff",
   "metadata": {
    "execution": {
     "iopub.execute_input": "2023-01-26T08:08:45.082253Z",
     "iopub.status.busy": "2023-01-26T08:08:45.081945Z",
     "iopub.status.idle": "2023-01-26T08:08:45.745777Z",
     "shell.execute_reply": "2023-01-26T08:08:45.744367Z"
    },
    "id": "7RbKK3CR6lxm",
    "outputId": "76d7e0ee-19a1-4a33-c571-2eb73797ee96",
    "papermill": {
     "duration": 0.684794,
     "end_time": "2023-01-26T08:08:45.751508",
     "exception": false,
     "start_time": "2023-01-26T08:08:45.066714",
     "status": "completed"
    },
    "tags": []
   },
   "outputs": [
    {
     "name": "stderr",
     "output_type": "stream",
     "text": [
      "2023-01-26 08:08:45.122597: I tensorflow/compiler/mlir/mlir_graph_optimization_pass.cc:185] None of the MLIR Optimization Passes are enabled (registered 2)\n"
     ]
    },
    {
     "name": "stdout",
     "output_type": "stream",
     "text": [
      "tf.Tensor(\n",
      "[[[[2.39897964e+02 2.36255112e+02 2.23826538e+02]\n",
      "   [2.44790817e+02 2.37816330e+02 2.28959183e+02]\n",
      "   [2.44025513e+02 2.32811218e+02 2.31668365e+02]\n",
      "   ...\n",
      "   [2.26581680e+02 2.10581680e+02 2.22010208e+02]\n",
      "   [2.24994888e+02 2.08994888e+02 2.18994888e+02]\n",
      "   [2.20137650e+02 2.05137650e+02 2.12137650e+02]]\n",
      "\n",
      "  [[2.40209183e+02 2.36280624e+02 2.36852051e+02]\n",
      "   [2.39551025e+02 2.34352036e+02 2.31336731e+02]\n",
      "   [2.43755096e+02 2.34285706e+02 2.35770416e+02]\n",
      "   ...\n",
      "   [2.23989990e+02 2.07989990e+02 2.19418518e+02]\n",
      "   [2.18561295e+02 2.02561295e+02 2.12561295e+02]\n",
      "   [2.26168030e+02 2.11168030e+02 2.18168030e+02]]\n",
      "\n",
      "  [[2.45846939e+02 2.40489792e+02 2.50275513e+02]\n",
      "   [2.40459183e+02 2.34887741e+02 2.45943878e+02]\n",
      "   [2.35525513e+02 2.29051025e+02 2.44357147e+02]\n",
      "   ...\n",
      "   [2.23964432e+02 2.07964432e+02 2.19729706e+02]\n",
      "   [2.18071472e+02 2.02071472e+02 2.13015335e+02]\n",
      "   [2.26372330e+02 2.10372330e+02 2.20372330e+02]]\n",
      "\n",
      "  ...\n",
      "\n",
      "  [[2.27387726e+02 2.21387726e+02 2.23387726e+02]\n",
      "   [2.26724457e+02 2.20724457e+02 2.22724457e+02]\n",
      "   [2.30933685e+02 2.24290833e+02 2.26505112e+02]\n",
      "   ...\n",
      "   [2.33954086e+02 2.30596878e+02 2.28954086e+02]\n",
      "   [2.32127518e+02 2.28770309e+02 2.27127518e+02]\n",
      "   [2.34214447e+02 2.30857239e+02 2.29214447e+02]]\n",
      "\n",
      "  [[2.29862259e+02 2.23862259e+02 2.25862259e+02]\n",
      "   [2.28918396e+02 2.22918396e+02 2.24918396e+02]\n",
      "   [2.30612228e+02 2.23969376e+02 2.26183655e+02]\n",
      "   ...\n",
      "   [2.34612305e+02 2.28612305e+02 2.30612305e+02]\n",
      "   [2.34142883e+02 2.28142883e+02 2.30142883e+02]\n",
      "   [2.35045929e+02 2.29045929e+02 2.31045929e+02]]\n",
      "\n",
      "  [[2.29280563e+02 2.23280563e+02 2.25280563e+02]\n",
      "   [2.30295868e+02 2.24295868e+02 2.26295868e+02]\n",
      "   [2.31367355e+02 2.24724503e+02 2.26938797e+02]\n",
      "   ...\n",
      "   [2.39005173e+02 2.30005173e+02 2.35005173e+02]\n",
      "   [2.36785706e+02 2.27785706e+02 2.32785706e+02]\n",
      "   [2.38642822e+02 2.29642822e+02 2.34642822e+02]]]\n",
      "\n",
      "\n",
      " [[[4.11678886e+01 4.30959816e+01 3.27916145e+01]\n",
      "   [4.38043671e+01 4.05750923e+01 2.86391888e+01]\n",
      "   [5.01647034e+01 4.29977684e+01 2.54126263e+01]\n",
      "   ...\n",
      "   [1.23171177e+01 9.26116085e+00 2.61160731e-01]\n",
      "   [1.18571167e+01 9.07144165e+00 0.00000000e+00]\n",
      "   [1.00000000e+01 1.00000000e+01 0.00000000e+00]]\n",
      "\n",
      "  [[4.16428566e+01 4.23011780e+01 2.96495533e+01]\n",
      "   [4.39131088e+01 4.50220032e+01 2.56473198e+01]\n",
      "   [4.63432732e+01 4.75647316e+01 1.99920273e+01]\n",
      "   ...\n",
      "   [1.46133556e+01 1.07834816e+01 1.78348207e+00]\n",
      "   [1.27525454e+01 9.79895020e+00 7.83482075e-01]\n",
      "   [1.05036392e+01 1.05036392e+01 5.03639698e-01]]\n",
      "\n",
      "  [[4.15288582e+01 4.11983414e+01 2.28281250e+01]\n",
      "   [4.07986259e+01 4.55513382e+01 1.68115406e+01]\n",
      "   [3.69933014e+01 4.70170593e+01 1.03646336e+01]\n",
      "   ...\n",
      "   [1.48252420e+01 1.06286736e+01 1.69419622e+00]\n",
      "   [1.32621098e+01 9.97815323e+00 9.78152871e-01]\n",
      "   [1.20000000e+01 9.00000000e+00 0.00000000e+00]]\n",
      "\n",
      "  ...\n",
      "\n",
      "  [[0.00000000e+00 3.28412018e+01 4.30064964e+01]\n",
      "   [0.00000000e+00 3.64687157e+01 4.78459320e+01]\n",
      "   [0.00000000e+00 3.87343597e+01 5.13459320e+01]\n",
      "   ...\n",
      "   [0.00000000e+00 3.02001667e+01 3.72408524e+01]\n",
      "   [9.28558350e-01 2.96534386e+01 3.39810715e+01]\n",
      "   [1.24969006e+00 2.10423908e+01 2.72030029e+01]]\n",
      "\n",
      "  [[0.00000000e+00 3.07134781e+01 3.93422966e+01]\n",
      "   [1.54658137e-02 3.27680130e+01 4.20779495e+01]\n",
      "   [0.00000000e+00 3.46111183e+01 4.35647202e+01]\n",
      "   ...\n",
      "   [1.67871013e-01 2.70543098e+01 2.96190071e+01]\n",
      "   [0.00000000e+00 1.94710732e+01 2.17655334e+01]\n",
      "   [8.60814691e-01 1.24901485e+01 1.56308041e+01]]\n",
      "\n",
      "  [[0.00000000e+00 2.79039955e+01 3.42397461e+01]\n",
      "   [7.57513821e-01 3.18757954e+01 3.74695053e+01]\n",
      "   [0.00000000e+00 3.16897106e+01 3.89977036e+01]\n",
      "   ...\n",
      "   [0.00000000e+00 1.99016113e+01 1.93770142e+01]\n",
      "   [0.00000000e+00 1.18115749e+01 1.17587891e+01]\n",
      "   [1.09603882e+00 6.81068802e+00 7.16233444e+00]]]\n",
      "\n",
      "\n",
      " [[[1.63984695e+02 1.81984695e+02 1.57984695e+02]\n",
      "   [1.64857147e+02 1.82857147e+02 1.58857147e+02]\n",
      "   [1.61224487e+02 1.78581635e+02 1.54795929e+02]\n",
      "   ...\n",
      "   [1.49214264e+02 1.12933647e+02 1.01346977e+02]\n",
      "   [1.49096954e+02 1.15096954e+02 1.05500023e+02]\n",
      "   [1.49056061e+02 1.15642822e+02 1.06642822e+02]]\n",
      "\n",
      "  [[1.69734680e+02 1.87734680e+02 1.63734680e+02]\n",
      "   [1.61775497e+02 1.79775497e+02 1.55775497e+02]\n",
      "   [1.57923462e+02 1.75280609e+02 1.51494888e+02]\n",
      "   ...\n",
      "   [1.50729614e+02 1.14729614e+02 1.00841858e+02]\n",
      "   [1.50994904e+02 1.15005104e+02 1.03015312e+02]\n",
      "   [1.49862152e+02 1.14668335e+02 1.02811188e+02]]\n",
      "\n",
      "  [[1.61071426e+02 1.79071426e+02 1.55071426e+02]\n",
      "   [1.60500000e+02 1.78500000e+02 1.54500000e+02]\n",
      "   [1.58382645e+02 1.75739792e+02 1.51954086e+02]\n",
      "   ...\n",
      "   [1.51862274e+02 1.16000023e+02 1.00045937e+02]\n",
      "   [1.51928558e+02 1.14928558e+02 9.84999847e+01]\n",
      "   [1.51076538e+02 1.13647964e+02 9.74336777e+01]]\n",
      "\n",
      "  ...\n",
      "\n",
      "  [[1.19010101e+02 1.33367310e+02 1.30153046e+02]\n",
      "   [1.21086716e+02 1.35443924e+02 1.32229660e+02]\n",
      "   [1.27877563e+02 1.39831650e+02 1.37403122e+02]\n",
      "   ...\n",
      "   [1.81877548e+02 1.59877548e+02 1.48449020e+02]\n",
      "   [1.82714233e+02 1.60714233e+02 1.49285706e+02]\n",
      "   [1.82428558e+02 1.61071350e+02 1.49428558e+02]]\n",
      "\n",
      "  [[1.17357140e+02 1.33357147e+02 1.30357147e+02]\n",
      "   [1.15933647e+02 1.30933640e+02 1.27933647e+02]\n",
      "   [1.19785660e+02 1.34142807e+02 1.31357086e+02]\n",
      "   ...\n",
      "   [1.81872482e+02 1.59872482e+02 1.48872482e+02]\n",
      "   [1.81147980e+02 1.59147980e+02 1.48147980e+02]\n",
      "   [1.82545990e+02 1.60545990e+02 1.49545990e+02]]\n",
      "\n",
      "  [[1.19943970e+02 1.35943970e+02 1.32943970e+02]\n",
      "   [1.18903229e+02 1.34903229e+02 1.31903229e+02]\n",
      "   [1.18209320e+02 1.32566452e+02 1.29780746e+02]\n",
      "   ...\n",
      "   [1.84785706e+02 1.62785706e+02 1.51785706e+02]\n",
      "   [1.87811310e+02 1.63811310e+02 1.53811310e+02]\n",
      "   [1.88586777e+02 1.64586777e+02 1.54586777e+02]]]\n",
      "\n",
      "\n",
      " ...\n",
      "\n",
      "\n",
      " [[[4.35714293e+00 3.35714293e+00 8.35714340e+00]\n",
      "   [7.64285755e+00 6.64285755e+00 1.16428576e+01]\n",
      "   [6.50000000e+00 6.50000000e+00 8.50000000e+00]\n",
      "   ...\n",
      "   [4.35512276e+01 2.20511398e+01 8.55625534e+00]\n",
      "   [6.53265533e+01 3.65204124e+01 2.49234810e+01]\n",
      "   [6.15712204e+01 2.95712185e+01 1.65712185e+01]]\n",
      "\n",
      "  [[4.64285707e+00 4.64285707e+00 6.64285707e+00]\n",
      "   [7.85714340e+00 7.85714340e+00 9.85714340e+00]\n",
      "   [6.78571415e+00 6.78571415e+00 8.24489784e+00]\n",
      "   ...\n",
      "   [5.79747467e+01 3.26430321e+01 1.97297649e+01]\n",
      "   [7.16224060e+01 4.13468704e+01 3.03468723e+01]\n",
      "   [6.09079933e+01 2.69079933e+01 1.69079933e+01]]\n",
      "\n",
      "  [[6.21428537e+00 6.21428537e+00 6.64285707e+00]\n",
      "   [9.22959137e+00 9.22959137e+00 9.65816402e+00]\n",
      "   [8.35714245e+00 8.35714245e+00 6.78571415e+00]\n",
      "   ...\n",
      "   [7.13573380e+01 4.21685257e+01 3.08318024e+01]\n",
      "   [7.01172256e+01 3.73315086e+01 2.79029388e+01]\n",
      "   [5.29998970e+01 1.97856102e+01 1.05713243e+01]]\n",
      "\n",
      "  ...\n",
      "\n",
      "  [[1.10790794e+02 1.14505096e+02 1.00428566e+02]\n",
      "   [1.04928558e+02 1.14785706e+02 1.03642853e+02]\n",
      "   [1.06382645e+02 1.16045921e+02 1.08045921e+02]\n",
      "   ...\n",
      "   [1.13719398e+02 1.33571472e+02 1.54525528e+02]\n",
      "   [1.13000000e+02 1.34000000e+02 1.52571411e+02]\n",
      "   [1.14357178e+02 1.35433716e+02 1.53214233e+02]]\n",
      "\n",
      "  [[1.06525467e+02 1.14000000e+02 9.87142715e+01]\n",
      "   [1.03147942e+02 1.14928589e+02 1.04581665e+02]\n",
      "   [1.04499985e+02 1.15285698e+02 1.07285698e+02]\n",
      "   ...\n",
      "   [1.14642883e+02 1.33571472e+02 1.50785706e+02]\n",
      "   [1.12005074e+02 1.33071411e+02 1.49872391e+02]\n",
      "   [1.12500000e+02 1.34454102e+02 1.48591812e+02]]\n",
      "\n",
      "  [[1.09102036e+02 1.18698959e+02 1.02571419e+02]\n",
      "   [1.06999985e+02 1.18928558e+02 1.08642845e+02]\n",
      "   [1.05137756e+02 1.16933662e+02 1.09999992e+02]\n",
      "   ...\n",
      "   [1.16719437e+02 1.35719437e+02 1.51709213e+02]\n",
      "   [1.12499969e+02 1.34499969e+02 1.48499969e+02]\n",
      "   [1.12000031e+02 1.34000031e+02 1.47229614e+02]]]\n",
      "\n",
      "\n",
      " [[[0.00000000e+00 1.21176662e+01 5.11766577e+00]\n",
      "   [0.00000000e+00 1.28389664e+01 5.83896685e+00]\n",
      "   [5.88329256e-01 1.35883293e+01 6.58832932e+00]\n",
      "   ...\n",
      "   [1.60857372e+01 1.30857372e+01 0.00000000e+00]\n",
      "   [1.30911913e+01 1.00911913e+01 3.22069407e-01]\n",
      "   [1.20714283e+01 9.07142830e+00 1.82305241e+00]]\n",
      "\n",
      "  [[9.28571701e-01 1.39285717e+01 6.92857170e+00]\n",
      "   [1.47767878e+00 1.44776783e+01 7.47767878e+00]\n",
      "   [1.99394131e+00 1.49939413e+01 7.99394131e+00]\n",
      "   ...\n",
      "   [1.99091015e+01 1.39272814e+01 0.00000000e+00]\n",
      "   [1.66418781e+01 1.17257509e+01 0.00000000e+00]\n",
      "   [1.30985136e+01 1.07002745e+01 0.00000000e+00]]\n",
      "\n",
      "  [[0.00000000e+00 1.42142859e+01 6.57142830e+00]\n",
      "   [0.00000000e+00 1.50771685e+01 6.13998699e+00]\n",
      "   [0.00000000e+00 1.57857141e+01 5.78571415e+00]\n",
      "   ...\n",
      "   [1.92588940e+01 1.30627880e+01 0.00000000e+00]\n",
      "   [1.79760895e+01 1.19760895e+01 0.00000000e+00]\n",
      "   [1.75340919e+01 1.34598436e+01 0.00000000e+00]]\n",
      "\n",
      "  ...\n",
      "\n",
      "  [[1.68149673e+02 1.35721146e+02 8.53639297e+01]\n",
      "   [1.72318451e+02 1.40007568e+02 8.92974091e+01]\n",
      "   [1.88930908e+02 1.56716644e+02 1.05716644e+02]\n",
      "   ...\n",
      "   [8.92602692e+01 5.96984177e+01 3.92868042e+00]\n",
      "   [9.16283875e+01 5.97265930e+01 6.56961060e+00]\n",
      "   [9.74197083e+01 6.19687500e+01 1.01358376e+01]]\n",
      "\n",
      "  [[1.76654404e+02 1.44654404e+02 9.36544037e+01]\n",
      "   [1.84225204e+02 1.52225204e+02 1.01225197e+02]\n",
      "   [1.72275162e+02 1.40275162e+02 8.92751617e+01]\n",
      "   ...\n",
      "   [7.74320450e+01 5.11957092e+01 2.22951829e-01]\n",
      "   [9.33812332e+01 6.36615524e+01 8.04100990e+00]\n",
      "   [1.01441727e+02 7.05846100e+01 1.55131664e+01]]\n",
      "\n",
      "  [[1.66145676e+02 1.35145676e+02 8.11456833e+01]\n",
      "   [1.68556610e+02 1.37556610e+02 8.35566177e+01]\n",
      "   [1.79292603e+02 1.48292603e+02 9.42925949e+01]\n",
      "   ...\n",
      "   [1.02890404e+02 7.78904037e+01 2.08904037e+01]\n",
      "   [1.05453796e+02 8.12267990e+01 2.28741055e+01]\n",
      "   [1.00753815e+02 7.74681702e+01 1.74681702e+01]]]\n",
      "\n",
      "\n",
      " [[[2.33556122e+02 2.14556122e+02 1.72556122e+02]\n",
      "   [2.27096939e+02 2.08096939e+02 1.66096939e+02]\n",
      "   [2.28923477e+02 2.09923477e+02 1.67923477e+02]\n",
      "   ...\n",
      "   [2.50428589e+02 2.34505188e+02 1.96132782e+02]\n",
      "   [2.52071442e+02 2.38071442e+02 2.03071442e+02]\n",
      "   [2.54173508e+02 2.41428635e+02 2.06428635e+02]]\n",
      "\n",
      "  [[2.31142853e+02 2.12142853e+02 1.70142853e+02]\n",
      "   [2.26071426e+02 2.07071426e+02 1.65071426e+02]\n",
      "   [2.29071426e+02 2.10071426e+02 1.68071426e+02]\n",
      "   ...\n",
      "   [2.51785736e+02 2.36142944e+02 1.96928680e+02]\n",
      "   [2.53000000e+02 2.39000000e+02 2.02000000e+02]\n",
      "   [2.53025513e+02 2.39025513e+02 2.04025513e+02]]\n",
      "\n",
      "  [[2.27137756e+02 2.07709183e+02 1.65494904e+02]\n",
      "   [2.21127548e+02 2.01698975e+02 1.59484695e+02]\n",
      "   [2.23831635e+02 2.04403061e+02 1.62188782e+02]\n",
      "   ...\n",
      "   [2.51188843e+02 2.33188843e+02 1.94760315e+02]\n",
      "   [2.52372452e+02 2.36372452e+02 2.00372452e+02]\n",
      "   [2.52862259e+02 2.38433685e+02 2.03219391e+02]]\n",
      "\n",
      "  ...\n",
      "\n",
      "  [[1.28571411e+02 1.09571404e+02 7.75714035e+01]\n",
      "   [1.28000000e+02 1.09000000e+02 7.70000000e+01]\n",
      "   [1.29000000e+02 1.10000000e+02 7.80000000e+01]\n",
      "   ...\n",
      "   [1.75457573e+01 1.35457563e+01 1.42855835e+01]\n",
      "   [1.54130983e+01 1.11274538e+01 1.18978825e+01]\n",
      "   [1.56376114e+01 1.19234390e+01 1.26326447e+01]]\n",
      "\n",
      "  [[1.27096954e+02 1.08096954e+02 7.80969543e+01]\n",
      "   [1.28071457e+02 1.09071457e+02 7.90714569e+01]\n",
      "   [1.29000046e+02 1.10000038e+02 8.00000381e+01]\n",
      "   ...\n",
      "   [1.10561342e+01 1.10561342e+01 1.30561342e+01]\n",
      "   [1.22143250e+01 1.22143250e+01 1.42143250e+01]\n",
      "   [1.53316603e+01 1.53316603e+01 1.73316612e+01]]\n",
      "\n",
      "  [[1.28642822e+02 1.09642822e+02 7.96428223e+01]\n",
      "   [1.30903061e+02 1.11903061e+02 8.19030609e+01]\n",
      "   [1.32709183e+02 1.13709175e+02 8.37091751e+01]\n",
      "   ...\n",
      "   [1.42142944e+01 1.52142944e+01 1.72142944e+01]\n",
      "   [1.66173058e+01 1.76173058e+01 1.96173058e+01]\n",
      "   [1.51580687e+01 1.61580677e+01 1.81580677e+01]]]], shape=(32, 224, 224, 3), dtype=float32) tf.Tensor(\n",
      "[[0. 0. 0. 1. 0. 0. 0. 0. 0. 0.]\n",
      " [0. 0. 0. 0. 0. 0. 0. 0. 0. 1.]\n",
      " [0. 1. 0. 0. 0. 0. 0. 0. 0. 0.]\n",
      " [0. 0. 0. 1. 0. 0. 0. 0. 0. 0.]\n",
      " [1. 0. 0. 0. 0. 0. 0. 0. 0. 0.]\n",
      " [0. 0. 0. 0. 1. 0. 0. 0. 0. 0.]\n",
      " [0. 0. 0. 0. 0. 0. 0. 1. 0. 0.]\n",
      " [0. 0. 1. 0. 0. 0. 0. 0. 0. 0.]\n",
      " [0. 0. 0. 0. 0. 1. 0. 0. 0. 0.]\n",
      " [0. 0. 0. 0. 0. 0. 0. 0. 0. 1.]\n",
      " [0. 0. 0. 0. 0. 0. 0. 1. 0. 0.]\n",
      " [0. 0. 0. 0. 1. 0. 0. 0. 0. 0.]\n",
      " [0. 0. 0. 0. 0. 0. 0. 0. 0. 1.]\n",
      " [0. 0. 0. 0. 1. 0. 0. 0. 0. 0.]\n",
      " [0. 0. 0. 0. 0. 0. 0. 0. 0. 1.]\n",
      " [0. 1. 0. 0. 0. 0. 0. 0. 0. 0.]\n",
      " [0. 0. 0. 0. 0. 0. 0. 0. 1. 0.]\n",
      " [0. 0. 1. 0. 0. 0. 0. 0. 0. 0.]\n",
      " [0. 0. 0. 0. 0. 0. 0. 0. 1. 0.]\n",
      " [0. 0. 0. 0. 0. 0. 0. 1. 0. 0.]\n",
      " [0. 0. 0. 0. 0. 0. 0. 0. 0. 1.]\n",
      " [0. 0. 0. 0. 0. 0. 0. 0. 1. 0.]\n",
      " [0. 0. 0. 0. 1. 0. 0. 0. 0. 0.]\n",
      " [1. 0. 0. 0. 0. 0. 0. 0. 0. 0.]\n",
      " [1. 0. 0. 0. 0. 0. 0. 0. 0. 0.]\n",
      " [0. 0. 0. 0. 0. 0. 0. 0. 0. 1.]\n",
      " [0. 1. 0. 0. 0. 0. 0. 0. 0. 0.]\n",
      " [1. 0. 0. 0. 0. 0. 0. 0. 0. 0.]\n",
      " [1. 0. 0. 0. 0. 0. 0. 0. 0. 0.]\n",
      " [0. 0. 0. 0. 0. 1. 0. 0. 0. 0.]\n",
      " [0. 0. 0. 0. 0. 0. 1. 0. 0. 0.]\n",
      " [0. 0. 0. 0. 0. 0. 0. 0. 0. 1.]], shape=(32, 10), dtype=float32)\n"
     ]
    }
   ],
   "source": [
    "for images, labels in train_data_10_percent.take(1):\n",
    "    print(images, labels)"
   ]
  },
  {
   "cell_type": "markdown",
   "id": "6a87fbe8",
   "metadata": {
    "id": "R8rME2WY6swt",
    "papermill": {
     "duration": 0.014067,
     "end_time": "2023-01-26T08:08:45.780757",
     "exception": false,
     "start_time": "2023-01-26T08:08:45.766690",
     "status": "completed"
    },
    "tags": []
   },
   "source": [
    "## Model 0: Building a transfer learning feature extraction model using the Keras Functional API\n",
    "\n",
    "it gives us more flexibel with our models"
   ]
  },
  {
   "cell_type": "code",
   "execution_count": 11,
   "id": "6a18e363",
   "metadata": {
    "execution": {
     "iopub.execute_input": "2023-01-26T08:08:45.810590Z",
     "iopub.status.busy": "2023-01-26T08:08:45.810252Z",
     "iopub.status.idle": "2023-01-26T08:09:33.247634Z",
     "shell.execute_reply": "2023-01-26T08:09:33.246557Z"
    },
    "id": "l0ZI922I9Ain",
    "outputId": "1edb6b40-3d4f-4c51-ce37-ff20fc17b773",
    "papermill": {
     "duration": 47.455376,
     "end_time": "2023-01-26T08:09:33.250091",
     "exception": false,
     "start_time": "2023-01-26T08:08:45.794715",
     "status": "completed"
    },
    "tags": []
   },
   "outputs": [
    {
     "name": "stdout",
     "output_type": "stream",
     "text": [
      "Downloading data from https://storage.googleapis.com/keras-applications/efficientnetb0_notop.h5\n",
      "16711680/16705208 [==============================] - 0s 0us/step\n",
      "16719872/16705208 [==============================] - 0s 0us/step\n",
      "Shape after passing inputs through base_model: (None, 7, 7, 1280)\n",
      "Shape after GlobalAveragePooling2D (None, 1280)\n"
     ]
    },
    {
     "name": "stderr",
     "output_type": "stream",
     "text": [
      "2023-01-26 08:08:48.208749: I tensorflow/core/profiler/lib/profiler_session.cc:131] Profiler session initializing.\n",
      "2023-01-26 08:08:48.208785: I tensorflow/core/profiler/lib/profiler_session.cc:146] Profiler session started.\n",
      "2023-01-26 08:08:48.211222: I tensorflow/core/profiler/internal/gpu/cupti_tracer.cc:1614] Profiler found 2 GPUs\n",
      "2023-01-26 08:08:48.676239: I tensorflow/core/profiler/lib/profiler_session.cc:164] Profiler session tear down.\n",
      "2023-01-26 08:08:48.676443: I tensorflow/core/profiler/internal/gpu/cupti_tracer.cc:1748] CUPTI activity buffer flushed\n",
      "/opt/conda/lib/python3.7/site-packages/keras/utils/generic_utils.py:497: CustomMaskWarning: Custom mask layers require a config and must override get_config. When loading, the custom mask layer must be passed to the custom_objects argument.\n",
      "  category=CustomMaskWarning)\n"
     ]
    },
    {
     "name": "stdout",
     "output_type": "stream",
     "text": [
      "Saving TensorBoard log files to: transfer_learning/10_percent_feature_extraction/20230126-080848\n",
      "Epoch 1/5\n"
     ]
    },
    {
     "name": "stderr",
     "output_type": "stream",
     "text": [
      "2023-01-26 08:08:56.036038: I tensorflow/stream_executor/cuda/cuda_dnn.cc:369] Loaded cuDNN version 8005\n"
     ]
    },
    {
     "name": "stdout",
     "output_type": "stream",
     "text": [
      " 1/24 [>.............................] - ETA: 5:28 - loss: 2.3397 - accuracy: 0.0625"
     ]
    },
    {
     "name": "stderr",
     "output_type": "stream",
     "text": [
      "2023-01-26 08:09:03.398451: I tensorflow/core/profiler/lib/profiler_session.cc:131] Profiler session initializing.\n",
      "2023-01-26 08:09:03.398499: I tensorflow/core/profiler/lib/profiler_session.cc:146] Profiler session started.\n"
     ]
    },
    {
     "name": "stdout",
     "output_type": "stream",
     "text": [
      " 2/24 [=>............................] - ETA: 20s - loss: 2.3616 - accuracy: 0.0469 "
     ]
    },
    {
     "name": "stderr",
     "output_type": "stream",
     "text": [
      "2023-01-26 08:09:04.191902: I tensorflow/core/profiler/lib/profiler_session.cc:66] Profiler session collecting data.\n",
      "2023-01-26 08:09:04.192886: I tensorflow/core/profiler/internal/gpu/cupti_tracer.cc:1748] CUPTI activity buffer flushed\n",
      "2023-01-26 08:09:04.356016: I tensorflow/core/profiler/internal/gpu/cupti_collector.cc:673]  GpuTracer has collected 547 callback api events and 544 activity events. \n",
      "2023-01-26 08:09:04.375810: I tensorflow/core/profiler/lib/profiler_session.cc:164] Profiler session tear down.\n"
     ]
    },
    {
     "name": "stdout",
     "output_type": "stream",
     "text": [
      " 3/24 [==>...........................] - ETA: 14s - loss: 2.3356 - accuracy: 0.0521"
     ]
    },
    {
     "name": "stderr",
     "output_type": "stream",
     "text": [
      "2023-01-26 08:09:04.408627: I tensorflow/core/profiler/rpc/client/save_profile.cc:136] Creating directory: transfer_learning/10_percent_feature_extraction/20230126-080848/train/plugins/profile/2023_01_26_08_09_04\n",
      "\n",
      "2023-01-26 08:09:04.422500: I tensorflow/core/profiler/rpc/client/save_profile.cc:142] Dumped gzipped tool data for trace.json.gz to transfer_learning/10_percent_feature_extraction/20230126-080848/train/plugins/profile/2023_01_26_08_09_04/a625c8d8be8a.trace.json.gz\n",
      "2023-01-26 08:09:04.468449: I tensorflow/core/profiler/rpc/client/save_profile.cc:136] Creating directory: transfer_learning/10_percent_feature_extraction/20230126-080848/train/plugins/profile/2023_01_26_08_09_04\n",
      "\n",
      "2023-01-26 08:09:04.476011: I tensorflow/core/profiler/rpc/client/save_profile.cc:142] Dumped gzipped tool data for memory_profile.json.gz to transfer_learning/10_percent_feature_extraction/20230126-080848/train/plugins/profile/2023_01_26_08_09_04/a625c8d8be8a.memory_profile.json.gz\n",
      "2023-01-26 08:09:04.477833: I tensorflow/core/profiler/rpc/client/capture_profile.cc:251] Creating directory: transfer_learning/10_percent_feature_extraction/20230126-080848/train/plugins/profile/2023_01_26_08_09_04\n",
      "Dumped tool data for xplane.pb to transfer_learning/10_percent_feature_extraction/20230126-080848/train/plugins/profile/2023_01_26_08_09_04/a625c8d8be8a.xplane.pb\n",
      "Dumped tool data for overview_page.pb to transfer_learning/10_percent_feature_extraction/20230126-080848/train/plugins/profile/2023_01_26_08_09_04/a625c8d8be8a.overview_page.pb\n",
      "Dumped tool data for input_pipeline.pb to transfer_learning/10_percent_feature_extraction/20230126-080848/train/plugins/profile/2023_01_26_08_09_04/a625c8d8be8a.input_pipeline.pb\n",
      "Dumped tool data for tensorflow_stats.pb to transfer_learning/10_percent_feature_extraction/20230126-080848/train/plugins/profile/2023_01_26_08_09_04/a625c8d8be8a.tensorflow_stats.pb\n",
      "Dumped tool data for kernel_stats.pb to transfer_learning/10_percent_feature_extraction/20230126-080848/train/plugins/profile/2023_01_26_08_09_04/a625c8d8be8a.kernel_stats.pb\n",
      "\n"
     ]
    },
    {
     "name": "stdout",
     "output_type": "stream",
     "text": [
      "24/24 [==============================] - 21s 307ms/step - loss: 1.8982 - accuracy: 0.3960 - val_loss: 1.3232 - val_accuracy: 0.7204\n",
      "Epoch 2/5\n",
      "24/24 [==============================] - 4s 161ms/step - loss: 1.1355 - accuracy: 0.7347 - val_loss: 0.9131 - val_accuracy: 0.8076\n",
      "Epoch 3/5\n",
      "24/24 [==============================] - 4s 158ms/step - loss: 0.8416 - accuracy: 0.8093 - val_loss: 0.7531 - val_accuracy: 0.8191\n",
      "Epoch 4/5\n",
      "24/24 [==============================] - 5s 181ms/step - loss: 0.6877 - accuracy: 0.8373 - val_loss: 0.6400 - val_accuracy: 0.8503\n",
      "Epoch 5/5\n",
      "24/24 [==============================] - 5s 179ms/step - loss: 0.5859 - accuracy: 0.8787 - val_loss: 0.6038 - val_accuracy: 0.8438\n"
     ]
    }
   ],
   "source": [
    "# 1. Create the base model with tf.keras.applications\n",
    "base_model = tf.keras.applications.EfficientNetB0(include_top=False)\n",
    "\n",
    "# 2. Freeze the basee model\n",
    "base_model.trainable = False\n",
    "\n",
    "# 3. Create inputs into our model\n",
    "inputs = tf.keras.layers.Input(shape=(224, 224, 3), name=\"input_layer\")\n",
    "\n",
    "# 4. If using ResNet50V2 you will need to normalize inputs\n",
    "# x = tf.keras.layers.experimental.preprocessing.Rescaling(1./255)(inputs)\n",
    "\n",
    "# 5. Pass the inputs to the base model\n",
    "x = base_model(inputs)\n",
    "print(f\"Shape after passing inputs through base_model: {x.shape}\")\n",
    "\n",
    "# 6. Average pool the outputs of the base model (aggregate all the modt important information, reduce number of computations)\n",
    "x = tf.keras.layers.GlobalAveragePooling2D(name=\"global_average_pooling_layer\")(x)\n",
    "print(f\"Shape after GlobalAveragePooling2D {x.shape}\")\n",
    "\n",
    "# 7. Create the output activation layer\n",
    "outputs = tf.keras.layers.Dense(10, activation=\"softmax\", name=\"output_layer\")(x)\n",
    "\n",
    "# 8. Combine th einputs with the outputs into a model\n",
    "model_0 = tf.keras.Model(inputs, outputs)\n",
    "\n",
    "# 9. Compile the model\n",
    "model_0.compile(loss=\"categorical_crossentropy\",\n",
    "                optimizer=tf.keras.optimizers.Adam(),\n",
    "                metrics=[\"accuracy\"])\n",
    "\n",
    "# 10. Fit the model\n",
    "history_model_0 = model_0.fit(train_data_10_percent,\n",
    "                              epochs=5,\n",
    "                              steps_per_epoch=len(train_data_10_percent),\n",
    "                              validation_data=test_data_10_percent,\n",
    "                              validation_steps=int(len(test_data_10_percent)*.25),\n",
    "                              callbacks=[create_tensorboard_callback(dir_name=\"transfer_learning\",\n",
    "                                                                     experiment_name=\"10_percent_feature_extraction\")])"
   ]
  },
  {
   "cell_type": "code",
   "execution_count": 12,
   "id": "ad3527d8",
   "metadata": {
    "execution": {
     "iopub.execute_input": "2023-01-26T08:09:33.296729Z",
     "iopub.status.busy": "2023-01-26T08:09:33.295816Z",
     "iopub.status.idle": "2023-01-26T08:09:33.305197Z",
     "shell.execute_reply": "2023-01-26T08:09:33.304018Z"
    },
    "id": "xZWs1Z2H-X--",
    "outputId": "86443af3-d983-4ff7-ed56-48db9e3e8bc7",
    "papermill": {
     "duration": 0.038402,
     "end_time": "2023-01-26T08:09:33.311237",
     "exception": false,
     "start_time": "2023-01-26T08:09:33.272835",
     "status": "completed"
    },
    "tags": []
   },
   "outputs": [
    {
     "name": "stdout",
     "output_type": "stream",
     "text": [
      "0 input_1\n",
      "1 rescaling\n",
      "2 normalization\n",
      "3 stem_conv_pad\n",
      "4 stem_conv\n",
      "5 stem_bn\n",
      "6 stem_activation\n",
      "7 block1a_dwconv\n",
      "8 block1a_bn\n",
      "9 block1a_activation\n",
      "10 block1a_se_squeeze\n",
      "11 block1a_se_reshape\n",
      "12 block1a_se_reduce\n",
      "13 block1a_se_expand\n",
      "14 block1a_se_excite\n",
      "15 block1a_project_conv\n",
      "16 block1a_project_bn\n",
      "17 block2a_expand_conv\n",
      "18 block2a_expand_bn\n",
      "19 block2a_expand_activation\n",
      "20 block2a_dwconv_pad\n",
      "21 block2a_dwconv\n",
      "22 block2a_bn\n",
      "23 block2a_activation\n",
      "24 block2a_se_squeeze\n",
      "25 block2a_se_reshape\n",
      "26 block2a_se_reduce\n",
      "27 block2a_se_expand\n",
      "28 block2a_se_excite\n",
      "29 block2a_project_conv\n",
      "30 block2a_project_bn\n",
      "31 block2b_expand_conv\n",
      "32 block2b_expand_bn\n",
      "33 block2b_expand_activation\n",
      "34 block2b_dwconv\n",
      "35 block2b_bn\n",
      "36 block2b_activation\n",
      "37 block2b_se_squeeze\n",
      "38 block2b_se_reshape\n",
      "39 block2b_se_reduce\n",
      "40 block2b_se_expand\n",
      "41 block2b_se_excite\n",
      "42 block2b_project_conv\n",
      "43 block2b_project_bn\n",
      "44 block2b_drop\n",
      "45 block2b_add\n",
      "46 block3a_expand_conv\n",
      "47 block3a_expand_bn\n",
      "48 block3a_expand_activation\n",
      "49 block3a_dwconv_pad\n",
      "50 block3a_dwconv\n",
      "51 block3a_bn\n",
      "52 block3a_activation\n",
      "53 block3a_se_squeeze\n",
      "54 block3a_se_reshape\n",
      "55 block3a_se_reduce\n",
      "56 block3a_se_expand\n",
      "57 block3a_se_excite\n",
      "58 block3a_project_conv\n",
      "59 block3a_project_bn\n",
      "60 block3b_expand_conv\n",
      "61 block3b_expand_bn\n",
      "62 block3b_expand_activation\n",
      "63 block3b_dwconv\n",
      "64 block3b_bn\n",
      "65 block3b_activation\n",
      "66 block3b_se_squeeze\n",
      "67 block3b_se_reshape\n",
      "68 block3b_se_reduce\n",
      "69 block3b_se_expand\n",
      "70 block3b_se_excite\n",
      "71 block3b_project_conv\n",
      "72 block3b_project_bn\n",
      "73 block3b_drop\n",
      "74 block3b_add\n",
      "75 block4a_expand_conv\n",
      "76 block4a_expand_bn\n",
      "77 block4a_expand_activation\n",
      "78 block4a_dwconv_pad\n",
      "79 block4a_dwconv\n",
      "80 block4a_bn\n",
      "81 block4a_activation\n",
      "82 block4a_se_squeeze\n",
      "83 block4a_se_reshape\n",
      "84 block4a_se_reduce\n",
      "85 block4a_se_expand\n",
      "86 block4a_se_excite\n",
      "87 block4a_project_conv\n",
      "88 block4a_project_bn\n",
      "89 block4b_expand_conv\n",
      "90 block4b_expand_bn\n",
      "91 block4b_expand_activation\n",
      "92 block4b_dwconv\n",
      "93 block4b_bn\n",
      "94 block4b_activation\n",
      "95 block4b_se_squeeze\n",
      "96 block4b_se_reshape\n",
      "97 block4b_se_reduce\n",
      "98 block4b_se_expand\n",
      "99 block4b_se_excite\n",
      "100 block4b_project_conv\n",
      "101 block4b_project_bn\n",
      "102 block4b_drop\n",
      "103 block4b_add\n",
      "104 block4c_expand_conv\n",
      "105 block4c_expand_bn\n",
      "106 block4c_expand_activation\n",
      "107 block4c_dwconv\n",
      "108 block4c_bn\n",
      "109 block4c_activation\n",
      "110 block4c_se_squeeze\n",
      "111 block4c_se_reshape\n",
      "112 block4c_se_reduce\n",
      "113 block4c_se_expand\n",
      "114 block4c_se_excite\n",
      "115 block4c_project_conv\n",
      "116 block4c_project_bn\n",
      "117 block4c_drop\n",
      "118 block4c_add\n",
      "119 block5a_expand_conv\n",
      "120 block5a_expand_bn\n",
      "121 block5a_expand_activation\n",
      "122 block5a_dwconv\n",
      "123 block5a_bn\n",
      "124 block5a_activation\n",
      "125 block5a_se_squeeze\n",
      "126 block5a_se_reshape\n",
      "127 block5a_se_reduce\n",
      "128 block5a_se_expand\n",
      "129 block5a_se_excite\n",
      "130 block5a_project_conv\n",
      "131 block5a_project_bn\n",
      "132 block5b_expand_conv\n",
      "133 block5b_expand_bn\n",
      "134 block5b_expand_activation\n",
      "135 block5b_dwconv\n",
      "136 block5b_bn\n",
      "137 block5b_activation\n",
      "138 block5b_se_squeeze\n",
      "139 block5b_se_reshape\n",
      "140 block5b_se_reduce\n",
      "141 block5b_se_expand\n",
      "142 block5b_se_excite\n",
      "143 block5b_project_conv\n",
      "144 block5b_project_bn\n",
      "145 block5b_drop\n",
      "146 block5b_add\n",
      "147 block5c_expand_conv\n",
      "148 block5c_expand_bn\n",
      "149 block5c_expand_activation\n",
      "150 block5c_dwconv\n",
      "151 block5c_bn\n",
      "152 block5c_activation\n",
      "153 block5c_se_squeeze\n",
      "154 block5c_se_reshape\n",
      "155 block5c_se_reduce\n",
      "156 block5c_se_expand\n",
      "157 block5c_se_excite\n",
      "158 block5c_project_conv\n",
      "159 block5c_project_bn\n",
      "160 block5c_drop\n",
      "161 block5c_add\n",
      "162 block6a_expand_conv\n",
      "163 block6a_expand_bn\n",
      "164 block6a_expand_activation\n",
      "165 block6a_dwconv_pad\n",
      "166 block6a_dwconv\n",
      "167 block6a_bn\n",
      "168 block6a_activation\n",
      "169 block6a_se_squeeze\n",
      "170 block6a_se_reshape\n",
      "171 block6a_se_reduce\n",
      "172 block6a_se_expand\n",
      "173 block6a_se_excite\n",
      "174 block6a_project_conv\n",
      "175 block6a_project_bn\n",
      "176 block6b_expand_conv\n",
      "177 block6b_expand_bn\n",
      "178 block6b_expand_activation\n",
      "179 block6b_dwconv\n",
      "180 block6b_bn\n",
      "181 block6b_activation\n",
      "182 block6b_se_squeeze\n",
      "183 block6b_se_reshape\n",
      "184 block6b_se_reduce\n",
      "185 block6b_se_expand\n",
      "186 block6b_se_excite\n",
      "187 block6b_project_conv\n",
      "188 block6b_project_bn\n",
      "189 block6b_drop\n",
      "190 block6b_add\n",
      "191 block6c_expand_conv\n",
      "192 block6c_expand_bn\n",
      "193 block6c_expand_activation\n",
      "194 block6c_dwconv\n",
      "195 block6c_bn\n",
      "196 block6c_activation\n",
      "197 block6c_se_squeeze\n",
      "198 block6c_se_reshape\n",
      "199 block6c_se_reduce\n",
      "200 block6c_se_expand\n",
      "201 block6c_se_excite\n",
      "202 block6c_project_conv\n",
      "203 block6c_project_bn\n",
      "204 block6c_drop\n",
      "205 block6c_add\n",
      "206 block6d_expand_conv\n",
      "207 block6d_expand_bn\n",
      "208 block6d_expand_activation\n",
      "209 block6d_dwconv\n",
      "210 block6d_bn\n",
      "211 block6d_activation\n",
      "212 block6d_se_squeeze\n",
      "213 block6d_se_reshape\n",
      "214 block6d_se_reduce\n",
      "215 block6d_se_expand\n",
      "216 block6d_se_excite\n",
      "217 block6d_project_conv\n",
      "218 block6d_project_bn\n",
      "219 block6d_drop\n",
      "220 block6d_add\n",
      "221 block7a_expand_conv\n",
      "222 block7a_expand_bn\n",
      "223 block7a_expand_activation\n",
      "224 block7a_dwconv\n",
      "225 block7a_bn\n",
      "226 block7a_activation\n",
      "227 block7a_se_squeeze\n",
      "228 block7a_se_reshape\n",
      "229 block7a_se_reduce\n",
      "230 block7a_se_expand\n",
      "231 block7a_se_excite\n",
      "232 block7a_project_conv\n",
      "233 block7a_project_bn\n",
      "234 top_conv\n",
      "235 top_bn\n",
      "236 top_activation\n"
     ]
    }
   ],
   "source": [
    "# Check the layers in our base model\n",
    "for layer_number, layer in enumerate(base_model.layers):\n",
    "    print(layer_number, layer.name)"
   ]
  },
  {
   "cell_type": "code",
   "execution_count": 13,
   "id": "7375c52d",
   "metadata": {
    "execution": {
     "iopub.execute_input": "2023-01-26T08:09:33.356309Z",
     "iopub.status.busy": "2023-01-26T08:09:33.355985Z",
     "iopub.status.idle": "2023-01-26T08:09:33.384969Z",
     "shell.execute_reply": "2023-01-26T08:09:33.384003Z"
    },
    "id": "X3J-1ty7BFxT",
    "outputId": "c0b7f9f7-237e-49ef-a90a-b445c6dde093",
    "papermill": {
     "duration": 0.056792,
     "end_time": "2023-01-26T08:09:33.390100",
     "exception": false,
     "start_time": "2023-01-26T08:09:33.333308",
     "status": "completed"
    },
    "tags": []
   },
   "outputs": [
    {
     "name": "stdout",
     "output_type": "stream",
     "text": [
      "Model: \"efficientnetb0\"\n",
      "__________________________________________________________________________________________________\n",
      "Layer (type)                    Output Shape         Param #     Connected to                     \n",
      "==================================================================================================\n",
      "input_1 (InputLayer)            [(None, None, None,  0                                            \n",
      "__________________________________________________________________________________________________\n",
      "rescaling (Rescaling)           (None, None, None, 3 0           input_1[0][0]                    \n",
      "__________________________________________________________________________________________________\n",
      "normalization (Normalization)   (None, None, None, 3 7           rescaling[0][0]                  \n",
      "__________________________________________________________________________________________________\n",
      "stem_conv_pad (ZeroPadding2D)   (None, None, None, 3 0           normalization[0][0]              \n",
      "__________________________________________________________________________________________________\n",
      "stem_conv (Conv2D)              (None, None, None, 3 864         stem_conv_pad[0][0]              \n",
      "__________________________________________________________________________________________________\n",
      "stem_bn (BatchNormalization)    (None, None, None, 3 128         stem_conv[0][0]                  \n",
      "__________________________________________________________________________________________________\n",
      "stem_activation (Activation)    (None, None, None, 3 0           stem_bn[0][0]                    \n",
      "__________________________________________________________________________________________________\n",
      "block1a_dwconv (DepthwiseConv2D (None, None, None, 3 288         stem_activation[0][0]            \n",
      "__________________________________________________________________________________________________\n",
      "block1a_bn (BatchNormalization) (None, None, None, 3 128         block1a_dwconv[0][0]             \n",
      "__________________________________________________________________________________________________\n",
      "block1a_activation (Activation) (None, None, None, 3 0           block1a_bn[0][0]                 \n",
      "__________________________________________________________________________________________________\n",
      "block1a_se_squeeze (GlobalAvera (None, 32)           0           block1a_activation[0][0]         \n",
      "__________________________________________________________________________________________________\n",
      "block1a_se_reshape (Reshape)    (None, 1, 1, 32)     0           block1a_se_squeeze[0][0]         \n",
      "__________________________________________________________________________________________________\n",
      "block1a_se_reduce (Conv2D)      (None, 1, 1, 8)      264         block1a_se_reshape[0][0]         \n",
      "__________________________________________________________________________________________________\n",
      "block1a_se_expand (Conv2D)      (None, 1, 1, 32)     288         block1a_se_reduce[0][0]          \n",
      "__________________________________________________________________________________________________\n",
      "block1a_se_excite (Multiply)    (None, None, None, 3 0           block1a_activation[0][0]         \n",
      "                                                                 block1a_se_expand[0][0]          \n",
      "__________________________________________________________________________________________________\n",
      "block1a_project_conv (Conv2D)   (None, None, None, 1 512         block1a_se_excite[0][0]          \n",
      "__________________________________________________________________________________________________\n",
      "block1a_project_bn (BatchNormal (None, None, None, 1 64          block1a_project_conv[0][0]       \n",
      "__________________________________________________________________________________________________\n",
      "block2a_expand_conv (Conv2D)    (None, None, None, 9 1536        block1a_project_bn[0][0]         \n",
      "__________________________________________________________________________________________________\n",
      "block2a_expand_bn (BatchNormali (None, None, None, 9 384         block2a_expand_conv[0][0]        \n",
      "__________________________________________________________________________________________________\n",
      "block2a_expand_activation (Acti (None, None, None, 9 0           block2a_expand_bn[0][0]          \n",
      "__________________________________________________________________________________________________\n",
      "block2a_dwconv_pad (ZeroPadding (None, None, None, 9 0           block2a_expand_activation[0][0]  \n",
      "__________________________________________________________________________________________________\n",
      "block2a_dwconv (DepthwiseConv2D (None, None, None, 9 864         block2a_dwconv_pad[0][0]         \n",
      "__________________________________________________________________________________________________\n",
      "block2a_bn (BatchNormalization) (None, None, None, 9 384         block2a_dwconv[0][0]             \n",
      "__________________________________________________________________________________________________\n",
      "block2a_activation (Activation) (None, None, None, 9 0           block2a_bn[0][0]                 \n",
      "__________________________________________________________________________________________________\n",
      "block2a_se_squeeze (GlobalAvera (None, 96)           0           block2a_activation[0][0]         \n",
      "__________________________________________________________________________________________________\n",
      "block2a_se_reshape (Reshape)    (None, 1, 1, 96)     0           block2a_se_squeeze[0][0]         \n",
      "__________________________________________________________________________________________________\n",
      "block2a_se_reduce (Conv2D)      (None, 1, 1, 4)      388         block2a_se_reshape[0][0]         \n",
      "__________________________________________________________________________________________________\n",
      "block2a_se_expand (Conv2D)      (None, 1, 1, 96)     480         block2a_se_reduce[0][0]          \n",
      "__________________________________________________________________________________________________\n",
      "block2a_se_excite (Multiply)    (None, None, None, 9 0           block2a_activation[0][0]         \n",
      "                                                                 block2a_se_expand[0][0]          \n",
      "__________________________________________________________________________________________________\n",
      "block2a_project_conv (Conv2D)   (None, None, None, 2 2304        block2a_se_excite[0][0]          \n",
      "__________________________________________________________________________________________________\n",
      "block2a_project_bn (BatchNormal (None, None, None, 2 96          block2a_project_conv[0][0]       \n",
      "__________________________________________________________________________________________________\n",
      "block2b_expand_conv (Conv2D)    (None, None, None, 1 3456        block2a_project_bn[0][0]         \n",
      "__________________________________________________________________________________________________\n",
      "block2b_expand_bn (BatchNormali (None, None, None, 1 576         block2b_expand_conv[0][0]        \n",
      "__________________________________________________________________________________________________\n",
      "block2b_expand_activation (Acti (None, None, None, 1 0           block2b_expand_bn[0][0]          \n",
      "__________________________________________________________________________________________________\n",
      "block2b_dwconv (DepthwiseConv2D (None, None, None, 1 1296        block2b_expand_activation[0][0]  \n",
      "__________________________________________________________________________________________________\n",
      "block2b_bn (BatchNormalization) (None, None, None, 1 576         block2b_dwconv[0][0]             \n",
      "__________________________________________________________________________________________________\n",
      "block2b_activation (Activation) (None, None, None, 1 0           block2b_bn[0][0]                 \n",
      "__________________________________________________________________________________________________\n",
      "block2b_se_squeeze (GlobalAvera (None, 144)          0           block2b_activation[0][0]         \n",
      "__________________________________________________________________________________________________\n",
      "block2b_se_reshape (Reshape)    (None, 1, 1, 144)    0           block2b_se_squeeze[0][0]         \n",
      "__________________________________________________________________________________________________\n",
      "block2b_se_reduce (Conv2D)      (None, 1, 1, 6)      870         block2b_se_reshape[0][0]         \n",
      "__________________________________________________________________________________________________\n",
      "block2b_se_expand (Conv2D)      (None, 1, 1, 144)    1008        block2b_se_reduce[0][0]          \n",
      "__________________________________________________________________________________________________\n",
      "block2b_se_excite (Multiply)    (None, None, None, 1 0           block2b_activation[0][0]         \n",
      "                                                                 block2b_se_expand[0][0]          \n",
      "__________________________________________________________________________________________________\n",
      "block2b_project_conv (Conv2D)   (None, None, None, 2 3456        block2b_se_excite[0][0]          \n",
      "__________________________________________________________________________________________________\n",
      "block2b_project_bn (BatchNormal (None, None, None, 2 96          block2b_project_conv[0][0]       \n",
      "__________________________________________________________________________________________________\n",
      "block2b_drop (Dropout)          (None, None, None, 2 0           block2b_project_bn[0][0]         \n",
      "__________________________________________________________________________________________________\n",
      "block2b_add (Add)               (None, None, None, 2 0           block2b_drop[0][0]               \n",
      "                                                                 block2a_project_bn[0][0]         \n",
      "__________________________________________________________________________________________________\n",
      "block3a_expand_conv (Conv2D)    (None, None, None, 1 3456        block2b_add[0][0]                \n",
      "__________________________________________________________________________________________________\n",
      "block3a_expand_bn (BatchNormali (None, None, None, 1 576         block3a_expand_conv[0][0]        \n",
      "__________________________________________________________________________________________________\n",
      "block3a_expand_activation (Acti (None, None, None, 1 0           block3a_expand_bn[0][0]          \n",
      "__________________________________________________________________________________________________\n",
      "block3a_dwconv_pad (ZeroPadding (None, None, None, 1 0           block3a_expand_activation[0][0]  \n",
      "__________________________________________________________________________________________________\n",
      "block3a_dwconv (DepthwiseConv2D (None, None, None, 1 3600        block3a_dwconv_pad[0][0]         \n",
      "__________________________________________________________________________________________________\n",
      "block3a_bn (BatchNormalization) (None, None, None, 1 576         block3a_dwconv[0][0]             \n",
      "__________________________________________________________________________________________________\n",
      "block3a_activation (Activation) (None, None, None, 1 0           block3a_bn[0][0]                 \n",
      "__________________________________________________________________________________________________\n",
      "block3a_se_squeeze (GlobalAvera (None, 144)          0           block3a_activation[0][0]         \n",
      "__________________________________________________________________________________________________\n",
      "block3a_se_reshape (Reshape)    (None, 1, 1, 144)    0           block3a_se_squeeze[0][0]         \n",
      "__________________________________________________________________________________________________\n",
      "block3a_se_reduce (Conv2D)      (None, 1, 1, 6)      870         block3a_se_reshape[0][0]         \n",
      "__________________________________________________________________________________________________\n",
      "block3a_se_expand (Conv2D)      (None, 1, 1, 144)    1008        block3a_se_reduce[0][0]          \n",
      "__________________________________________________________________________________________________\n",
      "block3a_se_excite (Multiply)    (None, None, None, 1 0           block3a_activation[0][0]         \n",
      "                                                                 block3a_se_expand[0][0]          \n",
      "__________________________________________________________________________________________________\n",
      "block3a_project_conv (Conv2D)   (None, None, None, 4 5760        block3a_se_excite[0][0]          \n",
      "__________________________________________________________________________________________________\n",
      "block3a_project_bn (BatchNormal (None, None, None, 4 160         block3a_project_conv[0][0]       \n",
      "__________________________________________________________________________________________________\n",
      "block3b_expand_conv (Conv2D)    (None, None, None, 2 9600        block3a_project_bn[0][0]         \n",
      "__________________________________________________________________________________________________\n",
      "block3b_expand_bn (BatchNormali (None, None, None, 2 960         block3b_expand_conv[0][0]        \n",
      "__________________________________________________________________________________________________\n",
      "block3b_expand_activation (Acti (None, None, None, 2 0           block3b_expand_bn[0][0]          \n",
      "__________________________________________________________________________________________________\n",
      "block3b_dwconv (DepthwiseConv2D (None, None, None, 2 6000        block3b_expand_activation[0][0]  \n",
      "__________________________________________________________________________________________________\n",
      "block3b_bn (BatchNormalization) (None, None, None, 2 960         block3b_dwconv[0][0]             \n",
      "__________________________________________________________________________________________________\n",
      "block3b_activation (Activation) (None, None, None, 2 0           block3b_bn[0][0]                 \n",
      "__________________________________________________________________________________________________\n",
      "block3b_se_squeeze (GlobalAvera (None, 240)          0           block3b_activation[0][0]         \n",
      "__________________________________________________________________________________________________\n",
      "block3b_se_reshape (Reshape)    (None, 1, 1, 240)    0           block3b_se_squeeze[0][0]         \n",
      "__________________________________________________________________________________________________\n",
      "block3b_se_reduce (Conv2D)      (None, 1, 1, 10)     2410        block3b_se_reshape[0][0]         \n",
      "__________________________________________________________________________________________________\n",
      "block3b_se_expand (Conv2D)      (None, 1, 1, 240)    2640        block3b_se_reduce[0][0]          \n",
      "__________________________________________________________________________________________________\n",
      "block3b_se_excite (Multiply)    (None, None, None, 2 0           block3b_activation[0][0]         \n",
      "                                                                 block3b_se_expand[0][0]          \n",
      "__________________________________________________________________________________________________\n",
      "block3b_project_conv (Conv2D)   (None, None, None, 4 9600        block3b_se_excite[0][0]          \n",
      "__________________________________________________________________________________________________\n",
      "block3b_project_bn (BatchNormal (None, None, None, 4 160         block3b_project_conv[0][0]       \n",
      "__________________________________________________________________________________________________\n",
      "block3b_drop (Dropout)          (None, None, None, 4 0           block3b_project_bn[0][0]         \n",
      "__________________________________________________________________________________________________\n",
      "block3b_add (Add)               (None, None, None, 4 0           block3b_drop[0][0]               \n",
      "                                                                 block3a_project_bn[0][0]         \n",
      "__________________________________________________________________________________________________\n",
      "block4a_expand_conv (Conv2D)    (None, None, None, 2 9600        block3b_add[0][0]                \n",
      "__________________________________________________________________________________________________\n",
      "block4a_expand_bn (BatchNormali (None, None, None, 2 960         block4a_expand_conv[0][0]        \n",
      "__________________________________________________________________________________________________\n",
      "block4a_expand_activation (Acti (None, None, None, 2 0           block4a_expand_bn[0][0]          \n",
      "__________________________________________________________________________________________________\n",
      "block4a_dwconv_pad (ZeroPadding (None, None, None, 2 0           block4a_expand_activation[0][0]  \n",
      "__________________________________________________________________________________________________\n",
      "block4a_dwconv (DepthwiseConv2D (None, None, None, 2 2160        block4a_dwconv_pad[0][0]         \n",
      "__________________________________________________________________________________________________\n",
      "block4a_bn (BatchNormalization) (None, None, None, 2 960         block4a_dwconv[0][0]             \n",
      "__________________________________________________________________________________________________\n",
      "block4a_activation (Activation) (None, None, None, 2 0           block4a_bn[0][0]                 \n",
      "__________________________________________________________________________________________________\n",
      "block4a_se_squeeze (GlobalAvera (None, 240)          0           block4a_activation[0][0]         \n",
      "__________________________________________________________________________________________________\n",
      "block4a_se_reshape (Reshape)    (None, 1, 1, 240)    0           block4a_se_squeeze[0][0]         \n",
      "__________________________________________________________________________________________________\n",
      "block4a_se_reduce (Conv2D)      (None, 1, 1, 10)     2410        block4a_se_reshape[0][0]         \n",
      "__________________________________________________________________________________________________\n",
      "block4a_se_expand (Conv2D)      (None, 1, 1, 240)    2640        block4a_se_reduce[0][0]          \n",
      "__________________________________________________________________________________________________\n",
      "block4a_se_excite (Multiply)    (None, None, None, 2 0           block4a_activation[0][0]         \n",
      "                                                                 block4a_se_expand[0][0]          \n",
      "__________________________________________________________________________________________________\n",
      "block4a_project_conv (Conv2D)   (None, None, None, 8 19200       block4a_se_excite[0][0]          \n",
      "__________________________________________________________________________________________________\n",
      "block4a_project_bn (BatchNormal (None, None, None, 8 320         block4a_project_conv[0][0]       \n",
      "__________________________________________________________________________________________________\n",
      "block4b_expand_conv (Conv2D)    (None, None, None, 4 38400       block4a_project_bn[0][0]         \n",
      "__________________________________________________________________________________________________\n",
      "block4b_expand_bn (BatchNormali (None, None, None, 4 1920        block4b_expand_conv[0][0]        \n",
      "__________________________________________________________________________________________________\n",
      "block4b_expand_activation (Acti (None, None, None, 4 0           block4b_expand_bn[0][0]          \n",
      "__________________________________________________________________________________________________\n",
      "block4b_dwconv (DepthwiseConv2D (None, None, None, 4 4320        block4b_expand_activation[0][0]  \n",
      "__________________________________________________________________________________________________\n",
      "block4b_bn (BatchNormalization) (None, None, None, 4 1920        block4b_dwconv[0][0]             \n",
      "__________________________________________________________________________________________________\n",
      "block4b_activation (Activation) (None, None, None, 4 0           block4b_bn[0][0]                 \n",
      "__________________________________________________________________________________________________\n",
      "block4b_se_squeeze (GlobalAvera (None, 480)          0           block4b_activation[0][0]         \n",
      "__________________________________________________________________________________________________\n",
      "block4b_se_reshape (Reshape)    (None, 1, 1, 480)    0           block4b_se_squeeze[0][0]         \n",
      "__________________________________________________________________________________________________\n",
      "block4b_se_reduce (Conv2D)      (None, 1, 1, 20)     9620        block4b_se_reshape[0][0]         \n",
      "__________________________________________________________________________________________________\n",
      "block4b_se_expand (Conv2D)      (None, 1, 1, 480)    10080       block4b_se_reduce[0][0]          \n",
      "__________________________________________________________________________________________________\n",
      "block4b_se_excite (Multiply)    (None, None, None, 4 0           block4b_activation[0][0]         \n",
      "                                                                 block4b_se_expand[0][0]          \n",
      "__________________________________________________________________________________________________\n",
      "block4b_project_conv (Conv2D)   (None, None, None, 8 38400       block4b_se_excite[0][0]          \n",
      "__________________________________________________________________________________________________\n",
      "block4b_project_bn (BatchNormal (None, None, None, 8 320         block4b_project_conv[0][0]       \n",
      "__________________________________________________________________________________________________\n",
      "block4b_drop (Dropout)          (None, None, None, 8 0           block4b_project_bn[0][0]         \n",
      "__________________________________________________________________________________________________\n",
      "block4b_add (Add)               (None, None, None, 8 0           block4b_drop[0][0]               \n",
      "                                                                 block4a_project_bn[0][0]         \n",
      "__________________________________________________________________________________________________\n",
      "block4c_expand_conv (Conv2D)    (None, None, None, 4 38400       block4b_add[0][0]                \n",
      "__________________________________________________________________________________________________\n",
      "block4c_expand_bn (BatchNormali (None, None, None, 4 1920        block4c_expand_conv[0][0]        \n",
      "__________________________________________________________________________________________________\n",
      "block4c_expand_activation (Acti (None, None, None, 4 0           block4c_expand_bn[0][0]          \n",
      "__________________________________________________________________________________________________\n",
      "block4c_dwconv (DepthwiseConv2D (None, None, None, 4 4320        block4c_expand_activation[0][0]  \n",
      "__________________________________________________________________________________________________\n",
      "block4c_bn (BatchNormalization) (None, None, None, 4 1920        block4c_dwconv[0][0]             \n",
      "__________________________________________________________________________________________________\n",
      "block4c_activation (Activation) (None, None, None, 4 0           block4c_bn[0][0]                 \n",
      "__________________________________________________________________________________________________\n",
      "block4c_se_squeeze (GlobalAvera (None, 480)          0           block4c_activation[0][0]         \n",
      "__________________________________________________________________________________________________\n",
      "block4c_se_reshape (Reshape)    (None, 1, 1, 480)    0           block4c_se_squeeze[0][0]         \n",
      "__________________________________________________________________________________________________\n",
      "block4c_se_reduce (Conv2D)      (None, 1, 1, 20)     9620        block4c_se_reshape[0][0]         \n",
      "__________________________________________________________________________________________________\n",
      "block4c_se_expand (Conv2D)      (None, 1, 1, 480)    10080       block4c_se_reduce[0][0]          \n",
      "__________________________________________________________________________________________________\n",
      "block4c_se_excite (Multiply)    (None, None, None, 4 0           block4c_activation[0][0]         \n",
      "                                                                 block4c_se_expand[0][0]          \n",
      "__________________________________________________________________________________________________\n",
      "block4c_project_conv (Conv2D)   (None, None, None, 8 38400       block4c_se_excite[0][0]          \n",
      "__________________________________________________________________________________________________\n",
      "block4c_project_bn (BatchNormal (None, None, None, 8 320         block4c_project_conv[0][0]       \n",
      "__________________________________________________________________________________________________\n",
      "block4c_drop (Dropout)          (None, None, None, 8 0           block4c_project_bn[0][0]         \n",
      "__________________________________________________________________________________________________\n",
      "block4c_add (Add)               (None, None, None, 8 0           block4c_drop[0][0]               \n",
      "                                                                 block4b_add[0][0]                \n",
      "__________________________________________________________________________________________________\n",
      "block5a_expand_conv (Conv2D)    (None, None, None, 4 38400       block4c_add[0][0]                \n",
      "__________________________________________________________________________________________________\n",
      "block5a_expand_bn (BatchNormali (None, None, None, 4 1920        block5a_expand_conv[0][0]        \n",
      "__________________________________________________________________________________________________\n",
      "block5a_expand_activation (Acti (None, None, None, 4 0           block5a_expand_bn[0][0]          \n",
      "__________________________________________________________________________________________________\n",
      "block5a_dwconv (DepthwiseConv2D (None, None, None, 4 12000       block5a_expand_activation[0][0]  \n",
      "__________________________________________________________________________________________________\n",
      "block5a_bn (BatchNormalization) (None, None, None, 4 1920        block5a_dwconv[0][0]             \n",
      "__________________________________________________________________________________________________\n",
      "block5a_activation (Activation) (None, None, None, 4 0           block5a_bn[0][0]                 \n",
      "__________________________________________________________________________________________________\n",
      "block5a_se_squeeze (GlobalAvera (None, 480)          0           block5a_activation[0][0]         \n",
      "__________________________________________________________________________________________________\n",
      "block5a_se_reshape (Reshape)    (None, 1, 1, 480)    0           block5a_se_squeeze[0][0]         \n",
      "__________________________________________________________________________________________________\n",
      "block5a_se_reduce (Conv2D)      (None, 1, 1, 20)     9620        block5a_se_reshape[0][0]         \n",
      "__________________________________________________________________________________________________\n",
      "block5a_se_expand (Conv2D)      (None, 1, 1, 480)    10080       block5a_se_reduce[0][0]          \n",
      "__________________________________________________________________________________________________\n",
      "block5a_se_excite (Multiply)    (None, None, None, 4 0           block5a_activation[0][0]         \n",
      "                                                                 block5a_se_expand[0][0]          \n",
      "__________________________________________________________________________________________________\n",
      "block5a_project_conv (Conv2D)   (None, None, None, 1 53760       block5a_se_excite[0][0]          \n",
      "__________________________________________________________________________________________________\n",
      "block5a_project_bn (BatchNormal (None, None, None, 1 448         block5a_project_conv[0][0]       \n",
      "__________________________________________________________________________________________________\n",
      "block5b_expand_conv (Conv2D)    (None, None, None, 6 75264       block5a_project_bn[0][0]         \n",
      "__________________________________________________________________________________________________\n",
      "block5b_expand_bn (BatchNormali (None, None, None, 6 2688        block5b_expand_conv[0][0]        \n",
      "__________________________________________________________________________________________________\n",
      "block5b_expand_activation (Acti (None, None, None, 6 0           block5b_expand_bn[0][0]          \n",
      "__________________________________________________________________________________________________\n",
      "block5b_dwconv (DepthwiseConv2D (None, None, None, 6 16800       block5b_expand_activation[0][0]  \n",
      "__________________________________________________________________________________________________\n",
      "block5b_bn (BatchNormalization) (None, None, None, 6 2688        block5b_dwconv[0][0]             \n",
      "__________________________________________________________________________________________________\n",
      "block5b_activation (Activation) (None, None, None, 6 0           block5b_bn[0][0]                 \n",
      "__________________________________________________________________________________________________\n",
      "block5b_se_squeeze (GlobalAvera (None, 672)          0           block5b_activation[0][0]         \n",
      "__________________________________________________________________________________________________\n",
      "block5b_se_reshape (Reshape)    (None, 1, 1, 672)    0           block5b_se_squeeze[0][0]         \n",
      "__________________________________________________________________________________________________\n",
      "block5b_se_reduce (Conv2D)      (None, 1, 1, 28)     18844       block5b_se_reshape[0][0]         \n",
      "__________________________________________________________________________________________________\n",
      "block5b_se_expand (Conv2D)      (None, 1, 1, 672)    19488       block5b_se_reduce[0][0]          \n",
      "__________________________________________________________________________________________________\n",
      "block5b_se_excite (Multiply)    (None, None, None, 6 0           block5b_activation[0][0]         \n",
      "                                                                 block5b_se_expand[0][0]          \n",
      "__________________________________________________________________________________________________\n",
      "block5b_project_conv (Conv2D)   (None, None, None, 1 75264       block5b_se_excite[0][0]          \n",
      "__________________________________________________________________________________________________\n",
      "block5b_project_bn (BatchNormal (None, None, None, 1 448         block5b_project_conv[0][0]       \n",
      "__________________________________________________________________________________________________\n",
      "block5b_drop (Dropout)          (None, None, None, 1 0           block5b_project_bn[0][0]         \n",
      "__________________________________________________________________________________________________\n",
      "block5b_add (Add)               (None, None, None, 1 0           block5b_drop[0][0]               \n",
      "                                                                 block5a_project_bn[0][0]         \n",
      "__________________________________________________________________________________________________\n",
      "block5c_expand_conv (Conv2D)    (None, None, None, 6 75264       block5b_add[0][0]                \n",
      "__________________________________________________________________________________________________\n",
      "block5c_expand_bn (BatchNormali (None, None, None, 6 2688        block5c_expand_conv[0][0]        \n",
      "__________________________________________________________________________________________________\n",
      "block5c_expand_activation (Acti (None, None, None, 6 0           block5c_expand_bn[0][0]          \n",
      "__________________________________________________________________________________________________\n",
      "block5c_dwconv (DepthwiseConv2D (None, None, None, 6 16800       block5c_expand_activation[0][0]  \n",
      "__________________________________________________________________________________________________\n",
      "block5c_bn (BatchNormalization) (None, None, None, 6 2688        block5c_dwconv[0][0]             \n",
      "__________________________________________________________________________________________________\n",
      "block5c_activation (Activation) (None, None, None, 6 0           block5c_bn[0][0]                 \n",
      "__________________________________________________________________________________________________\n",
      "block5c_se_squeeze (GlobalAvera (None, 672)          0           block5c_activation[0][0]         \n",
      "__________________________________________________________________________________________________\n",
      "block5c_se_reshape (Reshape)    (None, 1, 1, 672)    0           block5c_se_squeeze[0][0]         \n",
      "__________________________________________________________________________________________________\n",
      "block5c_se_reduce (Conv2D)      (None, 1, 1, 28)     18844       block5c_se_reshape[0][0]         \n",
      "__________________________________________________________________________________________________\n",
      "block5c_se_expand (Conv2D)      (None, 1, 1, 672)    19488       block5c_se_reduce[0][0]          \n",
      "__________________________________________________________________________________________________\n",
      "block5c_se_excite (Multiply)    (None, None, None, 6 0           block5c_activation[0][0]         \n",
      "                                                                 block5c_se_expand[0][0]          \n",
      "__________________________________________________________________________________________________\n",
      "block5c_project_conv (Conv2D)   (None, None, None, 1 75264       block5c_se_excite[0][0]          \n",
      "__________________________________________________________________________________________________\n",
      "block5c_project_bn (BatchNormal (None, None, None, 1 448         block5c_project_conv[0][0]       \n",
      "__________________________________________________________________________________________________\n",
      "block5c_drop (Dropout)          (None, None, None, 1 0           block5c_project_bn[0][0]         \n",
      "__________________________________________________________________________________________________\n",
      "block5c_add (Add)               (None, None, None, 1 0           block5c_drop[0][0]               \n",
      "                                                                 block5b_add[0][0]                \n",
      "__________________________________________________________________________________________________\n",
      "block6a_expand_conv (Conv2D)    (None, None, None, 6 75264       block5c_add[0][0]                \n",
      "__________________________________________________________________________________________________\n",
      "block6a_expand_bn (BatchNormali (None, None, None, 6 2688        block6a_expand_conv[0][0]        \n",
      "__________________________________________________________________________________________________\n",
      "block6a_expand_activation (Acti (None, None, None, 6 0           block6a_expand_bn[0][0]          \n",
      "__________________________________________________________________________________________________\n",
      "block6a_dwconv_pad (ZeroPadding (None, None, None, 6 0           block6a_expand_activation[0][0]  \n",
      "__________________________________________________________________________________________________\n",
      "block6a_dwconv (DepthwiseConv2D (None, None, None, 6 16800       block6a_dwconv_pad[0][0]         \n",
      "__________________________________________________________________________________________________\n",
      "block6a_bn (BatchNormalization) (None, None, None, 6 2688        block6a_dwconv[0][0]             \n",
      "__________________________________________________________________________________________________\n",
      "block6a_activation (Activation) (None, None, None, 6 0           block6a_bn[0][0]                 \n",
      "__________________________________________________________________________________________________\n",
      "block6a_se_squeeze (GlobalAvera (None, 672)          0           block6a_activation[0][0]         \n",
      "__________________________________________________________________________________________________\n",
      "block6a_se_reshape (Reshape)    (None, 1, 1, 672)    0           block6a_se_squeeze[0][0]         \n",
      "__________________________________________________________________________________________________\n",
      "block6a_se_reduce (Conv2D)      (None, 1, 1, 28)     18844       block6a_se_reshape[0][0]         \n",
      "__________________________________________________________________________________________________\n",
      "block6a_se_expand (Conv2D)      (None, 1, 1, 672)    19488       block6a_se_reduce[0][0]          \n",
      "__________________________________________________________________________________________________\n",
      "block6a_se_excite (Multiply)    (None, None, None, 6 0           block6a_activation[0][0]         \n",
      "                                                                 block6a_se_expand[0][0]          \n",
      "__________________________________________________________________________________________________\n",
      "block6a_project_conv (Conv2D)   (None, None, None, 1 129024      block6a_se_excite[0][0]          \n",
      "__________________________________________________________________________________________________\n",
      "block6a_project_bn (BatchNormal (None, None, None, 1 768         block6a_project_conv[0][0]       \n",
      "__________________________________________________________________________________________________\n",
      "block6b_expand_conv (Conv2D)    (None, None, None, 1 221184      block6a_project_bn[0][0]         \n",
      "__________________________________________________________________________________________________\n",
      "block6b_expand_bn (BatchNormali (None, None, None, 1 4608        block6b_expand_conv[0][0]        \n",
      "__________________________________________________________________________________________________\n",
      "block6b_expand_activation (Acti (None, None, None, 1 0           block6b_expand_bn[0][0]          \n",
      "__________________________________________________________________________________________________\n",
      "block6b_dwconv (DepthwiseConv2D (None, None, None, 1 28800       block6b_expand_activation[0][0]  \n",
      "__________________________________________________________________________________________________\n",
      "block6b_bn (BatchNormalization) (None, None, None, 1 4608        block6b_dwconv[0][0]             \n",
      "__________________________________________________________________________________________________\n",
      "block6b_activation (Activation) (None, None, None, 1 0           block6b_bn[0][0]                 \n",
      "__________________________________________________________________________________________________\n",
      "block6b_se_squeeze (GlobalAvera (None, 1152)         0           block6b_activation[0][0]         \n",
      "__________________________________________________________________________________________________\n",
      "block6b_se_reshape (Reshape)    (None, 1, 1, 1152)   0           block6b_se_squeeze[0][0]         \n",
      "__________________________________________________________________________________________________\n",
      "block6b_se_reduce (Conv2D)      (None, 1, 1, 48)     55344       block6b_se_reshape[0][0]         \n",
      "__________________________________________________________________________________________________\n",
      "block6b_se_expand (Conv2D)      (None, 1, 1, 1152)   56448       block6b_se_reduce[0][0]          \n",
      "__________________________________________________________________________________________________\n",
      "block6b_se_excite (Multiply)    (None, None, None, 1 0           block6b_activation[0][0]         \n",
      "                                                                 block6b_se_expand[0][0]          \n",
      "__________________________________________________________________________________________________\n",
      "block6b_project_conv (Conv2D)   (None, None, None, 1 221184      block6b_se_excite[0][0]          \n",
      "__________________________________________________________________________________________________\n",
      "block6b_project_bn (BatchNormal (None, None, None, 1 768         block6b_project_conv[0][0]       \n",
      "__________________________________________________________________________________________________\n",
      "block6b_drop (Dropout)          (None, None, None, 1 0           block6b_project_bn[0][0]         \n",
      "__________________________________________________________________________________________________\n",
      "block6b_add (Add)               (None, None, None, 1 0           block6b_drop[0][0]               \n",
      "                                                                 block6a_project_bn[0][0]         \n",
      "__________________________________________________________________________________________________\n",
      "block6c_expand_conv (Conv2D)    (None, None, None, 1 221184      block6b_add[0][0]                \n",
      "__________________________________________________________________________________________________\n",
      "block6c_expand_bn (BatchNormali (None, None, None, 1 4608        block6c_expand_conv[0][0]        \n",
      "__________________________________________________________________________________________________\n",
      "block6c_expand_activation (Acti (None, None, None, 1 0           block6c_expand_bn[0][0]          \n",
      "__________________________________________________________________________________________________\n",
      "block6c_dwconv (DepthwiseConv2D (None, None, None, 1 28800       block6c_expand_activation[0][0]  \n",
      "__________________________________________________________________________________________________\n",
      "block6c_bn (BatchNormalization) (None, None, None, 1 4608        block6c_dwconv[0][0]             \n",
      "__________________________________________________________________________________________________\n",
      "block6c_activation (Activation) (None, None, None, 1 0           block6c_bn[0][0]                 \n",
      "__________________________________________________________________________________________________\n",
      "block6c_se_squeeze (GlobalAvera (None, 1152)         0           block6c_activation[0][0]         \n",
      "__________________________________________________________________________________________________\n",
      "block6c_se_reshape (Reshape)    (None, 1, 1, 1152)   0           block6c_se_squeeze[0][0]         \n",
      "__________________________________________________________________________________________________\n",
      "block6c_se_reduce (Conv2D)      (None, 1, 1, 48)     55344       block6c_se_reshape[0][0]         \n",
      "__________________________________________________________________________________________________\n",
      "block6c_se_expand (Conv2D)      (None, 1, 1, 1152)   56448       block6c_se_reduce[0][0]          \n",
      "__________________________________________________________________________________________________\n",
      "block6c_se_excite (Multiply)    (None, None, None, 1 0           block6c_activation[0][0]         \n",
      "                                                                 block6c_se_expand[0][0]          \n",
      "__________________________________________________________________________________________________\n",
      "block6c_project_conv (Conv2D)   (None, None, None, 1 221184      block6c_se_excite[0][0]          \n",
      "__________________________________________________________________________________________________\n",
      "block6c_project_bn (BatchNormal (None, None, None, 1 768         block6c_project_conv[0][0]       \n",
      "__________________________________________________________________________________________________\n",
      "block6c_drop (Dropout)          (None, None, None, 1 0           block6c_project_bn[0][0]         \n",
      "__________________________________________________________________________________________________\n",
      "block6c_add (Add)               (None, None, None, 1 0           block6c_drop[0][0]               \n",
      "                                                                 block6b_add[0][0]                \n",
      "__________________________________________________________________________________________________\n",
      "block6d_expand_conv (Conv2D)    (None, None, None, 1 221184      block6c_add[0][0]                \n",
      "__________________________________________________________________________________________________\n",
      "block6d_expand_bn (BatchNormali (None, None, None, 1 4608        block6d_expand_conv[0][0]        \n",
      "__________________________________________________________________________________________________\n",
      "block6d_expand_activation (Acti (None, None, None, 1 0           block6d_expand_bn[0][0]          \n",
      "__________________________________________________________________________________________________\n",
      "block6d_dwconv (DepthwiseConv2D (None, None, None, 1 28800       block6d_expand_activation[0][0]  \n",
      "__________________________________________________________________________________________________\n",
      "block6d_bn (BatchNormalization) (None, None, None, 1 4608        block6d_dwconv[0][0]             \n",
      "__________________________________________________________________________________________________\n",
      "block6d_activation (Activation) (None, None, None, 1 0           block6d_bn[0][0]                 \n",
      "__________________________________________________________________________________________________\n",
      "block6d_se_squeeze (GlobalAvera (None, 1152)         0           block6d_activation[0][0]         \n",
      "__________________________________________________________________________________________________\n",
      "block6d_se_reshape (Reshape)    (None, 1, 1, 1152)   0           block6d_se_squeeze[0][0]         \n",
      "__________________________________________________________________________________________________\n",
      "block6d_se_reduce (Conv2D)      (None, 1, 1, 48)     55344       block6d_se_reshape[0][0]         \n",
      "__________________________________________________________________________________________________\n",
      "block6d_se_expand (Conv2D)      (None, 1, 1, 1152)   56448       block6d_se_reduce[0][0]          \n",
      "__________________________________________________________________________________________________\n",
      "block6d_se_excite (Multiply)    (None, None, None, 1 0           block6d_activation[0][0]         \n",
      "                                                                 block6d_se_expand[0][0]          \n",
      "__________________________________________________________________________________________________\n",
      "block6d_project_conv (Conv2D)   (None, None, None, 1 221184      block6d_se_excite[0][0]          \n",
      "__________________________________________________________________________________________________\n",
      "block6d_project_bn (BatchNormal (None, None, None, 1 768         block6d_project_conv[0][0]       \n",
      "__________________________________________________________________________________________________\n",
      "block6d_drop (Dropout)          (None, None, None, 1 0           block6d_project_bn[0][0]         \n",
      "__________________________________________________________________________________________________\n",
      "block6d_add (Add)               (None, None, None, 1 0           block6d_drop[0][0]               \n",
      "                                                                 block6c_add[0][0]                \n",
      "__________________________________________________________________________________________________\n",
      "block7a_expand_conv (Conv2D)    (None, None, None, 1 221184      block6d_add[0][0]                \n",
      "__________________________________________________________________________________________________\n",
      "block7a_expand_bn (BatchNormali (None, None, None, 1 4608        block7a_expand_conv[0][0]        \n",
      "__________________________________________________________________________________________________\n",
      "block7a_expand_activation (Acti (None, None, None, 1 0           block7a_expand_bn[0][0]          \n",
      "__________________________________________________________________________________________________\n",
      "block7a_dwconv (DepthwiseConv2D (None, None, None, 1 10368       block7a_expand_activation[0][0]  \n",
      "__________________________________________________________________________________________________\n",
      "block7a_bn (BatchNormalization) (None, None, None, 1 4608        block7a_dwconv[0][0]             \n",
      "__________________________________________________________________________________________________\n",
      "block7a_activation (Activation) (None, None, None, 1 0           block7a_bn[0][0]                 \n",
      "__________________________________________________________________________________________________\n",
      "block7a_se_squeeze (GlobalAvera (None, 1152)         0           block7a_activation[0][0]         \n",
      "__________________________________________________________________________________________________\n",
      "block7a_se_reshape (Reshape)    (None, 1, 1, 1152)   0           block7a_se_squeeze[0][0]         \n",
      "__________________________________________________________________________________________________\n",
      "block7a_se_reduce (Conv2D)      (None, 1, 1, 48)     55344       block7a_se_reshape[0][0]         \n",
      "__________________________________________________________________________________________________\n",
      "block7a_se_expand (Conv2D)      (None, 1, 1, 1152)   56448       block7a_se_reduce[0][0]          \n",
      "__________________________________________________________________________________________________\n",
      "block7a_se_excite (Multiply)    (None, None, None, 1 0           block7a_activation[0][0]         \n",
      "                                                                 block7a_se_expand[0][0]          \n",
      "__________________________________________________________________________________________________\n",
      "block7a_project_conv (Conv2D)   (None, None, None, 3 368640      block7a_se_excite[0][0]          \n",
      "__________________________________________________________________________________________________\n",
      "block7a_project_bn (BatchNormal (None, None, None, 3 1280        block7a_project_conv[0][0]       \n",
      "__________________________________________________________________________________________________\n",
      "top_conv (Conv2D)               (None, None, None, 1 409600      block7a_project_bn[0][0]         \n",
      "__________________________________________________________________________________________________\n",
      "top_bn (BatchNormalization)     (None, None, None, 1 5120        top_conv[0][0]                   \n",
      "__________________________________________________________________________________________________\n",
      "top_activation (Activation)     (None, None, None, 1 0           top_bn[0][0]                     \n",
      "==================================================================================================\n",
      "Total params: 4,049,571\n",
      "Trainable params: 0\n",
      "Non-trainable params: 4,049,571\n",
      "__________________________________________________________________________________________________\n"
     ]
    }
   ],
   "source": [
    "# How about we get a summary of the base model\n",
    "base_model.summary()"
   ]
  },
  {
   "cell_type": "code",
   "execution_count": 14,
   "id": "97f1a836",
   "metadata": {
    "execution": {
     "iopub.execute_input": "2023-01-26T08:09:33.449891Z",
     "iopub.status.busy": "2023-01-26T08:09:33.448747Z",
     "iopub.status.idle": "2023-01-26T08:09:33.468006Z",
     "shell.execute_reply": "2023-01-26T08:09:33.466616Z"
    },
    "id": "mWJuoIyVBexL",
    "outputId": "f7a3be80-79c9-41e5-af40-6bcf41438a45",
    "papermill": {
     "duration": 0.056126,
     "end_time": "2023-01-26T08:09:33.471508",
     "exception": false,
     "start_time": "2023-01-26T08:09:33.415382",
     "status": "completed"
    },
    "tags": []
   },
   "outputs": [
    {
     "name": "stdout",
     "output_type": "stream",
     "text": [
      "Model: \"model\"\n",
      "_________________________________________________________________\n",
      "Layer (type)                 Output Shape              Param #   \n",
      "=================================================================\n",
      "input_layer (InputLayer)     [(None, 224, 224, 3)]     0         \n",
      "_________________________________________________________________\n",
      "efficientnetb0 (Functional)  (None, None, None, 1280)  4049571   \n",
      "_________________________________________________________________\n",
      "global_average_pooling_layer (None, 1280)              0         \n",
      "_________________________________________________________________\n",
      "output_layer (Dense)         (None, 10)                12810     \n",
      "=================================================================\n",
      "Total params: 4,062,381\n",
      "Trainable params: 12,810\n",
      "Non-trainable params: 4,049,571\n",
      "_________________________________________________________________\n"
     ]
    }
   ],
   "source": [
    "# How about a summary of our whole model\n",
    "model_0.summary()"
   ]
  },
  {
   "cell_type": "code",
   "execution_count": 15,
   "id": "7f80d28d",
   "metadata": {
    "execution": {
     "iopub.execute_input": "2023-01-26T08:09:33.581989Z",
     "iopub.status.busy": "2023-01-26T08:09:33.580928Z",
     "iopub.status.idle": "2023-01-26T08:09:34.157817Z",
     "shell.execute_reply": "2023-01-26T08:09:34.156821Z"
    },
    "id": "b8em_gCSBsh3",
    "outputId": "79ad1ac4-8fd5-4713-f12a-2f5b72ebc588",
    "papermill": {
     "duration": 0.640851,
     "end_time": "2023-01-26T08:09:34.159888",
     "exception": false,
     "start_time": "2023-01-26T08:09:33.519037",
     "status": "completed"
    },
    "tags": []
   },
   "outputs": [
    {
     "data": {
      "image/png": "[encoded data removed]",
      "text/plain": [
       "<Figure size 432x288 with 1 Axes>"
      ]
     },
     "metadata": {
      "needs_background": "light"
     },
     "output_type": "display_data"
    },
    {
     "data": {
      "image/png": "[encoded data removed]",
      "text/plain": [
       "<Figure size 432x288 with 1 Axes>"
      ]
     },
     "metadata": {
      "needs_background": "light"
     },
     "output_type": "display_data"
    }
   ],
   "source": [
    "# Check out our model's training curves\n",
    "plot_loss_curves(history_model_0)"
   ]
  },
  {
   "cell_type": "markdown",
   "id": "0d4e550b",
   "metadata": {
    "id": "TKiee36zCIFH",
    "papermill": {
     "duration": 0.022194,
     "end_time": "2023-01-26T08:09:34.205040",
     "exception": false,
     "start_time": "2023-01-26T08:09:34.182846",
     "status": "completed"
    },
    "tags": []
   },
   "source": [
    "## Getting a feature vector from a trained model\n",
    "\n",
    "Let's demonstrate the Global Average Pooling 2D Layer...\n",
    "\n",
    "We have a tensor after our model goes through `base_model` of shape (None, 7, 7, 1280)\n",
    "\n",
    "But then when it passes through GlobalAveragePooling2D layer, it turns into (None, 1280)\n",
    "\n",
    "Let's use a similar shaped tensor of (1, 4, 4, 3)"
   ]
  },
  {
   "cell_type": "code",
   "execution_count": 16,
   "id": "541383a1",
   "metadata": {
    "execution": {
     "iopub.execute_input": "2023-01-26T08:09:34.251781Z",
     "iopub.status.busy": "2023-01-26T08:09:34.250770Z",
     "iopub.status.idle": "2023-01-26T08:09:34.295440Z",
     "shell.execute_reply": "2023-01-26T08:09:34.293425Z"
    },
    "id": "HtPTeAzPIK0T",
    "outputId": "37d5f65e-f947-4e55-ab8e-c6b601d319cf",
    "papermill": {
     "duration": 0.070652,
     "end_time": "2023-01-26T08:09:34.297979",
     "exception": false,
     "start_time": "2023-01-26T08:09:34.227327",
     "status": "completed"
    },
    "tags": []
   },
   "outputs": [
    {
     "name": "stdout",
     "output_type": "stream",
     "text": [
      "Random input tensor:\n",
      " [[[[ 0.3274685  -0.8426258   0.3194337 ]\n",
      "   [-1.4075519  -2.3880599  -1.0392479 ]\n",
      "   [-0.5573232   0.539707    1.6994323 ]\n",
      "   [ 0.28893656 -1.5066116  -0.2645474 ]]\n",
      "\n",
      "  [[-0.59722406 -1.9171132  -0.62044144]\n",
      "   [ 0.8504023  -0.40604794 -3.0258412 ]\n",
      "   [ 0.9058464   0.29855987 -0.22561555]\n",
      "   [-0.7616443  -1.8917141  -0.93847126]]\n",
      "\n",
      "  [[ 0.77852213 -0.47338897  0.97772694]\n",
      "   [ 0.24694404  0.20573747 -0.5256233 ]\n",
      "   [ 0.32410017  0.02545409 -0.10638497]\n",
      "   [-0.6369475   1.1603122   0.2507359 ]]\n",
      "\n",
      "  [[-0.41728503  0.4012578  -1.4145443 ]\n",
      "   [-0.5931857  -1.6617213   0.33567193]\n",
      "   [ 0.10815629  0.23479682 -0.56668764]\n",
      "   [-0.35819843  0.88698614  0.52744764]]]]\n",
      "\n",
      "2D global average pooled random tensor:\n",
      " [[-0.09368646 -0.45840448 -0.2885598 ]]\n",
      "\n",
      "Shape of input tensor: (1, 4, 4, 3)\n",
      "Shape of Global Average Pooled 2D tensor: (1, 3)\n"
     ]
    }
   ],
   "source": [
    "# Define the input shape\n",
    "input_shape = (1, 4, 4, 3)\n",
    "\n",
    "# Create a random tensor\n",
    "tf.random.set_seed(42)\n",
    "input_tensor = tf.random.normal(input_shape)\n",
    "print(f\"Random input tensor:\\n {input_tensor}\\n\")\n",
    "\n",
    "# Pass the random tensor through a global average pooled 2D layer\n",
    "global_average_pooled_tensor = tf.keras.layers.GlobalAveragePooling2D()(input_tensor)\n",
    "print(f\"2D global average pooled random tensor:\\n {global_average_pooled_tensor}\\n\")\n",
    "\n",
    "# Check the shape of 2 different tensors\n",
    "print(f\"Shape of input tensor: {input_tensor.shape}\")\n",
    "print(f\"Shape of Global Average Pooled 2D tensor: {global_average_pooled_tensor.shape}\")"
   ]
  },
  {
   "cell_type": "code",
   "execution_count": 17,
   "id": "45fc8ef2",
   "metadata": {
    "execution": {
     "iopub.execute_input": "2023-01-26T08:09:34.347600Z",
     "iopub.status.busy": "2023-01-26T08:09:34.347302Z",
     "iopub.status.idle": "2023-01-26T08:09:34.355373Z",
     "shell.execute_reply": "2023-01-26T08:09:34.354216Z"
    },
    "id": "rp95FNiuOvjh",
    "outputId": "611f139f-4d95-4118-f2a2-e8fd16132b93",
    "papermill": {
     "duration": 0.034364,
     "end_time": "2023-01-26T08:09:34.357570",
     "exception": false,
     "start_time": "2023-01-26T08:09:34.323206",
     "status": "completed"
    },
    "tags": []
   },
   "outputs": [
    {
     "data": {
      "text/plain": [
       "<tf.Tensor: shape=(1, 3), dtype=float32, numpy=array([[-0.09368646, -0.45840448, -0.2885598 ]], dtype=float32)>"
      ]
     },
     "execution_count": 17,
     "metadata": {},
     "output_type": "execute_result"
    }
   ],
   "source": [
    "# Let's replicate the GlobalAveragePool2D layer\n",
    "tf.reduce_mean(input_tensor, axis=[1, 2])"
   ]
  },
  {
   "cell_type": "markdown",
   "id": "8c9d4942",
   "metadata": {
    "id": "cayc7ZC1O4fQ",
    "papermill": {
     "duration": 0.022888,
     "end_time": "2023-01-26T08:09:34.403508",
     "exception": false,
     "start_time": "2023-01-26T08:09:34.380620",
     "status": "completed"
    },
    "tags": []
   },
   "source": [
    "## Running a series of transfer learning experiments\n",
    "\n",
    "we'll go with 1% data instead of 10%\n",
    "\n",
    "1. `model_1` - use feature extraction transfer learning with 1% of training data with data augmentation\n",
    "2. `model_2` - use feature extraction with 10% of training with data augmentation\n",
    "3. `model_3` - use fine-tuning transfer learning on 10% of the training data with data augmentation\n",
    "4. `model_4` -  use fine-tuning transfer learning on 100% of the training data with data augmentation"
   ]
  },
  {
   "cell_type": "markdown",
   "id": "ceb5ec96",
   "metadata": {
    "id": "FLsxqJy0RyPW",
    "papermill": {
     "duration": 0.022532,
     "end_time": "2023-01-26T08:09:34.448801",
     "exception": false,
     "start_time": "2023-01-26T08:09:34.426269",
     "status": "completed"
    },
    "tags": []
   },
   "source": [
    "### Getting and preprocessing data for model_1"
   ]
  },
  {
   "cell_type": "code",
   "execution_count": 18,
   "id": "4996df07",
   "metadata": {
    "execution": {
     "iopub.execute_input": "2023-01-26T08:09:34.495904Z",
     "iopub.status.busy": "2023-01-26T08:09:34.495074Z",
     "iopub.status.idle": "2023-01-26T08:09:37.276841Z",
     "shell.execute_reply": "2023-01-26T08:09:37.275680Z"
    },
    "id": "A_R1uzKnP58V",
    "outputId": "ae933b5d-b317-4fc3-a7a1-3ec10f3188dd",
    "papermill": {
     "duration": 2.808056,
     "end_time": "2023-01-26T08:09:37.279406",
     "exception": false,
     "start_time": "2023-01-26T08:09:34.471350",
     "status": "completed"
    },
    "tags": []
   },
   "outputs": [
    {
     "name": "stdout",
     "output_type": "stream",
     "text": [
      "--2023-01-26 08:09:35--  https://storage.googleapis.com/ztm_tf_course/food_vision/10_food_classes_1_percent.zip\r\n",
      "Resolving storage.googleapis.com (storage.googleapis.com)... 173.194.214.128, 172.217.203.128, 173.194.216.128, ...\r\n",
      "Connecting to storage.googleapis.com (storage.googleapis.com)|173.194.214.128|:443... connected.\r\n",
      "HTTP request sent, awaiting response... 200 OK\r\n",
      "Length: 133612354 (127M) [application/zip]\r\n",
      "Saving to: ‘10_food_classes_1_percent.zip’\r\n",
      "\r\n",
      "10_food_classes_1_p 100%[===================>] 127.42M   233MB/s    in 0.5s    \r\n",
      "\r\n",
      "2023-01-26 08:09:36 (233 MB/s) - ‘10_food_classes_1_percent.zip’ saved [133612354/133612354]\r\n",
      "\r\n"
     ]
    }
   ],
   "source": [
    "# Download and unzip data\n",
    "!wget https://storage.googleapis.com/ztm_tf_course/food_vision/10_food_classes_1_percent.zip\n",
    "# !wget https://storage.googleapis.com/ztm_tf_course/food_vision/10_food_classes_all_data.zip\n",
    "\n",
    "unzip_data(\"10_food_classes_1_percent.zip\")"
   ]
  },
  {
   "cell_type": "code",
   "execution_count": 19,
   "id": "96da3f4c",
   "metadata": {
    "execution": {
     "iopub.execute_input": "2023-01-26T08:09:37.328312Z",
     "iopub.status.busy": "2023-01-26T08:09:37.327515Z",
     "iopub.status.idle": "2023-01-26T08:09:37.339352Z",
     "shell.execute_reply": "2023-01-26T08:09:37.337678Z"
    },
    "id": "iCSKEI03RPHk",
    "outputId": "f79ec09e-81ee-4874-9d1c-5156cb2ad719",
    "papermill": {
     "duration": 0.038769,
     "end_time": "2023-01-26T08:09:37.341605",
     "exception": false,
     "start_time": "2023-01-26T08:09:37.302836",
     "status": "completed"
    },
    "tags": []
   },
   "outputs": [
    {
     "name": "stdout",
     "output_type": "stream",
     "text": [
      "There are 2 directories and 0 images in '10_food_classes_1_percent'.\n",
      "There are 10 directories and 0 images in '10_food_classes_1_percent/train'.\n",
      "There are 0 directories and 7 images in '10_food_classes_1_percent/train/chicken_curry'.\n",
      "There are 0 directories and 7 images in '10_food_classes_1_percent/train/ramen'.\n",
      "There are 0 directories and 7 images in '10_food_classes_1_percent/train/chicken_wings'.\n",
      "There are 0 directories and 7 images in '10_food_classes_1_percent/train/steak'.\n",
      "There are 0 directories and 7 images in '10_food_classes_1_percent/train/pizza'.\n",
      "There are 0 directories and 7 images in '10_food_classes_1_percent/train/fried_rice'.\n",
      "There are 0 directories and 7 images in '10_food_classes_1_percent/train/sushi'.\n",
      "There are 0 directories and 7 images in '10_food_classes_1_percent/train/hamburger'.\n",
      "There are 0 directories and 7 images in '10_food_classes_1_percent/train/grilled_salmon'.\n",
      "There are 0 directories and 7 images in '10_food_classes_1_percent/train/ice_cream'.\n",
      "There are 10 directories and 0 images in '10_food_classes_1_percent/test'.\n",
      "There are 0 directories and 250 images in '10_food_classes_1_percent/test/chicken_curry'.\n",
      "There are 0 directories and 250 images in '10_food_classes_1_percent/test/ramen'.\n",
      "There are 0 directories and 250 images in '10_food_classes_1_percent/test/chicken_wings'.\n",
      "There are 0 directories and 250 images in '10_food_classes_1_percent/test/steak'.\n",
      "There are 0 directories and 250 images in '10_food_classes_1_percent/test/pizza'.\n",
      "There are 0 directories and 250 images in '10_food_classes_1_percent/test/fried_rice'.\n",
      "There are 0 directories and 250 images in '10_food_classes_1_percent/test/sushi'.\n",
      "There are 0 directories and 250 images in '10_food_classes_1_percent/test/hamburger'.\n",
      "There are 0 directories and 250 images in '10_food_classes_1_percent/test/grilled_salmon'.\n",
      "There are 0 directories and 250 images in '10_food_classes_1_percent/test/ice_cream'.\n"
     ]
    }
   ],
   "source": [
    "# Create training and test dirs\n",
    "train_dir_1_percent = \"10_food_classes_1_percent/train/\"\n",
    "test_dir = \"10_food_classes_1_percent/test\"\n",
    "\n",
    "# How many images are we working with\n",
    "walk_through_dir(\"10_food_classes_1_percent\")"
   ]
  },
  {
   "cell_type": "code",
   "execution_count": 20,
   "id": "044c2d89",
   "metadata": {
    "execution": {
     "iopub.execute_input": "2023-01-26T08:09:37.390241Z",
     "iopub.status.busy": "2023-01-26T08:09:37.388717Z",
     "iopub.status.idle": "2023-01-26T08:09:37.754390Z",
     "shell.execute_reply": "2023-01-26T08:09:37.753024Z"
    },
    "id": "jjECmpuARjGz",
    "outputId": "6e98aca8-332c-426a-a60a-ea2167b01423",
    "papermill": {
     "duration": 0.392694,
     "end_time": "2023-01-26T08:09:37.757784",
     "exception": false,
     "start_time": "2023-01-26T08:09:37.365090",
     "status": "completed"
    },
    "tags": []
   },
   "outputs": [
    {
     "name": "stdout",
     "output_type": "stream",
     "text": [
      "Found 70 files belonging to 10 classes.\n",
      "Found 2500 files belonging to 10 classes.\n"
     ]
    }
   ],
   "source": [
    "# Setup data loaders\n",
    "IMG_SIZE = (224, 224)\n",
    "train_data_1_percent = tf.keras.preprocessing.image_dataset_from_directory(train_dir_1_percent,\n",
    "                                                                           label_mode=\"categorical\",\n",
    "                                                                           batch_size=32,\n",
    "                                                                           image_size=IMG_SIZE)\n",
    "\n",
    "test_data = tf.keras.preprocessing.image_dataset_from_directory(test_dir,\n",
    "                                                                label_mode=\"categorical\",\n",
    "                                                                image_size=IMG_SIZE,\n",
    "                                                                batch_size=32)"
   ]
  },
  {
   "cell_type": "markdown",
   "id": "68d03b09",
   "metadata": {
    "id": "0tO0g6p6SQ8b",
    "papermill": {
     "duration": 0.023539,
     "end_time": "2023-01-26T08:09:37.807053",
     "exception": false,
     "start_time": "2023-01-26T08:09:37.783514",
     "status": "completed"
    },
    "tags": []
   },
   "source": [
    "## Adding data augmentation right into the model\n",
    "\n",
    "* `tf.keras.layers.experimental.preprocessing()`\n",
    "\n",
    "the benefits of using data augmentation inside the model are:\n",
    "* Preprocessing of images (augmenting them) happends on the GPU\n",
    "* Image data augmentation only happens during training, so we can still export our whole model an duse it elsewhere (bisa sekalian di save)"
   ]
  },
  {
   "cell_type": "code",
   "execution_count": 21,
   "id": "9a185a52",
   "metadata": {
    "execution": {
     "iopub.execute_input": "2023-01-26T08:09:37.854539Z",
     "iopub.status.busy": "2023-01-26T08:09:37.853974Z",
     "iopub.status.idle": "2023-01-26T08:09:37.877227Z",
     "shell.execute_reply": "2023-01-26T08:09:37.876334Z"
    },
    "id": "9W-o0F5hSzNE",
    "papermill": {
     "duration": 0.049457,
     "end_time": "2023-01-26T08:09:37.879397",
     "exception": false,
     "start_time": "2023-01-26T08:09:37.829940",
     "status": "completed"
    },
    "tags": []
   },
   "outputs": [],
   "source": [
    "import tensorflow as tf\n",
    "from tensorflow import keras\n",
    "from tensorflow.keras import layers\n",
    "from tensorflow.keras.layers.experimental import preprocessing\n",
    "\n",
    "# Create data augmentation stage with horizontal flipping, rotations, zooms, etc\n",
    "data_augmentation = keras.Sequential([\n",
    "    preprocessing.RandomFlip(\"horizontal\"),\n",
    "    preprocessing.RandomRotation(0.2),\n",
    "    preprocessing.RandomZoom(0.2),\n",
    "    preprocessing.RandomHeight(0.2),\n",
    "    preprocessing.RandomWidth(0.2),\n",
    "    # preprocessing.Rescale(1./255) \n",
    "], name=\"data_augmentation\")"
   ]
  },
  {
   "cell_type": "markdown",
   "id": "ff3d5a28",
   "metadata": {
    "id": "14JRQ3HVS0fC",
    "papermill": {
     "duration": 0.022643,
     "end_time": "2023-01-26T08:09:37.925239",
     "exception": false,
     "start_time": "2023-01-26T08:09:37.902596",
     "status": "completed"
    },
    "tags": []
   },
   "source": [
    " ### Visualize our data augmentation layer (and see what happens to our data)"
   ]
  },
  {
   "cell_type": "code",
   "execution_count": 22,
   "id": "5ac3c7ac",
   "metadata": {
    "execution": {
     "iopub.execute_input": "2023-01-26T08:09:37.972521Z",
     "iopub.status.busy": "2023-01-26T08:09:37.971949Z",
     "iopub.status.idle": "2023-01-26T08:09:38.601533Z",
     "shell.execute_reply": "2023-01-26T08:09:38.600536Z"
    },
    "id": "PtzA3Z_Y8wCM",
    "outputId": "089e3321-a872-41fc-bb09-2fe13e3809e5",
    "papermill": {
     "duration": 0.657167,
     "end_time": "2023-01-26T08:09:38.605001",
     "exception": false,
     "start_time": "2023-01-26T08:09:37.947834",
     "status": "completed"
    },
    "tags": []
   },
   "outputs": [
    {
     "data": {
      "image/png": "[encoded data removed]",
      "text/plain": [
       "<Figure size 432x288 with 1 Axes>"
      ]
     },
     "metadata": {
      "needs_background": "light"
     },
     "output_type": "display_data"
    },
    {
     "data": {
      "image/png": "[encoded data removed]",
      "text/plain": [
       "<Figure size 432x288 with 1 Axes>"
      ]
     },
     "metadata": {
      "needs_background": "light"
     },
     "output_type": "display_data"
    }
   ],
   "source": [
    "# View a random image and compare it to its augmented version\n",
    "import matplotlib.pyplot as plt\n",
    "import matplotlib.image as mpimg\n",
    "import os\n",
    "import random\n",
    "target_class = random.choice(train_data_1_percent.class_names)\n",
    "target_dir = \"10_food_classes_1_percent/train/\" + target_class\n",
    "random_image = random.choice(os.listdir(target_dir))\n",
    "random_image_path = target_dir + \"/\" + random_image\n",
    "\n",
    "# Read and plot in the random image\n",
    "img = mpimg.imread(random_image_path)\n",
    "plt.imshow(img)\n",
    "plt.title(f\"Original random image from class: {target_class}\")\n",
    "plt.axis(False);\n",
    "\n",
    "# Now let's plot our augmented random image\n",
    "augmented_img = data_augmentation(tf.expand_dims(img, axis=0), training=True)\n",
    "plt.figure()\n",
    "plt.imshow(tf.squeeze(augmented_img)/255.)\n",
    "plt.title(f\"Augmented random image from class: {target_class}\")\n",
    "plt.axis(False);"
   ]
  },
  {
   "cell_type": "markdown",
   "id": "df6dae8a",
   "metadata": {
    "id": "J-uh9PiKBnea",
    "papermill": {
     "duration": 0.027965,
     "end_time": "2023-01-26T08:09:38.662388",
     "exception": false,
     "start_time": "2023-01-26T08:09:38.634423",
     "status": "completed"
    },
    "tags": []
   },
   "source": [
    "## Model 1: Feature extraction transfer learning on 1% of the data with data augmentation"
   ]
  },
  {
   "cell_type": "code",
   "execution_count": 23,
   "id": "fbcc5057",
   "metadata": {
    "execution": {
     "iopub.execute_input": "2023-01-26T08:09:38.718035Z",
     "iopub.status.busy": "2023-01-26T08:09:38.717690Z",
     "iopub.status.idle": "2023-01-26T08:10:10.493435Z",
     "shell.execute_reply": "2023-01-26T08:10:10.492238Z"
    },
    "id": "ncET7TtICChI",
    "outputId": "6e860776-323f-4de3-8be6-cbeeb0bb0b28",
    "papermill": {
     "duration": 31.830991,
     "end_time": "2023-01-26T08:10:10.520362",
     "exception": false,
     "start_time": "2023-01-26T08:09:38.689371",
     "status": "completed"
    },
    "tags": []
   },
   "outputs": [
    {
     "name": "stderr",
     "output_type": "stream",
     "text": [
      "2023-01-26 08:09:41.328331: I tensorflow/core/profiler/lib/profiler_session.cc:131] Profiler session initializing.\n",
      "2023-01-26 08:09:41.328371: I tensorflow/core/profiler/lib/profiler_session.cc:146] Profiler session started.\n",
      "2023-01-26 08:09:41.947039: I tensorflow/core/profiler/lib/profiler_session.cc:164] Profiler session tear down.\n",
      "2023-01-26 08:09:41.947218: I tensorflow/core/profiler/internal/gpu/cupti_tracer.cc:1748] CUPTI activity buffer flushed\n"
     ]
    },
    {
     "name": "stdout",
     "output_type": "stream",
     "text": [
      "Saving TensorBoard log files to: transfer_learning/1_percent_data_aug/20230126-080941\n",
      "Epoch 1/5\n",
      "1/3 [=========>....................] - ETA: 11s - loss: 2.4706 - accuracy: 0.1250"
     ]
    },
    {
     "name": "stderr",
     "output_type": "stream",
     "text": [
      "2023-01-26 08:09:48.138481: I tensorflow/core/profiler/lib/profiler_session.cc:131] Profiler session initializing.\n",
      "2023-01-26 08:09:48.138557: I tensorflow/core/profiler/lib/profiler_session.cc:146] Profiler session started.\n"
     ]
    },
    {
     "name": "stdout",
     "output_type": "stream",
     "text": [
      "2/3 [===================>..........] - ETA: 0s - loss: 2.4752 - accuracy: 0.0938 "
     ]
    },
    {
     "name": "stderr",
     "output_type": "stream",
     "text": [
      "2023-01-26 08:09:49.319456: I tensorflow/core/profiler/lib/profiler_session.cc:66] Profiler session collecting data.\n",
      "2023-01-26 08:09:49.322369: I tensorflow/core/profiler/internal/gpu/cupti_tracer.cc:1748] CUPTI activity buffer flushed\n",
      "2023-01-26 08:09:49.488943: I tensorflow/core/profiler/internal/gpu/cupti_collector.cc:673]  GpuTracer has collected 2621 callback api events and 2284 activity events. \n",
      "2023-01-26 08:09:49.533987: I tensorflow/core/profiler/lib/profiler_session.cc:164] Profiler session tear down.\n",
      "2023-01-26 08:09:49.593384: I tensorflow/core/profiler/rpc/client/save_profile.cc:136] Creating directory: transfer_learning/1_percent_data_aug/20230126-080941/train/plugins/profile/2023_01_26_08_09_49\n",
      "\n",
      "2023-01-26 08:09:49.628487: I tensorflow/core/profiler/rpc/client/save_profile.cc:142] Dumped gzipped tool data for trace.json.gz to transfer_learning/1_percent_data_aug/20230126-080941/train/plugins/profile/2023_01_26_08_09_49/a625c8d8be8a.trace.json.gz\n",
      "2023-01-26 08:09:49.683235: I tensorflow/core/profiler/rpc/client/save_profile.cc:136] Creating directory: transfer_learning/1_percent_data_aug/20230126-080941/train/plugins/profile/2023_01_26_08_09_49\n",
      "\n",
      "2023-01-26 08:09:49.690469: I tensorflow/core/profiler/rpc/client/save_profile.cc:142] Dumped gzipped tool data for memory_profile.json.gz to transfer_learning/1_percent_data_aug/20230126-080941/train/plugins/profile/2023_01_26_08_09_49/a625c8d8be8a.memory_profile.json.gz\n",
      "2023-01-26 08:09:49.693641: I tensorflow/core/profiler/rpc/client/capture_profile.cc:251] Creating directory: transfer_learning/1_percent_data_aug/20230126-080941/train/plugins/profile/2023_01_26_08_09_49\n",
      "Dumped tool data for xplane.pb to transfer_learning/1_percent_data_aug/20230126-080941/train/plugins/profile/2023_01_26_08_09_49/a625c8d8be8a.xplane.pb\n",
      "Dumped tool data for overview_page.pb to transfer_learning/1_percent_data_aug/20230126-080941/train/plugins/profile/2023_01_26_08_09_49/a625c8d8be8a.overview_page.pb\n",
      "Dumped tool data for input_pipeline.pb to transfer_learning/1_percent_data_aug/20230126-080941/train/plugins/profile/2023_01_26_08_09_49/a625c8d8be8a.input_pipeline.pb\n",
      "Dumped tool data for tensorflow_stats.pb to transfer_learning/1_percent_data_aug/20230126-080941/train/plugins/profile/2023_01_26_08_09_49/a625c8d8be8a.tensorflow_stats.pb\n",
      "Dumped tool data for kernel_stats.pb to transfer_learning/1_percent_data_aug/20230126-080941/train/plugins/profile/2023_01_26_08_09_49/a625c8d8be8a.kernel_stats.pb\n",
      "\n"
     ]
    },
    {
     "name": "stdout",
     "output_type": "stream",
     "text": [
      "3/3 [==============================] - 12s 3s/step - loss: 2.4548 - accuracy: 0.1000 - val_loss: 2.2074 - val_accuracy: 0.1957\n",
      "Epoch 2/5\n",
      "3/3 [==============================] - 4s 1s/step - loss: 2.1554 - accuracy: 0.2571 - val_loss: 2.0935 - val_accuracy: 0.2582\n",
      "Epoch 3/5\n",
      "3/3 [==============================] - 4s 2s/step - loss: 2.0005 - accuracy: 0.4000 - val_loss: 2.0014 - val_accuracy: 0.3207\n",
      "Epoch 4/5\n",
      "3/3 [==============================] - 4s 2s/step - loss: 1.7756 - accuracy: 0.5571 - val_loss: 1.8992 - val_accuracy: 0.3865\n",
      "Epoch 5/5\n",
      "3/3 [==============================] - 4s 2s/step - loss: 1.6661 - accuracy: 0.6143 - val_loss: 1.8072 - val_accuracy: 0.4507\n"
     ]
    }
   ],
   "source": [
    "# Setup input shape and base model, freezing the base model layers\n",
    "input_shape = (224, 224, 3)\n",
    "base_model = tf.keras.applications.EfficientNetB0(include_top=False)\n",
    "base_model.trainable = False\n",
    "\n",
    "# Create input layer\n",
    "inputs = layers.Input(shape=input_shape, name=\"input_layer\")\n",
    "\n",
    "# Adding data augmentation Sequential model as a layer\n",
    "x = data_augmentation(inputs)\n",
    "\n",
    "# Give base_model the inputs (after augmentation) and don't train it\n",
    "x = base_model(x, training=False)\n",
    "\n",
    "# Pool output features of the base model\n",
    "x = layers.GlobalAveragePooling2D(name=\"global_average_pooling_layer\")(x)\n",
    "\n",
    "# Put a dense layer on as the output\n",
    "outputs = layers.Dense(10, activation=\"softmax\", name=\"output_layer\")(x)\n",
    "\n",
    "# Make a model using the inputs and outputs\n",
    "model_1 = keras.Model(inputs, outputs)\n",
    "\n",
    "# Compile the model\n",
    "model_1.compile(loss=\"categorical_crossentropy\",\n",
    "                optimizer=tf.keras.optimizers.Adam(),\n",
    "                metrics=[\"accuracy\"])\n",
    "\n",
    "# Fit the model\n",
    "history_1_percent = model_1.fit(train_data_1_percent,\n",
    "                                epochs=5,\n",
    "                                steps_per_epoch=len(train_data_1_percent),\n",
    "                                validation_data=test_data,\n",
    "                                validation_steps=int(.25 * len(test_data)),\n",
    "                                callbacks=[create_tensorboard_callback(dir_name=\"transfer_learning\",\n",
    "                                                                       experiment_name=\"1_percent_data_aug\")])"
   ]
  },
  {
   "cell_type": "code",
   "execution_count": 24,
   "id": "f22e7406",
   "metadata": {
    "execution": {
     "iopub.execute_input": "2023-01-26T08:10:10.585311Z",
     "iopub.status.busy": "2023-01-26T08:10:10.584924Z",
     "iopub.status.idle": "2023-01-26T08:10:10.599842Z",
     "shell.execute_reply": "2023-01-26T08:10:10.598819Z"
    },
    "id": "yRekc_EiEFUh",
    "outputId": "8f9442d5-ff82-4e39-d520-5f29dd9fdbfd",
    "papermill": {
     "duration": 0.050706,
     "end_time": "2023-01-26T08:10:10.603014",
     "exception": false,
     "start_time": "2023-01-26T08:10:10.552308",
     "status": "completed"
    },
    "tags": []
   },
   "outputs": [
    {
     "name": "stdout",
     "output_type": "stream",
     "text": [
      "Model: \"model_1\"\n",
      "_________________________________________________________________\n",
      "Layer (type)                 Output Shape              Param #   \n",
      "=================================================================\n",
      "input_layer (InputLayer)     [(None, 224, 224, 3)]     0         \n",
      "_________________________________________________________________\n",
      "data_augmentation (Sequentia (None, None, None, 3)     0         \n",
      "_________________________________________________________________\n",
      "efficientnetb0 (Functional)  (None, None, None, 1280)  4049571   \n",
      "_________________________________________________________________\n",
      "global_average_pooling_layer (None, 1280)              0         \n",
      "_________________________________________________________________\n",
      "output_layer (Dense)         (None, 10)                12810     \n",
      "=================================================================\n",
      "Total params: 4,062,381\n",
      "Trainable params: 12,810\n",
      "Non-trainable params: 4,049,571\n",
      "_________________________________________________________________\n"
     ]
    }
   ],
   "source": [
    "# Check out a model summary\n",
    "model_1.summary()"
   ]
  },
  {
   "cell_type": "code",
   "execution_count": 25,
   "id": "4c390909",
   "metadata": {
    "execution": {
     "iopub.execute_input": "2023-01-26T08:10:10.662054Z",
     "iopub.status.busy": "2023-01-26T08:10:10.661765Z",
     "iopub.status.idle": "2023-01-26T08:10:20.913765Z",
     "shell.execute_reply": "2023-01-26T08:10:20.912857Z"
    },
    "id": "6mbNe5FdFCMa",
    "outputId": "4be77e3f-2cd3-4ab0-a2ae-c573569ce739",
    "papermill": {
     "duration": 10.283794,
     "end_time": "2023-01-26T08:10:20.915942",
     "exception": false,
     "start_time": "2023-01-26T08:10:10.632148",
     "status": "completed"
    },
    "tags": []
   },
   "outputs": [
    {
     "name": "stdout",
     "output_type": "stream",
     "text": [
      "79/79 [==============================] - 6s 74ms/step - loss: 1.8204 - accuracy: 0.4456\n"
     ]
    },
    {
     "data": {
      "text/plain": [
       "[1.8204398155212402, 0.4456000030040741]"
      ]
     },
     "execution_count": 25,
     "metadata": {},
     "output_type": "execute_result"
    }
   ],
   "source": [
    "# Evaluate on the fill test dataset\n",
    "results_1_percent_data_aug = model_1.evaluate(test_data)\n",
    "results_1_percent_data_aug"
   ]
  },
  {
   "cell_type": "code",
   "execution_count": 26,
   "id": "5286ebce",
   "metadata": {
    "execution": {
     "iopub.execute_input": "2023-01-26T08:10:20.984020Z",
     "iopub.status.busy": "2023-01-26T08:10:20.983136Z",
     "iopub.status.idle": "2023-01-26T08:10:21.415891Z",
     "shell.execute_reply": "2023-01-26T08:10:21.415186Z"
    },
    "id": "0TtYOtueFjLB",
    "outputId": "ee4c9321-d4fd-4cdb-8cfa-4d29b9602d49",
    "papermill": {
     "duration": 0.468815,
     "end_time": "2023-01-26T08:10:21.417915",
     "exception": false,
     "start_time": "2023-01-26T08:10:20.949100",
     "status": "completed"
    },
    "tags": []
   },
   "outputs": [
    {
     "data": {
      "image/png": "[encoded data removed]",
      "text/plain": [
       "<Figure size 432x288 with 1 Axes>"
      ]
     },
     "metadata": {
      "needs_background": "light"
     },
     "output_type": "display_data"
    },
    {
     "data": {
      "image/png": "[encoded data removed]",
      "text/plain": [
       "<Figure size 432x288 with 1 Axes>"
      ]
     },
     "metadata": {
      "needs_background": "light"
     },
     "output_type": "display_data"
    }
   ],
   "source": [
    "plot_loss_curves(history_1_percent)"
   ]
  },
  {
   "cell_type": "markdown",
   "id": "b16c842e",
   "metadata": {
    "id": "59ZX2ZHiFxAH",
    "papermill": {
     "duration": 0.03333,
     "end_time": "2023-01-26T08:10:21.484814",
     "exception": false,
     "start_time": "2023-01-26T08:10:21.451484",
     "status": "completed"
    },
    "tags": []
   },
   "source": [
    "## Model 2: Feature Extraction Transfer Learning on 10% of data with data augmenatation"
   ]
  },
  {
   "cell_type": "code",
   "execution_count": 27,
   "id": "dea98665",
   "metadata": {
    "execution": {
     "iopub.execute_input": "2023-01-26T08:10:21.558864Z",
     "iopub.status.busy": "2023-01-26T08:10:21.558490Z",
     "iopub.status.idle": "2023-01-26T08:10:55.861196Z",
     "shell.execute_reply": "2023-01-26T08:10:55.860115Z"
    },
    "id": "LcWo7euWGdof",
    "outputId": "c18faba9-3d84-4256-d16a-a7b85a9bc67e",
    "papermill": {
     "duration": 34.344309,
     "end_time": "2023-01-26T08:10:55.863564",
     "exception": false,
     "start_time": "2023-01-26T08:10:21.519255",
     "status": "completed"
    },
    "tags": []
   },
   "outputs": [
    {
     "name": "stderr",
     "output_type": "stream",
     "text": [
      "2023-01-26 08:10:23.891996: I tensorflow/core/profiler/lib/profiler_session.cc:131] Profiler session initializing.\n",
      "2023-01-26 08:10:23.892040: I tensorflow/core/profiler/lib/profiler_session.cc:146] Profiler session started.\n",
      "2023-01-26 08:10:24.186248: I tensorflow/core/profiler/lib/profiler_session.cc:164] Profiler session tear down.\n",
      "2023-01-26 08:10:24.186424: I tensorflow/core/profiler/internal/gpu/cupti_tracer.cc:1748] CUPTI activity buffer flushed\n"
     ]
    },
    {
     "name": "stdout",
     "output_type": "stream",
     "text": [
      "Saving TensorBoard log files to: transfer_learning/10_percent_data_aug/20230126-081023\n",
      "Epoch 1/5\n",
      " 1/24 [>.............................] - ETA: 2:07 - loss: 2.3451 - accuracy: 0.0312"
     ]
    },
    {
     "name": "stderr",
     "output_type": "stream",
     "text": [
      "2023-01-26 08:10:30.228000: I tensorflow/core/profiler/lib/profiler_session.cc:131] Profiler session initializing.\n",
      "2023-01-26 08:10:30.228237: I tensorflow/core/profiler/lib/profiler_session.cc:146] Profiler session started.\n"
     ]
    },
    {
     "name": "stdout",
     "output_type": "stream",
     "text": [
      " 2/24 [=>............................] - ETA: 16s - loss: 2.3464 - accuracy: 0.0781 "
     ]
    },
    {
     "name": "stderr",
     "output_type": "stream",
     "text": [
      "2023-01-26 08:10:31.060474: I tensorflow/core/profiler/lib/profiler_session.cc:66] Profiler session collecting data.\n",
      "2023-01-26 08:10:31.061829: I tensorflow/core/profiler/internal/gpu/cupti_tracer.cc:1748] CUPTI activity buffer flushed\n",
      "2023-01-26 08:10:31.224088: I tensorflow/core/profiler/internal/gpu/cupti_collector.cc:673]  GpuTracer has collected 502 callback api events and 499 activity events. \n",
      "2023-01-26 08:10:31.239987: I tensorflow/core/profiler/lib/profiler_session.cc:164] Profiler session tear down.\n"
     ]
    },
    {
     "name": "stdout",
     "output_type": "stream",
     "text": [
      " 3/24 [==>...........................] - ETA: 15s - loss: 2.3432 - accuracy: 0.1146"
     ]
    },
    {
     "name": "stderr",
     "output_type": "stream",
     "text": [
      "2023-01-26 08:10:31.262239: I tensorflow/core/profiler/rpc/client/save_profile.cc:136] Creating directory: transfer_learning/10_percent_data_aug/20230126-081023/train/plugins/profile/2023_01_26_08_10_31\n",
      "\n",
      "2023-01-26 08:10:31.275862: I tensorflow/core/profiler/rpc/client/save_profile.cc:142] Dumped gzipped tool data for trace.json.gz to transfer_learning/10_percent_data_aug/20230126-081023/train/plugins/profile/2023_01_26_08_10_31/a625c8d8be8a.trace.json.gz\n",
      "2023-01-26 08:10:31.314680: I tensorflow/core/profiler/rpc/client/save_profile.cc:136] Creating directory: transfer_learning/10_percent_data_aug/20230126-081023/train/plugins/profile/2023_01_26_08_10_31\n",
      "\n",
      "2023-01-26 08:10:31.322223: I tensorflow/core/profiler/rpc/client/save_profile.cc:142] Dumped gzipped tool data for memory_profile.json.gz to transfer_learning/10_percent_data_aug/20230126-081023/train/plugins/profile/2023_01_26_08_10_31/a625c8d8be8a.memory_profile.json.gz\n",
      "2023-01-26 08:10:31.323714: I tensorflow/core/profiler/rpc/client/capture_profile.cc:251] Creating directory: transfer_learning/10_percent_data_aug/20230126-081023/train/plugins/profile/2023_01_26_08_10_31\n",
      "Dumped tool data for xplane.pb to transfer_learning/10_percent_data_aug/20230126-081023/train/plugins/profile/2023_01_26_08_10_31/a625c8d8be8a.xplane.pb\n",
      "Dumped tool data for overview_page.pb to transfer_learning/10_percent_data_aug/20230126-081023/train/plugins/profile/2023_01_26_08_10_31/a625c8d8be8a.overview_page.pb\n",
      "Dumped tool data for input_pipeline.pb to transfer_learning/10_percent_data_aug/20230126-081023/train/plugins/profile/2023_01_26_08_10_31/a625c8d8be8a.input_pipeline.pb\n",
      "Dumped tool data for tensorflow_stats.pb to transfer_learning/10_percent_data_aug/20230126-081023/train/plugins/profile/2023_01_26_08_10_31/a625c8d8be8a.tensorflow_stats.pb\n",
      "Dumped tool data for kernel_stats.pb to transfer_learning/10_percent_data_aug/20230126-081023/train/plugins/profile/2023_01_26_08_10_31/a625c8d8be8a.kernel_stats.pb\n",
      "\n"
     ]
    },
    {
     "name": "stdout",
     "output_type": "stream",
     "text": [
      "24/24 [==============================] - 12s 268ms/step - loss: 1.8797 - accuracy: 0.4333 - val_loss: 1.3516 - val_accuracy: 0.7023\n",
      "Epoch 2/5\n",
      "24/24 [==============================] - 5s 182ms/step - loss: 1.0981 - accuracy: 0.7773 - val_loss: 0.8735 - val_accuracy: 0.8174\n",
      "Epoch 3/5\n",
      "24/24 [==============================] - 5s 181ms/step - loss: 0.7943 - accuracy: 0.8240 - val_loss: 0.7236 - val_accuracy: 0.8388\n",
      "Epoch 4/5\n",
      "24/24 [==============================] - 4s 158ms/step - loss: 0.6440 - accuracy: 0.8613 - val_loss: 0.6454 - val_accuracy: 0.8372\n",
      "Epoch 5/5\n",
      "24/24 [==============================] - 5s 184ms/step - loss: 0.5484 - accuracy: 0.8800 - val_loss: 0.5746 - val_accuracy: 0.8487\n"
     ]
    }
   ],
   "source": [
    "# Setup input shape and base model, freezing the base model layers\n",
    "input_shape = (224, 224, 3)\n",
    "base_model = tf.keras.applications.EfficientNetB0(include_top=False)\n",
    "base_model.trainable = False\n",
    "\n",
    "# Create input layer\n",
    "inputs = layers.Input(shape=input_shape, name=\"input_layer\")\n",
    "\n",
    "# Adding data augmentation Sequential model as a layer\n",
    "x = data_augmentation(inputs, training=False)\n",
    "\n",
    "# Give base_model the inputs (after augmentation) and don't train it\n",
    "x = base_model(x, training=False)\n",
    "\n",
    "# Pool output features of the base model\n",
    "x = layers.GlobalAveragePooling2D(name=\"global_average_pooling_layer\")(x)\n",
    "\n",
    "# Put a dense layer on as the output\n",
    "outputs = layers.Dense(10, activation=\"softmax\")(x)\n",
    "\n",
    "# Make a model using the inputs and outputs\n",
    "model_2 = keras.Model(inputs, outputs)\n",
    "\n",
    "# Compile the model\n",
    "model_2.compile(loss=\"categorical_crossentropy\",\n",
    "                optimizer=tf.keras.optimizers.Adam(),\n",
    "                metrics=[\"accuracy\"])\n",
    "\n",
    "# Fit the model\n",
    "history_model_2 = model_2.fit(train_data_10_percent,\n",
    "                              epochs=5,\n",
    "                              steps_per_epoch=len(train_data_10_percent),\n",
    "                              validation_data=test_data,\n",
    "                              validation_steps=int(0.25 * len(test_data)),\n",
    "                              callbacks=[create_tensorboard_callback(dir_name=\"transfer_learning\",\n",
    "                                                                     experiment_name=\"10_percent_data_aug\")])"
   ]
  },
  {
   "cell_type": "code",
   "execution_count": 28,
   "id": "d30487e6",
   "metadata": {
    "execution": {
     "iopub.execute_input": "2023-01-26T08:10:55.948632Z",
     "iopub.status.busy": "2023-01-26T08:10:55.947991Z",
     "iopub.status.idle": "2023-01-26T08:11:03.066380Z",
     "shell.execute_reply": "2023-01-26T08:11:03.065453Z"
    },
    "id": "o6xU_I34IczN",
    "outputId": "d95e78a9-92ce-49df-f6be-a5038a607102",
    "papermill": {
     "duration": 7.161659,
     "end_time": "2023-01-26T08:11:03.068420",
     "exception": false,
     "start_time": "2023-01-26T08:10:55.906761",
     "status": "completed"
    },
    "tags": []
   },
   "outputs": [
    {
     "name": "stdout",
     "output_type": "stream",
     "text": [
      "79/79 [==============================] - 7s 85ms/step - loss: 0.6081 - accuracy: 0.8344\n"
     ]
    },
    {
     "data": {
      "text/plain": [
       "[0.6080561280250549, 0.8343999981880188]"
      ]
     },
     "execution_count": 28,
     "metadata": {},
     "output_type": "execute_result"
    }
   ],
   "source": [
    "# Evaluate on the fill test dataset\n",
    "results_10_percent_data_aug = model_2.evaluate(test_data)\n",
    "results_10_percent_data_aug"
   ]
  },
  {
   "cell_type": "code",
   "execution_count": 29,
   "id": "93c801a1",
   "metadata": {
    "execution": {
     "iopub.execute_input": "2023-01-26T08:11:03.162842Z",
     "iopub.status.busy": "2023-01-26T08:11:03.161313Z",
     "iopub.status.idle": "2023-01-26T08:11:03.587786Z",
     "shell.execute_reply": "2023-01-26T08:11:03.586910Z"
    },
    "id": "OnI15iFzIy8f",
    "outputId": "3e623dc0-0e2e-4466-d7d4-3ebf78397e9b",
    "papermill": {
     "duration": 0.475362,
     "end_time": "2023-01-26T08:11:03.589907",
     "exception": false,
     "start_time": "2023-01-26T08:11:03.114545",
     "status": "completed"
    },
    "tags": []
   },
   "outputs": [
    {
     "data": {
      "image/png": "[encoded data removed]",
      "text/plain": [
       "<Figure size 432x288 with 1 Axes>"
      ]
     },
     "metadata": {
      "needs_background": "light"
     },
     "output_type": "display_data"
    },
    {
     "data": {
      "image/png": "[encoded data removed]",
      "text/plain": [
       "<Figure size 432x288 with 1 Axes>"
      ]
     },
     "metadata": {
      "needs_background": "light"
     },
     "output_type": "display_data"
    }
   ],
   "source": [
    "plot_loss_curves(history_model_2)"
   ]
  },
  {
   "cell_type": "code",
   "execution_count": 30,
   "id": "4ab5f450",
   "metadata": {
    "execution": {
     "iopub.execute_input": "2023-01-26T08:11:03.682586Z",
     "iopub.status.busy": "2023-01-26T08:11:03.682265Z",
     "iopub.status.idle": "2023-01-26T08:11:03.698163Z",
     "shell.execute_reply": "2023-01-26T08:11:03.696467Z"
    },
    "id": "lwDmeTnYI0Vz",
    "outputId": "61491a25-6e9d-4916-e841-c82bb8faae7f",
    "papermill": {
     "duration": 0.065369,
     "end_time": "2023-01-26T08:11:03.701152",
     "exception": false,
     "start_time": "2023-01-26T08:11:03.635783",
     "status": "completed"
    },
    "tags": []
   },
   "outputs": [
    {
     "name": "stdout",
     "output_type": "stream",
     "text": [
      "Model: \"model_2\"\n",
      "_________________________________________________________________\n",
      "Layer (type)                 Output Shape              Param #   \n",
      "=================================================================\n",
      "input_layer (InputLayer)     [(None, 224, 224, 3)]     0         \n",
      "_________________________________________________________________\n",
      "data_augmentation (Sequentia (None, None, None, 3)     0         \n",
      "_________________________________________________________________\n",
      "efficientnetb0 (Functional)  (None, None, None, 1280)  4049571   \n",
      "_________________________________________________________________\n",
      "global_average_pooling_layer (None, 1280)              0         \n",
      "_________________________________________________________________\n",
      "dense (Dense)                (None, 10)                12810     \n",
      "=================================================================\n",
      "Total params: 4,062,381\n",
      "Trainable params: 12,810\n",
      "Non-trainable params: 4,049,571\n",
      "_________________________________________________________________\n"
     ]
    }
   ],
   "source": [
    "model_2.summary()"
   ]
  },
  {
   "cell_type": "markdown",
   "id": "5d86698f",
   "metadata": {
    "papermill": {
     "duration": 0.045594,
     "end_time": "2023-01-26T08:11:03.792120",
     "exception": false,
     "start_time": "2023-01-26T08:11:03.746526",
     "status": "completed"
    },
    "tags": []
   },
   "source": [
    "### Create Model Checkpointing callback"
   ]
  },
  {
   "cell_type": "code",
   "execution_count": 31,
   "id": "25b0a7bf",
   "metadata": {
    "execution": {
     "iopub.execute_input": "2023-01-26T08:11:03.883344Z",
     "iopub.status.busy": "2023-01-26T08:11:03.882945Z",
     "iopub.status.idle": "2023-01-26T08:11:03.888489Z",
     "shell.execute_reply": "2023-01-26T08:11:03.887357Z"
    },
    "id": "IrzcaUaUJ4jJ",
    "papermill": {
     "duration": 0.0548,
     "end_time": "2023-01-26T08:11:03.891156",
     "exception": false,
     "start_time": "2023-01-26T08:11:03.836356",
     "status": "completed"
    },
    "tags": []
   },
   "outputs": [],
   "source": [
    "# Set Checkpoint path\n",
    "checkpoint_path = \"ten_percent_model_checkpoint_weights/checkpoint.ckpt\"\n",
    "\n",
    "# Create a ModelCheckpoint callback that saves the model's weights only\n",
    "checkpoint_callback = tf.keras.callbacks.ModelCheckpoint(filepath=checkpoint_path,\n",
    "                                                        weights_only=True,\n",
    "                                                        save_best_only=False,\n",
    "                                                        save_freq=\"epoch\",\n",
    "                                                        verbose=1)"
   ]
  },
  {
   "cell_type": "markdown",
   "id": "abf9b3b2",
   "metadata": {
    "papermill": {
     "duration": 0.04569,
     "end_time": "2023-01-26T08:11:03.981683",
     "exception": false,
     "start_time": "2023-01-26T08:11:03.935993",
     "status": "completed"
    },
    "tags": []
   },
   "source": [
    "### Fit model 2 passing in the ModelCheckpoint Callback"
   ]
  },
  {
   "cell_type": "code",
   "execution_count": 32,
   "id": "047878e3",
   "metadata": {
    "execution": {
     "iopub.execute_input": "2023-01-26T08:11:04.075122Z",
     "iopub.status.busy": "2023-01-26T08:11:04.074775Z",
     "iopub.status.idle": "2023-01-26T08:14:32.197739Z",
     "shell.execute_reply": "2023-01-26T08:14:32.196687Z"
    },
    "papermill": {
     "duration": 208.173446,
     "end_time": "2023-01-26T08:14:32.200978",
     "exception": false,
     "start_time": "2023-01-26T08:11:04.027532",
     "status": "completed"
    },
    "tags": []
   },
   "outputs": [
    {
     "name": "stderr",
     "output_type": "stream",
     "text": [
      "2023-01-26 08:11:04.078664: I tensorflow/core/profiler/lib/profiler_session.cc:131] Profiler session initializing.\n",
      "2023-01-26 08:11:04.078710: I tensorflow/core/profiler/lib/profiler_session.cc:146] Profiler session started.\n",
      "2023-01-26 08:11:04.344093: I tensorflow/core/profiler/lib/profiler_session.cc:164] Profiler session tear down.\n",
      "2023-01-26 08:11:04.344281: I tensorflow/core/profiler/internal/gpu/cupti_tracer.cc:1748] CUPTI activity buffer flushed\n"
     ]
    },
    {
     "name": "stdout",
     "output_type": "stream",
     "text": [
      "Saving TensorBoard log files to: transfer_learning/10_percent_data_aug/20230126-081104\n",
      "Epoch 1/5\n",
      " 1/24 [>.............................] - ETA: 12s - loss: 0.4203 - accuracy: 0.9375"
     ]
    },
    {
     "name": "stderr",
     "output_type": "stream",
     "text": [
      "2023-01-26 08:11:05.274156: I tensorflow/core/profiler/lib/profiler_session.cc:131] Profiler session initializing.\n",
      "2023-01-26 08:11:05.274220: I tensorflow/core/profiler/lib/profiler_session.cc:146] Profiler session started.\n"
     ]
    },
    {
     "name": "stdout",
     "output_type": "stream",
     "text": [
      " 2/24 [=>............................] - ETA: 11s - loss: 0.4423 - accuracy: 0.9531"
     ]
    },
    {
     "name": "stderr",
     "output_type": "stream",
     "text": [
      "2023-01-26 08:11:05.791262: I tensorflow/core/profiler/lib/profiler_session.cc:66] Profiler session collecting data.\n",
      "2023-01-26 08:11:05.792138: I tensorflow/core/profiler/internal/gpu/cupti_tracer.cc:1748] CUPTI activity buffer flushed\n",
      "2023-01-26 08:11:05.947597: I tensorflow/core/profiler/internal/gpu/cupti_collector.cc:673]  GpuTracer has collected 502 callback api events and 499 activity events. \n",
      "2023-01-26 08:11:05.961925: I tensorflow/core/profiler/lib/profiler_session.cc:164] Profiler session tear down.\n",
      "2023-01-26 08:11:05.981277: I tensorflow/core/profiler/rpc/client/save_profile.cc:136] Creating directory: transfer_learning/10_percent_data_aug/20230126-081104/train/plugins/profile/2023_01_26_08_11_05\n",
      "\n"
     ]
    },
    {
     "name": "stdout",
     "output_type": "stream",
     "text": [
      " 3/24 [==>...........................] - ETA: 10s - loss: 0.4132 - accuracy: 0.9375"
     ]
    },
    {
     "name": "stderr",
     "output_type": "stream",
     "text": [
      "2023-01-26 08:11:05.995846: I tensorflow/core/profiler/rpc/client/save_profile.cc:142] Dumped gzipped tool data for trace.json.gz to transfer_learning/10_percent_data_aug/20230126-081104/train/plugins/profile/2023_01_26_08_11_05/a625c8d8be8a.trace.json.gz\n",
      "2023-01-26 08:11:06.030038: I tensorflow/core/profiler/rpc/client/save_profile.cc:136] Creating directory: transfer_learning/10_percent_data_aug/20230126-081104/train/plugins/profile/2023_01_26_08_11_05\n",
      "\n",
      "2023-01-26 08:11:06.037532: I tensorflow/core/profiler/rpc/client/save_profile.cc:142] Dumped gzipped tool data for memory_profile.json.gz to transfer_learning/10_percent_data_aug/20230126-081104/train/plugins/profile/2023_01_26_08_11_05/a625c8d8be8a.memory_profile.json.gz\n",
      "2023-01-26 08:11:06.038965: I tensorflow/core/profiler/rpc/client/capture_profile.cc:251] Creating directory: transfer_learning/10_percent_data_aug/20230126-081104/train/plugins/profile/2023_01_26_08_11_05\n",
      "Dumped tool data for xplane.pb to transfer_learning/10_percent_data_aug/20230126-081104/train/plugins/profile/2023_01_26_08_11_05/a625c8d8be8a.xplane.pb\n",
      "Dumped tool data for overview_page.pb to transfer_learning/10_percent_data_aug/20230126-081104/train/plugins/profile/2023_01_26_08_11_05/a625c8d8be8a.overview_page.pb\n",
      "Dumped tool data for input_pipeline.pb to transfer_learning/10_percent_data_aug/20230126-081104/train/plugins/profile/2023_01_26_08_11_05/a625c8d8be8a.input_pipeline.pb\n",
      "Dumped tool data for tensorflow_stats.pb to transfer_learning/10_percent_data_aug/20230126-081104/train/plugins/profile/2023_01_26_08_11_05/a625c8d8be8a.tensorflow_stats.pb\n",
      "Dumped tool data for kernel_stats.pb to transfer_learning/10_percent_data_aug/20230126-081104/train/plugins/profile/2023_01_26_08_11_05/a625c8d8be8a.kernel_stats.pb\n",
      "\n"
     ]
    },
    {
     "name": "stdout",
     "output_type": "stream",
     "text": [
      "24/24 [==============================] - 5s 184ms/step - loss: 0.4785 - accuracy: 0.9027 - val_loss: 0.5419 - val_accuracy: 0.8586\n",
      "\n",
      "Epoch 00001: saving model to ten_percent_model_checkpoint_weights/checkpoint.ckpt\n"
     ]
    },
    {
     "name": "stderr",
     "output_type": "stream",
     "text": [
      "2023-01-26 08:11:22.038758: W tensorflow/python/util/util.cc:348] Sets are not currently considered sequences, but this may change in the future, so consider avoiding using them.\n",
      "/opt/conda/lib/python3.7/site-packages/keras/utils/generic_utils.py:497: CustomMaskWarning: Custom mask layers require a config and must override get_config. When loading, the custom mask layer must be passed to the custom_objects argument.\n",
      "  category=CustomMaskWarning)\n"
     ]
    },
    {
     "name": "stdout",
     "output_type": "stream",
     "text": [
      "Epoch 2/5\n",
      "24/24 [==============================] - 4s 152ms/step - loss: 0.4245 - accuracy: 0.9147 - val_loss: 0.5196 - val_accuracy: 0.8618\n",
      "\n",
      "Epoch 00002: saving model to ten_percent_model_checkpoint_weights/checkpoint.ckpt\n"
     ]
    },
    {
     "name": "stderr",
     "output_type": "stream",
     "text": [
      "/opt/conda/lib/python3.7/site-packages/keras/utils/generic_utils.py:497: CustomMaskWarning: Custom mask layers require a config and must override get_config. When loading, the custom mask layer must be passed to the custom_objects argument.\n",
      "  category=CustomMaskWarning)\n"
     ]
    },
    {
     "name": "stdout",
     "output_type": "stream",
     "text": [
      "Epoch 3/5\n",
      "24/24 [==============================] - 5s 183ms/step - loss: 0.3817 - accuracy: 0.9333 - val_loss: 0.5221 - val_accuracy: 0.8536\n",
      "\n",
      "Epoch 00003: saving model to ten_percent_model_checkpoint_weights/checkpoint.ckpt\n"
     ]
    },
    {
     "name": "stderr",
     "output_type": "stream",
     "text": [
      "/opt/conda/lib/python3.7/site-packages/keras/utils/generic_utils.py:497: CustomMaskWarning: Custom mask layers require a config and must override get_config. When loading, the custom mask layer must be passed to the custom_objects argument.\n",
      "  category=CustomMaskWarning)\n"
     ]
    },
    {
     "name": "stdout",
     "output_type": "stream",
     "text": [
      "Epoch 4/5\n",
      "24/24 [==============================] - 5s 183ms/step - loss: 0.3447 - accuracy: 0.9427 - val_loss: 0.4941 - val_accuracy: 0.8635\n",
      "\n",
      "Epoch 00004: saving model to ten_percent_model_checkpoint_weights/checkpoint.ckpt\n"
     ]
    },
    {
     "name": "stderr",
     "output_type": "stream",
     "text": [
      "/opt/conda/lib/python3.7/site-packages/keras/utils/generic_utils.py:497: CustomMaskWarning: Custom mask layers require a config and must override get_config. When loading, the custom mask layer must be passed to the custom_objects argument.\n",
      "  category=CustomMaskWarning)\n"
     ]
    },
    {
     "name": "stdout",
     "output_type": "stream",
     "text": [
      "Epoch 5/5\n",
      "24/24 [==============================] - 4s 150ms/step - loss: 0.3138 - accuracy: 0.9533 - val_loss: 0.4847 - val_accuracy: 0.8602\n",
      "\n",
      "Epoch 00005: saving model to ten_percent_model_checkpoint_weights/checkpoint.ckpt\n"
     ]
    },
    {
     "name": "stderr",
     "output_type": "stream",
     "text": [
      "/opt/conda/lib/python3.7/site-packages/keras/utils/generic_utils.py:497: CustomMaskWarning: Custom mask layers require a config and must override get_config. When loading, the custom mask layer must be passed to the custom_objects argument.\n",
      "  category=CustomMaskWarning)\n"
     ]
    }
   ],
   "source": [
    "# Fit the model using checkpoint callback\n",
    "initial_epochs=5\n",
    "history_model_2 = model_2.fit(train_data_10_percent,\n",
    "                              epochs=initial_epochs,\n",
    "#                               steps_per_epoch=len(train_data_10_percent),\n",
    "                              validation_data=test_data,\n",
    "                              validation_steps=int(len(test_data) * 0.25),\n",
    "                              callbacks=[create_tensorboard_callback(dir_name=\"transfer_learning\",\n",
    "                                                                     experiment_name=\"10_percent_data_aug\"),\n",
    "                                        checkpoint_callback])"
   ]
  },
  {
   "cell_type": "code",
   "execution_count": 33,
   "id": "9cf5b09f",
   "metadata": {
    "execution": {
     "iopub.execute_input": "2023-01-26T08:14:32.324929Z",
     "iopub.status.busy": "2023-01-26T08:14:32.324552Z",
     "iopub.status.idle": "2023-01-26T08:14:43.534434Z",
     "shell.execute_reply": "2023-01-26T08:14:43.533134Z"
    },
    "papermill": {
     "duration": 11.282153,
     "end_time": "2023-01-26T08:14:43.536747",
     "exception": false,
     "start_time": "2023-01-26T08:14:32.254594",
     "status": "completed"
    },
    "tags": []
   },
   "outputs": [
    {
     "name": "stdout",
     "output_type": "stream",
     "text": [
      "79/79 [==============================] - 7s 73ms/step - loss: 0.6075 - accuracy: 0.8456\n"
     ]
    },
    {
     "data": {
      "text/plain": [
       "[0.6075265407562256, 0.8456000089645386]"
      ]
     },
     "execution_count": 33,
     "metadata": {},
     "output_type": "execute_result"
    }
   ],
   "source": [
    "# What were model_0 results?\n",
    "model_0.evaluate(test_data)"
   ]
  },
  {
   "cell_type": "code",
   "execution_count": 34,
   "id": "2182b629",
   "metadata": {
    "execution": {
     "iopub.execute_input": "2023-01-26T08:14:43.654606Z",
     "iopub.status.busy": "2023-01-26T08:14:43.654266Z",
     "iopub.status.idle": "2023-01-26T08:14:49.689102Z",
     "shell.execute_reply": "2023-01-26T08:14:49.688219Z"
    },
    "papermill": {
     "duration": 6.094713,
     "end_time": "2023-01-26T08:14:49.691261",
     "exception": false,
     "start_time": "2023-01-26T08:14:43.596548",
     "status": "completed"
    },
    "tags": []
   },
   "outputs": [
    {
     "name": "stdout",
     "output_type": "stream",
     "text": [
      "79/79 [==============================] - 6s 70ms/step - loss: 0.4994 - accuracy: 0.8512\n"
     ]
    },
    {
     "data": {
      "text/plain": [
       "[0.4993646442890167, 0.8511999845504761]"
      ]
     },
     "execution_count": 34,
     "metadata": {},
     "output_type": "execute_result"
    }
   ],
   "source": [
    "# Check model_2 results on all test_data\n",
    "results_10_percent_data_aug = model_2.evaluate(test_data)\n",
    "results_10_percent_data_aug"
   ]
  },
  {
   "cell_type": "code",
   "execution_count": 35,
   "id": "68a709b6",
   "metadata": {
    "execution": {
     "iopub.execute_input": "2023-01-26T08:14:49.817675Z",
     "iopub.status.busy": "2023-01-26T08:14:49.816016Z",
     "iopub.status.idle": "2023-01-26T08:14:50.239730Z",
     "shell.execute_reply": "2023-01-26T08:14:50.238838Z"
    },
    "papermill": {
     "duration": 0.488918,
     "end_time": "2023-01-26T08:14:50.242076",
     "exception": false,
     "start_time": "2023-01-26T08:14:49.753158",
     "status": "completed"
    },
    "tags": []
   },
   "outputs": [
    {
     "data": {
      "image/png": "[encoded data removed]",
      "text/plain": [
       "<Figure size 432x288 with 1 Axes>"
      ]
     },
     "metadata": {
      "needs_background": "light"
     },
     "output_type": "display_data"
    },
    {
     "data": {
      "image/png": "[encoded data removed]",
      "text/plain": [
       "<Figure size 432x288 with 1 Axes>"
      ]
     },
     "metadata": {
      "needs_background": "light"
     },
     "output_type": "display_data"
    }
   ],
   "source": [
    "# Plot model loss curves\n",
    "plot_loss_curves(history_model_2)"
   ]
  },
  {
   "cell_type": "markdown",
   "id": "5cd76490",
   "metadata": {
    "papermill": {
     "duration": 0.062231,
     "end_time": "2023-01-26T08:14:50.370726",
     "exception": false,
     "start_time": "2023-01-26T08:14:50.308495",
     "status": "completed"
    },
    "tags": []
   },
   "source": [
    "### Loading in checkpointed weights"
   ]
  },
  {
   "cell_type": "code",
   "execution_count": 36,
   "id": "daa8059b",
   "metadata": {
    "execution": {
     "iopub.execute_input": "2023-01-26T08:14:50.495085Z",
     "iopub.status.busy": "2023-01-26T08:14:50.494139Z",
     "iopub.status.idle": "2023-01-26T08:14:51.302186Z",
     "shell.execute_reply": "2023-01-26T08:14:51.301106Z"
    },
    "papermill": {
     "duration": 0.873217,
     "end_time": "2023-01-26T08:14:51.304399",
     "exception": false,
     "start_time": "2023-01-26T08:14:50.431182",
     "status": "completed"
    },
    "tags": []
   },
   "outputs": [
    {
     "name": "stderr",
     "output_type": "stream",
     "text": [
      "2023-01-26 08:14:50.496766: W tensorflow/core/util/tensor_slice_reader.cc:95] Could not open ten_percent_model_checkpoint_weights/checkpoint.ckpt: Failed precondition: ten_percent_model_checkpoint_weights/checkpoint.ckpt; Is a directory: perhaps your file is in a different file format and you need to use a different restore operator?\n"
     ]
    },
    {
     "data": {
      "text/plain": [
       "<tensorflow.python.training.tracking.util.CheckpointLoadStatus at 0x7f6cb43dca90>"
      ]
     },
     "execution_count": 36,
     "metadata": {},
     "output_type": "execute_result"
    }
   ],
   "source": [
    "# Load in saved model weights and evaluate model\n",
    "model_2.load_weights(checkpoint_path)"
   ]
  },
  {
   "cell_type": "code",
   "execution_count": 37,
   "id": "2a2a5fbd",
   "metadata": {
    "execution": {
     "iopub.execute_input": "2023-01-26T08:14:51.434077Z",
     "iopub.status.busy": "2023-01-26T08:14:51.433750Z",
     "iopub.status.idle": "2023-01-26T08:15:01.685665Z",
     "shell.execute_reply": "2023-01-26T08:15:01.684592Z"
    },
    "papermill": {
     "duration": 10.320238,
     "end_time": "2023-01-26T08:15:01.688149",
     "exception": false,
     "start_time": "2023-01-26T08:14:51.367911",
     "status": "completed"
    },
    "tags": []
   },
   "outputs": [
    {
     "name": "stdout",
     "output_type": "stream",
     "text": [
      "79/79 [==============================] - 6s 74ms/step - loss: 0.4994 - accuracy: 0.8512\n"
     ]
    }
   ],
   "source": [
    "# Evaluate model_2 with loaded weights\n",
    "loaded_weights_model_results = model_2.evaluate(test_data)"
   ]
  },
  {
   "cell_type": "code",
   "execution_count": 38,
   "id": "fedae99f",
   "metadata": {
    "execution": {
     "iopub.execute_input": "2023-01-26T08:15:01.822368Z",
     "iopub.status.busy": "2023-01-26T08:15:01.821447Z",
     "iopub.status.idle": "2023-01-26T08:15:01.828319Z",
     "shell.execute_reply": "2023-01-26T08:15:01.827240Z"
    },
    "papermill": {
     "duration": 0.075933,
     "end_time": "2023-01-26T08:15:01.830404",
     "exception": false,
     "start_time": "2023-01-26T08:15:01.754471",
     "status": "completed"
    },
    "tags": []
   },
   "outputs": [
    {
     "data": {
      "text/plain": [
       "True"
      ]
     },
     "execution_count": 38,
     "metadata": {},
     "output_type": "execute_result"
    }
   ],
   "source": [
    "# If the results from our previously evaluated model_2 match the loaded weights, everything has worked!\n",
    "results_10_percent_data_aug == loaded_weights_model_results"
   ]
  },
  {
   "cell_type": "code",
   "execution_count": 39,
   "id": "edb02207",
   "metadata": {
    "execution": {
     "iopub.execute_input": "2023-01-26T08:15:01.964017Z",
     "iopub.status.busy": "2023-01-26T08:15:01.962111Z",
     "iopub.status.idle": "2023-01-26T08:15:01.971796Z",
     "shell.execute_reply": "2023-01-26T08:15:01.970852Z"
    },
    "papermill": {
     "duration": 0.078676,
     "end_time": "2023-01-26T08:15:01.974062",
     "exception": false,
     "start_time": "2023-01-26T08:15:01.895386",
     "status": "completed"
    },
    "tags": []
   },
   "outputs": [
    {
     "data": {
      "text/plain": [
       "array([ True,  True])"
      ]
     },
     "execution_count": 39,
     "metadata": {},
     "output_type": "execute_result"
    }
   ],
   "source": [
    "# Check to see if loaded model results are very close to our previous non_loaded model_2\n",
    "import numpy as np\n",
    "np.isclose(np.array(results_10_percent_data_aug), np.array(loaded_weights_model_results))"
   ]
  },
  {
   "cell_type": "code",
   "execution_count": 40,
   "id": "219161d6",
   "metadata": {
    "execution": {
     "iopub.execute_input": "2023-01-26T08:15:02.160992Z",
     "iopub.status.busy": "2023-01-26T08:15:02.160618Z",
     "iopub.status.idle": "2023-01-26T08:15:02.166507Z",
     "shell.execute_reply": "2023-01-26T08:15:02.165412Z"
    },
    "papermill": {
     "duration": 0.07535,
     "end_time": "2023-01-26T08:15:02.169541",
     "exception": false,
     "start_time": "2023-01-26T08:15:02.094191",
     "status": "completed"
    },
    "tags": []
   },
   "outputs": [
    {
     "name": "stdout",
     "output_type": "stream",
     "text": [
      "[0. 0.]\n"
     ]
    }
   ],
   "source": [
    "# Check the difference between the two results\n",
    "print(np.array(results_10_percent_data_aug) - np.array(loaded_weights_model_results))"
   ]
  },
  {
   "cell_type": "markdown",
   "id": "ef69c1c3",
   "metadata": {
    "papermill": {
     "duration": 0.065426,
     "end_time": "2023-01-26T08:15:02.302183",
     "exception": false,
     "start_time": "2023-01-26T08:15:02.236757",
     "status": "completed"
    },
    "tags": []
   },
   "source": [
    "## Model 3: Fine-tuning an existing model on 10% of the data\n",
    "\n",
    "✏️**Note:** Fine-tuning usually works best *after* training a feature extraction model for a few epochs with large amounts of custom data"
   ]
  },
  {
   "cell_type": "code",
   "execution_count": 41,
   "id": "b5560639",
   "metadata": {
    "execution": {
     "iopub.execute_input": "2023-01-26T08:15:02.438406Z",
     "iopub.status.busy": "2023-01-26T08:15:02.438027Z",
     "iopub.status.idle": "2023-01-26T08:15:02.444505Z",
     "shell.execute_reply": "2023-01-26T08:15:02.443598Z"
    },
    "papermill": {
     "duration": 0.078188,
     "end_time": "2023-01-26T08:15:02.446524",
     "exception": false,
     "start_time": "2023-01-26T08:15:02.368336",
     "status": "completed"
    },
    "tags": []
   },
   "outputs": [
    {
     "data": {
      "text/plain": [
       "[<keras.engine.input_layer.InputLayer at 0x7f6cf904d790>,\n",
       " <keras.engine.sequential.Sequential at 0x7f708e044290>,\n",
       " <keras.engine.functional.Functional at 0x7f6cf90d1b10>,\n",
       " <keras.layers.pooling.GlobalAveragePooling2D at 0x7f6cf904d710>,\n",
       " <keras.layers.core.Dense at 0x7f6cf8d60050>]"
      ]
     },
     "execution_count": 41,
     "metadata": {},
     "output_type": "execute_result"
    }
   ],
   "source": [
    "# Layers in loaded model\n",
    "model_2.layers"
   ]
  },
  {
   "cell_type": "code",
   "execution_count": 42,
   "id": "c5e777c7",
   "metadata": {
    "execution": {
     "iopub.execute_input": "2023-01-26T08:15:02.577838Z",
     "iopub.status.busy": "2023-01-26T08:15:02.577278Z",
     "iopub.status.idle": "2023-01-26T08:15:02.583007Z",
     "shell.execute_reply": "2023-01-26T08:15:02.582055Z"
    },
    "papermill": {
     "duration": 0.075355,
     "end_time": "2023-01-26T08:15:02.585832",
     "exception": false,
     "start_time": "2023-01-26T08:15:02.510477",
     "status": "completed"
    },
    "tags": []
   },
   "outputs": [
    {
     "name": "stdout",
     "output_type": "stream",
     "text": [
      "<keras.engine.input_layer.InputLayer object at 0x7f6cf904d790> True\n",
      "<keras.engine.sequential.Sequential object at 0x7f708e044290> True\n",
      "<keras.engine.functional.Functional object at 0x7f6cf90d1b10> False\n",
      "<keras.layers.pooling.GlobalAveragePooling2D object at 0x7f6cf904d710> True\n",
      "<keras.layers.core.Dense object at 0x7f6cf8d60050> True\n"
     ]
    }
   ],
   "source": [
    "# Are these layers trainable?\n",
    "for layer in model_2.layers:\n",
    "    print(layer, layer.trainable)"
   ]
  },
  {
   "cell_type": "code",
   "execution_count": 43,
   "id": "aea5a838",
   "metadata": {
    "execution": {
     "iopub.execute_input": "2023-01-26T08:15:02.723305Z",
     "iopub.status.busy": "2023-01-26T08:15:02.721584Z",
     "iopub.status.idle": "2023-01-26T08:15:02.732867Z",
     "shell.execute_reply": "2023-01-26T08:15:02.731754Z"
    },
    "papermill": {
     "duration": 0.086177,
     "end_time": "2023-01-26T08:15:02.737710",
     "exception": false,
     "start_time": "2023-01-26T08:15:02.651533",
     "status": "completed"
    },
    "tags": []
   },
   "outputs": [
    {
     "name": "stdout",
     "output_type": "stream",
     "text": [
      "0 input_3 False\n",
      "1 rescaling_2 False\n",
      "2 normalization_2 False\n",
      "3 stem_conv_pad False\n",
      "4 stem_conv False\n",
      "5 stem_bn False\n",
      "6 stem_activation False\n",
      "7 block1a_dwconv False\n",
      "8 block1a_bn False\n",
      "9 block1a_activation False\n",
      "10 block1a_se_squeeze False\n",
      "11 block1a_se_reshape False\n",
      "12 block1a_se_reduce False\n",
      "13 block1a_se_expand False\n",
      "14 block1a_se_excite False\n",
      "15 block1a_project_conv False\n",
      "16 block1a_project_bn False\n",
      "17 block2a_expand_conv False\n",
      "18 block2a_expand_bn False\n",
      "19 block2a_expand_activation False\n",
      "20 block2a_dwconv_pad False\n",
      "21 block2a_dwconv False\n",
      "22 block2a_bn False\n",
      "23 block2a_activation False\n",
      "24 block2a_se_squeeze False\n",
      "25 block2a_se_reshape False\n",
      "26 block2a_se_reduce False\n",
      "27 block2a_se_expand False\n",
      "28 block2a_se_excite False\n",
      "29 block2a_project_conv False\n",
      "30 block2a_project_bn False\n",
      "31 block2b_expand_conv False\n",
      "32 block2b_expand_bn False\n",
      "33 block2b_expand_activation False\n",
      "34 block2b_dwconv False\n",
      "35 block2b_bn False\n",
      "36 block2b_activation False\n",
      "37 block2b_se_squeeze False\n",
      "38 block2b_se_reshape False\n",
      "39 block2b_se_reduce False\n",
      "40 block2b_se_expand False\n",
      "41 block2b_se_excite False\n",
      "42 block2b_project_conv False\n",
      "43 block2b_project_bn False\n",
      "44 block2b_drop False\n",
      "45 block2b_add False\n",
      "46 block3a_expand_conv False\n",
      "47 block3a_expand_bn False\n",
      "48 block3a_expand_activation False\n",
      "49 block3a_dwconv_pad False\n",
      "50 block3a_dwconv False\n",
      "51 block3a_bn False\n",
      "52 block3a_activation False\n",
      "53 block3a_se_squeeze False\n",
      "54 block3a_se_reshape False\n",
      "55 block3a_se_reduce False\n",
      "56 block3a_se_expand False\n",
      "57 block3a_se_excite False\n",
      "58 block3a_project_conv False\n",
      "59 block3a_project_bn False\n",
      "60 block3b_expand_conv False\n",
      "61 block3b_expand_bn False\n",
      "62 block3b_expand_activation False\n",
      "63 block3b_dwconv False\n",
      "64 block3b_bn False\n",
      "65 block3b_activation False\n",
      "66 block3b_se_squeeze False\n",
      "67 block3b_se_reshape False\n",
      "68 block3b_se_reduce False\n",
      "69 block3b_se_expand False\n",
      "70 block3b_se_excite False\n",
      "71 block3b_project_conv False\n",
      "72 block3b_project_bn False\n",
      "73 block3b_drop False\n",
      "74 block3b_add False\n",
      "75 block4a_expand_conv False\n",
      "76 block4a_expand_bn False\n",
      "77 block4a_expand_activation False\n",
      "78 block4a_dwconv_pad False\n",
      "79 block4a_dwconv False\n",
      "80 block4a_bn False\n",
      "81 block4a_activation False\n",
      "82 block4a_se_squeeze False\n",
      "83 block4a_se_reshape False\n",
      "84 block4a_se_reduce False\n",
      "85 block4a_se_expand False\n",
      "86 block4a_se_excite False\n",
      "87 block4a_project_conv False\n",
      "88 block4a_project_bn False\n",
      "89 block4b_expand_conv False\n",
      "90 block4b_expand_bn False\n",
      "91 block4b_expand_activation False\n",
      "92 block4b_dwconv False\n",
      "93 block4b_bn False\n",
      "94 block4b_activation False\n",
      "95 block4b_se_squeeze False\n",
      "96 block4b_se_reshape False\n",
      "97 block4b_se_reduce False\n",
      "98 block4b_se_expand False\n",
      "99 block4b_se_excite False\n",
      "100 block4b_project_conv False\n",
      "101 block4b_project_bn False\n",
      "102 block4b_drop False\n",
      "103 block4b_add False\n",
      "104 block4c_expand_conv False\n",
      "105 block4c_expand_bn False\n",
      "106 block4c_expand_activation False\n",
      "107 block4c_dwconv False\n",
      "108 block4c_bn False\n",
      "109 block4c_activation False\n",
      "110 block4c_se_squeeze False\n",
      "111 block4c_se_reshape False\n",
      "112 block4c_se_reduce False\n",
      "113 block4c_se_expand False\n",
      "114 block4c_se_excite False\n",
      "115 block4c_project_conv False\n",
      "116 block4c_project_bn False\n",
      "117 block4c_drop False\n",
      "118 block4c_add False\n",
      "119 block5a_expand_conv False\n",
      "120 block5a_expand_bn False\n",
      "121 block5a_expand_activation False\n",
      "122 block5a_dwconv False\n",
      "123 block5a_bn False\n",
      "124 block5a_activation False\n",
      "125 block5a_se_squeeze False\n",
      "126 block5a_se_reshape False\n",
      "127 block5a_se_reduce False\n",
      "128 block5a_se_expand False\n",
      "129 block5a_se_excite False\n",
      "130 block5a_project_conv False\n",
      "131 block5a_project_bn False\n",
      "132 block5b_expand_conv False\n",
      "133 block5b_expand_bn False\n",
      "134 block5b_expand_activation False\n",
      "135 block5b_dwconv False\n",
      "136 block5b_bn False\n",
      "137 block5b_activation False\n",
      "138 block5b_se_squeeze False\n",
      "139 block5b_se_reshape False\n",
      "140 block5b_se_reduce False\n",
      "141 block5b_se_expand False\n",
      "142 block5b_se_excite False\n",
      "143 block5b_project_conv False\n",
      "144 block5b_project_bn False\n",
      "145 block5b_drop False\n",
      "146 block5b_add False\n",
      "147 block5c_expand_conv False\n",
      "148 block5c_expand_bn False\n",
      "149 block5c_expand_activation False\n",
      "150 block5c_dwconv False\n",
      "151 block5c_bn False\n",
      "152 block5c_activation False\n",
      "153 block5c_se_squeeze False\n",
      "154 block5c_se_reshape False\n",
      "155 block5c_se_reduce False\n",
      "156 block5c_se_expand False\n",
      "157 block5c_se_excite False\n",
      "158 block5c_project_conv False\n",
      "159 block5c_project_bn False\n",
      "160 block5c_drop False\n",
      "161 block5c_add False\n",
      "162 block6a_expand_conv False\n",
      "163 block6a_expand_bn False\n",
      "164 block6a_expand_activation False\n",
      "165 block6a_dwconv_pad False\n",
      "166 block6a_dwconv False\n",
      "167 block6a_bn False\n",
      "168 block6a_activation False\n",
      "169 block6a_se_squeeze False\n",
      "170 block6a_se_reshape False\n",
      "171 block6a_se_reduce False\n",
      "172 block6a_se_expand False\n",
      "173 block6a_se_excite False\n",
      "174 block6a_project_conv False\n",
      "175 block6a_project_bn False\n",
      "176 block6b_expand_conv False\n",
      "177 block6b_expand_bn False\n",
      "178 block6b_expand_activation False\n",
      "179 block6b_dwconv False\n",
      "180 block6b_bn False\n",
      "181 block6b_activation False\n",
      "182 block6b_se_squeeze False\n",
      "183 block6b_se_reshape False\n",
      "184 block6b_se_reduce False\n",
      "185 block6b_se_expand False\n",
      "186 block6b_se_excite False\n",
      "187 block6b_project_conv False\n",
      "188 block6b_project_bn False\n",
      "189 block6b_drop False\n",
      "190 block6b_add False\n",
      "191 block6c_expand_conv False\n",
      "192 block6c_expand_bn False\n",
      "193 block6c_expand_activation False\n",
      "194 block6c_dwconv False\n",
      "195 block6c_bn False\n",
      "196 block6c_activation False\n",
      "197 block6c_se_squeeze False\n",
      "198 block6c_se_reshape False\n",
      "199 block6c_se_reduce False\n",
      "200 block6c_se_expand False\n",
      "201 block6c_se_excite False\n",
      "202 block6c_project_conv False\n",
      "203 block6c_project_bn False\n",
      "204 block6c_drop False\n",
      "205 block6c_add False\n",
      "206 block6d_expand_conv False\n",
      "207 block6d_expand_bn False\n",
      "208 block6d_expand_activation False\n",
      "209 block6d_dwconv False\n",
      "210 block6d_bn False\n",
      "211 block6d_activation False\n",
      "212 block6d_se_squeeze False\n",
      "213 block6d_se_reshape False\n",
      "214 block6d_se_reduce False\n",
      "215 block6d_se_expand False\n",
      "216 block6d_se_excite False\n",
      "217 block6d_project_conv False\n",
      "218 block6d_project_bn False\n",
      "219 block6d_drop False\n",
      "220 block6d_add False\n",
      "221 block7a_expand_conv False\n",
      "222 block7a_expand_bn False\n",
      "223 block7a_expand_activation False\n",
      "224 block7a_dwconv False\n",
      "225 block7a_bn False\n",
      "226 block7a_activation False\n",
      "227 block7a_se_squeeze False\n",
      "228 block7a_se_reshape False\n",
      "229 block7a_se_reduce False\n",
      "230 block7a_se_expand False\n",
      "231 block7a_se_excite False\n",
      "232 block7a_project_conv False\n",
      "233 block7a_project_bn False\n",
      "234 top_conv False\n",
      "235 top_bn False\n",
      "236 top_activation False\n"
     ]
    }
   ],
   "source": [
    "# What layers are in our base_model and are they trainables?\n",
    "for i, layer in enumerate(model_2.layers[2].layers):\n",
    "    print(i, layer.name, layer.trainable)"
   ]
  },
  {
   "cell_type": "code",
   "execution_count": 44,
   "id": "5025c7c9",
   "metadata": {
    "execution": {
     "iopub.execute_input": "2023-01-26T08:15:02.873073Z",
     "iopub.status.busy": "2023-01-26T08:15:02.872761Z",
     "iopub.status.idle": "2023-01-26T08:15:02.877954Z",
     "shell.execute_reply": "2023-01-26T08:15:02.876954Z"
    },
    "papermill": {
     "duration": 0.076168,
     "end_time": "2023-01-26T08:15:02.880817",
     "exception": false,
     "start_time": "2023-01-26T08:15:02.804649",
     "status": "completed"
    },
    "tags": []
   },
   "outputs": [
    {
     "name": "stdout",
     "output_type": "stream",
     "text": [
      "0\n"
     ]
    }
   ],
   "source": [
    "# How many trainable variables are in our base model\n",
    "print(len(model_2.layers[2].trainable_variables))"
   ]
  },
  {
   "cell_type": "code",
   "execution_count": 45,
   "id": "4e8f3182",
   "metadata": {
    "execution": {
     "iopub.execute_input": "2023-01-26T08:15:03.017273Z",
     "iopub.status.busy": "2023-01-26T08:15:03.016370Z",
     "iopub.status.idle": "2023-01-26T08:15:03.022619Z",
     "shell.execute_reply": "2023-01-26T08:15:03.021667Z"
    },
    "papermill": {
     "duration": 0.075705,
     "end_time": "2023-01-26T08:15:03.024782",
     "exception": false,
     "start_time": "2023-01-26T08:15:02.949077",
     "status": "completed"
    },
    "tags": []
   },
   "outputs": [],
   "source": [
    "for layer in model_2.layers[2].layers[-10:]:\n",
    "    layer.trainable = True"
   ]
  },
  {
   "cell_type": "code",
   "execution_count": 46,
   "id": "73166437",
   "metadata": {
    "execution": {
     "iopub.execute_input": "2023-01-26T08:15:03.157633Z",
     "iopub.status.busy": "2023-01-26T08:15:03.157322Z",
     "iopub.status.idle": "2023-01-26T08:15:03.183530Z",
     "shell.execute_reply": "2023-01-26T08:15:03.182645Z"
    },
    "papermill": {
     "duration": 0.098452,
     "end_time": "2023-01-26T08:15:03.190132",
     "exception": false,
     "start_time": "2023-01-26T08:15:03.091680",
     "status": "completed"
    },
    "tags": []
   },
   "outputs": [],
   "source": [
    "# To begin fine-tuning let's start by setting the last 10 layers of our base-model\n",
    "base_model.trainable = True\n",
    "\n",
    "# Freeze all layers except for the last 10\n",
    "for layer in base_model.layers[:-10]:\n",
    "    layer.trainable=False\n",
    "\n",
    "# for layer in base_model.layers[-10:]:\n",
    "#     print(layer.name, layer.trainable)\n",
    "    \n",
    "# Recompile (we have to recompile our models every time we make a change)\n",
    "model_2.compile(loss=\"categorical_crossentropy\",\n",
    "               optimizer=tf.keras.optimizers.Adam(learning_rate=0.0001),\n",
    "               metrics=[\"accuracy\"])"
   ]
  },
  {
   "cell_type": "markdown",
   "id": "064f616f",
   "metadata": {
    "papermill": {
     "duration": 0.065509,
     "end_time": "2023-01-26T08:15:03.321960",
     "exception": false,
     "start_time": "2023-01-26T08:15:03.256451",
     "status": "completed"
    },
    "tags": []
   },
   "source": [
    "✏️ **Note:** Biasanya, saat fine-tuning sebuah model, kita menggunakan nilai learning rate yang lebih kecil dari defaultnya, berapa? biasanya minimal 1/10 dari default. Tapi berbagai sumber bisa bilang beda\""
   ]
  },
  {
   "cell_type": "code",
   "execution_count": 47,
   "id": "548dd982",
   "metadata": {
    "execution": {
     "iopub.execute_input": "2023-01-26T08:15:03.486660Z",
     "iopub.status.busy": "2023-01-26T08:15:03.485788Z",
     "iopub.status.idle": "2023-01-26T08:15:03.499718Z",
     "shell.execute_reply": "2023-01-26T08:15:03.497270Z"
    },
    "papermill": {
     "duration": 0.115083,
     "end_time": "2023-01-26T08:15:03.502680",
     "exception": false,
     "start_time": "2023-01-26T08:15:03.387597",
     "status": "completed"
    },
    "tags": []
   },
   "outputs": [
    {
     "name": "stdout",
     "output_type": "stream",
     "text": [
      "10\n"
     ]
    }
   ],
   "source": [
    "# How many trainable variables are in our base model after we unfrozen the last 10 layers\n",
    "print(len(model_2.layers[2].trainable_variables))"
   ]
  },
  {
   "cell_type": "code",
   "execution_count": 48,
   "id": "284a55af",
   "metadata": {
    "execution": {
     "iopub.execute_input": "2023-01-26T08:15:03.754306Z",
     "iopub.status.busy": "2023-01-26T08:15:03.753885Z",
     "iopub.status.idle": "2023-01-26T08:15:44.369943Z",
     "shell.execute_reply": "2023-01-26T08:15:44.368912Z"
    },
    "papermill": {
     "duration": 40.73141,
     "end_time": "2023-01-26T08:15:44.372344",
     "exception": false,
     "start_time": "2023-01-26T08:15:03.640934",
     "status": "completed"
    },
    "tags": []
   },
   "outputs": [
    {
     "name": "stderr",
     "output_type": "stream",
     "text": [
      "2023-01-26 08:15:03.758825: I tensorflow/core/profiler/lib/profiler_session.cc:131] Profiler session initializing.\n",
      "2023-01-26 08:15:03.759531: I tensorflow/core/profiler/lib/profiler_session.cc:146] Profiler session started.\n",
      "2023-01-26 08:15:04.485915: I tensorflow/core/profiler/lib/profiler_session.cc:164] Profiler session tear down.\n",
      "2023-01-26 08:15:04.486135: I tensorflow/core/profiler/internal/gpu/cupti_tracer.cc:1748] CUPTI activity buffer flushed\n"
     ]
    },
    {
     "name": "stdout",
     "output_type": "stream",
     "text": [
      "Saving TensorBoard log files to: transfer_learning/10_percent_fine_tune_last_10/20230126-081503\n",
      "Epoch 5/10\n",
      " 1/24 [>.............................] - ETA: 2:17 - loss: 0.1988 - accuracy: 1.0000"
     ]
    },
    {
     "name": "stderr",
     "output_type": "stream",
     "text": [
      "2023-01-26 08:15:11.095606: I tensorflow/core/profiler/lib/profiler_session.cc:131] Profiler session initializing.\n",
      "2023-01-26 08:15:11.095667: I tensorflow/core/profiler/lib/profiler_session.cc:146] Profiler session started.\n"
     ]
    },
    {
     "name": "stdout",
     "output_type": "stream",
     "text": [
      " 2/24 [=>............................] - ETA: 29s - loss: 0.3042 - accuracy: 0.9844 "
     ]
    },
    {
     "name": "stderr",
     "output_type": "stream",
     "text": [
      "2023-01-26 08:15:12.553734: I tensorflow/core/profiler/lib/profiler_session.cc:66] Profiler session collecting data.\n",
      "2023-01-26 08:15:12.563959: I tensorflow/core/profiler/internal/gpu/cupti_tracer.cc:1748] CUPTI activity buffer flushed\n",
      "2023-01-26 08:15:12.729985: I tensorflow/core/profiler/internal/gpu/cupti_collector.cc:673]  GpuTracer has collected 585 callback api events and 582 activity events. \n",
      "2023-01-26 08:15:12.758794: I tensorflow/core/profiler/lib/profiler_session.cc:164] Profiler session tear down.\n",
      "2023-01-26 08:15:12.789770: I tensorflow/core/profiler/rpc/client/save_profile.cc:136] Creating directory: transfer_learning/10_percent_fine_tune_last_10/20230126-081503/train/plugins/profile/2023_01_26_08_15_12\n",
      "\n",
      "2023-01-26 08:15:12.805908: I tensorflow/core/profiler/rpc/client/save_profile.cc:142] Dumped gzipped tool data for trace.json.gz to transfer_learning/10_percent_fine_tune_last_10/20230126-081503/train/plugins/profile/2023_01_26_08_15_12/a625c8d8be8a.trace.json.gz\n",
      "2023-01-26 08:15:12.863939: I tensorflow/core/profiler/rpc/client/save_profile.cc:136] Creating directory: transfer_learning/10_percent_fine_tune_last_10/20230126-081503/train/plugins/profile/2023_01_26_08_15_12\n",
      "\n",
      "2023-01-26 08:15:12.873456: I tensorflow/core/profiler/rpc/client/save_profile.cc:142] Dumped gzipped tool data for memory_profile.json.gz to transfer_learning/10_percent_fine_tune_last_10/20230126-081503/train/plugins/profile/2023_01_26_08_15_12/a625c8d8be8a.memory_profile.json.gz\n",
      "2023-01-26 08:15:12.876248: I tensorflow/core/profiler/rpc/client/capture_profile.cc:251] Creating directory: transfer_learning/10_percent_fine_tune_last_10/20230126-081503/train/plugins/profile/2023_01_26_08_15_12\n",
      "Dumped tool data for xplane.pb to transfer_learning/10_percent_fine_tune_last_10/20230126-081503/train/plugins/profile/2023_01_26_08_15_12/a625c8d8be8a.xplane.pb\n",
      "Dumped tool data for overview_page.pb to transfer_learning/10_percent_fine_tune_last_10/20230126-081503/train/plugins/profile/2023_01_26_08_15_12/a625c8d8be8a.overview_page.pb\n",
      "Dumped tool data for input_pipeline.pb to transfer_learning/10_percent_fine_tune_last_10/20230126-081503/train/plugins/profile/2023_01_26_08_15_12/a625c8d8be8a.input_pipeline.pb\n",
      "Dumped tool data for tensorflow_stats.pb to transfer_learning/10_percent_fine_tune_last_10/20230126-081503/train/plugins/profile/2023_01_26_08_15_12/a625c8d8be8a.tensorflow_stats.pb\n",
      "Dumped tool data for kernel_stats.pb to transfer_learning/10_percent_fine_tune_last_10/20230126-081503/train/plugins/profile/2023_01_26_08_15_12/a625c8d8be8a.kernel_stats.pb\n",
      "\n"
     ]
    },
    {
     "name": "stdout",
     "output_type": "stream",
     "text": [
      "24/24 [==============================] - 14s 342ms/step - loss: 0.2630 - accuracy: 0.9480 - val_loss: 0.4141 - val_accuracy: 0.8635\n",
      "Epoch 6/10\n",
      "24/24 [==============================] - 5s 187ms/step - loss: 0.1734 - accuracy: 0.9613 - val_loss: 0.4121 - val_accuracy: 0.8651\n",
      "Epoch 7/10\n",
      "24/24 [==============================] - 5s 196ms/step - loss: 0.1297 - accuracy: 0.9693 - val_loss: 0.4088 - val_accuracy: 0.8668\n",
      "Epoch 8/10\n",
      "24/24 [==============================] - 5s 187ms/step - loss: 0.0980 - accuracy: 0.9813 - val_loss: 0.4014 - val_accuracy: 0.8750\n",
      "Epoch 9/10\n",
      "24/24 [==============================] - 5s 188ms/step - loss: 0.0720 - accuracy: 0.9947 - val_loss: 0.3855 - val_accuracy: 0.8684\n",
      "Epoch 10/10\n",
      "24/24 [==============================] - 5s 187ms/step - loss: 0.0550 - accuracy: 0.9973 - val_loss: 0.4365 - val_accuracy: 0.8569\n"
     ]
    }
   ],
   "source": [
    "# Fine tune for another 5 epochs\n",
    "fine_tune_epochs = initial_epochs + 5\n",
    "\n",
    "# Refit the model (same as model_2 except with more trainable layers)\n",
    "history_fine_10_percent_data_aug = model_2.fit(train_data_10_percent,\n",
    "                                              epochs=fine_tune_epochs,\n",
    "                                              validation_data=test_data,\n",
    "                                              validation_steps=int(len(test_data)*0.25),\n",
    "                                              initial_epoch=history_model_2.epoch[-1],\n",
    "                                              callbacks=[create_tensorboard_callback(dir_name=\"transfer_learning\",\n",
    "                                                                                    experiment_name=\"10_percent_fine_tune_last_10\")])"
   ]
  },
  {
   "cell_type": "code",
   "execution_count": 49,
   "id": "424e3173",
   "metadata": {
    "execution": {
     "iopub.execute_input": "2023-01-26T08:15:44.529206Z",
     "iopub.status.busy": "2023-01-26T08:15:44.528807Z",
     "iopub.status.idle": "2023-01-26T08:15:54.776343Z",
     "shell.execute_reply": "2023-01-26T08:15:54.775150Z"
    },
    "papermill": {
     "duration": 10.327578,
     "end_time": "2023-01-26T08:15:54.779025",
     "exception": false,
     "start_time": "2023-01-26T08:15:44.451447",
     "status": "completed"
    },
    "tags": []
   },
   "outputs": [
    {
     "name": "stdout",
     "output_type": "stream",
     "text": [
      "79/79 [==============================] - 7s 79ms/step - loss: 0.4509 - accuracy: 0.8464\n"
     ]
    }
   ],
   "source": [
    "# Evaluate the fine-tuned model\n",
    "results_fine_tune_10_percent = model_2.evaluate(test_data)"
   ]
  },
  {
   "cell_type": "code",
   "execution_count": 50,
   "id": "d433c4ed",
   "metadata": {
    "execution": {
     "iopub.execute_input": "2023-01-26T08:15:54.942132Z",
     "iopub.status.busy": "2023-01-26T08:15:54.941139Z",
     "iopub.status.idle": "2023-01-26T08:15:54.947912Z",
     "shell.execute_reply": "2023-01-26T08:15:54.946846Z"
    },
    "papermill": {
     "duration": 0.089452,
     "end_time": "2023-01-26T08:15:54.949850",
     "exception": false,
     "start_time": "2023-01-26T08:15:54.860398",
     "status": "completed"
    },
    "tags": []
   },
   "outputs": [
    {
     "data": {
      "text/plain": [
       "[0.45090794563293457, 0.8464000225067139]"
      ]
     },
     "execution_count": 50,
     "metadata": {},
     "output_type": "execute_result"
    }
   ],
   "source": [
    "results_fine_tune_10_percent"
   ]
  },
  {
   "cell_type": "code",
   "execution_count": 51,
   "id": "8925ec48",
   "metadata": {
    "execution": {
     "iopub.execute_input": "2023-01-26T08:15:55.113478Z",
     "iopub.status.busy": "2023-01-26T08:15:55.111539Z",
     "iopub.status.idle": "2023-01-26T08:15:55.544089Z",
     "shell.execute_reply": "2023-01-26T08:15:55.543036Z"
    },
    "papermill": {
     "duration": 0.516373,
     "end_time": "2023-01-26T08:15:55.546809",
     "exception": false,
     "start_time": "2023-01-26T08:15:55.030436",
     "status": "completed"
    },
    "tags": []
   },
   "outputs": [
    {
     "data": {
      "image/png": "[encoded data removed]",
      "text/plain": [
       "<Figure size 432x288 with 1 Axes>"
      ]
     },
     "metadata": {
      "needs_background": "light"
     },
     "output_type": "display_data"
    },
    {
     "data": {
      "image/png": "[encoded data removed]",
      "text/plain": [
       "<Figure size 432x288 with 1 Axes>"
      ]
     },
     "metadata": {
      "needs_background": "light"
     },
     "output_type": "display_data"
    }
   ],
   "source": [
    "plot_loss_curves(history_fine_10_percent_data_aug)"
   ]
  },
  {
   "cell_type": "code",
   "execution_count": 52,
   "id": "7b304a80",
   "metadata": {
    "execution": {
     "iopub.execute_input": "2023-01-26T08:15:55.718431Z",
     "iopub.status.busy": "2023-01-26T08:15:55.717437Z",
     "iopub.status.idle": "2023-01-26T08:15:55.727793Z",
     "shell.execute_reply": "2023-01-26T08:15:55.726669Z"
    },
    "papermill": {
     "duration": 0.098427,
     "end_time": "2023-01-26T08:15:55.730030",
     "exception": false,
     "start_time": "2023-01-26T08:15:55.631603",
     "status": "completed"
    },
    "tags": []
   },
   "outputs": [],
   "source": [
    "# Let's create a function \n",
    "def compare_history(original_history, new_history, initial_epochs):\n",
    "    \"\"\"\n",
    "    Compares two TensorFlow History objects\n",
    "    \"\"\"\n",
    "    # Get original history measurements\n",
    "    acc = original_history.history[\"accuracy\"]\n",
    "    loss = original_history.history[\"loss\"]\n",
    "    \n",
    "    val_acc = original_history.history[\"val_accuracy\"]\n",
    "    val_loss = original_history.history[\"val_loss\"]\n",
    "    \n",
    "    # Combine original history\n",
    "    total_acc = acc + new_history.history[\"accuracy\"]\n",
    "    total_loss = loss + new_history.history[\"loss\"]\n",
    "    \n",
    "    total_val_acc = val_acc + new_history.history[\"val_accuracy\"]\n",
    "    total_val_loss = val_loss + new_history.history[\"val_loss\"]\n",
    "    \n",
    "    # Make plots for accuracy\n",
    "    plt.figure(figsize=(8, 8))\n",
    "    plt.subplot(2, 1, 1)\n",
    "    plt.plot(total_acc, label=\"Training Accuracy\")\n",
    "    plt.plot(total_val_acc, label=\"Validation Accuracy\")\n",
    "    plt.plot([initial_epochs-1, initial_epochs-1], plt.ylim(), label=\"Start Fine Tuning\")\n",
    "    plt.legend(loc=\"lower right\")\n",
    "    plt.title(\"Training and Validation Accuracy\")\n",
    "    \n",
    "    # Make plots for accuracy\n",
    "#     plt.figure(figsize=(8, 8))\n",
    "    plt.subplot(2, 1, 2)\n",
    "    plt.plot(total_loss, label=\"Training Loss\")\n",
    "    plt.plot(total_val_loss, label=\"Validation Loss\")\n",
    "    plt.plot([initial_epochs-1, initial_epochs-1], plt.ylim(), label=\"Start Fine Tuning\")\n",
    "    plt.legend(loc=\"upper right\")\n",
    "    plt.title(\"Training and Validation Loss\")"
   ]
  },
  {
   "cell_type": "code",
   "execution_count": 53,
   "id": "d2d823a9",
   "metadata": {
    "execution": {
     "iopub.execute_input": "2023-01-26T08:15:55.889221Z",
     "iopub.status.busy": "2023-01-26T08:15:55.887572Z",
     "iopub.status.idle": "2023-01-26T08:15:56.225985Z",
     "shell.execute_reply": "2023-01-26T08:15:56.225075Z"
    },
    "papermill": {
     "duration": 0.418668,
     "end_time": "2023-01-26T08:15:56.228131",
     "exception": false,
     "start_time": "2023-01-26T08:15:55.809463",
     "status": "completed"
    },
    "tags": []
   },
   "outputs": [
    {
     "data": {
      "image/png": "[encoded data removed]",
      "text/plain": [
       "<Figure size 576x576 with 2 Axes>"
      ]
     },
     "metadata": {
      "needs_background": "light"
     },
     "output_type": "display_data"
    }
   ],
   "source": [
    "compare_history(history_model_2,\n",
    "               history_fine_10_percent_data_aug,\n",
    "               initial_epochs=5)"
   ]
  },
  {
   "cell_type": "code",
   "execution_count": null,
   "id": "00feb688",
   "metadata": {
    "papermill": {
     "duration": 0.081338,
     "end_time": "2023-01-26T08:15:56.396881",
     "exception": false,
     "start_time": "2023-01-26T08:15:56.315543",
     "status": "completed"
    },
    "tags": []
   },
   "outputs": [],
   "source": []
  },
  {
   "cell_type": "code",
   "execution_count": null,
   "id": "fc27f8d9",
   "metadata": {
    "papermill": {
     "duration": 0.078783,
     "end_time": "2023-01-26T08:15:56.552752",
     "exception": false,
     "start_time": "2023-01-26T08:15:56.473969",
     "status": "completed"
    },
    "tags": []
   },
   "outputs": [],
   "source": []
  }
 ],
 "metadata": {
  "kernelspec": {
   "display_name": "Python 3",
   "language": "python",
   "name": "python3"
  },
  "language_info": {
   "codemirror_mode": {
    "name": "ipython",
    "version": 3
   },
   "file_extension": ".py",
   "mimetype": "text/x-python",
   "name": "python",
   "nbconvert_exporter": "python",
   "pygments_lexer": "ipython3",
   "version": "3.7.12"
  },
  "papermill": {
   "default_parameters": {},
   "duration": 461.697935,
   "end_time": "2023-01-26T08:16:00.717008",
   "environment_variables": {},
   "exception": null,
   "input_path": "__notebook__.ipynb",
   "output_path": "__notebook__.ipynb",
   "parameters": {},
   "start_time": "2023-01-26T08:08:19.019073",
   "version": "2.3.4"
  }
 },
 "nbformat": 4,
 "nbformat_minor": 5
}
