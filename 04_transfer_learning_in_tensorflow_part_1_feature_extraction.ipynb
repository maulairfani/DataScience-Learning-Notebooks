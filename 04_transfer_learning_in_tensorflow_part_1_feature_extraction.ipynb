{
 "cells": [
  {
   "cell_type": "markdown",
   "id": "e4018110",
   "metadata": {
    "id": "oF0p-UDdXhYK",
    "papermill": {
     "duration": 0.009389,
     "end_time": "2023-01-24T11:28:50.796216",
     "exception": false,
     "start_time": "2023-01-24T11:28:50.786827",
     "status": "completed"
    },
    "tags": []
   },
   "source": [
    "# Transfer Learning with TensorFlow Part 1: Feature Extraction\n",
    "\n",
    "Transfer learning is leveraging a working model's existing and learned patterns for our own problems"
   ]
  },
  {
   "cell_type": "code",
   "execution_count": 1,
   "id": "09898ed4",
   "metadata": {
    "execution": {
     "iopub.execute_input": "2023-01-24T11:28:50.816550Z",
     "iopub.status.busy": "2023-01-24T11:28:50.815924Z",
     "iopub.status.idle": "2023-01-24T11:28:52.078558Z",
     "shell.execute_reply": "2023-01-24T11:28:52.077344Z"
    },
    "id": "3rXggnKjad83",
    "outputId": "4e5c19e2-ce01-4c49-d5fe-55d27192af25",
    "papermill": {
     "duration": 1.274948,
     "end_time": "2023-01-24T11:28:52.081250",
     "exception": false,
     "start_time": "2023-01-24T11:28:50.806302",
     "status": "completed"
    },
    "tags": []
   },
   "outputs": [
    {
     "name": "stdout",
     "output_type": "stream",
     "text": [
      "Tue Jan 24 11:28:51 2023       \r\n",
      "+-----------------------------------------------------------------------------+\r\n",
      "| NVIDIA-SMI 470.82.01    Driver Version: 470.82.01    CUDA Version: 11.4     |\r\n",
      "|-------------------------------+----------------------+----------------------+\r\n",
      "| GPU  Name        Persistence-M| Bus-Id        Disp.A | Volatile Uncorr. ECC |\r\n",
      "| Fan  Temp  Perf  Pwr:Usage/Cap|         Memory-Usage | GPU-Util  Compute M. |\r\n",
      "|                               |                      |               MIG M. |\r\n",
      "|===============================+======================+======================|\r\n",
      "|   0  Tesla T4            Off  | 00000000:00:04.0 Off |                    0 |\r\n",
      "| N/A   37C    P8     9W /  70W |      0MiB / 15109MiB |      0%      Default |\r\n",
      "|                               |                      |                  N/A |\r\n",
      "+-------------------------------+----------------------+----------------------+\r\n",
      "|   1  Tesla T4            Off  | 00000000:00:05.0 Off |                    0 |\r\n",
      "| N/A   38C    P8    10W /  70W |      0MiB / 15109MiB |      0%      Default |\r\n",
      "|                               |                      |                  N/A |\r\n",
      "+-------------------------------+----------------------+----------------------+\r\n",
      "                                                                               \r\n",
      "+-----------------------------------------------------------------------------+\r\n",
      "| Processes:                                                                  |\r\n",
      "|  GPU   GI   CI        PID   Type   Process name                  GPU Memory |\r\n",
      "|        ID   ID                                                   Usage      |\r\n",
      "|=============================================================================|\r\n",
      "|  No running processes found                                                 |\r\n",
      "+-----------------------------------------------------------------------------+\r\n"
     ]
    }
   ],
   "source": [
    "# Are we using a GPU\n",
    "!nvidia-smi"
   ]
  },
  {
   "cell_type": "markdown",
   "id": "f096fcf3",
   "metadata": {
    "id": "zqO7P-B9ap5O",
    "papermill": {
     "duration": 0.004556,
     "end_time": "2023-01-24T11:28:52.090430",
     "exception": false,
     "start_time": "2023-01-24T11:28:52.085874",
     "status": "completed"
    },
    "tags": []
   },
   "source": [
    "## Download and becoming one with the data"
   ]
  },
  {
   "cell_type": "code",
   "execution_count": 2,
   "id": "d60d48ee",
   "metadata": {
    "execution": {
     "iopub.execute_input": "2023-01-24T11:28:52.100570Z",
     "iopub.status.busy": "2023-01-24T11:28:52.100265Z",
     "iopub.status.idle": "2023-01-24T11:28:54.184297Z",
     "shell.execute_reply": "2023-01-24T11:28:54.183117Z"
    },
    "id": "TUyXNQcMa0TP",
    "outputId": "ee703783-5402-42c2-f845-79f6fcf238c8",
    "papermill": {
     "duration": 2.09209,
     "end_time": "2023-01-24T11:28:54.186665",
     "exception": false,
     "start_time": "2023-01-24T11:28:52.094575",
     "status": "completed"
    },
    "tags": []
   },
   "outputs": [
    {
     "name": "stdout",
     "output_type": "stream",
     "text": [
      "--2023-01-24 11:28:53--  https://storage.googleapis.com/ztm_tf_course/food_vision/10_food_classes_10_percent.zip\r\n",
      "Resolving storage.googleapis.com (storage.googleapis.com)... 173.194.210.128, 74.125.31.128, 173.194.216.128, ...\r\n",
      "Connecting to storage.googleapis.com (storage.googleapis.com)|173.194.210.128|:443... connected.\r\n",
      "HTTP request sent, awaiting response... 200 OK\r\n",
      "Length: 168546183 (161M) [application/zip]\r\n",
      "Saving to: ‘10_food_classes_10_percent.zip’\r\n",
      "\r\n",
      "10_food_classes_10_ 100%[===================>] 160.74M   179MB/s    in 0.9s    \r\n",
      "\r\n",
      "2023-01-24 11:28:54 (179 MB/s) - ‘10_food_classes_10_percent.zip’ saved [168546183/168546183]\r\n",
      "\r\n"
     ]
    }
   ],
   "source": [
    "# Get data (10% of 10 food classes from Food101)\n",
    "!wget https://storage.googleapis.com/ztm_tf_course/food_vision/10_food_classes_10_percent.zip"
   ]
  },
  {
   "cell_type": "code",
   "execution_count": 3,
   "id": "28f4dd8c",
   "metadata": {
    "execution": {
     "iopub.execute_input": "2023-01-24T11:28:54.198889Z",
     "iopub.status.busy": "2023-01-24T11:28:54.198541Z",
     "iopub.status.idle": "2023-01-24T11:28:55.432085Z",
     "shell.execute_reply": "2023-01-24T11:28:55.431074Z"
    },
    "id": "_iyNrBKha2Bo",
    "papermill": {
     "duration": 1.242835,
     "end_time": "2023-01-24T11:28:55.434853",
     "exception": false,
     "start_time": "2023-01-24T11:28:54.192018",
     "status": "completed"
    },
    "tags": []
   },
   "outputs": [],
   "source": [
    "import zipfile\n",
    "\n",
    "zip_ref = zipfile.ZipFile(\"10_food_classes_10_percent.zip\")\n",
    "zip_ref.extractall()\n",
    "zip_ref.close()"
   ]
  },
  {
   "cell_type": "code",
   "execution_count": 4,
   "id": "c6a44259",
   "metadata": {
    "execution": {
     "iopub.execute_input": "2023-01-24T11:28:55.448245Z",
     "iopub.status.busy": "2023-01-24T11:28:55.447440Z",
     "iopub.status.idle": "2023-01-24T11:28:55.460460Z",
     "shell.execute_reply": "2023-01-24T11:28:55.459104Z"
    },
    "id": "69FJKwP5bMHR",
    "outputId": "4dc9de2d-f1cc-4cf8-e933-35de4643a526",
    "papermill": {
     "duration": 0.021953,
     "end_time": "2023-01-24T11:28:55.462582",
     "exception": false,
     "start_time": "2023-01-24T11:28:55.440629",
     "status": "completed"
    },
    "tags": []
   },
   "outputs": [
    {
     "name": "stdout",
     "output_type": "stream",
     "text": [
      "There are 2 directories and 0 image in '10_food_classes_10_percent'\n",
      "There are 10 directories and 0 image in '10_food_classes_10_percent/train'\n",
      "There are 0 directories and 75 image in '10_food_classes_10_percent/train/ice_cream'\n",
      "There are 0 directories and 75 image in '10_food_classes_10_percent/train/pizza'\n",
      "There are 0 directories and 75 image in '10_food_classes_10_percent/train/hamburger'\n",
      "There are 0 directories and 75 image in '10_food_classes_10_percent/train/chicken_curry'\n",
      "There are 0 directories and 75 image in '10_food_classes_10_percent/train/chicken_wings'\n",
      "There are 0 directories and 75 image in '10_food_classes_10_percent/train/sushi'\n",
      "There are 0 directories and 75 image in '10_food_classes_10_percent/train/steak'\n",
      "There are 0 directories and 75 image in '10_food_classes_10_percent/train/ramen'\n",
      "There are 0 directories and 75 image in '10_food_classes_10_percent/train/fried_rice'\n",
      "There are 0 directories and 75 image in '10_food_classes_10_percent/train/grilled_salmon'\n",
      "There are 10 directories and 0 image in '10_food_classes_10_percent/test'\n",
      "There are 0 directories and 250 image in '10_food_classes_10_percent/test/ice_cream'\n",
      "There are 0 directories and 250 image in '10_food_classes_10_percent/test/pizza'\n",
      "There are 0 directories and 250 image in '10_food_classes_10_percent/test/hamburger'\n",
      "There are 0 directories and 250 image in '10_food_classes_10_percent/test/chicken_curry'\n",
      "There are 0 directories and 250 image in '10_food_classes_10_percent/test/chicken_wings'\n",
      "There are 0 directories and 250 image in '10_food_classes_10_percent/test/sushi'\n",
      "There are 0 directories and 250 image in '10_food_classes_10_percent/test/steak'\n",
      "There are 0 directories and 250 image in '10_food_classes_10_percent/test/ramen'\n",
      "There are 0 directories and 250 image in '10_food_classes_10_percent/test/fried_rice'\n",
      "There are 0 directories and 250 image in '10_food_classes_10_percent/test/grilled_salmon'\n"
     ]
    }
   ],
   "source": [
    "# How many images in each folder\n",
    "import os\n",
    "\n",
    "# Walk through 10 percent data directory and list number of files\n",
    "for dirpath, dirnames, filenames in os.walk(\"10_food_classes_10_percent\"):\n",
    "  print(f\"There are {len(dirnames)} directories and {len(filenames)} image in '{dirpath}'\")"
   ]
  },
  {
   "cell_type": "markdown",
   "id": "dd957ee9",
   "metadata": {
    "id": "0Qt26PZ2b4OU",
    "papermill": {
     "duration": 0.004996,
     "end_time": "2023-01-24T11:28:55.472706",
     "exception": false,
     "start_time": "2023-01-24T11:28:55.467710",
     "status": "completed"
    },
    "tags": []
   },
   "source": [
    "## Creating data loaders (preparing the data)"
   ]
  },
  {
   "cell_type": "code",
   "execution_count": 5,
   "id": "38096724",
   "metadata": {
    "execution": {
     "iopub.execute_input": "2023-01-24T11:28:55.484570Z",
     "iopub.status.busy": "2023-01-24T11:28:55.483820Z",
     "iopub.status.idle": "2023-01-24T11:29:02.049797Z",
     "shell.execute_reply": "2023-01-24T11:29:02.048092Z"
    },
    "id": "ohuOsBFdcWF-",
    "outputId": "fe25e52d-6fdd-4e90-a210-1974c48f5c4e",
    "papermill": {
     "duration": 6.575378,
     "end_time": "2023-01-24T11:29:02.053186",
     "exception": false,
     "start_time": "2023-01-24T11:28:55.477808",
     "status": "completed"
    },
    "tags": []
   },
   "outputs": [
    {
     "name": "stdout",
     "output_type": "stream",
     "text": [
      "Training Images: \n",
      "Found 750 images belonging to 10 classes.\n",
      "Testing Images: \n",
      "Found 2500 images belonging to 10 classes.\n"
     ]
    }
   ],
   "source": [
    "# Setup data inputs\n",
    "from tensorflow.keras.preprocessing.image import ImageDataGenerator\n",
    "\n",
    "IMAGE_SHAPE = (224, 224)\n",
    "BATCH_SIZE = 32\n",
    "\n",
    "train_dir = \"10_food_classes_10_percent/train/\"\n",
    "test_dir = \"10_food_classes_10_percent/test/\"\n",
    "\n",
    "train_datagen = ImageDataGenerator(rescale=1/255.)\n",
    "test_datagen = ImageDataGenerator(rescale=1/255.)\n",
    "\n",
    "print(\"Training Images: \")\n",
    "train_data_10_percent = train_datagen.flow_from_directory(train_dir,\n",
    "                                                          target_size=IMAGE_SHAPE,\n",
    "                                                          batch_size=BATCH_SIZE,\n",
    "                                                          class_mode=\"categorical\")\n",
    "\n",
    "print(\"Testing Images: \")\n",
    "test_data_10_percent = test_datagen.flow_from_directory(test_dir,\n",
    "                                                        target_size=IMAGE_SHAPE,\n",
    "                                                        batch_size=BATCH_SIZE,\n",
    "                                                        class_mode=\"categorical\")"
   ]
  },
  {
   "cell_type": "markdown",
   "id": "8c8b8f3f",
   "metadata": {
    "id": "taDV2-7cdT90",
    "papermill": {
     "duration": 0.007636,
     "end_time": "2023-01-24T11:29:02.069568",
     "exception": false,
     "start_time": "2023-01-24T11:29:02.061932",
     "status": "completed"
    },
    "tags": []
   },
   "source": [
    "### Setting up callbacks (thing to run while our model trains)\n",
    "\n",
    "some of the most popular:\n",
    "1. Tracking experiment with the tensorboard callback\n",
    "2. Model chckpoint with the ModelCheckpoint\n",
    "3. Stopping a model from training (before it trains too long)"
   ]
  },
  {
   "cell_type": "code",
   "execution_count": 6,
   "id": "60989348",
   "metadata": {
    "execution": {
     "iopub.execute_input": "2023-01-24T11:29:02.088190Z",
     "iopub.status.busy": "2023-01-24T11:29:02.087398Z",
     "iopub.status.idle": "2023-01-24T11:29:02.095262Z",
     "shell.execute_reply": "2023-01-24T11:29:02.094274Z"
    },
    "id": "vPVO90kcwtit",
    "papermill": {
     "duration": 0.02025,
     "end_time": "2023-01-24T11:29:02.098502",
     "exception": false,
     "start_time": "2023-01-24T11:29:02.078252",
     "status": "completed"
    },
    "tags": []
   },
   "outputs": [],
   "source": [
    "# Create TensorBoard callback\n",
    "import tensorflow as tf\n",
    "import datetime\n",
    "\n",
    "def create_tensorboard_callback(dir_name, experiment_name):\n",
    "    log_dir = dir_name + \"/\" + experiment_name + \"/\" + datetime.datetime.now().strftime(\"%Y%m%d-%H%M%S\")\n",
    "    tensorboard_callback = tf.keras.callbacks.TensorBoard(log_dir=log_dir)\n",
    "    print(f\"Saving TensorBoard log files to {log_dir}\")\n",
    "    return tensorboard_callback"
   ]
  },
  {
   "cell_type": "markdown",
   "id": "2237745a",
   "metadata": {
    "papermill": {
     "duration": 0.007462,
     "end_time": "2023-01-24T11:29:02.113906",
     "exception": false,
     "start_time": "2023-01-24T11:29:02.106444",
     "status": "completed"
    },
    "tags": []
   },
   "source": [
    "## Creating models using TensorFlow Hub"
   ]
  },
  {
   "cell_type": "code",
   "execution_count": 7,
   "id": "acf7180b",
   "metadata": {
    "execution": {
     "iopub.execute_input": "2023-01-24T11:29:02.131004Z",
     "iopub.status.busy": "2023-01-24T11:29:02.130673Z",
     "iopub.status.idle": "2023-01-24T11:29:02.134913Z",
     "shell.execute_reply": "2023-01-24T11:29:02.134083Z"
    },
    "papermill": {
     "duration": 0.01695,
     "end_time": "2023-01-24T11:29:02.138845",
     "exception": false,
     "start_time": "2023-01-24T11:29:02.121895",
     "status": "completed"
    },
    "tags": []
   },
   "outputs": [],
   "source": [
    "# Let's compare the following two models\n",
    "efficientnet_url = \"https://tfhub.dev/tensorflow/efficientnet/b0/feature-vector/1\"\n",
    "resnet_url = \"https://tfhub.dev/google/imagenet/resnet_v2_50/feature_vector/5\""
   ]
  },
  {
   "cell_type": "code",
   "execution_count": 8,
   "id": "0b40c26e",
   "metadata": {
    "execution": {
     "iopub.execute_input": "2023-01-24T11:29:02.155553Z",
     "iopub.status.busy": "2023-01-24T11:29:02.155249Z",
     "iopub.status.idle": "2023-01-24T11:29:02.644325Z",
     "shell.execute_reply": "2023-01-24T11:29:02.643242Z"
    },
    "papermill": {
     "duration": 0.499711,
     "end_time": "2023-01-24T11:29:02.646943",
     "exception": false,
     "start_time": "2023-01-24T11:29:02.147232",
     "status": "completed"
    },
    "tags": []
   },
   "outputs": [],
   "source": [
    "# Import dependencies\n",
    "import tensorflow as tf\n",
    "import tensorflow_hub as hub\n",
    "from tensorflow.keras import layers"
   ]
  },
  {
   "cell_type": "code",
   "execution_count": 9,
   "id": "f95dd6a1",
   "metadata": {
    "execution": {
     "iopub.execute_input": "2023-01-24T11:29:02.659564Z",
     "iopub.status.busy": "2023-01-24T11:29:02.659241Z",
     "iopub.status.idle": "2023-01-24T11:29:02.666752Z",
     "shell.execute_reply": "2023-01-24T11:29:02.665693Z"
    },
    "papermill": {
     "duration": 0.016328,
     "end_time": "2023-01-24T11:29:02.668770",
     "exception": false,
     "start_time": "2023-01-24T11:29:02.652442",
     "status": "completed"
    },
    "tags": []
   },
   "outputs": [],
   "source": [
    "# Make a create_model() function to create a model from a URL\n",
    "def create_model(model_url, num_classes=10):\n",
    "    \"\"\"\n",
    "    Takes a TensorFlow Hub URL and creates a Keras Sequential\n",
    "    \n",
    "    Args:\n",
    "        model_url (str): A TensorFlow Hub feature extraction URL\n",
    "        num_classes (int): Number of output neurons in the output layer, should be equal to number of target classes, default 10.\n",
    "         \n",
    "         \n",
    "    Returns:\n",
    "        An uncompiled Keras Sequential model with model_url as feature extractor layer and Dense output layer with num_classes output neurons\n",
    "    \"\"\"\n",
    "    # Download the pretrained model\n",
    "    feature_extractor_layer = hub.KerasLayer(model_url, \n",
    "                                           trainable=False, # freeze the already learned patterns\n",
    "                                           name=\"feature_extraction_layer\",\n",
    "                                           input_shape=IMAGE_SHAPE+(3,)) # (224, 224, 3)\n",
    "    \n",
    "    # Create our own model\n",
    "    model = tf.keras.Sequential([\n",
    "        feature_extractor_layer,\n",
    "        layers.Dense(num_classes, activation=\"softmax\", name=\"output_layer\")\n",
    "    ])\n",
    "    \n",
    "    return model"
   ]
  },
  {
   "cell_type": "markdown",
   "id": "7bcedbae",
   "metadata": {
    "papermill": {
     "duration": 0.004868,
     "end_time": "2023-01-24T11:29:02.678675",
     "exception": false,
     "start_time": "2023-01-24T11:29:02.673807",
     "status": "completed"
    },
    "tags": []
   },
   "source": [
    "### Creating and testing ResNet TensorFlow Hub Feature extraction model"
   ]
  },
  {
   "cell_type": "code",
   "execution_count": 10,
   "id": "8260b34c",
   "metadata": {
    "execution": {
     "iopub.execute_input": "2023-01-24T11:29:02.690164Z",
     "iopub.status.busy": "2023-01-24T11:29:02.689810Z",
     "iopub.status.idle": "2023-01-24T11:29:10.109504Z",
     "shell.execute_reply": "2023-01-24T11:29:10.108526Z"
    },
    "papermill": {
     "duration": 7.427891,
     "end_time": "2023-01-24T11:29:10.111946",
     "exception": false,
     "start_time": "2023-01-24T11:29:02.684055",
     "status": "completed"
    },
    "tags": []
   },
   "outputs": [
    {
     "name": "stderr",
     "output_type": "stream",
     "text": [
      "2023-01-24 11:29:04.408581: I tensorflow/stream_executor/cuda/cuda_gpu_executor.cc:937] successful NUMA node read from SysFS had negative value (-1), but there must be at least one NUMA node, so returning NUMA node zero\n",
      "2023-01-24 11:29:04.409526: I tensorflow/stream_executor/cuda/cuda_gpu_executor.cc:937] successful NUMA node read from SysFS had negative value (-1), but there must be at least one NUMA node, so returning NUMA node zero\n",
      "2023-01-24 11:29:04.564896: I tensorflow/stream_executor/cuda/cuda_gpu_executor.cc:937] successful NUMA node read from SysFS had negative value (-1), but there must be at least one NUMA node, so returning NUMA node zero\n",
      "2023-01-24 11:29:04.565830: I tensorflow/stream_executor/cuda/cuda_gpu_executor.cc:937] successful NUMA node read from SysFS had negative value (-1), but there must be at least one NUMA node, so returning NUMA node zero\n",
      "2023-01-24 11:29:04.566681: I tensorflow/stream_executor/cuda/cuda_gpu_executor.cc:937] successful NUMA node read from SysFS had negative value (-1), but there must be at least one NUMA node, so returning NUMA node zero\n",
      "2023-01-24 11:29:04.567505: I tensorflow/stream_executor/cuda/cuda_gpu_executor.cc:937] successful NUMA node read from SysFS had negative value (-1), but there must be at least one NUMA node, so returning NUMA node zero\n",
      "2023-01-24 11:29:04.569873: I tensorflow/core/platform/cpu_feature_guard.cc:142] This TensorFlow binary is optimized with oneAPI Deep Neural Network Library (oneDNN) to use the following CPU instructions in performance-critical operations:  AVX2 AVX512F FMA\n",
      "To enable them in other operations, rebuild TensorFlow with the appropriate compiler flags.\n",
      "2023-01-24 11:29:04.839368: I tensorflow/stream_executor/cuda/cuda_gpu_executor.cc:937] successful NUMA node read from SysFS had negative value (-1), but there must be at least one NUMA node, so returning NUMA node zero\n",
      "2023-01-24 11:29:04.840338: I tensorflow/stream_executor/cuda/cuda_gpu_executor.cc:937] successful NUMA node read from SysFS had negative value (-1), but there must be at least one NUMA node, so returning NUMA node zero\n",
      "2023-01-24 11:29:04.841135: I tensorflow/stream_executor/cuda/cuda_gpu_executor.cc:937] successful NUMA node read from SysFS had negative value (-1), but there must be at least one NUMA node, so returning NUMA node zero\n",
      "2023-01-24 11:29:04.841870: I tensorflow/stream_executor/cuda/cuda_gpu_executor.cc:937] successful NUMA node read from SysFS had negative value (-1), but there must be at least one NUMA node, so returning NUMA node zero\n",
      "2023-01-24 11:29:04.842580: I tensorflow/stream_executor/cuda/cuda_gpu_executor.cc:937] successful NUMA node read from SysFS had negative value (-1), but there must be at least one NUMA node, so returning NUMA node zero\n",
      "2023-01-24 11:29:04.843342: I tensorflow/stream_executor/cuda/cuda_gpu_executor.cc:937] successful NUMA node read from SysFS had negative value (-1), but there must be at least one NUMA node, so returning NUMA node zero\n",
      "2023-01-24 11:29:07.755928: I tensorflow/stream_executor/cuda/cuda_gpu_executor.cc:937] successful NUMA node read from SysFS had negative value (-1), but there must be at least one NUMA node, so returning NUMA node zero\n",
      "2023-01-24 11:29:07.756871: I tensorflow/stream_executor/cuda/cuda_gpu_executor.cc:937] successful NUMA node read from SysFS had negative value (-1), but there must be at least one NUMA node, so returning NUMA node zero\n",
      "2023-01-24 11:29:07.757647: I tensorflow/stream_executor/cuda/cuda_gpu_executor.cc:937] successful NUMA node read from SysFS had negative value (-1), but there must be at least one NUMA node, so returning NUMA node zero\n",
      "2023-01-24 11:29:07.758334: I tensorflow/stream_executor/cuda/cuda_gpu_executor.cc:937] successful NUMA node read from SysFS had negative value (-1), but there must be at least one NUMA node, so returning NUMA node zero\n",
      "2023-01-24 11:29:07.759064: I tensorflow/stream_executor/cuda/cuda_gpu_executor.cc:937] successful NUMA node read from SysFS had negative value (-1), but there must be at least one NUMA node, so returning NUMA node zero\n",
      "2023-01-24 11:29:07.759781: I tensorflow/core/common_runtime/gpu/gpu_device.cc:1510] Created device /job:localhost/replica:0/task:0/device:GPU:0 with 13789 MB memory:  -> device: 0, name: Tesla T4, pci bus id: 0000:00:04.0, compute capability: 7.5\n",
      "2023-01-24 11:29:07.763092: I tensorflow/stream_executor/cuda/cuda_gpu_executor.cc:937] successful NUMA node read from SysFS had negative value (-1), but there must be at least one NUMA node, so returning NUMA node zero\n",
      "2023-01-24 11:29:07.763905: I tensorflow/core/common_runtime/gpu/gpu_device.cc:1510] Created device /job:localhost/replica:0/task:0/device:GPU:1 with 13789 MB memory:  -> device: 1, name: Tesla T4, pci bus id: 0000:00:05.0, compute capability: 7.5\n"
     ]
    }
   ],
   "source": [
    "# Create resnet model\n",
    "resnet_model = create_model(resnet_url)"
   ]
  },
  {
   "cell_type": "code",
   "execution_count": 11,
   "id": "f6052b00",
   "metadata": {
    "execution": {
     "iopub.execute_input": "2023-01-24T11:29:10.125905Z",
     "iopub.status.busy": "2023-01-24T11:29:10.124430Z",
     "iopub.status.idle": "2023-01-24T11:31:01.864479Z",
     "shell.execute_reply": "2023-01-24T11:31:01.863299Z"
    },
    "papermill": {
     "duration": 111.749183,
     "end_time": "2023-01-24T11:31:01.866970",
     "exception": false,
     "start_time": "2023-01-24T11:29:10.117787",
     "status": "completed"
    },
    "tags": []
   },
   "outputs": [
    {
     "name": "stderr",
     "output_type": "stream",
     "text": [
      "2023-01-24 11:29:10.138835: I tensorflow/core/profiler/lib/profiler_session.cc:131] Profiler session initializing.\n",
      "2023-01-24 11:29:10.138885: I tensorflow/core/profiler/lib/profiler_session.cc:146] Profiler session started.\n",
      "2023-01-24 11:29:10.141300: I tensorflow/core/profiler/internal/gpu/cupti_tracer.cc:1614] Profiler found 2 GPUs\n",
      "2023-01-24 11:29:10.568819: I tensorflow/core/profiler/lib/profiler_session.cc:164] Profiler session tear down.\n",
      "2023-01-24 11:29:10.569021: I tensorflow/core/profiler/internal/gpu/cupti_tracer.cc:1748] CUPTI activity buffer flushed\n"
     ]
    },
    {
     "name": "stdout",
     "output_type": "stream",
     "text": [
      "Saving TensorBoard log files to tensorflow_hub/resnet50v2/20230124-112910\n"
     ]
    },
    {
     "name": "stderr",
     "output_type": "stream",
     "text": [
      "2023-01-24 11:29:10.937253: I tensorflow/compiler/mlir/mlir_graph_optimization_pass.cc:185] None of the MLIR Optimization Passes are enabled (registered 2)\n"
     ]
    },
    {
     "name": "stdout",
     "output_type": "stream",
     "text": [
      "Epoch 1/5\n"
     ]
    },
    {
     "name": "stderr",
     "output_type": "stream",
     "text": [
      "2023-01-24 11:29:15.792011: I tensorflow/stream_executor/cuda/cuda_dnn.cc:369] Loaded cuDNN version 8005\n"
     ]
    },
    {
     "name": "stdout",
     "output_type": "stream",
     "text": [
      " 1/24 [>.............................] - ETA: 4:45 - loss: 2.7769 - accuracy: 0.1250"
     ]
    },
    {
     "name": "stderr",
     "output_type": "stream",
     "text": [
      "2023-01-24 11:29:23.700993: I tensorflow/core/profiler/lib/profiler_session.cc:131] Profiler session initializing.\n",
      "2023-01-24 11:29:23.701058: I tensorflow/core/profiler/lib/profiler_session.cc:146] Profiler session started.\n"
     ]
    },
    {
     "name": "stdout",
     "output_type": "stream",
     "text": [
      " 2/24 [=>............................] - ETA: 27s - loss: 2.7027 - accuracy: 0.0938 "
     ]
    },
    {
     "name": "stderr",
     "output_type": "stream",
     "text": [
      "2023-01-24 11:29:24.622571: I tensorflow/core/profiler/lib/profiler_session.cc:66] Profiler session collecting data.\n",
      "2023-01-24 11:29:24.623770: I tensorflow/core/profiler/internal/gpu/cupti_tracer.cc:1748] CUPTI activity buffer flushed\n",
      "2023-01-24 11:29:24.788849: I tensorflow/core/profiler/internal/gpu/cupti_collector.cc:673]  GpuTracer has collected 337 callback api events and 334 activity events. \n",
      "2023-01-24 11:29:24.805133: I tensorflow/core/profiler/lib/profiler_session.cc:164] Profiler session tear down.\n"
     ]
    },
    {
     "name": "stdout",
     "output_type": "stream",
     "text": [
      " 3/24 [==>...........................] - ETA: 16s - loss: 2.6387 - accuracy: 0.1250"
     ]
    },
    {
     "name": "stderr",
     "output_type": "stream",
     "text": [
      "2023-01-24 11:29:24.829735: I tensorflow/core/profiler/rpc/client/save_profile.cc:136] Creating directory: tensorflow_hub/resnet50v2/20230124-112910/train/plugins/profile/2023_01_24_11_29_24\n",
      "\n",
      "2023-01-24 11:29:24.837942: I tensorflow/core/profiler/rpc/client/save_profile.cc:142] Dumped gzipped tool data for trace.json.gz to tensorflow_hub/resnet50v2/20230124-112910/train/plugins/profile/2023_01_24_11_29_24/f0acc58d7ef7.trace.json.gz\n",
      "2023-01-24 11:29:24.878975: I tensorflow/core/profiler/rpc/client/save_profile.cc:136] Creating directory: tensorflow_hub/resnet50v2/20230124-112910/train/plugins/profile/2023_01_24_11_29_24\n",
      "\n",
      "2023-01-24 11:29:24.887794: I tensorflow/core/profiler/rpc/client/save_profile.cc:142] Dumped gzipped tool data for memory_profile.json.gz to tensorflow_hub/resnet50v2/20230124-112910/train/plugins/profile/2023_01_24_11_29_24/f0acc58d7ef7.memory_profile.json.gz\n",
      "2023-01-24 11:29:24.889010: I tensorflow/core/profiler/rpc/client/capture_profile.cc:251] Creating directory: tensorflow_hub/resnet50v2/20230124-112910/train/plugins/profile/2023_01_24_11_29_24\n",
      "Dumped tool data for xplane.pb to tensorflow_hub/resnet50v2/20230124-112910/train/plugins/profile/2023_01_24_11_29_24/f0acc58d7ef7.xplane.pb\n",
      "Dumped tool data for overview_page.pb to tensorflow_hub/resnet50v2/20230124-112910/train/plugins/profile/2023_01_24_11_29_24/f0acc58d7ef7.overview_page.pb\n",
      "Dumped tool data for input_pipeline.pb to tensorflow_hub/resnet50v2/20230124-112910/train/plugins/profile/2023_01_24_11_29_24/f0acc58d7ef7.input_pipeline.pb\n",
      "Dumped tool data for tensorflow_stats.pb to tensorflow_hub/resnet50v2/20230124-112910/train/plugins/profile/2023_01_24_11_29_24/f0acc58d7ef7.tensorflow_stats.pb\n",
      "Dumped tool data for kernel_stats.pb to tensorflow_hub/resnet50v2/20230124-112910/train/plugins/profile/2023_01_24_11_29_24/f0acc58d7ef7.kernel_stats.pb\n",
      "\n"
     ]
    },
    {
     "name": "stdout",
     "output_type": "stream",
     "text": [
      "24/24 [==============================] - 33s 880ms/step - loss: 1.8974 - accuracy: 0.3800 - val_loss: 1.1538 - val_accuracy: 0.6444\n",
      "Epoch 2/5\n",
      "24/24 [==============================] - 18s 754ms/step - loss: 0.8960 - accuracy: 0.7293 - val_loss: 0.8486 - val_accuracy: 0.7300\n",
      "Epoch 3/5\n",
      "24/24 [==============================] - 25s 1s/step - loss: 0.6320 - accuracy: 0.8093 - val_loss: 0.7437 - val_accuracy: 0.7688\n",
      "Epoch 4/5\n",
      "24/24 [==============================] - 18s 785ms/step - loss: 0.4926 - accuracy: 0.8587 - val_loss: 0.6752 - val_accuracy: 0.7860\n",
      "Epoch 5/5\n",
      "24/24 [==============================] - 17s 735ms/step - loss: 0.3865 - accuracy: 0.9013 - val_loss: 0.6588 - val_accuracy: 0.7852\n"
     ]
    }
   ],
   "source": [
    "# Compile our resnet model\n",
    "resnet_model.compile(loss=\"categorical_crossentropy\",\n",
    "                    optimizer=tf.keras.optimizers.Adam(),\n",
    "                    metrics=[\"accuracy\"])\n",
    "\n",
    "# Fit the data\n",
    "history_resnet = resnet_model.fit(train_data_10_percent,\n",
    "                                  epochs=5,\n",
    "                                  steps_per_epoch=len(train_data_10_percent),\n",
    "                                  validation_data=test_data_10_percent,\n",
    "                                  callbacks=create_tensorboard_callback(dir_name=\"tensorflow_hub\", experiment_name=\"resnet50v2\"))"
   ]
  },
  {
   "cell_type": "code",
   "execution_count": 12,
   "id": "1c079d47",
   "metadata": {
    "execution": {
     "iopub.execute_input": "2023-01-24T11:31:01.893724Z",
     "iopub.status.busy": "2023-01-24T11:31:01.893437Z",
     "iopub.status.idle": "2023-01-24T11:31:01.904021Z",
     "shell.execute_reply": "2023-01-24T11:31:01.903018Z"
    },
    "papermill": {
     "duration": 0.026514,
     "end_time": "2023-01-24T11:31:01.906690",
     "exception": false,
     "start_time": "2023-01-24T11:31:01.880176",
     "status": "completed"
    },
    "tags": []
   },
   "outputs": [
    {
     "name": "stdout",
     "output_type": "stream",
     "text": [
      "Model: \"sequential\"\n",
      "_________________________________________________________________\n",
      "Layer (type)                 Output Shape              Param #   \n",
      "=================================================================\n",
      "feature_extraction_layer (Ke (None, 2048)              23564800  \n",
      "_________________________________________________________________\n",
      "output_layer (Dense)         (None, 10)                20490     \n",
      "=================================================================\n",
      "Total params: 23,585,290\n",
      "Trainable params: 20,490\n",
      "Non-trainable params: 23,564,800\n",
      "_________________________________________________________________\n"
     ]
    }
   ],
   "source": [
    "resnet_model.summary()"
   ]
  },
  {
   "cell_type": "code",
   "execution_count": 13,
   "id": "06c53790",
   "metadata": {
    "execution": {
     "iopub.execute_input": "2023-01-24T11:31:01.933572Z",
     "iopub.status.busy": "2023-01-24T11:31:01.932748Z",
     "iopub.status.idle": "2023-01-24T11:31:01.941024Z",
     "shell.execute_reply": "2023-01-24T11:31:01.940098Z"
    },
    "papermill": {
     "duration": 0.023978,
     "end_time": "2023-01-24T11:31:01.943151",
     "exception": false,
     "start_time": "2023-01-24T11:31:01.919173",
     "status": "completed"
    },
    "tags": []
   },
   "outputs": [],
   "source": [
    "import matplotlib.pyplot as plt\n",
    "\n",
    "# Plot the validation and training curves separately\n",
    "def plot_loss_curves(history):\n",
    "  \"\"\"\n",
    "  Returns separates loss curves for training and validation metrics.\n",
    "  \"\"\"\n",
    "  loss = history.history[\"loss\"]\n",
    "  val_loss = history.history[\"val_loss\"]\n",
    "\n",
    "  accuracy = history.history[\"accuracy\"]\n",
    "  val_accuracy = history.history[\"val_accuracy\"]\n",
    "\n",
    "  epochs = range(len(history.history[\"loss\"]))\n",
    "\n",
    "  # Plot loss\n",
    "  plt.figure(figsize=(10,7))\n",
    "  plt.plot(epochs, loss, label=\"training_loss\")\n",
    "  plt.plot(epochs, val_loss, label=\"val_loss\")\n",
    "  plt.title(\"loss\")\n",
    "  plt.xlabel(\"epochs\")\n",
    "  plt.legend()\n",
    "\n",
    "  # Plot accuracy\n",
    "  plt.figure(figsize=(10,7))\n",
    "  plt.plot(epochs, accuracy, label=\"training_accuracy\")\n",
    "  plt.plot(epochs, val_accuracy, label=\"val_accuracy\")\n",
    "  plt.title(\"accuracy\")\n",
    "  plt.xlabel(\"epochs\")\n",
    "  plt.legend()"
   ]
  },
  {
   "cell_type": "code",
   "execution_count": 14,
   "id": "11d1e3b6",
   "metadata": {
    "execution": {
     "iopub.execute_input": "2023-01-24T11:31:01.970368Z",
     "iopub.status.busy": "2023-01-24T11:31:01.969505Z",
     "iopub.status.idle": "2023-01-24T11:31:02.449326Z",
     "shell.execute_reply": "2023-01-24T11:31:02.447997Z"
    },
    "papermill": {
     "duration": 0.495941,
     "end_time": "2023-01-24T11:31:02.452040",
     "exception": false,
     "start_time": "2023-01-24T11:31:01.956099",
     "status": "completed"
    },
    "tags": []
   },
   "outputs": [
    {
     "data": {
      "image/png": "[encoded data removed]",
      "text/plain": [
       "<Figure size 720x504 with 1 Axes>"
      ]
     },
     "metadata": {
      "needs_background": "light"
     },
     "output_type": "display_data"
    },
    {
     "data": {
      "image/png": "[encoded data removed]",
      "text/plain": [
       "<Figure size 720x504 with 1 Axes>"
      ]
     },
     "metadata": {
      "needs_background": "light"
     },
     "output_type": "display_data"
    }
   ],
   "source": [
    "plot_loss_curves(history_resnet)"
   ]
  },
  {
   "cell_type": "code",
   "execution_count": null,
   "id": "20b45699",
   "metadata": {
    "papermill": {
     "duration": 0.013405,
     "end_time": "2023-01-24T11:31:02.480012",
     "exception": false,
     "start_time": "2023-01-24T11:31:02.466607",
     "status": "completed"
    },
    "tags": []
   },
   "outputs": [],
   "source": []
  }
 ],
 "metadata": {
  "kernelspec": {
   "display_name": "Python 3",
   "language": "python",
   "name": "python3"
  },
  "language_info": {
   "codemirror_mode": {
    "name": "ipython",
    "version": 3
   },
   "file_extension": ".py",
   "mimetype": "text/x-python",
   "name": "python",
   "nbconvert_exporter": "python",
   "pygments_lexer": "ipython3",
   "version": "3.7.12"
  },
  "papermill": {
   "default_parameters": {},
   "duration": 143.507989,
   "end_time": "2023-01-24T11:31:05.907139",
   "environment_variables": {},
   "exception": null,
   "input_path": "__notebook__.ipynb",
   "output_path": "__notebook__.ipynb",
   "parameters": {},
   "start_time": "2023-01-24T11:28:42.399150",
   "version": "2.3.4"
  }
 },
 "nbformat": 4,
 "nbformat_minor": 5
}
