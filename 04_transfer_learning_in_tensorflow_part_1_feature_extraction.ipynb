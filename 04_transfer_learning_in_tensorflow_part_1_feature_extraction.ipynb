{
  "nbformat": 4,
  "nbformat_minor": 0,
  "metadata": {
    "colab": {
      "provenance": []
    },
    "kernelspec": {
      "name": "python3",
      "display_name": "Python 3"
    },
    "language_info": {
      "name": "python"
    },
    "accelerator": "GPU",
    "gpuClass": "standard"
  },
  "cells": [
    {
      "cell_type": "markdown",
      "source": [
        "# Transfer Learning with TensorFlow Part 1: Feature Extraction\n",
        "\n",
        "Transfer learning is leveraging a working model's existing and learned patterns for our own problems"
      ],
      "metadata": {
        "id": "oF0p-UDdXhYK"
      }
    },
    {
      "cell_type": "code",
      "source": [
        "# Are we using a GPU\n",
        "!nvidia-smi"
      ],
      "metadata": {
        "colab": {
          "base_uri": "https://localhost:8080/"
        },
        "id": "3rXggnKjad83",
        "outputId": "4e5c19e2-ce01-4c49-d5fe-55d27192af25"
      },
      "execution_count": 1,
      "outputs": [
        {
          "output_type": "stream",
          "name": "stdout",
          "text": [
            "Tue Jan 24 07:43:56 2023       \n",
            "+-----------------------------------------------------------------------------+\n",
            "| NVIDIA-SMI 460.32.03    Driver Version: 460.32.03    CUDA Version: 11.2     |\n",
            "|-------------------------------+----------------------+----------------------+\n",
            "| GPU  Name        Persistence-M| Bus-Id        Disp.A | Volatile Uncorr. ECC |\n",
            "| Fan  Temp  Perf  Pwr:Usage/Cap|         Memory-Usage | GPU-Util  Compute M. |\n",
            "|                               |                      |               MIG M. |\n",
            "|===============================+======================+======================|\n",
            "|   0  Tesla T4            Off  | 00000000:00:04.0 Off |                    0 |\n",
            "| N/A   58C    P0    28W /  70W |      0MiB / 15109MiB |      0%      Default |\n",
            "|                               |                      |                  N/A |\n",
            "+-------------------------------+----------------------+----------------------+\n",
            "                                                                               \n",
            "+-----------------------------------------------------------------------------+\n",
            "| Processes:                                                                  |\n",
            "|  GPU   GI   CI        PID   Type   Process name                  GPU Memory |\n",
            "|        ID   ID                                                   Usage      |\n",
            "|=============================================================================|\n",
            "|  No running processes found                                                 |\n",
            "+-----------------------------------------------------------------------------+\n"
          ]
        }
      ]
    },
    {
      "cell_type": "markdown",
      "source": [
        "## Download and becoming one with the data"
      ],
      "metadata": {
        "id": "zqO7P-B9ap5O"
      }
    },
    {
      "cell_type": "code",
      "source": [
        "# Get data (10% of 10 food classes from Food101)\n",
        "!wget https://storage.googleapis.com/ztm_tf_course/food_vision/10_food_classes_10_percent.zip"
      ],
      "metadata": {
        "colab": {
          "base_uri": "https://localhost:8080/"
        },
        "id": "TUyXNQcMa0TP",
        "outputId": "ee703783-5402-42c2-f845-79f6fcf238c8"
      },
      "execution_count": 2,
      "outputs": [
        {
          "output_type": "stream",
          "name": "stdout",
          "text": [
            "--2023-01-24 07:43:56--  https://storage.googleapis.com/ztm_tf_course/food_vision/10_food_classes_10_percent.zip\n",
            "Resolving storage.googleapis.com (storage.googleapis.com)... 74.125.68.128, 74.125.24.128, 142.250.4.128, ...\n",
            "Connecting to storage.googleapis.com (storage.googleapis.com)|74.125.68.128|:443... connected.\n",
            "HTTP request sent, awaiting response... 200 OK\n",
            "Length: 168546183 (161M) [application/zip]\n",
            "Saving to: ‘10_food_classes_10_percent.zip’\n",
            "\n",
            "10_food_classes_10_ 100%[===================>] 160.74M  23.2MB/s    in 7.9s    \n",
            "\n",
            "2023-01-24 07:44:04 (20.4 MB/s) - ‘10_food_classes_10_percent.zip’ saved [168546183/168546183]\n",
            "\n"
          ]
        }
      ]
    },
    {
      "cell_type": "code",
      "source": [
        "import zipfile\n",
        "\n",
        "zip_ref = zipfile.ZipFile(\"10_food_classes_10_percent.zip\")\n",
        "zip_ref.extractall()\n",
        "zip_ref.close()"
      ],
      "metadata": {
        "id": "_iyNrBKha2Bo"
      },
      "execution_count": 3,
      "outputs": []
    },
    {
      "cell_type": "code",
      "source": [
        "# How many images in each folder\n",
        "import os\n",
        "\n",
        "# Walk through 10 percent data directory and list number of files\n",
        "for dirpath, dirnames, filenames in os.walk(\"10_food_classes_10_percent\"):\n",
        "  print(f\"There are {len(dirnames)} directories and {len(filenames)} image in '{dirpath}'\")"
      ],
      "metadata": {
        "colab": {
          "base_uri": "https://localhost:8080/"
        },
        "id": "69FJKwP5bMHR",
        "outputId": "4dc9de2d-f1cc-4cf8-e933-35de4643a526"
      },
      "execution_count": 4,
      "outputs": [
        {
          "output_type": "stream",
          "name": "stdout",
          "text": [
            "There are 2 directories and 0 image in '10_food_classes_10_percent'\n",
            "There are 10 directories and 0 image in '10_food_classes_10_percent/train'\n",
            "There are 0 directories and 75 image in '10_food_classes_10_percent/train/sushi'\n",
            "There are 0 directories and 75 image in '10_food_classes_10_percent/train/ice_cream'\n",
            "There are 0 directories and 75 image in '10_food_classes_10_percent/train/hamburger'\n",
            "There are 0 directories and 75 image in '10_food_classes_10_percent/train/grilled_salmon'\n",
            "There are 0 directories and 75 image in '10_food_classes_10_percent/train/pizza'\n",
            "There are 0 directories and 75 image in '10_food_classes_10_percent/train/fried_rice'\n",
            "There are 0 directories and 75 image in '10_food_classes_10_percent/train/ramen'\n",
            "There are 0 directories and 75 image in '10_food_classes_10_percent/train/steak'\n",
            "There are 0 directories and 75 image in '10_food_classes_10_percent/train/chicken_wings'\n",
            "There are 0 directories and 75 image in '10_food_classes_10_percent/train/chicken_curry'\n",
            "There are 10 directories and 0 image in '10_food_classes_10_percent/test'\n",
            "There are 0 directories and 250 image in '10_food_classes_10_percent/test/sushi'\n",
            "There are 0 directories and 250 image in '10_food_classes_10_percent/test/ice_cream'\n",
            "There are 0 directories and 250 image in '10_food_classes_10_percent/test/hamburger'\n",
            "There are 0 directories and 250 image in '10_food_classes_10_percent/test/grilled_salmon'\n",
            "There are 0 directories and 250 image in '10_food_classes_10_percent/test/pizza'\n",
            "There are 0 directories and 250 image in '10_food_classes_10_percent/test/fried_rice'\n",
            "There are 0 directories and 250 image in '10_food_classes_10_percent/test/ramen'\n",
            "There are 0 directories and 250 image in '10_food_classes_10_percent/test/steak'\n",
            "There are 0 directories and 250 image in '10_food_classes_10_percent/test/chicken_wings'\n",
            "There are 0 directories and 250 image in '10_food_classes_10_percent/test/chicken_curry'\n"
          ]
        }
      ]
    },
    {
      "cell_type": "markdown",
      "source": [
        "## Creating data loaders (preparing the data)"
      ],
      "metadata": {
        "id": "0Qt26PZ2b4OU"
      }
    },
    {
      "cell_type": "code",
      "source": [
        "# Setup data inputs\n",
        "from tensorflow.keras.preprocessing.image import ImageDataGenerator\n",
        "\n",
        "IMAGE_SHAPE = (224, 224)\n",
        "BATCH_SIZE = 32\n",
        "\n",
        "train_dir = \"10_food_classes_10_percent/train/\"\n",
        "test_dir = \"10_food_classes_10_percent/test/\"\n",
        "\n",
        "train_datagen = ImageDataGenerator(rescale=1/255.)\n",
        "test_datagen = ImageDataGenerator(rescale=1/255.)\n",
        "\n",
        "print(\"Training Images: \")\n",
        "train_data_10_percent = train_datagen.flow_from_directory(train_dir,\n",
        "                                                          target_size=IMAGE_SHAPE,\n",
        "                                                          batch_size=BATCH_SIZE,\n",
        "                                                          class_mode=\"categorical\")\n",
        "\n",
        "print(\"Testing Images: \")\n",
        "test_data_10_percent = test_datagen.flow_from_directory(test_dir,\n",
        "                                                        target_size=IMAGE_SHAPE,\n",
        "                                                        batch_size=BATCH_SIZE,\n",
        "                                                        class_mode=\"categorical\")"
      ],
      "metadata": {
        "colab": {
          "base_uri": "https://localhost:8080/"
        },
        "id": "ohuOsBFdcWF-",
        "outputId": "fe25e52d-6fdd-4e90-a210-1974c48f5c4e"
      },
      "execution_count": 5,
      "outputs": [
        {
          "output_type": "stream",
          "name": "stdout",
          "text": [
            "Training Images: \n",
            "Found 750 images belonging to 10 classes.\n",
            "Testing Images: \n",
            "Found 2500 images belonging to 10 classes.\n"
          ]
        }
      ]
    },
    {
      "cell_type": "markdown",
      "source": [
        "### Setting up callbacks (thing to run while our model trains)\n",
        "\n",
        "some of the most popular:\n",
        "1. Tracking experiment with the tensorboard callback\n",
        "2. Model chckpoint with the ModelCheckpoint\n",
        "3. Stopping a model from training (before it trains too long)"
      ],
      "metadata": {
        "id": "taDV2-7cdT90"
      }
    },
    {
      "cell_type": "code",
      "source": [],
      "metadata": {
        "id": "vPVO90kcwtit"
      },
      "execution_count": null,
      "outputs": []
    }
  ]
}