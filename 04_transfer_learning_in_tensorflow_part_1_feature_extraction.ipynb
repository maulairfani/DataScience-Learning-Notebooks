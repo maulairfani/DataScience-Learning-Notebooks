{
  "metadata": {
    "colab": {
      "provenance": [],
      "include_colab_link": true
    },
    "kernelspec": {
      "name": "python3",
      "display_name": "Python 3",
      "language": "python"
    },
    "language_info": {
      "name": "python",
      "version": "3.7.12",
      "mimetype": "text/x-python",
      "codemirror_mode": {
        "name": "ipython",
        "version": 3
      },
      "pygments_lexer": "ipython3",
      "nbconvert_exporter": "python",
      "file_extension": ".py"
    },
    "accelerator": "GPU",
    "gpuClass": "standard"
  },
  "nbformat_minor": 0,
  "nbformat": 4,
  "cells": [
    {
      "cell_type": "markdown",
      "metadata": {
        "id": "view-in-github",
        "colab_type": "text"
      },
      "source": [
        "<a href=\"https://colab.research.google.com/github/maulairfani/DataScience-Learning-Notebooks/blob/main/04_transfer_learning_in_tensorflow_part_1_feature_extraction.ipynb\" target=\"_parent\"><img src=\"https://colab.research.google.com/assets/colab-badge.svg\" alt=\"Open In Colab\"/></a>"
      ]
    },
    {
      "source": [
        "<a href=\"https://www.kaggle.com/code/maulairfani/04-transfer-learning-in-tensorflow-part-1?scriptVersionId=117251490\" target=\"_blank\"><img align=\"left\" alt=\"Kaggle\" title=\"Open in Kaggle\" src=\"https://kaggle.com/static/images/open-in-kaggle.svg\"></a>"
      ],
      "metadata": {
        "id": "_H01N11pn09D"
      },
      "cell_type": "markdown"
    },
    {
      "cell_type": "markdown",
      "source": [
        "# Transfer Learning with TensorFlow Part 1: Feature Extraction\n",
        "\n",
        "Transfer learning is leveraging a working model's existing and learned patterns for our own problems"
      ],
      "metadata": {
        "id": "oF0p-UDdXhYK"
      }
    },
    {
      "cell_type": "code",
      "source": [
        "# Are we using a GPU\n",
        "!nvidia-smi"
      ],
      "metadata": {
        "colab": {
          "base_uri": "https://localhost:8080/"
        },
        "id": "3rXggnKjad83",
        "outputId": "ab706c38-94e7-499d-bedf-158735fe23a8",
        "execution": {
          "iopub.status.busy": "2023-01-25T05:54:32.987248Z",
          "iopub.execute_input": "2023-01-25T05:54:32.987561Z",
          "iopub.status.idle": "2023-01-25T05:54:34.125274Z",
          "shell.execute_reply.started": "2023-01-25T05:54:32.987491Z",
          "shell.execute_reply": "2023-01-25T05:54:34.123827Z"
        },
        "trusted": true
      },
      "execution_count": 1,
      "outputs": [
        {
          "output_type": "stream",
          "name": "stdout",
          "text": [
            "Wed Jan 25 06:32:13 2023       \n",
            "+-----------------------------------------------------------------------------+\n",
            "| NVIDIA-SMI 510.47.03    Driver Version: 510.47.03    CUDA Version: 11.6     |\n",
            "|-------------------------------+----------------------+----------------------+\n",
            "| GPU  Name        Persistence-M| Bus-Id        Disp.A | Volatile Uncorr. ECC |\n",
            "| Fan  Temp  Perf  Pwr:Usage/Cap|         Memory-Usage | GPU-Util  Compute M. |\n",
            "|                               |                      |               MIG M. |\n",
            "|===============================+======================+======================|\n",
            "|   0  Tesla T4            Off  | 00000000:00:04.0 Off |                    0 |\n",
            "| N/A   51C    P0    26W /  70W |      0MiB / 15360MiB |      0%      Default |\n",
            "|                               |                      |                  N/A |\n",
            "+-------------------------------+----------------------+----------------------+\n",
            "                                                                               \n",
            "+-----------------------------------------------------------------------------+\n",
            "| Processes:                                                                  |\n",
            "|  GPU   GI   CI        PID   Type   Process name                  GPU Memory |\n",
            "|        ID   ID                                                   Usage      |\n",
            "|=============================================================================|\n",
            "|  No running processes found                                                 |\n",
            "+-----------------------------------------------------------------------------+\n"
          ]
        }
      ]
    },
    {
      "cell_type": "markdown",
      "source": [
        "## Download and becoming one with the data"
      ],
      "metadata": {
        "id": "zqO7P-B9ap5O"
      }
    },
    {
      "cell_type": "code",
      "source": [
        "# Get data (10% of 10 food classes from Food101)\n",
        "!wget https://storage.googleapis.com/ztm_tf_course/food_vision/10_food_classes_10_percent.zip"
      ],
      "metadata": {
        "colab": {
          "base_uri": "https://localhost:8080/"
        },
        "id": "TUyXNQcMa0TP",
        "outputId": "76bb6e8a-7b1a-48b0-bed6-b1eda760f873",
        "execution": {
          "iopub.status.busy": "2023-01-25T05:54:34.131648Z",
          "iopub.execute_input": "2023-01-25T05:54:34.134171Z",
          "iopub.status.idle": "2023-01-25T05:54:36.69074Z",
          "shell.execute_reply.started": "2023-01-25T05:54:34.134126Z",
          "shell.execute_reply": "2023-01-25T05:54:36.689445Z"
        },
        "trusted": true
      },
      "execution_count": 2,
      "outputs": [
        {
          "output_type": "stream",
          "name": "stdout",
          "text": [
            "--2023-01-25 06:32:13--  https://storage.googleapis.com/ztm_tf_course/food_vision/10_food_classes_10_percent.zip\n",
            "Resolving storage.googleapis.com (storage.googleapis.com)... 173.194.69.128, 108.177.127.128, 172.217.218.128, ...\n",
            "Connecting to storage.googleapis.com (storage.googleapis.com)|173.194.69.128|:443... connected.\n",
            "HTTP request sent, awaiting response... 200 OK\n",
            "Length: 168546183 (161M) [application/zip]\n",
            "Saving to: ‘10_food_classes_10_percent.zip’\n",
            "\n",
            "10_food_classes_10_ 100%[===================>] 160.74M  37.8MB/s    in 4.8s    \n",
            "\n",
            "2023-01-25 06:32:18 (33.2 MB/s) - ‘10_food_classes_10_percent.zip’ saved [168546183/168546183]\n",
            "\n"
          ]
        }
      ]
    },
    {
      "cell_type": "code",
      "source": [
        "import zipfile\n",
        "\n",
        "zip_ref = zipfile.ZipFile(\"10_food_classes_10_percent.zip\")\n",
        "zip_ref.extractall()\n",
        "zip_ref.close()"
      ],
      "metadata": {
        "id": "_iyNrBKha2Bo",
        "execution": {
          "iopub.status.busy": "2023-01-25T05:54:36.693083Z",
          "iopub.execute_input": "2023-01-25T05:54:36.6939Z",
          "iopub.status.idle": "2023-01-25T05:54:38.843397Z",
          "shell.execute_reply.started": "2023-01-25T05:54:36.693859Z",
          "shell.execute_reply": "2023-01-25T05:54:38.842311Z"
        },
        "trusted": true
      },
      "execution_count": 3,
      "outputs": []
    },
    {
      "cell_type": "code",
      "source": [
        "# How many images in each folder\n",
        "import os\n",
        "\n",
        "# Walk through 10 percent data directory and list number of files\n",
        "for dirpath, dirnames, filenames in os.walk(\"10_food_classes_10_percent\"):\n",
        "  print(f\"There are {len(dirnames)} directories and {len(filenames)} image in '{dirpath}'\")"
      ],
      "metadata": {
        "colab": {
          "base_uri": "https://localhost:8080/"
        },
        "id": "69FJKwP5bMHR",
        "outputId": "c6c002ae-e097-427f-e89e-fdbfebdcccd9",
        "execution": {
          "iopub.status.busy": "2023-01-25T05:54:38.847159Z",
          "iopub.execute_input": "2023-01-25T05:54:38.849513Z",
          "iopub.status.idle": "2023-01-25T05:54:38.867201Z",
          "shell.execute_reply.started": "2023-01-25T05:54:38.849456Z",
          "shell.execute_reply": "2023-01-25T05:54:38.86593Z"
        },
        "trusted": true
      },
      "execution_count": 4,
      "outputs": [
        {
          "output_type": "stream",
          "name": "stdout",
          "text": [
            "There are 2 directories and 0 image in '10_food_classes_10_percent'\n",
            "There are 10 directories and 0 image in '10_food_classes_10_percent/train'\n",
            "There are 0 directories and 75 image in '10_food_classes_10_percent/train/sushi'\n",
            "There are 0 directories and 75 image in '10_food_classes_10_percent/train/ice_cream'\n",
            "There are 0 directories and 75 image in '10_food_classes_10_percent/train/chicken_wings'\n",
            "There are 0 directories and 75 image in '10_food_classes_10_percent/train/steak'\n",
            "There are 0 directories and 75 image in '10_food_classes_10_percent/train/chicken_curry'\n",
            "There are 0 directories and 75 image in '10_food_classes_10_percent/train/pizza'\n",
            "There are 0 directories and 75 image in '10_food_classes_10_percent/train/grilled_salmon'\n",
            "There are 0 directories and 75 image in '10_food_classes_10_percent/train/fried_rice'\n",
            "There are 0 directories and 75 image in '10_food_classes_10_percent/train/ramen'\n",
            "There are 0 directories and 75 image in '10_food_classes_10_percent/train/hamburger'\n",
            "There are 10 directories and 0 image in '10_food_classes_10_percent/test'\n",
            "There are 0 directories and 250 image in '10_food_classes_10_percent/test/sushi'\n",
            "There are 0 directories and 250 image in '10_food_classes_10_percent/test/ice_cream'\n",
            "There are 0 directories and 250 image in '10_food_classes_10_percent/test/chicken_wings'\n",
            "There are 0 directories and 250 image in '10_food_classes_10_percent/test/steak'\n",
            "There are 0 directories and 250 image in '10_food_classes_10_percent/test/chicken_curry'\n",
            "There are 0 directories and 250 image in '10_food_classes_10_percent/test/pizza'\n",
            "There are 0 directories and 250 image in '10_food_classes_10_percent/test/grilled_salmon'\n",
            "There are 0 directories and 250 image in '10_food_classes_10_percent/test/fried_rice'\n",
            "There are 0 directories and 250 image in '10_food_classes_10_percent/test/ramen'\n",
            "There are 0 directories and 250 image in '10_food_classes_10_percent/test/hamburger'\n"
          ]
        }
      ]
    },
    {
      "cell_type": "markdown",
      "source": [
        "## Creating data loaders (preparing the data)"
      ],
      "metadata": {
        "id": "0Qt26PZ2b4OU"
      }
    },
    {
      "cell_type": "code",
      "source": [
        "# Setup data inputs\n",
        "from tensorflow.keras.preprocessing.image import ImageDataGenerator\n",
        "\n",
        "IMAGE_SHAPE = (224, 224)\n",
        "BATCH_SIZE = 32\n",
        "\n",
        "train_dir = \"10_food_classes_10_percent/train/\"\n",
        "test_dir = \"10_food_classes_10_percent/test/\"\n",
        "\n",
        "train_datagen = ImageDataGenerator(rescale=1/255.)\n",
        "test_datagen = ImageDataGenerator(rescale=1/255.)\n",
        "\n",
        "print(\"Training Images: \")\n",
        "train_data_10_percent = train_datagen.flow_from_directory(train_dir,\n",
        "                                                          target_size=IMAGE_SHAPE,\n",
        "                                                          batch_size=BATCH_SIZE,\n",
        "                                                          class_mode=\"categorical\")\n",
        "\n",
        "print(\"Testing Images: \")\n",
        "test_data = test_datagen.flow_from_directory(test_dir,\n",
        "                                             target_size=IMAGE_SHAPE,\n",
        "                                             batch_size=BATCH_SIZE,\n",
        "                                             class_mode=\"categorical\")"
      ],
      "metadata": {
        "colab": {
          "base_uri": "https://localhost:8080/"
        },
        "id": "ohuOsBFdcWF-",
        "outputId": "ec36e2f3-dcdd-4648-d879-266fa742a36f",
        "execution": {
          "iopub.status.busy": "2023-01-25T06:01:35.809737Z",
          "iopub.execute_input": "2023-01-25T06:01:35.810096Z",
          "iopub.status.idle": "2023-01-25T06:01:36.12732Z",
          "shell.execute_reply.started": "2023-01-25T06:01:35.810064Z",
          "shell.execute_reply": "2023-01-25T06:01:36.126223Z"
        },
        "trusted": true
      },
      "execution_count": 5,
      "outputs": [
        {
          "output_type": "stream",
          "name": "stdout",
          "text": [
            "Training Images: \n",
            "Found 750 images belonging to 10 classes.\n",
            "Testing Images: \n",
            "Found 2500 images belonging to 10 classes.\n"
          ]
        }
      ]
    },
    {
      "cell_type": "markdown",
      "source": [
        "### Setting up callbacks (thing to run while our model trains)\n",
        "\n",
        "some of the most popular:\n",
        "1. Tracking experiment with the tensorboard callback\n",
        "2. Model chckpoint with the ModelCheckpoint\n",
        "3. Stopping a model from training (before it trains too long)"
      ],
      "metadata": {
        "id": "taDV2-7cdT90"
      }
    },
    {
      "cell_type": "code",
      "source": [
        "# Create TensorBoard callback\n",
        "import tensorflow as tf\n",
        "import datetime\n",
        "\n",
        "def create_tensorboard_callback(dir_name, experiment_name):\n",
        "    log_dir = dir_name + \"/\" + experiment_name + \"/\" + datetime.datetime.now().strftime(\"%Y%m%d-%H%M%S\")\n",
        "    tensorboard_callback = tf.keras.callbacks.TensorBoard(log_dir=log_dir)\n",
        "    print(f\"Saving TensorBoard log files to {log_dir}\")\n",
        "    return tensorboard_callback"
      ],
      "metadata": {
        "id": "vPVO90kcwtit",
        "execution": {
          "iopub.status.busy": "2023-01-25T05:54:45.578038Z",
          "iopub.execute_input": "2023-01-25T05:54:45.578657Z",
          "iopub.status.idle": "2023-01-25T05:54:45.589805Z",
          "shell.execute_reply.started": "2023-01-25T05:54:45.578618Z",
          "shell.execute_reply": "2023-01-25T05:54:45.587133Z"
        },
        "trusted": true
      },
      "execution_count": 6,
      "outputs": []
    },
    {
      "cell_type": "markdown",
      "source": [
        "## Creating models using TensorFlow Hub"
      ],
      "metadata": {
        "id": "PuqD1jMan09Q"
      }
    },
    {
      "cell_type": "code",
      "source": [
        "# Let's compare the following two models\n",
        "efficientnet_url = \"https://tfhub.dev/tensorflow/efficientnet/b0/feature-vector/1\"\n",
        "resnet_url = \"https://tfhub.dev/google/imagenet/resnet_v2_50/feature_vector/5\""
      ],
      "metadata": {
        "execution": {
          "iopub.status.busy": "2023-01-25T05:54:45.592989Z",
          "iopub.execute_input": "2023-01-25T05:54:45.594214Z",
          "iopub.status.idle": "2023-01-25T05:54:45.609656Z",
          "shell.execute_reply.started": "2023-01-25T05:54:45.594171Z",
          "shell.execute_reply": "2023-01-25T05:54:45.608667Z"
        },
        "trusted": true,
        "id": "RTXcOAbHn09Q"
      },
      "execution_count": 7,
      "outputs": []
    },
    {
      "cell_type": "code",
      "source": [
        "# Import dependencies\n",
        "import tensorflow as tf\n",
        "import tensorflow_hub as hub\n",
        "from tensorflow.keras import layers"
      ],
      "metadata": {
        "execution": {
          "iopub.status.busy": "2023-01-25T05:54:45.611494Z",
          "iopub.execute_input": "2023-01-25T05:54:45.611912Z",
          "iopub.status.idle": "2023-01-25T05:54:46.117788Z",
          "shell.execute_reply.started": "2023-01-25T05:54:45.611876Z",
          "shell.execute_reply": "2023-01-25T05:54:46.116817Z"
        },
        "trusted": true,
        "id": "fiHLuQjhn09R"
      },
      "execution_count": 8,
      "outputs": []
    },
    {
      "cell_type": "code",
      "source": [
        "# Make a create_model() function to create a model from a URL\n",
        "def create_model(model_url, num_classes=10):\n",
        "    \"\"\"\n",
        "    Takes a TensorFlow Hub URL and creates a Keras Sequential\n",
        "    \n",
        "    Args:\n",
        "        model_url (str): A TensorFlow Hub feature extraction URL\n",
        "        num_classes (int): Number of output neurons in the output layer, should be equal to number of target classes, default 10.\n",
        "         \n",
        "         \n",
        "    Returns:\n",
        "        An uncompiled Keras Sequential model with model_url as feature extractor layer and Dense output layer with num_classes output neurons\n",
        "    \"\"\"\n",
        "    # Download the pretrained model\n",
        "    feature_extractor_layer = hub.KerasLayer(model_url, \n",
        "                                           trainable=False, # freeze the already learned patterns\n",
        "                                           name=\"feature_extraction_layer\",\n",
        "                                           input_shape=IMAGE_SHAPE+(3,)) # (224, 224, 3)\n",
        "    \n",
        "    # Create our own model\n",
        "    model = tf.keras.Sequential([\n",
        "        feature_extractor_layer,\n",
        "        layers.Dense(num_classes, activation=\"softmax\", name=\"output_layer\")\n",
        "    ])\n",
        "    \n",
        "    return model"
      ],
      "metadata": {
        "execution": {
          "iopub.status.busy": "2023-01-25T05:54:46.119415Z",
          "iopub.execute_input": "2023-01-25T05:54:46.119817Z",
          "iopub.status.idle": "2023-01-25T05:54:46.129364Z",
          "shell.execute_reply.started": "2023-01-25T05:54:46.119743Z",
          "shell.execute_reply": "2023-01-25T05:54:46.128267Z"
        },
        "trusted": true,
        "id": "faXXmsddn09R"
      },
      "execution_count": 9,
      "outputs": []
    },
    {
      "cell_type": "markdown",
      "source": [
        "### Creating and testing ResNet TensorFlow Hub Feature extraction model"
      ],
      "metadata": {
        "id": "7mJ3I8oDn09S"
      }
    },
    {
      "cell_type": "code",
      "source": [
        "# Create resnet model\n",
        "resnet_model = create_model(resnet_url)"
      ],
      "metadata": {
        "execution": {
          "iopub.status.busy": "2023-01-25T05:54:46.132581Z",
          "iopub.execute_input": "2023-01-25T05:54:46.133627Z",
          "iopub.status.idle": "2023-01-25T05:54:53.573574Z",
          "shell.execute_reply.started": "2023-01-25T05:54:46.133583Z",
          "shell.execute_reply": "2023-01-25T05:54:53.572639Z"
        },
        "trusted": true,
        "id": "L2-GpNjjn09S"
      },
      "execution_count": 10,
      "outputs": []
    },
    {
      "cell_type": "code",
      "source": [
        "# Compile our resnet model\n",
        "resnet_model.compile(loss=\"categorical_crossentropy\",\n",
        "                    optimizer=tf.keras.optimizers.Adam(),\n",
        "                    metrics=[\"accuracy\"])\n",
        "\n",
        "# Fit the data\n",
        "history_resnet = resnet_model.fit(train_data_10_percent,\n",
        "                                  epochs=5,\n",
        "                                  steps_per_epoch=len(train_data_10_percent),\n",
        "                                  validation_data=test_data,\n",
        "                                  callbacks=create_tensorboard_callback(dir_name=\"tensorflow_hub\", experiment_name=\"resnet50v2\"))"
      ],
      "metadata": {
        "execution": {
          "iopub.status.busy": "2023-01-25T05:54:53.575052Z",
          "iopub.execute_input": "2023-01-25T05:54:53.575389Z",
          "iopub.status.idle": "2023-01-25T05:56:37.656238Z",
          "shell.execute_reply.started": "2023-01-25T05:54:53.575354Z",
          "shell.execute_reply": "2023-01-25T05:56:37.655161Z"
        },
        "trusted": true,
        "id": "mgnYSrTEn09S",
        "outputId": "1b74b16c-a1a9-47d7-d290-639d93885375",
        "colab": {
          "base_uri": "https://localhost:8080/"
        }
      },
      "execution_count": 12,
      "outputs": [
        {
          "output_type": "stream",
          "name": "stdout",
          "text": [
            "Saving TensorBoard log files to tensorflow_hub/resnet50v2/20230125-063251\n",
            "Epoch 1/5\n",
            "24/24 [==============================] - 29s 783ms/step - loss: 1.9828 - accuracy: 0.3253 - val_loss: 1.2183 - val_accuracy: 0.6324\n",
            "Epoch 2/5\n",
            "24/24 [==============================] - 17s 711ms/step - loss: 0.9257 - accuracy: 0.7307 - val_loss: 0.8935 - val_accuracy: 0.7116\n",
            "Epoch 3/5\n",
            "24/24 [==============================] - 16s 703ms/step - loss: 0.6361 - accuracy: 0.8160 - val_loss: 0.7765 - val_accuracy: 0.7492\n",
            "Epoch 4/5\n",
            "24/24 [==============================] - 17s 744ms/step - loss: 0.4877 - accuracy: 0.8640 - val_loss: 0.7184 - val_accuracy: 0.7652\n",
            "Epoch 5/5\n",
            "24/24 [==============================] - 17s 742ms/step - loss: 0.3923 - accuracy: 0.9000 - val_loss: 0.6787 - val_accuracy: 0.7804\n"
          ]
        }
      ]
    },
    {
      "cell_type": "code",
      "source": [
        "resnet_model.summary()"
      ],
      "metadata": {
        "execution": {
          "iopub.status.busy": "2023-01-25T05:56:37.659553Z",
          "iopub.execute_input": "2023-01-25T05:56:37.660265Z",
          "iopub.status.idle": "2023-01-25T05:56:37.673783Z",
          "shell.execute_reply.started": "2023-01-25T05:56:37.660233Z",
          "shell.execute_reply": "2023-01-25T05:56:37.670997Z"
        },
        "trusted": true,
        "id": "vvEba_V7n09T",
        "outputId": "6e80bb63-53f7-4b09-b225-6e9d211dc7f9",
        "colab": {
          "base_uri": "https://localhost:8080/"
        }
      },
      "execution_count": 13,
      "outputs": [
        {
          "output_type": "stream",
          "name": "stdout",
          "text": [
            "Model: \"sequential\"\n",
            "_________________________________________________________________\n",
            " Layer (type)                Output Shape              Param #   \n",
            "=================================================================\n",
            " feature_extraction_layer (K  (None, 2048)             23564800  \n",
            " erasLayer)                                                      \n",
            "                                                                 \n",
            " output_layer (Dense)        (None, 10)                20490     \n",
            "                                                                 \n",
            "=================================================================\n",
            "Total params: 23,585,290\n",
            "Trainable params: 20,490\n",
            "Non-trainable params: 23,564,800\n",
            "_________________________________________________________________\n"
          ]
        }
      ]
    },
    {
      "cell_type": "code",
      "source": [
        "import matplotlib.pyplot as plt\n",
        "\n",
        "# Plot the validation and training curves separately\n",
        "def plot_loss_curves(history):\n",
        "  \"\"\"\n",
        "  Returns separates loss curves for training and validation metrics.\n",
        "  \"\"\"\n",
        "  loss = history.history[\"loss\"]\n",
        "  val_loss = history.history[\"val_loss\"]\n",
        "\n",
        "  accuracy = history.history[\"accuracy\"]\n",
        "  val_accuracy = history.history[\"val_accuracy\"]\n",
        "\n",
        "  epochs = range(len(history.history[\"loss\"]))\n",
        "\n",
        "  # Plot loss\n",
        "  plt.figure(figsize=(10,7))\n",
        "  plt.plot(epochs, loss, label=\"training_loss\")\n",
        "  plt.plot(epochs, val_loss, label=\"val_loss\")\n",
        "  plt.title(\"loss\")\n",
        "  plt.xlabel(\"epochs\")\n",
        "  plt.legend()\n",
        "\n",
        "  # Plot accuracy\n",
        "  plt.figure(figsize=(10,7))\n",
        "  plt.plot(epochs, accuracy, label=\"training_accuracy\")\n",
        "  plt.plot(epochs, val_accuracy, label=\"val_accuracy\")\n",
        "  plt.title(\"accuracy\")\n",
        "  plt.xlabel(\"epochs\")\n",
        "  plt.legend()"
      ],
      "metadata": {
        "execution": {
          "iopub.status.busy": "2023-01-25T05:56:37.675492Z",
          "iopub.execute_input": "2023-01-25T05:56:37.675932Z",
          "iopub.status.idle": "2023-01-25T05:56:37.689942Z",
          "shell.execute_reply.started": "2023-01-25T05:56:37.675894Z",
          "shell.execute_reply": "2023-01-25T05:56:37.688848Z"
        },
        "trusted": true,
        "id": "YfXKaZPPn09T"
      },
      "execution_count": 14,
      "outputs": []
    },
    {
      "cell_type": "code",
      "source": [
        "plot_loss_curves(history_resnet)"
      ],
      "metadata": {
        "execution": {
          "iopub.status.busy": "2023-01-25T05:56:37.691353Z",
          "iopub.execute_input": "2023-01-25T05:56:37.691902Z",
          "iopub.status.idle": "2023-01-25T05:56:38.183641Z",
          "shell.execute_reply.started": "2023-01-25T05:56:37.691864Z",
          "shell.execute_reply": "2023-01-25T05:56:38.182734Z"
        },
        "trusted": true,
        "id": "t-MHh4LXn09T",
        "outputId": "e1d8b7b9-c080-48a1-b534-724c47789d6b",
        "colab": {
          "base_uri": "https://localhost:8080/",
          "height": 899
        }
      },
      "execution_count": 15,
      "outputs": [
        {
          "output_type": "display_data",
          "data": {
            "text/plain": [
              "<Figure size 720x504 with 1 Axes>"
            ],
            "image/png": "[encoded data removed]"
          },
          "metadata": {
            "needs_background": "light"
          }
        },
        {
          "output_type": "display_data",
          "data": {
            "text/plain": [
              "<Figure size 720x504 with 1 Axes>"
            ],
            "image/png": "[encoded data removed]"
          },
          "metadata": {
            "needs_background": "light"
          }
        }
      ]
    },
    {
      "cell_type": "markdown",
      "source": [
        "### Creating and testing EfficientNet TensorFlow Hub Feature extraction model"
      ],
      "metadata": {
        "id": "md9xWyuMn09U"
      }
    },
    {
      "cell_type": "code",
      "source": [
        "# Create EfficientNetB0 feature extractor model\n",
        "efficientnet_model = create_model(model_url=efficientnet_url,\n",
        "                                 num_classes=train_data_10_percent.num_classes)\n",
        "\n",
        "# Compile EfficientNet model\n",
        "efficientnet_model.compile(loss=\"categorical_crossentropy\",\n",
        "                          optimizer=tf.keras.optimizers.Adam(),\n",
        "                          metrics=[\"accuracy\"])\n",
        "\n",
        "# Fit efficientNet model to 10% of training data\n",
        "efficientnet_history = efficientnet_model.fit(train_data_10_percent,\n",
        "                                             epochs=5,\n",
        "                                             steps_per_epoch=len(train_data_10_percent),\n",
        "                                             validation_data=test_data,\n",
        "                                             validation_steps=len(test_data),\n",
        "                                             callbacks=[create_tensorboard_callback(dir_name=\"tensorflow_hub\",\n",
        "                                                                                   experiment_name=\"efficientnetb0\")])"
      ],
      "metadata": {
        "execution": {
          "iopub.status.busy": "2023-01-25T06:01:40.044034Z",
          "iopub.execute_input": "2023-01-25T06:01:40.044389Z",
          "iopub.status.idle": "2023-01-25T06:03:24.888738Z",
          "shell.execute_reply.started": "2023-01-25T06:01:40.044357Z",
          "shell.execute_reply": "2023-01-25T06:03:24.887827Z"
        },
        "trusted": true,
        "id": "xoTompoHn09U",
        "outputId": "9dca717b-ab06-49d7-c466-bd5ac8383f4b",
        "colab": {
          "base_uri": "https://localhost:8080/"
        }
      },
      "execution_count": 16,
      "outputs": [
        {
          "output_type": "stream",
          "name": "stdout",
          "text": [
            "Saving TensorBoard log files to tensorflow_hub/efficientnetb0/20230125-063444\n",
            "Epoch 1/5\n",
            "24/24 [==============================] - 26s 748ms/step - loss: 1.7750 - accuracy: 0.4693 - val_loss: 1.2650 - val_accuracy: 0.7356\n",
            "Epoch 2/5\n",
            "24/24 [==============================] - 16s 669ms/step - loss: 1.0301 - accuracy: 0.7733 - val_loss: 0.8539 - val_accuracy: 0.8148\n",
            "Epoch 3/5\n",
            "24/24 [==============================] - 16s 674ms/step - loss: 0.7369 - accuracy: 0.8373 - val_loss: 0.6906 - val_accuracy: 0.8424\n",
            "Epoch 4/5\n",
            "24/24 [==============================] - 24s 1s/step - loss: 0.5952 - accuracy: 0.8693 - val_loss: 0.6078 - val_accuracy: 0.8512\n",
            "Epoch 5/5\n",
            "24/24 [==============================] - 16s 678ms/step - loss: 0.5034 - accuracy: 0.8880 - val_loss: 0.5545 - val_accuracy: 0.8608\n"
          ]
        }
      ]
    },
    {
      "cell_type": "code",
      "source": [
        "plot_loss_curves(efficientnet_history)"
      ],
      "metadata": {
        "execution": {
          "iopub.status.busy": "2023-01-25T06:03:53.384617Z",
          "iopub.execute_input": "2023-01-25T06:03:53.384978Z",
          "iopub.status.idle": "2023-01-25T06:03:53.833256Z",
          "shell.execute_reply.started": "2023-01-25T06:03:53.384948Z",
          "shell.execute_reply": "2023-01-25T06:03:53.832388Z"
        },
        "trusted": true,
        "id": "Hd1se4lYn09U",
        "outputId": "e4c288b3-2014-41ca-e03b-877fbb8a65a1",
        "colab": {
          "base_uri": "https://localhost:8080/",
          "height": 899
        }
      },
      "execution_count": 17,
      "outputs": [
        {
          "output_type": "display_data",
          "data": {
            "text/plain": [
              "<Figure size 720x504 with 1 Axes>"
            ],
            "image/png": "[encoded data removed]"
          },
          "metadata": {
            "needs_background": "light"
          }
        },
        {
          "output_type": "display_data",
          "data": {
            "text/plain": [
              "<Figure size 720x504 with 1 Axes>"
            ],
            "image/png": "[encoded data removed]"
          },
          "metadata": {
            "needs_background": "light"
          }
        }
      ]
    },
    {
      "cell_type": "code",
      "source": [
        "efficientnet_model.summary()"
      ],
      "metadata": {
        "execution": {
          "iopub.status.busy": "2023-01-25T06:08:31.656514Z",
          "iopub.execute_input": "2023-01-25T06:08:31.656901Z",
          "iopub.status.idle": "2023-01-25T06:08:31.668778Z",
          "shell.execute_reply.started": "2023-01-25T06:08:31.656869Z",
          "shell.execute_reply": "2023-01-25T06:08:31.667688Z"
        },
        "trusted": true,
        "id": "E8hPBB3sn09V",
        "outputId": "d8ecc202-88de-477c-c2aa-ee75b606c18a",
        "colab": {
          "base_uri": "https://localhost:8080/"
        }
      },
      "execution_count": 18,
      "outputs": [
        {
          "output_type": "stream",
          "name": "stdout",
          "text": [
            "Model: \"sequential_1\"\n",
            "_________________________________________________________________\n",
            " Layer (type)                Output Shape              Param #   \n",
            "=================================================================\n",
            " feature_extraction_layer (K  (None, 1280)             4049564   \n",
            " erasLayer)                                                      \n",
            "                                                                 \n",
            " output_layer (Dense)        (None, 10)                12810     \n",
            "                                                                 \n",
            "=================================================================\n",
            "Total params: 4,062,374\n",
            "Trainable params: 12,810\n",
            "Non-trainable params: 4,049,564\n",
            "_________________________________________________________________\n"
          ]
        }
      ]
    },
    {
      "cell_type": "code",
      "source": [
        "resnet_model.summary()"
      ],
      "metadata": {
        "execution": {
          "iopub.status.busy": "2023-01-25T06:08:13.434461Z",
          "iopub.execute_input": "2023-01-25T06:08:13.435138Z",
          "iopub.status.idle": "2023-01-25T06:08:13.446641Z",
          "shell.execute_reply.started": "2023-01-25T06:08:13.435098Z",
          "shell.execute_reply": "2023-01-25T06:08:13.445663Z"
        },
        "trusted": true,
        "id": "bt25ozwFn09V",
        "outputId": "92feba32-8437-415d-a4f3-19147917b99c",
        "colab": {
          "base_uri": "https://localhost:8080/"
        }
      },
      "execution_count": 19,
      "outputs": [
        {
          "output_type": "stream",
          "name": "stdout",
          "text": [
            "Model: \"sequential\"\n",
            "_________________________________________________________________\n",
            " Layer (type)                Output Shape              Param #   \n",
            "=================================================================\n",
            " feature_extraction_layer (K  (None, 2048)             23564800  \n",
            " erasLayer)                                                      \n",
            "                                                                 \n",
            " output_layer (Dense)        (None, 10)                20490     \n",
            "                                                                 \n",
            "=================================================================\n",
            "Total params: 23,585,290\n",
            "Trainable params: 20,490\n",
            "Non-trainable params: 23,564,800\n",
            "_________________________________________________________________\n"
          ]
        }
      ]
    },
    {
      "cell_type": "markdown",
      "source": [
        "## Different types of transfer learning\n",
        "\n",
        "- **\"As is\" transfer learning**: pake model yang udah ada tanpa ada perubahan\n",
        "- **\"Feature extraction\" transfer learning**: pake model yang udah ada + ngerubah output layer sesuai kebutuhan kita\n",
        "- **\"Fine-tuning\" transfer learning**: pake model yang udah ada + \"fine-tune\" hyperparameternya? (termasuk mengubah output layernya)"
      ],
      "metadata": {
        "id": "egNfDUHbn09V"
      }
    },
    {
      "cell_type": "code",
      "source": [
        "len(efficientnet_model.layers[0].weights)"
      ],
      "metadata": {
        "execution": {
          "iopub.status.busy": "2023-01-25T06:15:44.722858Z",
          "iopub.execute_input": "2023-01-25T06:15:44.723224Z",
          "iopub.status.idle": "2023-01-25T06:15:44.730024Z",
          "shell.execute_reply.started": "2023-01-25T06:15:44.723187Z",
          "shell.execute_reply": "2023-01-25T06:15:44.728921Z"
        },
        "trusted": true,
        "id": "1LD6yDM0n09W",
        "outputId": "bb0fb13f-a148-44b6-ec4b-c3b712c438c6",
        "colab": {
          "base_uri": "https://localhost:8080/"
        }
      },
      "execution_count": 20,
      "outputs": [
        {
          "output_type": "execute_result",
          "data": {
            "text/plain": [
              "309"
            ]
          },
          "metadata": {},
          "execution_count": 20
        }
      ]
    },
    {
      "cell_type": "markdown",
      "source": [
        "## Comparing our models results using TensorBoard"
      ],
      "metadata": {
        "id": "GipdmMb0n09W"
      }
    },
    {
      "cell_type": "code",
      "source": [
        "# Upload TensorBoard dev records\n",
        "# !tensorboard dev upload --logdir ./tensorflow_hub/ \\\n",
        "#     --name \"EfficientNetB0 vs. ResNet50V2\" \\\n",
        "#     --description \"Comparing two different TF Hub feature extraction model architectures using 10% of the training data\" \\\n",
        "#     --one_shot "
      ],
      "metadata": {
        "execution": {
          "iopub.status.busy": "2023-01-25T06:27:16.929699Z",
          "iopub.execute_input": "2023-01-25T06:27:16.930093Z"
        },
        "trusted": true,
        "id": "7NIoMeCKn09W"
      },
      "execution_count": null,
      "outputs": []
    },
    {
      "cell_type": "markdown",
      "source": [
        "Our TensorBoard experiments are uploaded in : https://tensorboard.dev/experiment/JcEC56qMQoKvdeSgI2B8mw/"
      ],
      "metadata": {
        "id": "Y1_wkxhTp5US"
      }
    },
    {
      "cell_type": "code",
      "source": [
        "# Checkout what TensorBoard experiments you have\n",
        "!tensorboard dev list"
      ],
      "metadata": {
        "id": "-1GtnrEQn09W",
        "colab": {
          "base_uri": "https://localhost:8080/"
        },
        "outputId": "e2681e4c-6fb1-4a5e-ebe8-b33955b24772"
      },
      "execution_count": 22,
      "outputs": [
        {
          "output_type": "stream",
          "name": "stdout",
          "text": [
            "https://tensorboard.dev/experiment/JcEC56qMQoKvdeSgI2B8mw/\n",
            "\tName                 EfficientNetB0 vs. ResNet50V2\n",
            "\tDescription          Comparing two different TF Hub feature extraction model architectures using 10% of the training data\n",
            "\tId                   JcEC56qMQoKvdeSgI2B8mw\n",
            "\tCreated              2023-01-25 06:37:26 (5 minutes ago)\n",
            "\tUpdated              2023-01-25 06:37:30 (5 minutes ago)\n",
            "\tRuns                 4\n",
            "\tTags                 5\n",
            "\tScalars              60\n",
            "\tTensor bytes         0\n",
            "\tBinary object bytes  5794895\n",
            "Total: 1 experiment(s)\n"
          ]
        }
      ]
    },
    {
      "cell_type": "code",
      "source": [
        "# Delete an experiment\n",
        "# !tensorboard dev delete --experimentid JcEC56qMQoKvdeSgI2B8mw"
      ],
      "metadata": {
        "id": "Vj6OY9iLqoVl"
      },
      "execution_count": 23,
      "outputs": []
    },
    {
      "cell_type": "code",
      "source": [],
      "metadata": {
        "id": "CEt3d2o5q12x"
      },
      "execution_count": null,
      "outputs": []
    }
  ]
}