{
  "nbformat": 4,
  "nbformat_minor": 0,
  "metadata": {
    "colab": {
      "provenance": [],
      "authorship_tag": "ABX9TyMNGQavRW1QR47WaKcHcMgL",
      "include_colab_link": true
    },
    "kernelspec": {
      "name": "python3",
      "display_name": "Python 3"
    },
    "language_info": {
      "name": "python"
    }
  },
  "cells": [
    {
      "cell_type": "markdown",
      "metadata": {
        "id": "view-in-github",
        "colab_type": "text"
      },
      "source": [
        "<a href=\"https://colab.research.google.com/github/maulairfani/DataScience-Learning-Notebooks/blob/main/functions.ipynb\" target=\"_parent\"><img src=\"https://colab.research.google.com/assets/colab-badge.svg\" alt=\"Open In Colab\"/></a>"
      ]
    },
    {
      "cell_type": "code",
      "source": [
        "import seaborn as sns\n",
        "import matplotlib.pyplot as plt\n",
        "from sklearn.metrics import roc_auc_score, roc_curve\n",
        "\n",
        "\n",
        "def plot_roc_curve(model, y_test, y_pred):\n",
        "    # Menghitung False Positive Rate (fpr) dan True Positive Rate (tpr)\n",
        "    fpr, tpr, _ = roc_curve(y_test, model.predict_proba(X_test)[:,1])\n",
        "\n",
        "    # Menghitung Area Under the ROC Curve (ROC AUC)\n",
        "    roc_auc = roc_auc_score(y_test, y_pred)\n",
        "\n",
        "    # Membuat plot ROC AUC Curve\n",
        "    plt.figure(figsize=(5, 4))\n",
        "    plt.plot(fpr, tpr, color='darkorange', label='ROC Curve (AUC = %0.2f)' % roc_auc)\n",
        "    plt.plot([0, 1], [0, 1], color='navy', linestyle='--')\n",
        "    plt.xlim([0.0, 1.0])\n",
        "    plt.ylim([0.0, 1.05])\n",
        "    plt.xlabel('False Positive Rate')\n",
        "    plt.ylabel('True Positive Rate')\n",
        "    plt.title('Receiver Operating Characteristic (ROC) Curve')\n",
        "    plt.legend(loc=\"lower right\")\n",
        "    plt.show()\n",
        "\n",
        "def read_data():\n",
        "    # Download dataset\n",
        "    !wget -q https://github.com/maulairfani/DataScience-Learning-Notebooks/blob/main/dac-find-it-2023.zip?raw=true\n",
        "    import zipfile\n",
        "    with zipfile.ZipFile(\"/content/dac-find-it-2023.zip?raw=true\", 'r') as zip_ref:\n",
        "        zip_ref.extractall(\"/content\")\n",
        "\n",
        "    df = pd.read_csv(\"/content/training_set_features.csv\")\n",
        "    df_label = pd.read_csv(\"/content/training_set_labels.csv\")\n",
        "    df[\"h1n1_vaccine\"] = df_label[\"h1n1_vaccine\"]\n",
        "    df[\"seasonal_vaccine\"] = df_label[\"seasonal_vaccine\"]\n",
        "\n",
        "    return df"
      ],
      "metadata": {
        "id": "4j7mfSmUaCrA"
      },
      "execution_count": 12,
      "outputs": []
    },
    {
      "cell_type": "markdown",
      "source": [
        "# Version 1"
      ],
      "metadata": {
        "id": "0cVPjzMIZwD9"
      }
    },
    {
      "cell_type": "code",
      "execution_count": 8,
      "metadata": {
        "id": "MnYtL2imKrdO"
      },
      "outputs": [],
      "source": [
        "import pandas as pd\n",
        "from sklearn.model_selection import train_test_split\n",
        "from sklearn.preprocessing import MinMaxScaler\n",
        "from imblearn.over_sampling import SMOTE\n",
        "\n",
        "def preprocessing_df_train(df_train, y):\n",
        "    if y == \"h1n1_vaccine\":\n",
        "        df_train = df_train.drop(\"seasonal_vaccine\", axis=1)\n",
        "    else:\n",
        "        df_train = df_train.drop(\"h1n1_vaccine\", axis=1)\n",
        "\n",
        "    # Memilih kolom-kolom yang akan digunakan sebagai fitur\n",
        "    X_features = [col for col in df_train.columns if col not in [y]]\n",
        "\n",
        "    # Menghapus kolom-kolom tertentu\n",
        "    df_train = df_train.drop([\"health_insurance\", \"income_poverty\", \"employment_occupation\", \"employment_industry\"], axis=1, errors='ignore')\n",
        "\n",
        "    # Mengelompokkan data berdasarkan nilai pada kolom 'h1n1_vaccine'\n",
        "    grouped_data = df_train.groupby(y)\n",
        "\n",
        "    # Mengisi nilai kosong dengan mode dari nilai pada kolom tersebut dalam grup yang sama\n",
        "    cols_to_inpute = [col for col in df_train.columns if col not in [y]]\n",
        "    df_train[cols_to_inpute] = grouped_data[cols_to_inpute].transform(lambda x: x.fillna(x.mode()[0]))\n",
        "\n",
        "    # Label Encoding untuk variabel ordinal\n",
        "    education_map = {\n",
        "    \"< 12 Years\" : 0,\n",
        "    \"12 Years\" : 1,\n",
        "    \"Some College\" : 2,\n",
        "    \"College Graduate\" : 3\n",
        "    }\n",
        "    df_train[\"education\"] = df_train[\"education\"].map(education_map)\n",
        "\n",
        "    age_map = {\n",
        "        '18 - 34 Years' : 0,\n",
        "        '35 - 44 Years' : 1,\n",
        "        '45 - 54 Years' : 2,\n",
        "        '55 - 64 Years' : 3,\n",
        "        '65+ Years' : 4\n",
        "    }\n",
        "    df_train[\"age_group\"] = df_train[\"age_group\"].map(age_map)\n",
        "\n",
        "    # One hot encoding untuk variabel nominal\n",
        "    df_train = pd.get_dummies(df_train)\n",
        "    df_train.columns = df_train.columns.str.replace(' ', '_').str.lower()\n",
        "    df_train.columns = df_train.columns.str.replace('-', '_').str.lower()\n",
        "    df_train.columns = df_train.columns.str.replace(',', '').str.lower()\n",
        "\n",
        "    X = df_train.drop(['respondent_id', y], axis=1)\n",
        "    y = df_train[y]\n",
        "\n",
        "    X_train, X_test, y_train, y_test = train_test_split(X, y, test_size=0.2, random_state=42)\n",
        "\n",
        "    scaler = MinMaxScaler()\n",
        "    scaler = scaler.fit(X_train)\n",
        "    X_train = scaler.transform(X_train)\n",
        "    X_test = scaler.transform(X_test)\n",
        "\n",
        "    smote = SMOTE(random_state=42)\n",
        "    X_train, y_train = smote.fit_resample(X_train, y_train)\n",
        "\n",
        "    return X_train, X_test, y_train, y_test, scaler"
      ]
    },
    {
      "cell_type": "code",
      "source": [],
      "metadata": {
        "id": "SMnD5SgXNICh"
      },
      "execution_count": null,
      "outputs": []
    }
  ]
}